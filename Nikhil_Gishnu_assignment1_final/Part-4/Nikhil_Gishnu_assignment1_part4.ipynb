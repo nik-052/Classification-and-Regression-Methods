{
 "cells": [
  {
   "cell_type": "code",
   "id": "initial_id",
   "metadata": {
    "collapsed": true,
    "ExecuteTime": {
     "end_time": "2024-10-10T03:22:39.397853Z",
     "start_time": "2024-10-10T03:22:39.384855Z"
    }
   },
   "source": [
    "import pandas as pd\n",
    "import numpy as np\n",
    "import matplotlib.pyplot as plt\n",
    "import seaborn as sns"
   ],
   "outputs": [],
   "execution_count": 1
  },
  {
   "metadata": {
    "ExecuteTime": {
     "end_time": "2024-10-10T03:22:51.705077Z",
     "start_time": "2024-10-10T03:22:51.668522Z"
    }
   },
   "cell_type": "code",
   "source": "df_red = pd.read_csv('winequality-red.csv',sep=';')",
   "id": "d1863d16ae6501fa",
   "outputs": [],
   "execution_count": 2
  },
  {
   "metadata": {
    "ExecuteTime": {
     "end_time": "2024-10-10T03:22:53.270273Z",
     "start_time": "2024-10-10T03:22:53.242232Z"
    }
   },
   "cell_type": "code",
   "source": "df_red",
   "id": "6688d2b8abe7e480",
   "outputs": [
    {
     "data": {
      "text/plain": [
       "      fixed acidity  volatile acidity  citric acid  residual sugar  chlorides  \\\n",
       "0               7.4             0.700         0.00             1.9      0.076   \n",
       "1               7.8             0.880         0.00             2.6      0.098   \n",
       "2               7.8             0.760         0.04             2.3      0.092   \n",
       "3              11.2             0.280         0.56             1.9      0.075   \n",
       "4               7.4             0.700         0.00             1.9      0.076   \n",
       "...             ...               ...          ...             ...        ...   \n",
       "1594            6.2             0.600         0.08             2.0      0.090   \n",
       "1595            5.9             0.550         0.10             2.2      0.062   \n",
       "1596            6.3             0.510         0.13             2.3      0.076   \n",
       "1597            5.9             0.645         0.12             2.0      0.075   \n",
       "1598            6.0             0.310         0.47             3.6      0.067   \n",
       "\n",
       "      free sulfur dioxide  total sulfur dioxide  density    pH  sulphates  \\\n",
       "0                    11.0                  34.0  0.99780  3.51       0.56   \n",
       "1                    25.0                  67.0  0.99680  3.20       0.68   \n",
       "2                    15.0                  54.0  0.99700  3.26       0.65   \n",
       "3                    17.0                  60.0  0.99800  3.16       0.58   \n",
       "4                    11.0                  34.0  0.99780  3.51       0.56   \n",
       "...                   ...                   ...      ...   ...        ...   \n",
       "1594                 32.0                  44.0  0.99490  3.45       0.58   \n",
       "1595                 39.0                  51.0  0.99512  3.52       0.76   \n",
       "1596                 29.0                  40.0  0.99574  3.42       0.75   \n",
       "1597                 32.0                  44.0  0.99547  3.57       0.71   \n",
       "1598                 18.0                  42.0  0.99549  3.39       0.66   \n",
       "\n",
       "      alcohol  quality  \n",
       "0         9.4        5  \n",
       "1         9.8        5  \n",
       "2         9.8        5  \n",
       "3         9.8        6  \n",
       "4         9.4        5  \n",
       "...       ...      ...  \n",
       "1594     10.5        5  \n",
       "1595     11.2        6  \n",
       "1596     11.0        6  \n",
       "1597     10.2        5  \n",
       "1598     11.0        6  \n",
       "\n",
       "[1599 rows x 12 columns]"
      ],
      "text/html": [
       "<div>\n",
       "<style scoped>\n",
       "    .dataframe tbody tr th:only-of-type {\n",
       "        vertical-align: middle;\n",
       "    }\n",
       "\n",
       "    .dataframe tbody tr th {\n",
       "        vertical-align: top;\n",
       "    }\n",
       "\n",
       "    .dataframe thead th {\n",
       "        text-align: right;\n",
       "    }\n",
       "</style>\n",
       "<table border=\"1\" class=\"dataframe\">\n",
       "  <thead>\n",
       "    <tr style=\"text-align: right;\">\n",
       "      <th></th>\n",
       "      <th>fixed acidity</th>\n",
       "      <th>volatile acidity</th>\n",
       "      <th>citric acid</th>\n",
       "      <th>residual sugar</th>\n",
       "      <th>chlorides</th>\n",
       "      <th>free sulfur dioxide</th>\n",
       "      <th>total sulfur dioxide</th>\n",
       "      <th>density</th>\n",
       "      <th>pH</th>\n",
       "      <th>sulphates</th>\n",
       "      <th>alcohol</th>\n",
       "      <th>quality</th>\n",
       "    </tr>\n",
       "  </thead>\n",
       "  <tbody>\n",
       "    <tr>\n",
       "      <th>0</th>\n",
       "      <td>7.4</td>\n",
       "      <td>0.700</td>\n",
       "      <td>0.00</td>\n",
       "      <td>1.9</td>\n",
       "      <td>0.076</td>\n",
       "      <td>11.0</td>\n",
       "      <td>34.0</td>\n",
       "      <td>0.99780</td>\n",
       "      <td>3.51</td>\n",
       "      <td>0.56</td>\n",
       "      <td>9.4</td>\n",
       "      <td>5</td>\n",
       "    </tr>\n",
       "    <tr>\n",
       "      <th>1</th>\n",
       "      <td>7.8</td>\n",
       "      <td>0.880</td>\n",
       "      <td>0.00</td>\n",
       "      <td>2.6</td>\n",
       "      <td>0.098</td>\n",
       "      <td>25.0</td>\n",
       "      <td>67.0</td>\n",
       "      <td>0.99680</td>\n",
       "      <td>3.20</td>\n",
       "      <td>0.68</td>\n",
       "      <td>9.8</td>\n",
       "      <td>5</td>\n",
       "    </tr>\n",
       "    <tr>\n",
       "      <th>2</th>\n",
       "      <td>7.8</td>\n",
       "      <td>0.760</td>\n",
       "      <td>0.04</td>\n",
       "      <td>2.3</td>\n",
       "      <td>0.092</td>\n",
       "      <td>15.0</td>\n",
       "      <td>54.0</td>\n",
       "      <td>0.99700</td>\n",
       "      <td>3.26</td>\n",
       "      <td>0.65</td>\n",
       "      <td>9.8</td>\n",
       "      <td>5</td>\n",
       "    </tr>\n",
       "    <tr>\n",
       "      <th>3</th>\n",
       "      <td>11.2</td>\n",
       "      <td>0.280</td>\n",
       "      <td>0.56</td>\n",
       "      <td>1.9</td>\n",
       "      <td>0.075</td>\n",
       "      <td>17.0</td>\n",
       "      <td>60.0</td>\n",
       "      <td>0.99800</td>\n",
       "      <td>3.16</td>\n",
       "      <td>0.58</td>\n",
       "      <td>9.8</td>\n",
       "      <td>6</td>\n",
       "    </tr>\n",
       "    <tr>\n",
       "      <th>4</th>\n",
       "      <td>7.4</td>\n",
       "      <td>0.700</td>\n",
       "      <td>0.00</td>\n",
       "      <td>1.9</td>\n",
       "      <td>0.076</td>\n",
       "      <td>11.0</td>\n",
       "      <td>34.0</td>\n",
       "      <td>0.99780</td>\n",
       "      <td>3.51</td>\n",
       "      <td>0.56</td>\n",
       "      <td>9.4</td>\n",
       "      <td>5</td>\n",
       "    </tr>\n",
       "    <tr>\n",
       "      <th>...</th>\n",
       "      <td>...</td>\n",
       "      <td>...</td>\n",
       "      <td>...</td>\n",
       "      <td>...</td>\n",
       "      <td>...</td>\n",
       "      <td>...</td>\n",
       "      <td>...</td>\n",
       "      <td>...</td>\n",
       "      <td>...</td>\n",
       "      <td>...</td>\n",
       "      <td>...</td>\n",
       "      <td>...</td>\n",
       "    </tr>\n",
       "    <tr>\n",
       "      <th>1594</th>\n",
       "      <td>6.2</td>\n",
       "      <td>0.600</td>\n",
       "      <td>0.08</td>\n",
       "      <td>2.0</td>\n",
       "      <td>0.090</td>\n",
       "      <td>32.0</td>\n",
       "      <td>44.0</td>\n",
       "      <td>0.99490</td>\n",
       "      <td>3.45</td>\n",
       "      <td>0.58</td>\n",
       "      <td>10.5</td>\n",
       "      <td>5</td>\n",
       "    </tr>\n",
       "    <tr>\n",
       "      <th>1595</th>\n",
       "      <td>5.9</td>\n",
       "      <td>0.550</td>\n",
       "      <td>0.10</td>\n",
       "      <td>2.2</td>\n",
       "      <td>0.062</td>\n",
       "      <td>39.0</td>\n",
       "      <td>51.0</td>\n",
       "      <td>0.99512</td>\n",
       "      <td>3.52</td>\n",
       "      <td>0.76</td>\n",
       "      <td>11.2</td>\n",
       "      <td>6</td>\n",
       "    </tr>\n",
       "    <tr>\n",
       "      <th>1596</th>\n",
       "      <td>6.3</td>\n",
       "      <td>0.510</td>\n",
       "      <td>0.13</td>\n",
       "      <td>2.3</td>\n",
       "      <td>0.076</td>\n",
       "      <td>29.0</td>\n",
       "      <td>40.0</td>\n",
       "      <td>0.99574</td>\n",
       "      <td>3.42</td>\n",
       "      <td>0.75</td>\n",
       "      <td>11.0</td>\n",
       "      <td>6</td>\n",
       "    </tr>\n",
       "    <tr>\n",
       "      <th>1597</th>\n",
       "      <td>5.9</td>\n",
       "      <td>0.645</td>\n",
       "      <td>0.12</td>\n",
       "      <td>2.0</td>\n",
       "      <td>0.075</td>\n",
       "      <td>32.0</td>\n",
       "      <td>44.0</td>\n",
       "      <td>0.99547</td>\n",
       "      <td>3.57</td>\n",
       "      <td>0.71</td>\n",
       "      <td>10.2</td>\n",
       "      <td>5</td>\n",
       "    </tr>\n",
       "    <tr>\n",
       "      <th>1598</th>\n",
       "      <td>6.0</td>\n",
       "      <td>0.310</td>\n",
       "      <td>0.47</td>\n",
       "      <td>3.6</td>\n",
       "      <td>0.067</td>\n",
       "      <td>18.0</td>\n",
       "      <td>42.0</td>\n",
       "      <td>0.99549</td>\n",
       "      <td>3.39</td>\n",
       "      <td>0.66</td>\n",
       "      <td>11.0</td>\n",
       "      <td>6</td>\n",
       "    </tr>\n",
       "  </tbody>\n",
       "</table>\n",
       "<p>1599 rows × 12 columns</p>\n",
       "</div>"
      ]
     },
     "execution_count": 3,
     "metadata": {},
     "output_type": "execute_result"
    }
   ],
   "execution_count": 3
  },
  {
   "metadata": {
    "ExecuteTime": {
     "end_time": "2024-10-10T03:22:56.204044Z",
     "start_time": "2024-10-10T03:22:56.190901Z"
    }
   },
   "cell_type": "code",
   "source": "df_red['Type'] = 'RED'",
   "id": "6dd392ba622b02a9",
   "outputs": [],
   "execution_count": 4
  },
  {
   "metadata": {
    "ExecuteTime": {
     "end_time": "2024-10-10T03:22:57.358921Z",
     "start_time": "2024-10-10T03:22:57.334905Z"
    }
   },
   "cell_type": "code",
   "source": "df_white = pd.read_csv('winequality-white.csv',sep=';')",
   "id": "be16b7e3fa0a9da3",
   "outputs": [],
   "execution_count": 5
  },
  {
   "metadata": {
    "ExecuteTime": {
     "end_time": "2024-10-10T03:22:58.668566Z",
     "start_time": "2024-10-10T03:22:58.659044Z"
    }
   },
   "cell_type": "code",
   "source": "df_white['Type'] = 'WHITE'",
   "id": "916e5e8c396ccd5b",
   "outputs": [],
   "execution_count": 6
  },
  {
   "metadata": {
    "ExecuteTime": {
     "end_time": "2024-10-10T03:23:00.229722Z",
     "start_time": "2024-10-10T03:23:00.209735Z"
    }
   },
   "cell_type": "code",
   "source": "df_white",
   "id": "a3c91c73ac7bfabc",
   "outputs": [
    {
     "data": {
      "text/plain": [
       "      fixed acidity  volatile acidity  citric acid  residual sugar  chlorides  \\\n",
       "0               7.0              0.27         0.36            20.7      0.045   \n",
       "1               6.3              0.30         0.34             1.6      0.049   \n",
       "2               8.1              0.28         0.40             6.9      0.050   \n",
       "3               7.2              0.23         0.32             8.5      0.058   \n",
       "4               7.2              0.23         0.32             8.5      0.058   \n",
       "...             ...               ...          ...             ...        ...   \n",
       "4893            6.2              0.21         0.29             1.6      0.039   \n",
       "4894            6.6              0.32         0.36             8.0      0.047   \n",
       "4895            6.5              0.24         0.19             1.2      0.041   \n",
       "4896            5.5              0.29         0.30             1.1      0.022   \n",
       "4897            6.0              0.21         0.38             0.8      0.020   \n",
       "\n",
       "      free sulfur dioxide  total sulfur dioxide  density    pH  sulphates  \\\n",
       "0                    45.0                 170.0  1.00100  3.00       0.45   \n",
       "1                    14.0                 132.0  0.99400  3.30       0.49   \n",
       "2                    30.0                  97.0  0.99510  3.26       0.44   \n",
       "3                    47.0                 186.0  0.99560  3.19       0.40   \n",
       "4                    47.0                 186.0  0.99560  3.19       0.40   \n",
       "...                   ...                   ...      ...   ...        ...   \n",
       "4893                 24.0                  92.0  0.99114  3.27       0.50   \n",
       "4894                 57.0                 168.0  0.99490  3.15       0.46   \n",
       "4895                 30.0                 111.0  0.99254  2.99       0.46   \n",
       "4896                 20.0                 110.0  0.98869  3.34       0.38   \n",
       "4897                 22.0                  98.0  0.98941  3.26       0.32   \n",
       "\n",
       "      alcohol  quality   Type  \n",
       "0         8.8        6  WHITE  \n",
       "1         9.5        6  WHITE  \n",
       "2        10.1        6  WHITE  \n",
       "3         9.9        6  WHITE  \n",
       "4         9.9        6  WHITE  \n",
       "...       ...      ...    ...  \n",
       "4893     11.2        6  WHITE  \n",
       "4894      9.6        5  WHITE  \n",
       "4895      9.4        6  WHITE  \n",
       "4896     12.8        7  WHITE  \n",
       "4897     11.8        6  WHITE  \n",
       "\n",
       "[4898 rows x 13 columns]"
      ],
      "text/html": [
       "<div>\n",
       "<style scoped>\n",
       "    .dataframe tbody tr th:only-of-type {\n",
       "        vertical-align: middle;\n",
       "    }\n",
       "\n",
       "    .dataframe tbody tr th {\n",
       "        vertical-align: top;\n",
       "    }\n",
       "\n",
       "    .dataframe thead th {\n",
       "        text-align: right;\n",
       "    }\n",
       "</style>\n",
       "<table border=\"1\" class=\"dataframe\">\n",
       "  <thead>\n",
       "    <tr style=\"text-align: right;\">\n",
       "      <th></th>\n",
       "      <th>fixed acidity</th>\n",
       "      <th>volatile acidity</th>\n",
       "      <th>citric acid</th>\n",
       "      <th>residual sugar</th>\n",
       "      <th>chlorides</th>\n",
       "      <th>free sulfur dioxide</th>\n",
       "      <th>total sulfur dioxide</th>\n",
       "      <th>density</th>\n",
       "      <th>pH</th>\n",
       "      <th>sulphates</th>\n",
       "      <th>alcohol</th>\n",
       "      <th>quality</th>\n",
       "      <th>Type</th>\n",
       "    </tr>\n",
       "  </thead>\n",
       "  <tbody>\n",
       "    <tr>\n",
       "      <th>0</th>\n",
       "      <td>7.0</td>\n",
       "      <td>0.27</td>\n",
       "      <td>0.36</td>\n",
       "      <td>20.7</td>\n",
       "      <td>0.045</td>\n",
       "      <td>45.0</td>\n",
       "      <td>170.0</td>\n",
       "      <td>1.00100</td>\n",
       "      <td>3.00</td>\n",
       "      <td>0.45</td>\n",
       "      <td>8.8</td>\n",
       "      <td>6</td>\n",
       "      <td>WHITE</td>\n",
       "    </tr>\n",
       "    <tr>\n",
       "      <th>1</th>\n",
       "      <td>6.3</td>\n",
       "      <td>0.30</td>\n",
       "      <td>0.34</td>\n",
       "      <td>1.6</td>\n",
       "      <td>0.049</td>\n",
       "      <td>14.0</td>\n",
       "      <td>132.0</td>\n",
       "      <td>0.99400</td>\n",
       "      <td>3.30</td>\n",
       "      <td>0.49</td>\n",
       "      <td>9.5</td>\n",
       "      <td>6</td>\n",
       "      <td>WHITE</td>\n",
       "    </tr>\n",
       "    <tr>\n",
       "      <th>2</th>\n",
       "      <td>8.1</td>\n",
       "      <td>0.28</td>\n",
       "      <td>0.40</td>\n",
       "      <td>6.9</td>\n",
       "      <td>0.050</td>\n",
       "      <td>30.0</td>\n",
       "      <td>97.0</td>\n",
       "      <td>0.99510</td>\n",
       "      <td>3.26</td>\n",
       "      <td>0.44</td>\n",
       "      <td>10.1</td>\n",
       "      <td>6</td>\n",
       "      <td>WHITE</td>\n",
       "    </tr>\n",
       "    <tr>\n",
       "      <th>3</th>\n",
       "      <td>7.2</td>\n",
       "      <td>0.23</td>\n",
       "      <td>0.32</td>\n",
       "      <td>8.5</td>\n",
       "      <td>0.058</td>\n",
       "      <td>47.0</td>\n",
       "      <td>186.0</td>\n",
       "      <td>0.99560</td>\n",
       "      <td>3.19</td>\n",
       "      <td>0.40</td>\n",
       "      <td>9.9</td>\n",
       "      <td>6</td>\n",
       "      <td>WHITE</td>\n",
       "    </tr>\n",
       "    <tr>\n",
       "      <th>4</th>\n",
       "      <td>7.2</td>\n",
       "      <td>0.23</td>\n",
       "      <td>0.32</td>\n",
       "      <td>8.5</td>\n",
       "      <td>0.058</td>\n",
       "      <td>47.0</td>\n",
       "      <td>186.0</td>\n",
       "      <td>0.99560</td>\n",
       "      <td>3.19</td>\n",
       "      <td>0.40</td>\n",
       "      <td>9.9</td>\n",
       "      <td>6</td>\n",
       "      <td>WHITE</td>\n",
       "    </tr>\n",
       "    <tr>\n",
       "      <th>...</th>\n",
       "      <td>...</td>\n",
       "      <td>...</td>\n",
       "      <td>...</td>\n",
       "      <td>...</td>\n",
       "      <td>...</td>\n",
       "      <td>...</td>\n",
       "      <td>...</td>\n",
       "      <td>...</td>\n",
       "      <td>...</td>\n",
       "      <td>...</td>\n",
       "      <td>...</td>\n",
       "      <td>...</td>\n",
       "      <td>...</td>\n",
       "    </tr>\n",
       "    <tr>\n",
       "      <th>4893</th>\n",
       "      <td>6.2</td>\n",
       "      <td>0.21</td>\n",
       "      <td>0.29</td>\n",
       "      <td>1.6</td>\n",
       "      <td>0.039</td>\n",
       "      <td>24.0</td>\n",
       "      <td>92.0</td>\n",
       "      <td>0.99114</td>\n",
       "      <td>3.27</td>\n",
       "      <td>0.50</td>\n",
       "      <td>11.2</td>\n",
       "      <td>6</td>\n",
       "      <td>WHITE</td>\n",
       "    </tr>\n",
       "    <tr>\n",
       "      <th>4894</th>\n",
       "      <td>6.6</td>\n",
       "      <td>0.32</td>\n",
       "      <td>0.36</td>\n",
       "      <td>8.0</td>\n",
       "      <td>0.047</td>\n",
       "      <td>57.0</td>\n",
       "      <td>168.0</td>\n",
       "      <td>0.99490</td>\n",
       "      <td>3.15</td>\n",
       "      <td>0.46</td>\n",
       "      <td>9.6</td>\n",
       "      <td>5</td>\n",
       "      <td>WHITE</td>\n",
       "    </tr>\n",
       "    <tr>\n",
       "      <th>4895</th>\n",
       "      <td>6.5</td>\n",
       "      <td>0.24</td>\n",
       "      <td>0.19</td>\n",
       "      <td>1.2</td>\n",
       "      <td>0.041</td>\n",
       "      <td>30.0</td>\n",
       "      <td>111.0</td>\n",
       "      <td>0.99254</td>\n",
       "      <td>2.99</td>\n",
       "      <td>0.46</td>\n",
       "      <td>9.4</td>\n",
       "      <td>6</td>\n",
       "      <td>WHITE</td>\n",
       "    </tr>\n",
       "    <tr>\n",
       "      <th>4896</th>\n",
       "      <td>5.5</td>\n",
       "      <td>0.29</td>\n",
       "      <td>0.30</td>\n",
       "      <td>1.1</td>\n",
       "      <td>0.022</td>\n",
       "      <td>20.0</td>\n",
       "      <td>110.0</td>\n",
       "      <td>0.98869</td>\n",
       "      <td>3.34</td>\n",
       "      <td>0.38</td>\n",
       "      <td>12.8</td>\n",
       "      <td>7</td>\n",
       "      <td>WHITE</td>\n",
       "    </tr>\n",
       "    <tr>\n",
       "      <th>4897</th>\n",
       "      <td>6.0</td>\n",
       "      <td>0.21</td>\n",
       "      <td>0.38</td>\n",
       "      <td>0.8</td>\n",
       "      <td>0.020</td>\n",
       "      <td>22.0</td>\n",
       "      <td>98.0</td>\n",
       "      <td>0.98941</td>\n",
       "      <td>3.26</td>\n",
       "      <td>0.32</td>\n",
       "      <td>11.8</td>\n",
       "      <td>6</td>\n",
       "      <td>WHITE</td>\n",
       "    </tr>\n",
       "  </tbody>\n",
       "</table>\n",
       "<p>4898 rows × 13 columns</p>\n",
       "</div>"
      ]
     },
     "execution_count": 7,
     "metadata": {},
     "output_type": "execute_result"
    }
   ],
   "execution_count": 7
  },
  {
   "metadata": {
    "ExecuteTime": {
     "end_time": "2024-10-10T03:23:03.694574Z",
     "start_time": "2024-10-10T03:23:03.682061Z"
    }
   },
   "cell_type": "code",
   "source": "df = pd.concat([df_red, df_white], ignore_index=True)",
   "id": "eeb4266a923d0de7",
   "outputs": [],
   "execution_count": 8
  },
  {
   "metadata": {
    "ExecuteTime": {
     "end_time": "2024-10-10T03:23:05.948423Z",
     "start_time": "2024-10-10T03:23:05.927036Z"
    }
   },
   "cell_type": "code",
   "source": "df.head()",
   "id": "a22935ec7b4a3e58",
   "outputs": [
    {
     "data": {
      "text/plain": [
       "   fixed acidity  volatile acidity  citric acid  residual sugar  chlorides  \\\n",
       "0            7.4              0.70         0.00             1.9      0.076   \n",
       "1            7.8              0.88         0.00             2.6      0.098   \n",
       "2            7.8              0.76         0.04             2.3      0.092   \n",
       "3           11.2              0.28         0.56             1.9      0.075   \n",
       "4            7.4              0.70         0.00             1.9      0.076   \n",
       "\n",
       "   free sulfur dioxide  total sulfur dioxide  density    pH  sulphates  \\\n",
       "0                 11.0                  34.0   0.9978  3.51       0.56   \n",
       "1                 25.0                  67.0   0.9968  3.20       0.68   \n",
       "2                 15.0                  54.0   0.9970  3.26       0.65   \n",
       "3                 17.0                  60.0   0.9980  3.16       0.58   \n",
       "4                 11.0                  34.0   0.9978  3.51       0.56   \n",
       "\n",
       "   alcohol  quality Type  \n",
       "0      9.4        5  RED  \n",
       "1      9.8        5  RED  \n",
       "2      9.8        5  RED  \n",
       "3      9.8        6  RED  \n",
       "4      9.4        5  RED  "
      ],
      "text/html": [
       "<div>\n",
       "<style scoped>\n",
       "    .dataframe tbody tr th:only-of-type {\n",
       "        vertical-align: middle;\n",
       "    }\n",
       "\n",
       "    .dataframe tbody tr th {\n",
       "        vertical-align: top;\n",
       "    }\n",
       "\n",
       "    .dataframe thead th {\n",
       "        text-align: right;\n",
       "    }\n",
       "</style>\n",
       "<table border=\"1\" class=\"dataframe\">\n",
       "  <thead>\n",
       "    <tr style=\"text-align: right;\">\n",
       "      <th></th>\n",
       "      <th>fixed acidity</th>\n",
       "      <th>volatile acidity</th>\n",
       "      <th>citric acid</th>\n",
       "      <th>residual sugar</th>\n",
       "      <th>chlorides</th>\n",
       "      <th>free sulfur dioxide</th>\n",
       "      <th>total sulfur dioxide</th>\n",
       "      <th>density</th>\n",
       "      <th>pH</th>\n",
       "      <th>sulphates</th>\n",
       "      <th>alcohol</th>\n",
       "      <th>quality</th>\n",
       "      <th>Type</th>\n",
       "    </tr>\n",
       "  </thead>\n",
       "  <tbody>\n",
       "    <tr>\n",
       "      <th>0</th>\n",
       "      <td>7.4</td>\n",
       "      <td>0.70</td>\n",
       "      <td>0.00</td>\n",
       "      <td>1.9</td>\n",
       "      <td>0.076</td>\n",
       "      <td>11.0</td>\n",
       "      <td>34.0</td>\n",
       "      <td>0.9978</td>\n",
       "      <td>3.51</td>\n",
       "      <td>0.56</td>\n",
       "      <td>9.4</td>\n",
       "      <td>5</td>\n",
       "      <td>RED</td>\n",
       "    </tr>\n",
       "    <tr>\n",
       "      <th>1</th>\n",
       "      <td>7.8</td>\n",
       "      <td>0.88</td>\n",
       "      <td>0.00</td>\n",
       "      <td>2.6</td>\n",
       "      <td>0.098</td>\n",
       "      <td>25.0</td>\n",
       "      <td>67.0</td>\n",
       "      <td>0.9968</td>\n",
       "      <td>3.20</td>\n",
       "      <td>0.68</td>\n",
       "      <td>9.8</td>\n",
       "      <td>5</td>\n",
       "      <td>RED</td>\n",
       "    </tr>\n",
       "    <tr>\n",
       "      <th>2</th>\n",
       "      <td>7.8</td>\n",
       "      <td>0.76</td>\n",
       "      <td>0.04</td>\n",
       "      <td>2.3</td>\n",
       "      <td>0.092</td>\n",
       "      <td>15.0</td>\n",
       "      <td>54.0</td>\n",
       "      <td>0.9970</td>\n",
       "      <td>3.26</td>\n",
       "      <td>0.65</td>\n",
       "      <td>9.8</td>\n",
       "      <td>5</td>\n",
       "      <td>RED</td>\n",
       "    </tr>\n",
       "    <tr>\n",
       "      <th>3</th>\n",
       "      <td>11.2</td>\n",
       "      <td>0.28</td>\n",
       "      <td>0.56</td>\n",
       "      <td>1.9</td>\n",
       "      <td>0.075</td>\n",
       "      <td>17.0</td>\n",
       "      <td>60.0</td>\n",
       "      <td>0.9980</td>\n",
       "      <td>3.16</td>\n",
       "      <td>0.58</td>\n",
       "      <td>9.8</td>\n",
       "      <td>6</td>\n",
       "      <td>RED</td>\n",
       "    </tr>\n",
       "    <tr>\n",
       "      <th>4</th>\n",
       "      <td>7.4</td>\n",
       "      <td>0.70</td>\n",
       "      <td>0.00</td>\n",
       "      <td>1.9</td>\n",
       "      <td>0.076</td>\n",
       "      <td>11.0</td>\n",
       "      <td>34.0</td>\n",
       "      <td>0.9978</td>\n",
       "      <td>3.51</td>\n",
       "      <td>0.56</td>\n",
       "      <td>9.4</td>\n",
       "      <td>5</td>\n",
       "      <td>RED</td>\n",
       "    </tr>\n",
       "  </tbody>\n",
       "</table>\n",
       "</div>"
      ]
     },
     "execution_count": 9,
     "metadata": {},
     "output_type": "execute_result"
    }
   ],
   "execution_count": 9
  },
  {
   "metadata": {
    "ExecuteTime": {
     "end_time": "2024-10-10T03:23:27.925051Z",
     "start_time": "2024-10-10T03:23:27.913523Z"
    }
   },
   "cell_type": "code",
   "source": "print(df.shape)",
   "id": "375f647f9a0233f2",
   "outputs": [
    {
     "name": "stdout",
     "output_type": "stream",
     "text": [
      "(6497, 13)\n"
     ]
    }
   ],
   "execution_count": 10
  },
  {
   "metadata": {
    "ExecuteTime": {
     "end_time": "2024-10-10T03:56:34.775579Z",
     "start_time": "2024-10-10T03:56:34.722564Z"
    }
   },
   "cell_type": "code",
   "source": "print(df.describe())",
   "id": "278b33f113bc80c6",
   "outputs": [
    {
     "name": "stdout",
     "output_type": "stream",
     "text": [
      "       fixed acidity  volatile acidity  citric acid  residual sugar  \\\n",
      "count    6497.000000       6497.000000  6497.000000     6497.000000   \n",
      "mean        7.215307          0.339666     0.318633        5.443235   \n",
      "std         1.296434          0.164636     0.145318        4.757804   \n",
      "min         3.800000          0.080000     0.000000        0.600000   \n",
      "25%         6.400000          0.230000     0.250000        1.800000   \n",
      "50%         7.000000          0.290000     0.310000        3.000000   \n",
      "75%         7.700000          0.400000     0.390000        8.100000   \n",
      "max        15.900000          1.580000     1.660000       65.800000   \n",
      "\n",
      "         chlorides  free sulfur dioxide  total sulfur dioxide      density  \\\n",
      "count  6497.000000          6497.000000           6497.000000  6497.000000   \n",
      "mean      0.056034            30.525319            115.744574     0.994697   \n",
      "std       0.035034            17.749400             56.521855     0.002999   \n",
      "min       0.009000             1.000000              6.000000     0.987110   \n",
      "25%       0.038000            17.000000             77.000000     0.992340   \n",
      "50%       0.047000            29.000000            118.000000     0.994890   \n",
      "75%       0.065000            41.000000            156.000000     0.996990   \n",
      "max       0.611000           289.000000            440.000000     1.038980   \n",
      "\n",
      "                pH    sulphates      alcohol      quality  \n",
      "count  6497.000000  6497.000000  6497.000000  6497.000000  \n",
      "mean      3.218501     0.531268    10.491801     5.818378  \n",
      "std       0.160787     0.148806     1.192712     0.873255  \n",
      "min       2.720000     0.220000     8.000000     3.000000  \n",
      "25%       3.110000     0.430000     9.500000     5.000000  \n",
      "50%       3.210000     0.510000    10.300000     6.000000  \n",
      "75%       3.320000     0.600000    11.300000     6.000000  \n",
      "max       4.010000     2.000000    14.900000     9.000000  \n"
     ]
    }
   ],
   "execution_count": 11
  },
  {
   "metadata": {
    "ExecuteTime": {
     "end_time": "2024-10-10T03:56:36.385609Z",
     "start_time": "2024-10-10T03:56:36.362591Z"
    }
   },
   "cell_type": "code",
   "source": "print(df.info())",
   "id": "3acd3037a7c3c75d",
   "outputs": [
    {
     "name": "stdout",
     "output_type": "stream",
     "text": [
      "<class 'pandas.core.frame.DataFrame'>\n",
      "RangeIndex: 6497 entries, 0 to 6496\n",
      "Data columns (total 13 columns):\n",
      " #   Column                Non-Null Count  Dtype  \n",
      "---  ------                --------------  -----  \n",
      " 0   fixed acidity         6497 non-null   float64\n",
      " 1   volatile acidity      6497 non-null   float64\n",
      " 2   citric acid           6497 non-null   float64\n",
      " 3   residual sugar        6497 non-null   float64\n",
      " 4   chlorides             6497 non-null   float64\n",
      " 5   free sulfur dioxide   6497 non-null   float64\n",
      " 6   total sulfur dioxide  6497 non-null   float64\n",
      " 7   density               6497 non-null   float64\n",
      " 8   pH                    6497 non-null   float64\n",
      " 9   sulphates             6497 non-null   float64\n",
      " 10  alcohol               6497 non-null   float64\n",
      " 11  quality               6497 non-null   int64  \n",
      " 12  Type                  6497 non-null   object \n",
      "dtypes: float64(11), int64(1), object(1)\n",
      "memory usage: 660.0+ KB\n",
      "None\n"
     ]
    }
   ],
   "execution_count": 12
  },
  {
   "metadata": {
    "ExecuteTime": {
     "end_time": "2024-10-10T03:56:38.594319Z",
     "start_time": "2024-10-10T03:56:38.576267Z"
    }
   },
   "cell_type": "code",
   "source": "print(df.isnull().sum())#%%",
   "id": "4a06f86791ded12f",
   "outputs": [
    {
     "name": "stdout",
     "output_type": "stream",
     "text": [
      "fixed acidity           0\n",
      "volatile acidity        0\n",
      "citric acid             0\n",
      "residual sugar          0\n",
      "chlorides               0\n",
      "free sulfur dioxide     0\n",
      "total sulfur dioxide    0\n",
      "density                 0\n",
      "pH                      0\n",
      "sulphates               0\n",
      "alcohol                 0\n",
      "quality                 0\n",
      "Type                    0\n",
      "dtype: int64\n"
     ]
    }
   ],
   "execution_count": 13
  },
  {
   "metadata": {
    "ExecuteTime": {
     "end_time": "2024-10-10T03:56:40.320450Z",
     "start_time": "2024-10-10T03:56:40.311456Z"
    }
   },
   "cell_type": "code",
   "source": "print(df.isna().sum())",
   "id": "9169daa22cfeef01",
   "outputs": [
    {
     "name": "stdout",
     "output_type": "stream",
     "text": [
      "fixed acidity           0\n",
      "volatile acidity        0\n",
      "citric acid             0\n",
      "residual sugar          0\n",
      "chlorides               0\n",
      "free sulfur dioxide     0\n",
      "total sulfur dioxide    0\n",
      "density                 0\n",
      "pH                      0\n",
      "sulphates               0\n",
      "alcohol                 0\n",
      "quality                 0\n",
      "Type                    0\n",
      "dtype: int64\n"
     ]
    }
   ],
   "execution_count": 14
  },
  {
   "metadata": {
    "ExecuteTime": {
     "end_time": "2024-10-10T03:56:41.782360Z",
     "start_time": "2024-10-10T03:56:41.757357Z"
    }
   },
   "cell_type": "code",
   "source": "print(\"Unique values in each column \\n\",df.nunique())",
   "id": "9bada285f6c1c62f",
   "outputs": [
    {
     "name": "stdout",
     "output_type": "stream",
     "text": [
      "Unique values in each column \n",
      " fixed acidity           106\n",
      "volatile acidity        187\n",
      "citric acid              89\n",
      "residual sugar          316\n",
      "chlorides               214\n",
      "free sulfur dioxide     135\n",
      "total sulfur dioxide    276\n",
      "density                 998\n",
      "pH                      108\n",
      "sulphates               111\n",
      "alcohol                 111\n",
      "quality                   7\n",
      "Type                      2\n",
      "dtype: int64\n"
     ]
    }
   ],
   "execution_count": 15
  },
  {
   "metadata": {
    "ExecuteTime": {
     "end_time": "2024-10-09T22:35:46.324840Z",
     "start_time": "2024-10-09T22:35:44.524105Z"
    }
   },
   "cell_type": "code",
   "source": [
    "matrix = df.corr()\n",
    "plt.figure(figsize=(10, 8))\n",
    "sns.heatmap(matrix, annot=True)\n",
    "plt.title('Correlation Matrix')\n",
    "plt.show()"
   ],
   "id": "6e70d77f632e299f",
   "outputs": [
    {
     "data": {
      "text/plain": [
       "<Figure size 720x576 with 2 Axes>"
      ],
      "image/png": "[encoded data removed]"
     },
     "metadata": {},
     "output_type": "display_data"
    }
   ],
   "execution_count": 19
  },
  {
   "metadata": {
    "ExecuteTime": {
     "end_time": "2024-10-09T22:35:55.716728Z",
     "start_time": "2024-10-09T22:35:54.148217Z"
    }
   },
   "cell_type": "code",
   "source": [
    "for c in df.select_dtypes(include=['int64','float64']).columns:\n",
    "    plt.figure(figsize=(10, 6))\n",
    "    sns.boxplot(x=df[c])\n",
    "    plt.show()"
   ],
   "id": "87cd89449034b13b",
   "outputs": [
    {
     "data": {
      "text/plain": [
       "<Figure size 720x432 with 1 Axes>"
      ],
      "image/png": "[encoded data removed]"
     },
     "metadata": {},
     "output_type": "display_data"
    },
    {
     "data": {
      "text/plain": [
       "<Figure size 720x432 with 1 Axes>"
      ],
      "image/png": "[encoded data removed]"
     },
     "metadata": {},
     "output_type": "display_data"
    },
    {
     "data": {
      "text/plain": [
       "<Figure size 720x432 with 1 Axes>"
      ],
      "image/png": "[encoded data removed]"
     },
     "metadata": {},
     "output_type": "display_data"
    },
    {
     "data": {
      "text/plain": [
       "<Figure size 720x432 with 1 Axes>"
      ],
      "image/png": "[encoded data removed]"
     },
     "metadata": {},
     "output_type": "display_data"
    },
    {
     "data": {
      "text/plain": [
       "<Figure size 720x432 with 1 Axes>"
      ],
      "image/png": "[encoded data removed]"
     },
     "metadata": {},
     "output_type": "display_data"
    },
    {
     "data": {
      "text/plain": [
       "<Figure size 720x432 with 1 Axes>"
      ],
      "image/png": "[encoded data removed]"
     },
     "metadata": {},
     "output_type": "display_data"
    },
    {
     "data": {
      "text/plain": [
       "<Figure size 720x432 with 1 Axes>"
      ],
      "image/png": "[encoded data removed]"
     },
     "metadata": {},
     "output_type": "display_data"
    },
    {
     "data": {
      "text/plain": [
       "<Figure size 720x432 with 1 Axes>"
      ],
      "image/png": "[encoded data removed]"
     },
     "metadata": {},
     "output_type": "display_data"
    },
    {
     "data": {
      "text/plain": [
       "<Figure size 720x432 with 1 Axes>"
      ],
      "image/png": "[encoded data removed]"
     },
     "metadata": {},
     "output_type": "display_data"
    },
    {
     "data": {
      "text/plain": [
       "<Figure size 720x432 with 1 Axes>"
      ],
      "image/png": "[encoded data removed]"
     },
     "metadata": {},
     "output_type": "display_data"
    },
    {
     "data": {
      "text/plain": [
       "<Figure size 720x432 with 1 Axes>"
      ],
      "image/png": "[encoded data removed]"
     },
     "metadata": {},
     "output_type": "display_data"
    },
    {
     "data": {
      "text/plain": [
       "<Figure size 720x432 with 1 Axes>"
      ],
      "image/png": "[encoded data removed]"
     },
     "metadata": {},
     "output_type": "display_data"
    }
   ],
   "execution_count": 20
  },
  {
   "metadata": {
    "ExecuteTime": {
     "end_time": "2024-10-10T03:56:49.337160Z",
     "start_time": "2024-10-10T03:56:49.312980Z"
    }
   },
   "cell_type": "code",
   "source": "encoded_df = pd.get_dummies(df, columns=['Type'])",
   "id": "8bbf4f598688fddf",
   "outputs": [],
   "execution_count": 16
  },
  {
   "metadata": {
    "ExecuteTime": {
     "end_time": "2024-10-10T03:56:50.158530Z",
     "start_time": "2024-10-10T03:56:50.136538Z"
    }
   },
   "cell_type": "code",
   "source": "encoded_df.head()",
   "id": "d8d57e246522d226",
   "outputs": [
    {
     "data": {
      "text/plain": [
       "   fixed acidity  volatile acidity  citric acid  residual sugar  chlorides  \\\n",
       "0            7.4              0.70         0.00             1.9      0.076   \n",
       "1            7.8              0.88         0.00             2.6      0.098   \n",
       "2            7.8              0.76         0.04             2.3      0.092   \n",
       "3           11.2              0.28         0.56             1.9      0.075   \n",
       "4            7.4              0.70         0.00             1.9      0.076   \n",
       "\n",
       "   free sulfur dioxide  total sulfur dioxide  density    pH  sulphates  \\\n",
       "0                 11.0                  34.0   0.9978  3.51       0.56   \n",
       "1                 25.0                  67.0   0.9968  3.20       0.68   \n",
       "2                 15.0                  54.0   0.9970  3.26       0.65   \n",
       "3                 17.0                  60.0   0.9980  3.16       0.58   \n",
       "4                 11.0                  34.0   0.9978  3.51       0.56   \n",
       "\n",
       "   alcohol  quality  Type_RED  Type_WHITE  \n",
       "0      9.4        5         1           0  \n",
       "1      9.8        5         1           0  \n",
       "2      9.8        5         1           0  \n",
       "3      9.8        6         1           0  \n",
       "4      9.4        5         1           0  "
      ],
      "text/html": [
       "<div>\n",
       "<style scoped>\n",
       "    .dataframe tbody tr th:only-of-type {\n",
       "        vertical-align: middle;\n",
       "    }\n",
       "\n",
       "    .dataframe tbody tr th {\n",
       "        vertical-align: top;\n",
       "    }\n",
       "\n",
       "    .dataframe thead th {\n",
       "        text-align: right;\n",
       "    }\n",
       "</style>\n",
       "<table border=\"1\" class=\"dataframe\">\n",
       "  <thead>\n",
       "    <tr style=\"text-align: right;\">\n",
       "      <th></th>\n",
       "      <th>fixed acidity</th>\n",
       "      <th>volatile acidity</th>\n",
       "      <th>citric acid</th>\n",
       "      <th>residual sugar</th>\n",
       "      <th>chlorides</th>\n",
       "      <th>free sulfur dioxide</th>\n",
       "      <th>total sulfur dioxide</th>\n",
       "      <th>density</th>\n",
       "      <th>pH</th>\n",
       "      <th>sulphates</th>\n",
       "      <th>alcohol</th>\n",
       "      <th>quality</th>\n",
       "      <th>Type_RED</th>\n",
       "      <th>Type_WHITE</th>\n",
       "    </tr>\n",
       "  </thead>\n",
       "  <tbody>\n",
       "    <tr>\n",
       "      <th>0</th>\n",
       "      <td>7.4</td>\n",
       "      <td>0.70</td>\n",
       "      <td>0.00</td>\n",
       "      <td>1.9</td>\n",
       "      <td>0.076</td>\n",
       "      <td>11.0</td>\n",
       "      <td>34.0</td>\n",
       "      <td>0.9978</td>\n",
       "      <td>3.51</td>\n",
       "      <td>0.56</td>\n",
       "      <td>9.4</td>\n",
       "      <td>5</td>\n",
       "      <td>1</td>\n",
       "      <td>0</td>\n",
       "    </tr>\n",
       "    <tr>\n",
       "      <th>1</th>\n",
       "      <td>7.8</td>\n",
       "      <td>0.88</td>\n",
       "      <td>0.00</td>\n",
       "      <td>2.6</td>\n",
       "      <td>0.098</td>\n",
       "      <td>25.0</td>\n",
       "      <td>67.0</td>\n",
       "      <td>0.9968</td>\n",
       "      <td>3.20</td>\n",
       "      <td>0.68</td>\n",
       "      <td>9.8</td>\n",
       "      <td>5</td>\n",
       "      <td>1</td>\n",
       "      <td>0</td>\n",
       "    </tr>\n",
       "    <tr>\n",
       "      <th>2</th>\n",
       "      <td>7.8</td>\n",
       "      <td>0.76</td>\n",
       "      <td>0.04</td>\n",
       "      <td>2.3</td>\n",
       "      <td>0.092</td>\n",
       "      <td>15.0</td>\n",
       "      <td>54.0</td>\n",
       "      <td>0.9970</td>\n",
       "      <td>3.26</td>\n",
       "      <td>0.65</td>\n",
       "      <td>9.8</td>\n",
       "      <td>5</td>\n",
       "      <td>1</td>\n",
       "      <td>0</td>\n",
       "    </tr>\n",
       "    <tr>\n",
       "      <th>3</th>\n",
       "      <td>11.2</td>\n",
       "      <td>0.28</td>\n",
       "      <td>0.56</td>\n",
       "      <td>1.9</td>\n",
       "      <td>0.075</td>\n",
       "      <td>17.0</td>\n",
       "      <td>60.0</td>\n",
       "      <td>0.9980</td>\n",
       "      <td>3.16</td>\n",
       "      <td>0.58</td>\n",
       "      <td>9.8</td>\n",
       "      <td>6</td>\n",
       "      <td>1</td>\n",
       "      <td>0</td>\n",
       "    </tr>\n",
       "    <tr>\n",
       "      <th>4</th>\n",
       "      <td>7.4</td>\n",
       "      <td>0.70</td>\n",
       "      <td>0.00</td>\n",
       "      <td>1.9</td>\n",
       "      <td>0.076</td>\n",
       "      <td>11.0</td>\n",
       "      <td>34.0</td>\n",
       "      <td>0.9978</td>\n",
       "      <td>3.51</td>\n",
       "      <td>0.56</td>\n",
       "      <td>9.4</td>\n",
       "      <td>5</td>\n",
       "      <td>1</td>\n",
       "      <td>0</td>\n",
       "    </tr>\n",
       "  </tbody>\n",
       "</table>\n",
       "</div>"
      ]
     },
     "execution_count": 17,
     "metadata": {},
     "output_type": "execute_result"
    }
   ],
   "execution_count": 17
  },
  {
   "metadata": {
    "ExecuteTime": {
     "end_time": "2024-10-10T03:56:52.601758Z",
     "start_time": "2024-10-10T03:56:52.588745Z"
    }
   },
   "cell_type": "code",
   "source": "df = encoded_df",
   "id": "d7bc719905161668",
   "outputs": [],
   "execution_count": 18
  },
  {
   "metadata": {
    "ExecuteTime": {
     "end_time": "2024-10-10T03:56:53.741064Z",
     "start_time": "2024-10-10T03:56:53.719086Z"
    }
   },
   "cell_type": "code",
   "source": "df.head()",
   "id": "55bcb6f7ad7e6ebc",
   "outputs": [
    {
     "data": {
      "text/plain": [
       "   fixed acidity  volatile acidity  citric acid  residual sugar  chlorides  \\\n",
       "0            7.4              0.70         0.00             1.9      0.076   \n",
       "1            7.8              0.88         0.00             2.6      0.098   \n",
       "2            7.8              0.76         0.04             2.3      0.092   \n",
       "3           11.2              0.28         0.56             1.9      0.075   \n",
       "4            7.4              0.70         0.00             1.9      0.076   \n",
       "\n",
       "   free sulfur dioxide  total sulfur dioxide  density    pH  sulphates  \\\n",
       "0                 11.0                  34.0   0.9978  3.51       0.56   \n",
       "1                 25.0                  67.0   0.9968  3.20       0.68   \n",
       "2                 15.0                  54.0   0.9970  3.26       0.65   \n",
       "3                 17.0                  60.0   0.9980  3.16       0.58   \n",
       "4                 11.0                  34.0   0.9978  3.51       0.56   \n",
       "\n",
       "   alcohol  quality  Type_RED  Type_WHITE  \n",
       "0      9.4        5         1           0  \n",
       "1      9.8        5         1           0  \n",
       "2      9.8        5         1           0  \n",
       "3      9.8        6         1           0  \n",
       "4      9.4        5         1           0  "
      ],
      "text/html": [
       "<div>\n",
       "<style scoped>\n",
       "    .dataframe tbody tr th:only-of-type {\n",
       "        vertical-align: middle;\n",
       "    }\n",
       "\n",
       "    .dataframe tbody tr th {\n",
       "        vertical-align: top;\n",
       "    }\n",
       "\n",
       "    .dataframe thead th {\n",
       "        text-align: right;\n",
       "    }\n",
       "</style>\n",
       "<table border=\"1\" class=\"dataframe\">\n",
       "  <thead>\n",
       "    <tr style=\"text-align: right;\">\n",
       "      <th></th>\n",
       "      <th>fixed acidity</th>\n",
       "      <th>volatile acidity</th>\n",
       "      <th>citric acid</th>\n",
       "      <th>residual sugar</th>\n",
       "      <th>chlorides</th>\n",
       "      <th>free sulfur dioxide</th>\n",
       "      <th>total sulfur dioxide</th>\n",
       "      <th>density</th>\n",
       "      <th>pH</th>\n",
       "      <th>sulphates</th>\n",
       "      <th>alcohol</th>\n",
       "      <th>quality</th>\n",
       "      <th>Type_RED</th>\n",
       "      <th>Type_WHITE</th>\n",
       "    </tr>\n",
       "  </thead>\n",
       "  <tbody>\n",
       "    <tr>\n",
       "      <th>0</th>\n",
       "      <td>7.4</td>\n",
       "      <td>0.70</td>\n",
       "      <td>0.00</td>\n",
       "      <td>1.9</td>\n",
       "      <td>0.076</td>\n",
       "      <td>11.0</td>\n",
       "      <td>34.0</td>\n",
       "      <td>0.9978</td>\n",
       "      <td>3.51</td>\n",
       "      <td>0.56</td>\n",
       "      <td>9.4</td>\n",
       "      <td>5</td>\n",
       "      <td>1</td>\n",
       "      <td>0</td>\n",
       "    </tr>\n",
       "    <tr>\n",
       "      <th>1</th>\n",
       "      <td>7.8</td>\n",
       "      <td>0.88</td>\n",
       "      <td>0.00</td>\n",
       "      <td>2.6</td>\n",
       "      <td>0.098</td>\n",
       "      <td>25.0</td>\n",
       "      <td>67.0</td>\n",
       "      <td>0.9968</td>\n",
       "      <td>3.20</td>\n",
       "      <td>0.68</td>\n",
       "      <td>9.8</td>\n",
       "      <td>5</td>\n",
       "      <td>1</td>\n",
       "      <td>0</td>\n",
       "    </tr>\n",
       "    <tr>\n",
       "      <th>2</th>\n",
       "      <td>7.8</td>\n",
       "      <td>0.76</td>\n",
       "      <td>0.04</td>\n",
       "      <td>2.3</td>\n",
       "      <td>0.092</td>\n",
       "      <td>15.0</td>\n",
       "      <td>54.0</td>\n",
       "      <td>0.9970</td>\n",
       "      <td>3.26</td>\n",
       "      <td>0.65</td>\n",
       "      <td>9.8</td>\n",
       "      <td>5</td>\n",
       "      <td>1</td>\n",
       "      <td>0</td>\n",
       "    </tr>\n",
       "    <tr>\n",
       "      <th>3</th>\n",
       "      <td>11.2</td>\n",
       "      <td>0.28</td>\n",
       "      <td>0.56</td>\n",
       "      <td>1.9</td>\n",
       "      <td>0.075</td>\n",
       "      <td>17.0</td>\n",
       "      <td>60.0</td>\n",
       "      <td>0.9980</td>\n",
       "      <td>3.16</td>\n",
       "      <td>0.58</td>\n",
       "      <td>9.8</td>\n",
       "      <td>6</td>\n",
       "      <td>1</td>\n",
       "      <td>0</td>\n",
       "    </tr>\n",
       "    <tr>\n",
       "      <th>4</th>\n",
       "      <td>7.4</td>\n",
       "      <td>0.70</td>\n",
       "      <td>0.00</td>\n",
       "      <td>1.9</td>\n",
       "      <td>0.076</td>\n",
       "      <td>11.0</td>\n",
       "      <td>34.0</td>\n",
       "      <td>0.9978</td>\n",
       "      <td>3.51</td>\n",
       "      <td>0.56</td>\n",
       "      <td>9.4</td>\n",
       "      <td>5</td>\n",
       "      <td>1</td>\n",
       "      <td>0</td>\n",
       "    </tr>\n",
       "  </tbody>\n",
       "</table>\n",
       "</div>"
      ]
     },
     "execution_count": 19,
     "metadata": {},
     "output_type": "execute_result"
    }
   ],
   "execution_count": 19
  },
  {
   "metadata": {
    "ExecuteTime": {
     "end_time": "2024-10-10T03:56:55.781535Z",
     "start_time": "2024-10-10T03:56:55.768817Z"
    }
   },
   "cell_type": "code",
   "source": "df = df.sample(frac=1, random_state=42)",
   "id": "9f8d510b809a6c0b",
   "outputs": [],
   "execution_count": 20
  },
  {
   "metadata": {
    "ExecuteTime": {
     "end_time": "2024-10-10T03:56:56.436286Z",
     "start_time": "2024-10-10T03:56:56.417778Z"
    }
   },
   "cell_type": "code",
   "source": [
    "train_size = int(0.8 * len(df))  \n",
    "train_df = df[:train_size]\n",
    "test_df = df[train_size:]"
   ],
   "id": "64d78e13cb2275c7",
   "outputs": [],
   "execution_count": 21
  },
  {
   "metadata": {
    "ExecuteTime": {
     "end_time": "2024-10-10T03:56:57.287729Z",
     "start_time": "2024-10-10T03:56:57.212325Z"
    }
   },
   "cell_type": "code",
   "source": [
    "df_to_normalize = train_df.iloc[:, 0:11]\n",
    "normalized_df = (df_to_normalize - df_to_normalize.mean()) / df_to_normalize.std()"
   ],
   "id": "2cd00231a2d9b5d1",
   "outputs": [],
   "execution_count": 22
  },
  {
   "metadata": {
    "ExecuteTime": {
     "end_time": "2024-10-10T03:56:58.772168Z",
     "start_time": "2024-10-10T03:56:58.760174Z"
    }
   },
   "cell_type": "code",
   "source": "train_df = pd.concat([normalized_df,train_df.iloc[:,11:]], axis=1)",
   "id": "d17250d99306e695",
   "outputs": [],
   "execution_count": 23
  },
  {
   "metadata": {
    "ExecuteTime": {
     "end_time": "2024-10-10T03:57:00.200138Z",
     "start_time": "2024-10-10T03:57:00.178151Z"
    }
   },
   "cell_type": "code",
   "source": "train_df.head()",
   "id": "b5ec6edd6f8a835e",
   "outputs": [
    {
     "data": {
      "text/plain": [
       "      fixed acidity  volatile acidity  citric acid  residual sugar  chlorides  \\\n",
       "3103      -0.170171         -1.040488     2.920008        1.558192  -0.314991   \n",
       "1419       0.364058          1.819951    -0.749951       -0.690365   0.555917   \n",
       "4761      -0.322808          0.298441     0.150227        0.412701  -0.995388   \n",
       "4690      -0.704400         -0.371024     1.050406        1.218787  -0.451070   \n",
       "4032       0.135103          0.054999    -0.819196        1.791533  -0.070048   \n",
       "\n",
       "      free sulfur dioxide  total sulfur dioxide   density        pH  \\\n",
       "3103            -0.358874              0.185178 -0.177521  0.257192   \n",
       "1419             0.088304              0.307922  0.295054  0.319076   \n",
       "4761             0.423688              0.307922 -0.879632 -0.237878   \n",
       "4690             1.709325              1.184661  0.403071 -0.609181   \n",
       "4032             1.821120              1.991261  1.402230 -0.671065   \n",
       "\n",
       "      sulphates   alcohol  quality  Type_RED  Type_WHITE  \n",
       "3103  -1.013351  1.437138        8         0           1  \n",
       "1419  -0.550883 -0.492020        5         1           0  \n",
       "4761  -0.616950  1.269385        7         0           1  \n",
       "4690  -0.154482 -0.827525        6         0           1  \n",
       "4032  -0.220549 -1.330784        6         0           1  "
      ],
      "text/html": [
       "<div>\n",
       "<style scoped>\n",
       "    .dataframe tbody tr th:only-of-type {\n",
       "        vertical-align: middle;\n",
       "    }\n",
       "\n",
       "    .dataframe tbody tr th {\n",
       "        vertical-align: top;\n",
       "    }\n",
       "\n",
       "    .dataframe thead th {\n",
       "        text-align: right;\n",
       "    }\n",
       "</style>\n",
       "<table border=\"1\" class=\"dataframe\">\n",
       "  <thead>\n",
       "    <tr style=\"text-align: right;\">\n",
       "      <th></th>\n",
       "      <th>fixed acidity</th>\n",
       "      <th>volatile acidity</th>\n",
       "      <th>citric acid</th>\n",
       "      <th>residual sugar</th>\n",
       "      <th>chlorides</th>\n",
       "      <th>free sulfur dioxide</th>\n",
       "      <th>total sulfur dioxide</th>\n",
       "      <th>density</th>\n",
       "      <th>pH</th>\n",
       "      <th>sulphates</th>\n",
       "      <th>alcohol</th>\n",
       "      <th>quality</th>\n",
       "      <th>Type_RED</th>\n",
       "      <th>Type_WHITE</th>\n",
       "    </tr>\n",
       "  </thead>\n",
       "  <tbody>\n",
       "    <tr>\n",
       "      <th>3103</th>\n",
       "      <td>-0.170171</td>\n",
       "      <td>-1.040488</td>\n",
       "      <td>2.920008</td>\n",
       "      <td>1.558192</td>\n",
       "      <td>-0.314991</td>\n",
       "      <td>-0.358874</td>\n",
       "      <td>0.185178</td>\n",
       "      <td>-0.177521</td>\n",
       "      <td>0.257192</td>\n",
       "      <td>-1.013351</td>\n",
       "      <td>1.437138</td>\n",
       "      <td>8</td>\n",
       "      <td>0</td>\n",
       "      <td>1</td>\n",
       "    </tr>\n",
       "    <tr>\n",
       "      <th>1419</th>\n",
       "      <td>0.364058</td>\n",
       "      <td>1.819951</td>\n",
       "      <td>-0.749951</td>\n",
       "      <td>-0.690365</td>\n",
       "      <td>0.555917</td>\n",
       "      <td>0.088304</td>\n",
       "      <td>0.307922</td>\n",
       "      <td>0.295054</td>\n",
       "      <td>0.319076</td>\n",
       "      <td>-0.550883</td>\n",
       "      <td>-0.492020</td>\n",
       "      <td>5</td>\n",
       "      <td>1</td>\n",
       "      <td>0</td>\n",
       "    </tr>\n",
       "    <tr>\n",
       "      <th>4761</th>\n",
       "      <td>-0.322808</td>\n",
       "      <td>0.298441</td>\n",
       "      <td>0.150227</td>\n",
       "      <td>0.412701</td>\n",
       "      <td>-0.995388</td>\n",
       "      <td>0.423688</td>\n",
       "      <td>0.307922</td>\n",
       "      <td>-0.879632</td>\n",
       "      <td>-0.237878</td>\n",
       "      <td>-0.616950</td>\n",
       "      <td>1.269385</td>\n",
       "      <td>7</td>\n",
       "      <td>0</td>\n",
       "      <td>1</td>\n",
       "    </tr>\n",
       "    <tr>\n",
       "      <th>4690</th>\n",
       "      <td>-0.704400</td>\n",
       "      <td>-0.371024</td>\n",
       "      <td>1.050406</td>\n",
       "      <td>1.218787</td>\n",
       "      <td>-0.451070</td>\n",
       "      <td>1.709325</td>\n",
       "      <td>1.184661</td>\n",
       "      <td>0.403071</td>\n",
       "      <td>-0.609181</td>\n",
       "      <td>-0.154482</td>\n",
       "      <td>-0.827525</td>\n",
       "      <td>6</td>\n",
       "      <td>0</td>\n",
       "      <td>1</td>\n",
       "    </tr>\n",
       "    <tr>\n",
       "      <th>4032</th>\n",
       "      <td>0.135103</td>\n",
       "      <td>0.054999</td>\n",
       "      <td>-0.819196</td>\n",
       "      <td>1.791533</td>\n",
       "      <td>-0.070048</td>\n",
       "      <td>1.821120</td>\n",
       "      <td>1.991261</td>\n",
       "      <td>1.402230</td>\n",
       "      <td>-0.671065</td>\n",
       "      <td>-0.220549</td>\n",
       "      <td>-1.330784</td>\n",
       "      <td>6</td>\n",
       "      <td>0</td>\n",
       "      <td>1</td>\n",
       "    </tr>\n",
       "  </tbody>\n",
       "</table>\n",
       "</div>"
      ]
     },
     "execution_count": 24,
     "metadata": {},
     "output_type": "execute_result"
    }
   ],
   "execution_count": 24
  },
  {
   "metadata": {
    "ExecuteTime": {
     "end_time": "2024-10-10T03:57:02.340427Z",
     "start_time": "2024-10-10T03:57:02.326302Z"
    }
   },
   "cell_type": "code",
   "source": [
    "X_train = train_df.drop('quality', axis=1)  \n",
    "y_train = train_df['quality'] "
   ],
   "id": "4365d92cae956bd6",
   "outputs": [],
   "execution_count": 25
  },
  {
   "metadata": {},
   "cell_type": "code",
   "outputs": [],
   "execution_count": null,
   "source": "## train spliting",
   "id": "cdd04fcd794ff2a4"
  },
  {
   "metadata": {
    "ExecuteTime": {
     "end_time": "2024-10-10T03:57:03.365996Z",
     "start_time": "2024-10-10T03:57:03.354017Z"
    }
   },
   "cell_type": "code",
   "source": [
    "df_to_normalize = test_df.iloc[:, 0:11]\n",
    "normalized_df = (df_to_normalize - df_to_normalize.mean()) / df_to_normalize.std()"
   ],
   "id": "b278c1b8cd2878ff",
   "outputs": [],
   "execution_count": 26
  },
  {
   "metadata": {
    "ExecuteTime": {
     "end_time": "2024-10-10T03:57:04.381752Z",
     "start_time": "2024-10-10T03:57:04.376752Z"
    }
   },
   "cell_type": "code",
   "source": "train_df = pd.concat([normalized_df,test_df.iloc[:,11:]], axis=1)",
   "id": "dd8efc0e16c99e7e",
   "outputs": [],
   "execution_count": 27
  },
  {
   "metadata": {
    "ExecuteTime": {
     "end_time": "2024-10-10T03:57:05.217331Z",
     "start_time": "2024-10-10T03:57:05.204332Z"
    }
   },
   "cell_type": "code",
   "source": [
    "X_test = test_df.drop('quality', axis=1)  \n",
    "y_test = test_df['quality'] "
   ],
   "id": "e356ea3d2aeadca4",
   "outputs": [],
   "execution_count": 28
  },
  {
   "metadata": {
    "ExecuteTime": {
     "end_time": "2024-10-10T03:57:06.099536Z",
     "start_time": "2024-10-10T03:57:06.085552Z"
    }
   },
   "cell_type": "code",
   "source": "y_test_norm = (y_test - y_test.mean()) / y_test.std()",
   "id": "f40d7a3c8c4ffc08",
   "outputs": [],
   "execution_count": 29
  },
  {
   "metadata": {},
   "cell_type": "markdown",
   "source": "### We define the loss function",
   "id": "62f602ce45f980d6"
  },
  {
   "metadata": {
    "ExecuteTime": {
     "end_time": "2024-10-10T03:57:08.067680Z",
     "start_time": "2024-10-10T03:57:08.055664Z"
    }
   },
   "cell_type": "code",
   "source": [
    "def compute_cost(X, y, theta, lambda_1, lambda_2):\n",
    "    \n",
    "    m = len(y)\n",
    "    predictions = X.dot(theta)\n",
    "    error = predictions - y\n",
    "    cost = (1 / (2 * m)) * np.sum(error ** 2)  # Mean squared error\n",
    "    \n",
    "    # Elastic Net regularization: L1 (Lasso) + L2 (Ridge)\n",
    "    l1_regularization = lambda_1 * np.sum(np.abs(theta))  # L1 norm\n",
    "    l2_regularization = lambda_2 * np.sum(theta ** 2)  # L2 norm\n",
    "    \n",
    "    return cost + l1_regularization + l2_regularization\n"
   ],
   "id": "3c776206eef56b2d",
   "outputs": [],
   "execution_count": 30
  },
  {
   "metadata": {},
   "cell_type": "markdown",
   "source": "### Compute Gradient",
   "id": "8cec448cad1fcda7"
  },
  {
   "metadata": {
    "ExecuteTime": {
     "end_time": "2024-10-10T04:18:06.796614Z",
     "start_time": "2024-10-10T04:18:06.786073Z"
    }
   },
   "cell_type": "code",
   "source": [
    "def compute_gradient(X, y, theta, lambda_1, lambda_2):\n",
    "    m = len(y)\n",
    "    predictions = X.dot(theta)\n",
    "    error = predictions - y\n",
    "    \n",
    "    # Gradient of the cost function (mean squared error)\n",
    "    gradient = (1 / m) * X.T.dot(error)\n",
    "    \n",
    "    # Gradient for L1 regularization (sub-gradient)\n",
    "    l1_gradient = lambda_1 * np.sign(theta)\n",
    "    \n",
    "    # Gradient for L2 regularization\n",
    "    l2_gradient = lambda_2 * theta\n",
    "    \n",
    "    # Combine gradients\n",
    "    return gradient + l1_gradient + l2_gradient\n"
   ],
   "id": "82d3c6b8ccb7a7eb",
   "outputs": [],
   "execution_count": 52
  },
  {
   "metadata": {},
   "cell_type": "markdown",
   "source": "### Compute Gradient  Descent",
   "id": "5e0efa4bf2514460"
  },
  {
   "metadata": {},
   "cell_type": "markdown",
   "source": "###  GD loop and random initilization",
   "id": "3a9b56e9c2ca734b"
  },
  {
   "metadata": {
    "ExecuteTime": {
     "end_time": "2024-10-10T03:57:12.320728Z",
     "start_time": "2024-10-10T03:57:12.307733Z"
    }
   },
   "cell_type": "code",
   "source": [
    "def check_stabilization(cost_history, tolerance=0.01):\n",
    "    if len(cost_history) < 100:\n",
    "        return False\n",
    "    last_100_costs = cost_history[-100:]\n",
    "    mean_cost = np.mean(last_100_costs)\n",
    "    stabilized = np.all(np.abs(last_100_costs - mean_cost) < tolerance)\n",
    "    return stabilized"
   ],
   "id": "2f8bc0c0d6fdc694",
   "outputs": [],
   "execution_count": 32
  },
  {
   "metadata": {
    "ExecuteTime": {
     "end_time": "2024-10-10T03:57:13.938918Z",
     "start_time": "2024-10-10T03:57:13.930912Z"
    }
   },
   "cell_type": "code",
   "source": [
    "def plot_cost_function(cost_history):\n",
    "            plt.figure(figsize=(8,6))\n",
    "            plt.plot(cost_history, label='Cost History')\n",
    "            plt.xlabel('Iteration')\n",
    "            plt.ylabel('Cost')\n",
    "            plt.title('Cost History over Iterations')\n",
    "            plt.legend()\n",
    "            plt.grid(True)\n",
    "            plt.show()"
   ],
   "id": "2a14eea7fecde90c",
   "outputs": [],
   "execution_count": 33
  },
  {
   "metadata": {
    "ExecuteTime": {
     "end_time": "2024-10-10T03:57:16.879550Z",
     "start_time": "2024-10-10T03:57:16.860543Z"
    }
   },
   "cell_type": "code",
   "source": [
    "gradient_threshold=1e-2\n",
    "def elastic_net_batch_gradient_descent(X, y, alpha, lambda_1, lambda_2, learning_rate, n_iterations, batch_size):\n",
    "    m = X[0]\n",
    "    n = X[1]\n",
    "    theta = np.random.randn(n)  # Initialize weights\n",
    "    cost_history = []\n",
    "    \n",
    "    # Iterate for the given number of iterations\n",
    "    for i in range(n_iterations):\n",
    "\n",
    "        for j in range(0, m, batch_size):\n",
    "            # Define mini-batch\n",
    "            X_batch = X[j:j + batch_size]\n",
    "            y_batch = y[j:j + batch_size]\n",
    "            \n",
    "            # Compute gradients for the current batch\n",
    "            gradients = compute_gradient(X_batch, y_batch, theta, lambda_1, lambda_2)\n",
    "            if np.all(np.abs(gradients) < gradient_threshold):\n",
    "                print(f\"Gradient threshold reached. Stopping early at iteration {i}\")\n",
    "            # Update weights using the batch gradient\n",
    "            theta -= learning_rate * gradients\n",
    "            \n",
    "        # Optionally, compute and store the cost after the full pass through the dataset\n",
    "            \n",
    "        cost = compute_cost(X, y, theta, lambda_1, lambda_2)\n",
    "        cost_history.append(cost)\n",
    "        if i%1000==0:\n",
    "            print(f\"cost {cost} at iteration {i}\")\n",
    "            \n",
    "            \n",
    "    \n",
    "    return theta, cost_history\n"
   ],
   "id": "319d7b363d0fe28a",
   "outputs": [],
   "execution_count": 34
  },
  {
   "metadata": {},
   "cell_type": "markdown",
   "source": "### With Zero Initialization",
   "id": "3c1d0f1e9a03166f"
  },
  {
   "metadata": {
    "ExecuteTime": {
     "end_time": "2024-10-09T22:54:54.486049Z",
     "start_time": "2024-10-09T22:54:54.467025Z"
    }
   },
   "cell_type": "code",
   "source": [
    "def elastic_net_batch_gradient_descent_with_zero_initialization(X, y, alpha, lambda_1, lambda_2, learning_rate, n_iterations, batch_size):\n",
    "    m, n = X.shape\n",
    "    theta=np.zeros(n)  # Initialize weights\n",
    "    cost_history = []\n",
    "    gradient_threshold = 1e-2\n",
    "    break_flag = False\n",
    "    for i in range(n_iterations):\n",
    "        for j in range(0, m, batch_size):\n",
    "            # Define mini-batch\n",
    "            X_batch = X[j:j + batch_size]\n",
    "            y_batch = y[j:j + batch_size]\n",
    "            \n",
    "            # Compute gradients for the current batch\n",
    "            gradients = compute_gradient(X_batch, y_batch, theta, lambda_1, lambda_2)\n",
    "\n",
    "            theta -= learning_rate * gradients\n",
    "            \n",
    "            if np.all(np.abs(gradients) < gradient_threshold):\n",
    "                print(f\"Gradient threshold reached. Stopping early at iteration {i}\")\n",
    "                break_flag=True\n",
    "                break\n",
    "        cost = compute_cost(X, y, theta, lambda_1, lambda_2)\n",
    "        cost_history.append(cost)\n",
    "        if i%1000==0:\n",
    "            print(f\"cost {cost} at iteration {i}\")\n",
    "        if break_flag==True:\n",
    "            break\n",
    "            \n",
    "    return theta, cost_history\n"
   ],
   "id": "1c4b5b765032a58",
   "outputs": [],
   "execution_count": 71
  },
  {
   "metadata": {},
   "cell_type": "markdown",
   "source": "### Xavier Initialization",
   "id": "91e4800dc9966362"
  },
  {
   "metadata": {
    "ExecuteTime": {
     "end_time": "2024-10-09T23:37:46.364878Z",
     "start_time": "2024-10-09T23:37:46.351880Z"
    }
   },
   "cell_type": "code",
   "source": [
    "def compute_gradient_XAVIER_1(X_batch_X, y_batch_X, theta_XAV, lambda_1_XAV, lambda_2_XAV):\n",
    "    m = X_batch_X.shape[0]\n",
    "    predictions = X_batch_X.dot(theta_XAV)\n",
    "    y_batch_X = y_batch_X.reshape((m, 1)) \n",
    "    errors = predictions - y_batch_X\n",
    "    gradient = (2 / m) * X_batch_X.T.dot(errors) + lambda_1_XAV * np.sign(theta_XAV) + 2 * lambda_2_XAV * theta_XAV\n",
    "    return gradient"
   ],
   "id": "e7785a28b9978796",
   "outputs": [],
   "execution_count": 80
  },
  {
   "metadata": {
    "ExecuteTime": {
     "end_time": "2024-10-09T23:37:44.979782Z",
     "start_time": "2024-10-09T23:37:44.966783Z"
    }
   },
   "cell_type": "code",
   "source": [
    "## Xavier Initialization \n",
    "def xavier_initialization(input_dim):\n",
    "    limit = np.sqrt(6 / input_dim)\n",
    "    return np.random.uniform(-limit, limit, size=(input_dim, 1))"
   ],
   "id": "14c7414374d8f960",
   "outputs": [],
   "execution_count": 79
  },
  {
   "metadata": {
    "ExecuteTime": {
     "end_time": "2024-10-09T23:37:44.177732Z",
     "start_time": "2024-10-09T23:37:44.165735Z"
    }
   },
   "cell_type": "code",
   "source": [
    "def compute_cost_XAVIER_1(X, y, theta, lambda_1, lambda_2):\n",
    "    m = X.shape[0]\n",
    "    predictions = X.dot(theta)\n",
    "    y = y.reshape((m, 1))\n",
    "    errors = predictions - y\n",
    "    cost = (1 / m) * np.sum(errors**2) + lambda_1 * np.sum(np.abs(theta)) + lambda_2 * np.sum(theta**2)\n",
    "    return cost"
   ],
   "id": "4de4d6e6db22f429",
   "outputs": [],
   "execution_count": 78
  },
  {
   "metadata": {
    "ExecuteTime": {
     "end_time": "2024-10-09T23:37:42.169214Z",
     "start_time": "2024-10-09T23:37:42.160217Z"
    }
   },
   "cell_type": "code",
   "source": [
    "def elastic_net_batch_gradient_descent_with_XAVIER_initialization_1(X, y_XAVIER, alpha, lambda_1_XAVIER, lambda_2_XAVIER, learning_rate, n_iterations, batch_size):\n",
    "    m = X.shape[0]\n",
    "    n = X.shape[1]\n",
    "    theta = xavier_initialization(n)  # Initialize weights\n",
    "   \n",
    "    cost_history = []\n",
    "    gradient_threshold = 1e-2\n",
    "    break_flag = False\n",
    "\n",
    "    for i in range(n_iterations):\n",
    "        for j in range(0, m, batch_size):\n",
    "            X_batch = X[j:j + batch_size]\n",
    "            y_batch = y_XAVIER[j:j + batch_size]\n",
    "            \n",
    "            # Compute gradients\n",
    "            gradients = compute_gradient_XAVIER_1(X_batch, y_batch, theta, lambda_1_XAVIER, lambda_2_XAVIER)\n",
    "            theta -= learning_rate * gradients\n",
    "            \n",
    "            if np.all(np.abs(gradients) < gradient_threshold):\n",
    "                print(f\"Gradient threshold reached. Stopping early at iteration {i}\")\n",
    "                break_flag = True\n",
    "                break\n",
    "        \n",
    "        # Compute cost after full pass\n",
    "        cost = compute_cost_XAVIER_1(X, y_XAVIER, theta, lambda_1_XAVIER, lambda_2_XAVIER)\n",
    "        cost_history.append(cost)\n",
    "        \n",
    "        if i!=0 and i % n_iterations == 0:\n",
    "            print(f\"final cost  : {cost}\")\n",
    "        if break_flag:\n",
    "            break\n",
    "            \n",
    "    return theta, cost_history"
   ],
   "id": "b6af76d26313dae2",
   "outputs": [],
   "execution_count": 77
  },
  {
   "metadata": {},
   "cell_type": "markdown",
   "source": "### we remove the outliers and then start the process ",
   "id": "bdaef8455405cbda"
  },
  {
   "metadata": {
    "ExecuteTime": {
     "end_time": "2024-10-10T03:57:25.703126Z",
     "start_time": "2024-10-10T03:57:25.691115Z"
    }
   },
   "cell_type": "code",
   "source": [
    "df_to_normalize = df.iloc[:, 0:11]\n",
    "normalized_df = (df_to_normalize - df_to_normalize.mean()) / df_to_normalize.std()"
   ],
   "id": "274be6009d38cfc2",
   "outputs": [],
   "execution_count": 35
  },
  {
   "metadata": {
    "ExecuteTime": {
     "end_time": "2024-10-10T03:57:27.027449Z",
     "start_time": "2024-10-10T03:57:27.017444Z"
    }
   },
   "cell_type": "code",
   "source": "normalized_df.shape",
   "id": "23ba22d9dff065ca",
   "outputs": [
    {
     "data": {
      "text/plain": [
       "(6497, 11)"
      ]
     },
     "execution_count": 36,
     "metadata": {},
     "output_type": "execute_result"
    }
   ],
   "execution_count": 36
  },
  {
   "metadata": {
    "ExecuteTime": {
     "end_time": "2024-10-10T03:57:27.924120Z",
     "start_time": "2024-10-10T03:57:27.909116Z"
    }
   },
   "cell_type": "code",
   "source": "from scipy import stats",
   "id": "70b204cf9cfaad1",
   "outputs": [],
   "execution_count": 37
  },
  {
   "metadata": {
    "ExecuteTime": {
     "end_time": "2024-10-10T03:57:28.809840Z",
     "start_time": "2024-10-10T03:57:28.795820Z"
    }
   },
   "cell_type": "code",
   "source": "df_zscore = normalized_df.apply(stats.zscore)",
   "id": "444a59bfcfc62347",
   "outputs": [],
   "execution_count": 38
  },
  {
   "metadata": {
    "ExecuteTime": {
     "end_time": "2024-10-10T03:57:29.460542Z",
     "start_time": "2024-10-10T03:57:29.446518Z"
    }
   },
   "cell_type": "code",
   "source": [
    "mask = (df_zscore.abs() <= 3).all(axis=1)\n",
    "df_no_outliers = df[mask]"
   ],
   "id": "6cc931dde787d609",
   "outputs": [],
   "execution_count": 39
  },
  {
   "metadata": {
    "ExecuteTime": {
     "end_time": "2024-10-10T03:57:30.213935Z",
     "start_time": "2024-10-10T03:57:30.203923Z"
    }
   },
   "cell_type": "code",
   "source": "print(df_no_outliers)",
   "id": "46a882584fe68234",
   "outputs": [
    {
     "name": "stdout",
     "output_type": "stream",
     "text": [
      "      fixed acidity  volatile acidity  citric acid  residual sugar  chlorides  \\\n",
      "3103            7.0              0.17         0.74           12.80      0.045   \n",
      "1419            7.7              0.64         0.21            2.20      0.077   \n",
      "4761            6.8              0.39         0.34            7.40      0.020   \n",
      "4690            6.3              0.28         0.47           11.20      0.040   \n",
      "4032            7.4              0.35         0.20           13.90      0.054   \n",
      "...             ...               ...          ...             ...        ...   \n",
      "3772            7.6              0.32         0.58           16.75      0.050   \n",
      "5191            5.6              0.28         0.27            3.90      0.043   \n",
      "5226            6.4              0.37         0.20            5.60      0.117   \n",
      "5390            6.5              0.26         0.50            8.00      0.051   \n",
      "860             7.2              0.62         0.06            2.70      0.077   \n",
      "\n",
      "      free sulfur dioxide  total sulfur dioxide  density    pH  sulphates  \\\n",
      "3103                 24.0                 126.0  0.99420  3.26       0.38   \n",
      "1419                 32.0                 133.0  0.99560  3.27       0.45   \n",
      "4761                 38.0                 133.0  0.99212  3.18       0.44   \n",
      "4690                 61.0                 183.0  0.99592  3.12       0.51   \n",
      "4032                 63.0                 229.0  0.99888  3.11       0.50   \n",
      "...                   ...                   ...      ...   ...        ...   \n",
      "3772                 43.0                 163.0  0.99990  3.15       0.54   \n",
      "5191                 52.0                 158.0  0.99202  3.35       0.44   \n",
      "5226                 61.0                 183.0  0.99459  3.24       0.43   \n",
      "5390                 46.0                 197.0  0.99536  3.18       0.47   \n",
      "860                  15.0                  85.0  0.99746  3.51       0.54   \n",
      "\n",
      "      alcohol  quality  Type_RED  Type_WHITE  \n",
      "3103     12.2        8         0           1  \n",
      "1419      9.9        5         1           0  \n",
      "4761     12.0        7         0           1  \n",
      "4690      9.5        6         0           1  \n",
      "4032      8.9        6         0           1  \n",
      "...       ...      ...       ...         ...  \n",
      "3772      9.2        5         0           1  \n",
      "5191     10.7        7         0           1  \n",
      "5226      9.5        5         0           1  \n",
      "5390      9.5        5         0           1  \n",
      "860       9.5        5         1           0  \n",
      "\n",
      "[6009 rows x 14 columns]\n"
     ]
    }
   ],
   "execution_count": 40
  },
  {
   "metadata": {
    "ExecuteTime": {
     "end_time": "2024-10-10T03:57:32.374690Z",
     "start_time": "2024-10-10T03:57:32.354179Z"
    }
   },
   "cell_type": "code",
   "source": "df_no_outliers = df_no_outliers.sample(frac=1, random_state=42)",
   "id": "35eb846dafddaee5",
   "outputs": [],
   "execution_count": 41
  },
  {
   "metadata": {
    "ExecuteTime": {
     "end_time": "2024-10-10T03:57:33.017054Z",
     "start_time": "2024-10-10T03:57:33.002049Z"
    }
   },
   "cell_type": "code",
   "source": [
    "train_size = int(0.8 * len(df))  \n",
    "train_df_beta = df_no_outliers[:train_size]\n",
    "test_df_beta = df_no_outliers[train_size:]"
   ],
   "id": "16d278a4563919ea",
   "outputs": [],
   "execution_count": 42
  },
  {
   "metadata": {
    "ExecuteTime": {
     "end_time": "2024-10-10T03:57:33.732763Z",
     "start_time": "2024-10-10T03:57:33.718807Z"
    }
   },
   "cell_type": "code",
   "source": [
    "df_to_normalize = train_df_beta.iloc[:, 0:11]\n",
    "normalized_df = (df_to_normalize - df_to_normalize.mean()) / df_to_normalize.std()"
   ],
   "id": "45a17891b10e6904",
   "outputs": [],
   "execution_count": 43
  },
  {
   "metadata": {
    "ExecuteTime": {
     "end_time": "2024-10-10T03:57:35.022347Z",
     "start_time": "2024-10-10T03:57:35.015338Z"
    }
   },
   "cell_type": "code",
   "source": "train_df_beta = pd.concat([normalized_df,train_df_beta.iloc[:,11:]], axis=1)\n",
   "id": "e8bf12f550713279",
   "outputs": [],
   "execution_count": 44
  },
  {
   "metadata": {
    "ExecuteTime": {
     "end_time": "2024-10-10T03:57:35.914838Z",
     "start_time": "2024-10-10T03:57:35.902839Z"
    }
   },
   "cell_type": "code",
   "source": [
    "X_train = train_df_beta.drop('quality', axis=1)  \n",
    "y_train = train_df_beta['quality'] "
   ],
   "id": "a85b8b20e04239dd",
   "outputs": [],
   "execution_count": 45
  },
  {
   "metadata": {},
   "cell_type": "code",
   "outputs": [],
   "execution_count": null,
   "source": "## test split",
   "id": "6b9f86b831a752ab"
  },
  {
   "metadata": {
    "ExecuteTime": {
     "end_time": "2024-10-10T03:57:37.301610Z",
     "start_time": "2024-10-10T03:57:37.288605Z"
    }
   },
   "cell_type": "code",
   "source": [
    "df_to_normalize = test_df_beta.iloc[:, 0:11]\n",
    "normalized_df = (df_to_normalize - df_to_normalize.mean()) / df_to_normalize.std()"
   ],
   "id": "9717ce0e76198391",
   "outputs": [],
   "execution_count": 46
  },
  {
   "metadata": {
    "ExecuteTime": {
     "end_time": "2024-10-10T03:57:38.385640Z",
     "start_time": "2024-10-10T03:57:38.380636Z"
    }
   },
   "cell_type": "code",
   "source": "test_df_beta = pd.concat([normalized_df,test_df_beta.iloc[:,11:]], axis=1)\n",
   "id": "51e3df8ce818369f",
   "outputs": [],
   "execution_count": 47
  },
  {
   "metadata": {
    "ExecuteTime": {
     "end_time": "2024-10-10T03:57:39.156306Z",
     "start_time": "2024-10-10T03:57:39.142323Z"
    }
   },
   "cell_type": "code",
   "source": [
    "X_test = test_df_beta.drop('quality', axis=1)  \n",
    "y_test = test_df_beta['quality'] "
   ],
   "id": "2b682ad71b8010f6",
   "outputs": [],
   "execution_count": 48
  },
  {
   "metadata": {
    "ExecuteTime": {
     "end_time": "2024-10-10T03:57:39.944649Z",
     "start_time": "2024-10-10T03:57:39.924651Z"
    }
   },
   "cell_type": "code",
   "source": "y_test_norm = (y_test - y_test.mean()) / y_test.std()",
   "id": "b8021df34478e958",
   "outputs": [],
   "execution_count": 49
  },
  {
   "metadata": {
    "ExecuteTime": {
     "end_time": "2024-10-10T03:57:40.763281Z",
     "start_time": "2024-10-10T03:57:40.745239Z"
    }
   },
   "cell_type": "code",
   "source": "y_test_norm.shape",
   "id": "1dea52f787d12fb4",
   "outputs": [
    {
     "data": {
      "text/plain": [
       "(812,)"
      ]
     },
     "execution_count": 50,
     "metadata": {},
     "output_type": "execute_result"
    }
   ],
   "execution_count": 50
  },
  {
   "metadata": {},
   "cell_type": "code",
   "outputs": [],
   "execution_count": null,
   "source": "## training tests ",
   "id": "1e537f62a08c6cc7"
  },
  {
   "metadata": {},
   "cell_type": "markdown",
   "source": "### Random weights run",
   "id": "8dd9dee631fca503"
  },
  {
   "metadata": {
    "ExecuteTime": {
     "end_time": "2024-10-09T22:52:35.727672Z",
     "start_time": "2024-10-09T22:52:10.093937Z"
    }
   },
   "cell_type": "code",
   "source": [
    "# Hyperparameters\n",
    "alpha = 0.1\n",
    "lambda_1 = alpha * 0.1  # L1 regularization strength\n",
    "lambda_2 = (1 - alpha) * 0.5  # L2 regularization strength\n",
    "learning_rate = 0.001\n",
    "n_iterations = 10000\n",
    "batch_size = 32  # Define batch size\n",
    "\n",
    "# Example data (X, y)\n",
    "theta, cost_history = elastic_net_batch_gradient_descent(X_train.values, y_train.values, alpha, lambda_1, lambda_2, learning_rate, n_iterations, batch_size)"
   ],
   "id": "f1c92ab8d9d9a2cb",
   "outputs": [
    {
     "name": "stdout",
     "output_type": "stream",
     "text": [
      "cost 20.359606462438286 at iteration 0\n",
      "cost 11.456991330197917 at iteration 1000\n",
      "cost 11.456991330197917 at iteration 2000\n",
      "cost 11.456991330197917 at iteration 3000\n",
      "cost 11.456991330197917 at iteration 4000\n",
      "cost 11.456991330197917 at iteration 5000\n",
      "cost 11.456991330197917 at iteration 6000\n",
      "cost 11.456991330197917 at iteration 7000\n",
      "cost 11.456991330197917 at iteration 8000\n",
      "cost 11.456991330197917 at iteration 9000\n"
     ]
    }
   ],
   "execution_count": 64
  },
  {
   "metadata": {
    "ExecuteTime": {
     "end_time": "2024-10-09T22:52:37.907652Z",
     "start_time": "2024-10-09T22:52:37.704975Z"
    }
   },
   "cell_type": "code",
   "source": "plot_cost_function(cost_history)",
   "id": "6f4f5b69ac9ad7a4",
   "outputs": [
    {
     "data": {
      "text/plain": [
       "<Figure size 576x432 with 1 Axes>"
      ],
      "image/png": "[encoded data removed]"
     },
     "metadata": {},
     "output_type": "display_data"
    }
   ],
   "execution_count": 65
  },
  {
   "metadata": {
    "ExecuteTime": {
     "end_time": "2024-10-09T22:52:41.327682Z",
     "start_time": "2024-10-09T22:52:41.318687Z"
    }
   },
   "cell_type": "code",
   "source": [
    "y_pred = np.dot(X_test.values,theta)\n",
    "mse = np.mean((y_test_norm-y_pred)**2)\n",
    "print(f\"Mean squared error: {mse:0.5f}\")"
   ],
   "id": "6fa95f516e79f794",
   "outputs": [
    {
     "name": "stdout",
     "output_type": "stream",
     "text": [
      "Mean squared error: 12.72984\n"
     ]
    }
   ],
   "execution_count": 66
  },
  {
   "metadata": {
    "ExecuteTime": {
     "end_time": "2024-10-09T22:53:10.534202Z",
     "start_time": "2024-10-09T22:53:10.274713Z"
    }
   },
   "cell_type": "code",
   "source": [
    "plt.scatter(y_test_norm, y_pred, color='blue',label='Predicted Values values')\n",
    "plt.scatter(y_test_norm, y_test_norm, color='red', label='Actual values', linewidth=2)\n",
    "plt.xlabel('Actual')\n",
    "plt.ylabel('Predicted')\n",
    "plt.title('Linear: Predictions vs Actual Values')\n",
    "plt.legend()\n",
    "plt.show()"
   ],
   "id": "6c2eefb0731b06d0",
   "outputs": [
    {
     "data": {
      "text/plain": [
       "<Figure size 432x288 with 1 Axes>"
      ],
      "image/png": "[encoded data removed]"
     },
     "metadata": {},
     "output_type": "display_data"
    }
   ],
   "execution_count": 67
  },
  {
   "metadata": {},
   "cell_type": "markdown",
   "source": "### With Zero Initialization",
   "id": "bd7b5df1590c1634"
  },
  {
   "metadata": {
    "ExecuteTime": {
     "end_time": "2024-10-09T23:31:27.321428Z",
     "start_time": "2024-10-09T22:55:14.506847Z"
    }
   },
   "cell_type": "code",
   "source": [
    "# Hyperparameters\n",
    "alpha = 0.1\n",
    "lambda_1 = alpha * 0.1  # L1 regularization strength\n",
    "lambda_2 = (1 - alpha) * 0.5  # L2 regularization strength\n",
    "learning_rate = 0.001\n",
    "n_iterations = 10000\n",
    "batch_size = 32  # Define batch size\n",
    "\n",
    "# Example data (X, y)\n",
    "theta, cost_history = elastic_net_batch_gradient_descent_with_zero_initialization(X_train, y_train, alpha, lambda_1, lambda_2, learning_rate, n_iterations, batch_size)\n"
   ],
   "id": "4a6fded7ee99e994",
   "outputs": [
    {
     "name": "stdout",
     "output_type": "stream",
     "text": [
      "cost 14.423576459776807 at iteration 0\n",
      "cost 11.456991330197923 at iteration 1000\n",
      "cost 11.456991330197923 at iteration 2000\n",
      "cost 11.456991330197923 at iteration 3000\n",
      "cost 11.456991330197923 at iteration 4000\n",
      "cost 11.456991330197923 at iteration 5000\n",
      "cost 11.456991330197923 at iteration 6000\n",
      "cost 11.456991330197923 at iteration 7000\n",
      "cost 11.456991330197923 at iteration 8000\n",
      "cost 11.456991330197923 at iteration 9000\n"
     ]
    }
   ],
   "execution_count": 72
  },
  {
   "metadata": {
    "ExecuteTime": {
     "end_time": "2024-10-09T23:36:37.022906Z",
     "start_time": "2024-10-09T23:36:36.715700Z"
    }
   },
   "cell_type": "code",
   "source": "plot_cost_function(cost_history)",
   "id": "e1b1410b06126e7c",
   "outputs": [
    {
     "data": {
      "text/plain": [
       "<Figure size 576x432 with 1 Axes>"
      ],
      "image/png": "[encoded data removed]"
     },
     "metadata": {},
     "output_type": "display_data"
    }
   ],
   "execution_count": 73
  },
  {
   "metadata": {
    "ExecuteTime": {
     "end_time": "2024-10-09T23:36:49.116210Z",
     "start_time": "2024-10-09T23:36:49.092760Z"
    }
   },
   "cell_type": "code",
   "source": [
    "y_pred = np.dot(X_test.values,theta)\n",
    "# m=X_test.shape[0]\n",
    "mse = np.mean((y_test_norm-y_pred)**2)\n",
    "print(f\"Mean squared error: {mse:0.5f}\")"
   ],
   "id": "6e7dcf9c55795e24",
   "outputs": [
    {
     "name": "stdout",
     "output_type": "stream",
     "text": [
      "Mean squared error: 12.72984\n"
     ]
    }
   ],
   "execution_count": 74
  },
  {
   "metadata": {
    "ExecuteTime": {
     "end_time": "2024-10-09T23:37:18.250366Z",
     "start_time": "2024-10-09T23:37:17.939939Z"
    }
   },
   "cell_type": "code",
   "source": [
    "plt.scatter(y_test_norm, y_pred, color='blue',label='Predicted Values values')\n",
    "plt.scatter(y_test_norm, y_test_norm, color='red', label='Actual values', linewidth=2)\n",
    "plt.xlabel('Actual')\n",
    "plt.ylabel('Predicted')\n",
    "plt.title('Linear: Predictions vs Actual Values')\n",
    "plt.legend()\n",
    "plt.show()"
   ],
   "id": "2b0ec5f6b18f93e1",
   "outputs": [
    {
     "data": {
      "text/plain": [
       "<Figure size 432x288 with 1 Axes>"
      ],
      "image/png": "[encoded data removed]"
     },
     "metadata": {},
     "output_type": "display_data"
    }
   ],
   "execution_count": 75
  },
  {
   "metadata": {},
   "cell_type": "code",
   "outputs": [],
   "execution_count": null,
   "source": "### we extend run with higher number of iterations.",
   "id": "8e1906aaef4e8a01"
  },
  {
   "metadata": {
    "ExecuteTime": {
     "end_time": "2024-10-09T20:20:04.510618Z",
     "start_time": "2024-10-09T20:20:04.238862Z"
    }
   },
   "cell_type": "code",
   "source": [
    "plt.scatter(y_test_norm, y_pred, color='blue',label='Predicted Values values')\n",
    "plt.scatter(y_test_norm, y_test_norm, color='red', label='Actual values', linewidth=2)\n",
    "plt.xlabel('Actual')\n",
    "plt.ylabel('Predicted')\n",
    "plt.title('Linear: Predictions vs Actual Values')\n",
    "plt.legend()\n",
    "plt.show()"
   ],
   "id": "1d84a68ba8528e74",
   "outputs": [
    {
     "data": {
      "text/plain": [
       "<Figure size 432x288 with 1 Axes>"
      ],
      "image/png": "[encoded data removed]"
     },
     "metadata": {},
     "output_type": "display_data"
    }
   ],
   "execution_count": 170
  },
  {
   "metadata": {
    "ExecuteTime": {
     "end_time": "2024-10-09T23:38:39.231061Z",
     "start_time": "2024-10-09T23:38:11.233047Z"
    }
   },
   "cell_type": "code",
   "source": [
    "alpha = 0.1\n",
    "lambda_1 = alpha * 0.1  # L1 regularization strength\n",
    "lambda_2 = (1 - alpha) * 0.5  # L2 regularization strength\n",
    "learning_rate = 0.001\n",
    "n_iterations = 10000\n",
    "batch_size = 32  # Define batch size\n",
    "\n",
    "# Example data (X, y)\n",
    "theta_config_run, cost_history_config_run = elastic_net_batch_gradient_descent_with_XAVIER_initialization_1(X_train.values, y_train.values, alpha, lambda_1, lambda_2, learning_rate, n_iterations, batch_size)"
   ],
   "id": "6df4f05c6bf6de48",
   "outputs": [],
   "execution_count": 81
  },
  {
   "metadata": {
    "ExecuteTime": {
     "end_time": "2024-10-09T23:43:02.349144Z",
     "start_time": "2024-10-09T23:43:02.179980Z"
    }
   },
   "cell_type": "code",
   "source": "plot_cost_function(cost_history_config_run)",
   "id": "b2eaeeb89cb918a5",
   "outputs": [
    {
     "data": {
      "text/plain": [
       "<Figure size 576x432 with 1 Axes>"
      ],
      "image/png": "[encoded data removed]"
     },
     "metadata": {},
     "output_type": "display_data"
    }
   ],
   "execution_count": 82
  },
  {
   "metadata": {
    "ExecuteTime": {
     "end_time": "2024-10-09T23:43:05.389392Z",
     "start_time": "2024-10-09T23:43:05.373389Z"
    }
   },
   "cell_type": "code",
   "source": [
    "y_pred = np.dot(X_test.values,theta_config_run)\n",
    "y_reshape = y_test_norm.values.reshape(len(y_test),1)\n",
    "mse = np.mean((y_reshape-y_pred)**2)\n",
    "print(f\"Mean squared error: {mse:0.5f}\")\n"
   ],
   "id": "efc4360e3da22714",
   "outputs": [
    {
     "name": "stdout",
     "output_type": "stream",
     "text": [
      "Mean squared error: 12.76704\n"
     ]
    }
   ],
   "execution_count": 83
  },
  {
   "metadata": {
    "ExecuteTime": {
     "end_time": "2024-10-09T23:43:22.142423Z",
     "start_time": "2024-10-09T23:43:21.889102Z"
    }
   },
   "cell_type": "code",
   "source": [
    "plt.scatter(y_test_norm, y_pred, color='blue',label='Predicted Values values')\n",
    "plt.scatter(y_test_norm, y_test_norm, color='red', label='Actual values', linewidth=2)\n",
    "plt.xlabel('Actual')\n",
    "plt.ylabel('Predicted')\n",
    "plt.title('Linear: Predictions vs Actual Values')\n",
    "plt.legend()\n",
    "plt.show()"
   ],
   "id": "4912b7b234895a7e",
   "outputs": [
    {
     "data": {
      "text/plain": [
       "<Figure size 432x288 with 1 Axes>"
      ],
      "image/png": "[encoded data removed]"
     },
     "metadata": {},
     "output_type": "display_data"
    }
   ],
   "execution_count": 84
  },
  {
   "metadata": {
    "ExecuteTime": {
     "end_time": "2024-10-09T23:51:41.225447Z",
     "start_time": "2024-10-09T23:51:41.219446Z"
    }
   },
   "cell_type": "code",
   "source": [
    "def elastic_net_batch_gradient_descent_with_XAVIER_initialization_2(X, y_XAVIER, alpha, lambda_1_XAVIER, lambda_2_XAVIER, learning_rate, n_iterations, batch_size):\n",
    "    m = X.shape[0]\n",
    "    n = X.shape[1]\n",
    "    theta = xavier_initialization(n)  # Initialize weights\n",
    "   \n",
    "    cost_history = []\n",
    "    gradient_threshold = 1e-5\n",
    "    break_flag = False\n",
    "    i=0\n",
    "    while True:\n",
    "        for j in range(0, m, batch_size):\n",
    "            X_batch = X[j:j + batch_size]\n",
    "            y_batch = y_XAVIER[j:j + batch_size]\n",
    "            \n",
    "            # Compute gradients\n",
    "            gradients = compute_gradient_XAVIER_1(X_batch, y_batch, theta, lambda_1_XAVIER, lambda_2_XAVIER)\n",
    "            theta -= learning_rate * gradients\n",
    "            if np.any(np.abs(gradients) < gradient_threshold):\n",
    "                print(f\"Gradient threshold reached. Stopping early at iteration {i}\")\n",
    "                break_flag = True\n",
    "                break\n",
    "        i+=1\n",
    "        # Compute cost after full pass\n",
    "        cost = compute_cost_XAVIER_1(X, y_XAVIER, theta, lambda_1_XAVIER, lambda_2_XAVIER)\n",
    "        cost_history.append(cost)\n",
    "        \n",
    "        if i!=0 and i % n_iterations == 0:\n",
    "            y_pred = np.dot(X_test.values,theta)\n",
    "            y_reshape = y_test_norm.values.reshape(len(y_test),1)\n",
    "            mse = np.mean((y_reshape-y_pred)**2)\n",
    "            print(f\"cost at iteration {i} : {cost} and Mean squared error: {mse}\")\n",
    "        if break_flag:\n",
    "            break\n",
    "            \n",
    "    return theta, cost_history"
   ],
   "id": "2b1c93b1c34170c8",
   "outputs": [],
   "execution_count": 96
  },
  {
   "metadata": {
    "ExecuteTime": {
     "end_time": "2024-10-09T23:51:43.818566Z",
     "start_time": "2024-10-09T23:51:43.735346Z"
    }
   },
   "cell_type": "code",
   "source": [
    "# Hyperparameters\n",
    "alpha = 0.1\n",
    "lambda_1 = alpha * 0.1  # L1 regularization strength\n",
    "lambda_2 = (1 - alpha) * 0.5  # L2 regularization strength\n",
    "learning_rate = 0.001\n",
    "n_iterations = 10000\n",
    "batch_size = 32  # Define batch size\n",
    "\n",
    "# Example data (X, y)\n",
    "theta_config_run, cost_history_config_run = elastic_net_batch_gradient_descent_with_XAVIER_initialization_2(X_train.values, y_train.values, alpha, lambda_1, lambda_2, learning_rate, n_iterations, batch_size)"
   ],
   "id": "a10977af9dd9c9fb",
   "outputs": [
    {
     "name": "stdout",
     "output_type": "stream",
     "text": [
      "Gradient threshold reached. Stopping early at iteration 24\n"
     ]
    }
   ],
   "execution_count": 97
  },
  {
   "metadata": {
    "ExecuteTime": {
     "end_time": "2024-10-09T23:51:46.431510Z",
     "start_time": "2024-10-09T23:51:46.240141Z"
    }
   },
   "cell_type": "code",
   "source": "plot_cost_function(cost_history_config_run)",
   "id": "d610c339578b1100",
   "outputs": [
    {
     "data": {
      "text/plain": [
       "<Figure size 576x432 with 1 Axes>"
      ],
      "image/png": "[encoded data removed]"
     },
     "metadata": {},
     "output_type": "display_data"
    }
   ],
   "execution_count": 98
  },
  {
   "metadata": {
    "ExecuteTime": {
     "end_time": "2024-10-09T23:53:16.128205Z",
     "start_time": "2024-10-09T23:53:16.115211Z"
    }
   },
   "cell_type": "code",
   "source": [
    "y_pred = np.dot(X_test.values,theta_config_run)\n",
    "y_reshape = y_test_norm.values.reshape(len(y_test),1)\n",
    "mse = np.mean((y_reshape-y_pred)**2)\n",
    "print(f\"Mean squared error: {mse:0.5f}\")\n"
   ],
   "id": "1a755348c8a09dbd",
   "outputs": [
    {
     "name": "stdout",
     "output_type": "stream",
     "text": [
      "Mean squared error: 12.77234\n"
     ]
    }
   ],
   "execution_count": 99
  },
  {
   "metadata": {
    "ExecuteTime": {
     "end_time": "2024-10-09T23:53:55.790863Z",
     "start_time": "2024-10-09T23:53:55.512029Z"
    }
   },
   "cell_type": "code",
   "source": [
    "plt.scatter(y_test_norm, y_pred, color='blue',label='Predicted Values values')\n",
    "plt.scatter(y_test_norm, y_test_norm, color='red', label='Actual values', linewidth=2)\n",
    "plt.xlabel('Actual')\n",
    "plt.ylabel('Predicted')\n",
    "plt.title('Linear: Predictions vs Actual Values')\n",
    "plt.legend()\n",
    "plt.show()"
   ],
   "id": "6d3229e808935093",
   "outputs": [
    {
     "data": {
      "text/plain": [
       "<Figure size 432x288 with 1 Axes>"
      ],
      "image/png": "[encoded data removed]"
     },
     "metadata": {},
     "output_type": "display_data"
    }
   ],
   "execution_count": 100
  },
  {
   "metadata": {
    "ExecuteTime": {
     "end_time": "2024-10-10T01:01:24.003220Z",
     "start_time": "2024-10-10T01:01:23.989224Z"
    }
   },
   "cell_type": "code",
   "source": [
    "def elastic_net_batch_gradient_descent_with_zero_initialization_2(X, y, alpha, lambda_1, lambda_2, learning_rate, n_iterations, batch_size):\n",
    "    m, n = X.shape\n",
    "    theta=np.zeros(n)  # Initialize weights\n",
    "    cost_history = []\n",
    "    gradient_threshold = 1e-5\n",
    "    break_flag = False\n",
    "    for i in range(n_iterations):\n",
    "        for j in range(0, m, batch_size):\n",
    "            # Define mini-batch\n",
    "            X_batch = X[j:j + batch_size]\n",
    "            y_batch = y[j:j + batch_size]\n",
    "            \n",
    "            # Compute gradients for the current batch\n",
    "            gradients = compute_gradient(X_batch, y_batch, theta, lambda_1, lambda_2)\n",
    "\n",
    "            theta -= learning_rate * gradients\n",
    "            \n",
    "            if np.any(np.abs(gradients) < gradient_threshold):\n",
    "                print(f\"Gradient threshold reached. Stopping early at iteration {i}\")\n",
    "                break_flag=True\n",
    "                break\n",
    "        cost = compute_cost(X, y, theta, lambda_1, lambda_2)\n",
    "        cost_history.append(cost)\n",
    "        if i%1000==0:\n",
    "            print(f\"cost {cost} at iteration {i}\")\n",
    "        if break_flag==True:\n",
    "            break\n",
    "            \n",
    "    return theta, cost_history\n"
   ],
   "id": "b7f5a319ad1e0f26",
   "outputs": [],
   "execution_count": 103
  },
  {
   "metadata": {
    "ExecuteTime": {
     "end_time": "2024-10-10T01:01:33.804465Z",
     "start_time": "2024-10-10T01:01:26.716498Z"
    }
   },
   "cell_type": "code",
   "source": [
    "# Hyperparameters\n",
    "alpha = 0.1\n",
    "lambda_1 = alpha * 0.1  # L1 regularization strength\n",
    "lambda_2 = (1 - alpha) * 0.5  # L2 regularization strength\n",
    "learning_rate = 0.001\n",
    "n_iterations = 10000\n",
    "batch_size = 32  # Define batch size\n",
    "\n",
    "# Example data (X, y)\n",
    "theta, cost_history = elastic_net_batch_gradient_descent_with_zero_initialization_2(X_train, y_train, alpha, lambda_1, lambda_2, learning_rate, n_iterations, batch_size)\n"
   ],
   "id": "a794c068cd941a1",
   "outputs": [
    {
     "name": "stdout",
     "output_type": "stream",
     "text": [
      "cost 14.423576459776807 at iteration 0\n",
      "Gradient threshold reached. Stopping early at iteration 29\n"
     ]
    }
   ],
   "execution_count": 104
  },
  {
   "metadata": {
    "ExecuteTime": {
     "end_time": "2024-10-10T01:02:32.930507Z",
     "start_time": "2024-10-10T01:02:32.717352Z"
    }
   },
   "cell_type": "code",
   "source": "plot_cost_function(cost_history)",
   "id": "c986f765b1eb701e",
   "outputs": [
    {
     "data": {
      "text/plain": [
       "<Figure size 576x432 with 1 Axes>"
      ],
      "image/png": "[encoded data removed]"
     },
     "metadata": {},
     "output_type": "display_data"
    }
   ],
   "execution_count": 107
  },
  {
   "metadata": {},
   "cell_type": "code",
   "outputs": [],
   "execution_count": null,
   "source": "plot_cost_function(cost_history)",
   "id": "146a0cc5f5d2ac70"
  },
  {
   "metadata": {
    "ExecuteTime": {
     "end_time": "2024-10-10T01:03:06.394792Z",
     "start_time": "2024-10-10T01:03:06.382254Z"
    }
   },
   "cell_type": "code",
   "source": [
    "y_pred = np.dot(X_test.values,theta)\n",
    "# m=X_test.shape[0]\n",
    "mse = np.mean((y_test_norm-y_pred)**2)\n",
    "print(f\"Mean squared error: {mse:0.5f}\")"
   ],
   "id": "ebd783c985a9a8f5",
   "outputs": [
    {
     "name": "stdout",
     "output_type": "stream",
     "text": [
      "Mean squared error: 12.61831\n"
     ]
    }
   ],
   "execution_count": 108
  },
  {
   "metadata": {
    "ExecuteTime": {
     "end_time": "2024-10-10T01:03:25.605925Z",
     "start_time": "2024-10-10T01:03:25.314811Z"
    }
   },
   "cell_type": "code",
   "source": [
    "plt.scatter(y_test_norm, y_pred, color='blue',label='Predicted Values values')\n",
    "plt.scatter(y_test_norm, y_test_norm, color='red', label='Actual values', linewidth=2)\n",
    "plt.xlabel('Actual')\n",
    "plt.ylabel('Predicted')\n",
    "plt.title('Linear: Predictions vs Actual Values')\n",
    "plt.legend()\n",
    "plt.show()"
   ],
   "id": "bd1f8ae41a6d7432",
   "outputs": [
    {
     "data": {
      "text/plain": [
       "<Figure size 432x288 with 1 Axes>"
      ],
      "image/png": "[encoded data removed]"
     },
     "metadata": {},
     "output_type": "display_data"
    }
   ],
   "execution_count": 109
  },
  {
   "metadata": {
    "ExecuteTime": {
     "end_time": "2024-10-10T04:18:03.607756Z",
     "start_time": "2024-10-10T04:18:03.590201Z"
    }
   },
   "cell_type": "code",
   "source": [
    "def elastic_net_batch_gradient_descent_2(X, y, alpha, lambda_1, lambda_2, learning_rate, n_iterations, batch_size):\n",
    "    m , n= X.shape\n",
    "    # n = X[1]\n",
    "    theta = np.random.randn(n)  # Initialize weights\n",
    "    cost_history = []\n",
    "    gradient_threshold=1e-5\n",
    "    break_flag = False\n",
    "    i=0\n",
    "    # Iterate for the given number of iterations\n",
    "    while True:\n",
    "\n",
    "        for j in range(0, m, batch_size):\n",
    "            # Define mini-batch\n",
    "            X_batch = X[j:j + batch_size]\n",
    "            y_batch = y[j:j + batch_size]\n",
    "            \n",
    "            # Compute gradients for the current batch\n",
    "            gradients = compute_gradient(X_batch, y_batch, theta, lambda_1, lambda_2)\n",
    "            if np.any(np.abs(gradients) < gradient_threshold):\n",
    "                print(f\"Gradient threshold reached. Stopping early at iteration {i}\")\n",
    "                break_flag=True\n",
    "                break\n",
    "            # Update weights using the batch gradient\n",
    "            theta -= learning_rate * gradients\n",
    "            \n",
    "        # Optionally, compute and store the cost after the full pass through the dataset\n",
    "        i+=1   \n",
    "        cost = compute_cost(X, y, theta, lambda_1, lambda_2)\n",
    "        cost_history.append(cost)\n",
    "        if i%1000==0:\n",
    "            print(f\"cost {cost} at iteration {i}\")\n",
    "        \n",
    "        if break_flag==True:\n",
    "            break\n",
    "            \n",
    "    \n",
    "    return theta, cost_history\n"
   ],
   "id": "1c97b64f21ecb2b7",
   "outputs": [],
   "execution_count": 51
  },
  {
   "metadata": {
    "ExecuteTime": {
     "end_time": "2024-10-10T04:18:42.670080Z",
     "start_time": "2024-10-10T04:18:27.914351Z"
    }
   },
   "cell_type": "code",
   "source": [
    "# Hyperparameters\n",
    "alpha = 0.1\n",
    "lambda_1 = alpha * 0.1  # L1 regularization strength\n",
    "lambda_2 = (1 - alpha) * 0.5  # L2 regularization strength\n",
    "learning_rate = 0.001\n",
    "n_iterations = 10000\n",
    "batch_size = 32  # Define batch size\n",
    "\n",
    "# Example data (X, y)\n",
    "theta, cost_history = elastic_net_batch_gradient_descent_2(X_train, y_train, alpha, lambda_1, lambda_2, learning_rate, n_iterations, batch_size)"
   ],
   "id": "d5ec8570c0fc489f",
   "outputs": [
    {
     "name": "stdout",
     "output_type": "stream",
     "text": [
      "Gradient threshold reached. Stopping early at iteration 64\n"
     ]
    }
   ],
   "execution_count": 53
  },
  {
   "metadata": {
    "ExecuteTime": {
     "end_time": "2024-10-10T04:19:02.602212Z",
     "start_time": "2024-10-10T04:19:02.407124Z"
    }
   },
   "cell_type": "code",
   "source": [
    "plot_cost_function(cost_history)\n",
    "y_pred = np.dot(X_test.values, theta)\n",
    "mse = np.mean((y_test_norm - y_pred) ** 2)\n",
    "print(f\"Mean squared error: {mse:0.5f}\")"
   ],
   "id": "3c52dd04b6f9fb06",
   "outputs": [
    {
     "data": {
      "text/plain": [
       "<Figure size 576x432 with 1 Axes>"
      ],
      "image/png": "[encoded data removed]"
     },
     "metadata": {},
     "output_type": "display_data"
    },
    {
     "name": "stdout",
     "output_type": "stream",
     "text": [
      "Mean squared error: 12.52427\n"
     ]
    }
   ],
   "execution_count": 55
  },
  {
   "metadata": {
    "ExecuteTime": {
     "end_time": "2024-10-10T04:20:54.433007Z",
     "start_time": "2024-10-10T04:20:54.418019Z"
    }
   },
   "cell_type": "code",
   "source": "theta_best = theta",
   "id": "ba17bd52b03f3baf",
   "outputs": [],
   "execution_count": 57
  },
  {
   "metadata": {
    "ExecuteTime": {
     "end_time": "2024-10-10T04:19:10.931839Z",
     "start_time": "2024-10-10T04:19:10.634264Z"
    }
   },
   "cell_type": "code",
   "source": [
    "plt.scatter(y_test_norm, y_pred, color='blue',label='Predicted Values values')\n",
    "plt.scatter(y_test_norm, y_test_norm, color='red', label='Actual values', linewidth=2)\n",
    "plt.xlabel('Actual')\n",
    "plt.ylabel('Predicted')\n",
    "plt.title('Linear: Predictions vs Actual Values')\n",
    "plt.legend()\n",
    "plt.show()"
   ],
   "id": "fb2736da5bd0cb7f",
   "outputs": [
    {
     "data": {
      "text/plain": [
       "<Figure size 432x288 with 1 Axes>"
      ],
      "image/png": "[encoded data removed]"
     },
     "metadata": {},
     "output_type": "display_data"
    }
   ],
   "execution_count": 56
  },
  {
   "metadata": {
    "ExecuteTime": {
     "end_time": "2024-10-10T04:21:04.615161Z",
     "start_time": "2024-10-10T04:21:04.602592Z"
    }
   },
   "cell_type": "code",
   "source": [
    "import pickle\n",
    "\n",
    "with open('Nikhil_Gishnu_Assignment_1_part4.pickle', 'wb') as handle:\n",
    "    pickle.dump(theta_best, handle, protocol=pickle.HIGHEST_PROTOCOL)"
   ],
   "id": "adbbbf45dfc002ff",
   "outputs": [],
   "execution_count": 58
  }
 ],
 "metadata": {
  "kernelspec": {
   "display_name": "Python 3",
   "language": "python",
   "name": "python3"
  },
  "language_info": {
   "codemirror_mode": {
    "name": "ipython",
    "version": 2
   },
   "file_extension": ".py",
   "mimetype": "text/x-python",
   "name": "python",
   "nbconvert_exporter": "python",
   "pygments_lexer": "ipython2",
   "version": "2.7.6"
  }
 },
 "nbformat": 4,
 "nbformat_minor": 5
}
