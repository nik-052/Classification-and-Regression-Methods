{
 "cells": [
  {
   "cell_type": "code",
   "metadata": {
    "id": "vd7OCsW3claV",
    "ExecuteTime": {
     "end_time": "2024-09-26T16:47:27.220040Z",
     "start_time": "2024-09-26T16:47:27.192512Z"
    }
   },
   "source": [
    "import pandas as pd # type: ignore\n",
    "import numpy as np # type: ignore\n",
    "import matplotlib.pyplot as plt # type: ignore\n",
    "import warnings\n",
    "import seaborn as sns # type: ignore\n",
    "import math\n",
    "# from scipy import stats\n",
    "from tqdm import tqdm\n",
    "\n",
    "warnings.filterwarnings('ignore')"
   ],
   "outputs": [],
   "execution_count": 2
  },
  {
   "cell_type": "code",
   "metadata": {
    "id": "yRsdSW2XcpaN",
    "ExecuteTime": {
     "end_time": "2024-09-26T16:47:39.297386Z",
     "start_time": "2024-09-26T16:47:39.272360Z"
    }
   },
   "source": "df = pd.read_csv('./penguins.csv')",
   "outputs": [],
   "execution_count": 4
  },
  {
   "cell_type": "code",
   "metadata": {
    "colab": {
     "base_uri": "https://localhost:8080/",
     "height": 238
    },
    "id": "50kjwL4QfUyH",
    "outputId": "2148b303-ee5e-4d9d-d369-2d5e882e4e80",
    "ExecuteTime": {
     "end_time": "2024-09-26T16:47:40.803348Z",
     "start_time": "2024-09-26T16:47:40.781323Z"
    }
   },
   "source": [
    "df.head()"
   ],
   "outputs": [
    {
     "data": {
      "text/plain": [
       "  species     island  calorie requirement  average sleep duration  \\\n",
       "0  Adelie  Torgersen                 6563                      11   \n",
       "1  Adelie  Torgersen                 4890                      14   \n",
       "2  Adelie  Torgersen                 7184                      11   \n",
       "3  Adelie  Torgersen                 4169                       8   \n",
       "4  Adelie  Torgersen                 4774                       8   \n",
       "\n",
       "   bill_length_mm  bill_depth_mm  flipper_length_mm  body_mass_g  gender  \\\n",
       "0            39.1           18.7              181.0       3750.0    male   \n",
       "1            39.5           17.4              186.0       3800.0  female   \n",
       "2            40.3           18.0              195.0       3250.0  female   \n",
       "3             NaN            NaN                NaN        992.0     NaN   \n",
       "4            36.7           19.3              193.0       3450.0  female   \n",
       "\n",
       "     year  \n",
       "0  2007.0  \n",
       "1  2007.0  \n",
       "2  2007.0  \n",
       "3  2007.0  \n",
       "4  2007.0  "
      ],
      "text/html": [
       "<div>\n",
       "<style scoped>\n",
       "    .dataframe tbody tr th:only-of-type {\n",
       "        vertical-align: middle;\n",
       "    }\n",
       "\n",
       "    .dataframe tbody tr th {\n",
       "        vertical-align: top;\n",
       "    }\n",
       "\n",
       "    .dataframe thead th {\n",
       "        text-align: right;\n",
       "    }\n",
       "</style>\n",
       "<table border=\"1\" class=\"dataframe\">\n",
       "  <thead>\n",
       "    <tr style=\"text-align: right;\">\n",
       "      <th></th>\n",
       "      <th>species</th>\n",
       "      <th>island</th>\n",
       "      <th>calorie requirement</th>\n",
       "      <th>average sleep duration</th>\n",
       "      <th>bill_length_mm</th>\n",
       "      <th>bill_depth_mm</th>\n",
       "      <th>flipper_length_mm</th>\n",
       "      <th>body_mass_g</th>\n",
       "      <th>gender</th>\n",
       "      <th>year</th>\n",
       "    </tr>\n",
       "  </thead>\n",
       "  <tbody>\n",
       "    <tr>\n",
       "      <th>0</th>\n",
       "      <td>Adelie</td>\n",
       "      <td>Torgersen</td>\n",
       "      <td>6563</td>\n",
       "      <td>11</td>\n",
       "      <td>39.1</td>\n",
       "      <td>18.7</td>\n",
       "      <td>181.0</td>\n",
       "      <td>3750.0</td>\n",
       "      <td>male</td>\n",
       "      <td>2007.0</td>\n",
       "    </tr>\n",
       "    <tr>\n",
       "      <th>1</th>\n",
       "      <td>Adelie</td>\n",
       "      <td>Torgersen</td>\n",
       "      <td>4890</td>\n",
       "      <td>14</td>\n",
       "      <td>39.5</td>\n",
       "      <td>17.4</td>\n",
       "      <td>186.0</td>\n",
       "      <td>3800.0</td>\n",
       "      <td>female</td>\n",
       "      <td>2007.0</td>\n",
       "    </tr>\n",
       "    <tr>\n",
       "      <th>2</th>\n",
       "      <td>Adelie</td>\n",
       "      <td>Torgersen</td>\n",
       "      <td>7184</td>\n",
       "      <td>11</td>\n",
       "      <td>40.3</td>\n",
       "      <td>18.0</td>\n",
       "      <td>195.0</td>\n",
       "      <td>3250.0</td>\n",
       "      <td>female</td>\n",
       "      <td>2007.0</td>\n",
       "    </tr>\n",
       "    <tr>\n",
       "      <th>3</th>\n",
       "      <td>Adelie</td>\n",
       "      <td>Torgersen</td>\n",
       "      <td>4169</td>\n",
       "      <td>8</td>\n",
       "      <td>NaN</td>\n",
       "      <td>NaN</td>\n",
       "      <td>NaN</td>\n",
       "      <td>992.0</td>\n",
       "      <td>NaN</td>\n",
       "      <td>2007.0</td>\n",
       "    </tr>\n",
       "    <tr>\n",
       "      <th>4</th>\n",
       "      <td>Adelie</td>\n",
       "      <td>Torgersen</td>\n",
       "      <td>4774</td>\n",
       "      <td>8</td>\n",
       "      <td>36.7</td>\n",
       "      <td>19.3</td>\n",
       "      <td>193.0</td>\n",
       "      <td>3450.0</td>\n",
       "      <td>female</td>\n",
       "      <td>2007.0</td>\n",
       "    </tr>\n",
       "  </tbody>\n",
       "</table>\n",
       "</div>"
      ]
     },
     "execution_count": 5,
     "metadata": {},
     "output_type": "execute_result"
    }
   ],
   "execution_count": 5
  },
  {
   "cell_type": "code",
   "metadata": {
    "colab": {
     "base_uri": "https://localhost:8080/"
    },
    "id": "xqNgUDb2fWqq",
    "outputId": "71f39911-5e2f-47a3-c6ef-abc0ecc9e117",
    "ExecuteTime": {
     "end_time": "2024-09-26T16:47:51.046689Z",
     "start_time": "2024-09-26T16:47:51.042684Z"
    }
   },
   "source": "print(df.shape)",
   "outputs": [
    {
     "name": "stdout",
     "output_type": "stream",
     "text": [
      "(344, 10)\n"
     ]
    }
   ],
   "execution_count": 6
  },
  {
   "cell_type": "code",
   "metadata": {
    "colab": {
     "base_uri": "https://localhost:8080/",
     "height": 314
    },
    "id": "INflNo2TfZyP",
    "outputId": "e35ec381-6d78-41e0-ee33-a0cb81b5f5f0",
    "ExecuteTime": {
     "end_time": "2024-09-26T16:47:57.489315Z",
     "start_time": "2024-09-26T16:47:57.455658Z"
    }
   },
   "source": [
    "df.describe()"
   ],
   "outputs": [
    {
     "data": {
      "text/plain": [
       "       calorie requirement  average sleep duration  bill_length_mm  \\\n",
       "count           344.000000              344.000000      337.000000   \n",
       "mean           5270.002907               10.447674       45.494214   \n",
       "std            1067.959116                2.265895       10.815787   \n",
       "min            3504.000000                7.000000       32.100000   \n",
       "25%            4403.000000                9.000000       39.500000   \n",
       "50%            5106.500000               10.000000       45.100000   \n",
       "75%            6212.750000               12.000000       49.000000   \n",
       "max            7197.000000               14.000000      124.300000   \n",
       "\n",
       "       bill_depth_mm  flipper_length_mm  body_mass_g         year  \n",
       "count     333.000000         336.000000   339.000000   342.000000  \n",
       "mean       18.018318         197.764881  4175.463127  2008.035088  \n",
       "std         9.241384          27.764491   858.713267     0.816938  \n",
       "min        13.100000          10.000000   882.000000  2007.000000  \n",
       "25%        15.700000         190.000000  3550.000000  2007.000000  \n",
       "50%        17.300000         197.000000  4050.000000  2008.000000  \n",
       "75%        18.700000         213.000000  4750.000000  2009.000000  \n",
       "max       127.260000         231.000000  6300.000000  2009.000000  "
      ],
      "text/html": [
       "<div>\n",
       "<style scoped>\n",
       "    .dataframe tbody tr th:only-of-type {\n",
       "        vertical-align: middle;\n",
       "    }\n",
       "\n",
       "    .dataframe tbody tr th {\n",
       "        vertical-align: top;\n",
       "    }\n",
       "\n",
       "    .dataframe thead th {\n",
       "        text-align: right;\n",
       "    }\n",
       "</style>\n",
       "<table border=\"1\" class=\"dataframe\">\n",
       "  <thead>\n",
       "    <tr style=\"text-align: right;\">\n",
       "      <th></th>\n",
       "      <th>calorie requirement</th>\n",
       "      <th>average sleep duration</th>\n",
       "      <th>bill_length_mm</th>\n",
       "      <th>bill_depth_mm</th>\n",
       "      <th>flipper_length_mm</th>\n",
       "      <th>body_mass_g</th>\n",
       "      <th>year</th>\n",
       "    </tr>\n",
       "  </thead>\n",
       "  <tbody>\n",
       "    <tr>\n",
       "      <th>count</th>\n",
       "      <td>344.000000</td>\n",
       "      <td>344.000000</td>\n",
       "      <td>337.000000</td>\n",
       "      <td>333.000000</td>\n",
       "      <td>336.000000</td>\n",
       "      <td>339.000000</td>\n",
       "      <td>342.000000</td>\n",
       "    </tr>\n",
       "    <tr>\n",
       "      <th>mean</th>\n",
       "      <td>5270.002907</td>\n",
       "      <td>10.447674</td>\n",
       "      <td>45.494214</td>\n",
       "      <td>18.018318</td>\n",
       "      <td>197.764881</td>\n",
       "      <td>4175.463127</td>\n",
       "      <td>2008.035088</td>\n",
       "    </tr>\n",
       "    <tr>\n",
       "      <th>std</th>\n",
       "      <td>1067.959116</td>\n",
       "      <td>2.265895</td>\n",
       "      <td>10.815787</td>\n",
       "      <td>9.241384</td>\n",
       "      <td>27.764491</td>\n",
       "      <td>858.713267</td>\n",
       "      <td>0.816938</td>\n",
       "    </tr>\n",
       "    <tr>\n",
       "      <th>min</th>\n",
       "      <td>3504.000000</td>\n",
       "      <td>7.000000</td>\n",
       "      <td>32.100000</td>\n",
       "      <td>13.100000</td>\n",
       "      <td>10.000000</td>\n",
       "      <td>882.000000</td>\n",
       "      <td>2007.000000</td>\n",
       "    </tr>\n",
       "    <tr>\n",
       "      <th>25%</th>\n",
       "      <td>4403.000000</td>\n",
       "      <td>9.000000</td>\n",
       "      <td>39.500000</td>\n",
       "      <td>15.700000</td>\n",
       "      <td>190.000000</td>\n",
       "      <td>3550.000000</td>\n",
       "      <td>2007.000000</td>\n",
       "    </tr>\n",
       "    <tr>\n",
       "      <th>50%</th>\n",
       "      <td>5106.500000</td>\n",
       "      <td>10.000000</td>\n",
       "      <td>45.100000</td>\n",
       "      <td>17.300000</td>\n",
       "      <td>197.000000</td>\n",
       "      <td>4050.000000</td>\n",
       "      <td>2008.000000</td>\n",
       "    </tr>\n",
       "    <tr>\n",
       "      <th>75%</th>\n",
       "      <td>6212.750000</td>\n",
       "      <td>12.000000</td>\n",
       "      <td>49.000000</td>\n",
       "      <td>18.700000</td>\n",
       "      <td>213.000000</td>\n",
       "      <td>4750.000000</td>\n",
       "      <td>2009.000000</td>\n",
       "    </tr>\n",
       "    <tr>\n",
       "      <th>max</th>\n",
       "      <td>7197.000000</td>\n",
       "      <td>14.000000</td>\n",
       "      <td>124.300000</td>\n",
       "      <td>127.260000</td>\n",
       "      <td>231.000000</td>\n",
       "      <td>6300.000000</td>\n",
       "      <td>2009.000000</td>\n",
       "    </tr>\n",
       "  </tbody>\n",
       "</table>\n",
       "</div>"
      ]
     },
     "execution_count": 7,
     "metadata": {},
     "output_type": "execute_result"
    }
   ],
   "execution_count": 7
  },
  {
   "metadata": {
    "ExecuteTime": {
     "end_time": "2024-09-26T16:48:05.633298Z",
     "start_time": "2024-09-26T16:48:05.612307Z"
    }
   },
   "cell_type": "code",
   "source": "print(df.describe())",
   "outputs": [
    {
     "name": "stdout",
     "output_type": "stream",
     "text": [
      "       calorie requirement  average sleep duration  bill_length_mm  \\\n",
      "count           344.000000              344.000000      337.000000   \n",
      "mean           5270.002907               10.447674       45.494214   \n",
      "std            1067.959116                2.265895       10.815787   \n",
      "min            3504.000000                7.000000       32.100000   \n",
      "25%            4403.000000                9.000000       39.500000   \n",
      "50%            5106.500000               10.000000       45.100000   \n",
      "75%            6212.750000               12.000000       49.000000   \n",
      "max            7197.000000               14.000000      124.300000   \n",
      "\n",
      "       bill_depth_mm  flipper_length_mm  body_mass_g         year  \n",
      "count     333.000000         336.000000   339.000000   342.000000  \n",
      "mean       18.018318         197.764881  4175.463127  2008.035088  \n",
      "std         9.241384          27.764491   858.713267     0.816938  \n",
      "min        13.100000          10.000000   882.000000  2007.000000  \n",
      "25%        15.700000         190.000000  3550.000000  2007.000000  \n",
      "50%        17.300000         197.000000  4050.000000  2008.000000  \n",
      "75%        18.700000         213.000000  4750.000000  2009.000000  \n",
      "max       127.260000         231.000000  6300.000000  2009.000000  \n"
     ]
    }
   ],
   "execution_count": 8
  },
  {
   "cell_type": "code",
   "metadata": {
    "colab": {
     "base_uri": "https://localhost:8080/"
    },
    "id": "6fgEfitGgeWZ",
    "outputId": "46f8d6bb-b341-48d9-f872-a3548782538a",
    "ExecuteTime": {
     "end_time": "2024-09-26T16:48:14.623726Z",
     "start_time": "2024-09-26T16:48:14.602721Z"
    }
   },
   "source": "print(df.info())",
   "outputs": [
    {
     "name": "stdout",
     "output_type": "stream",
     "text": [
      "<class 'pandas.core.frame.DataFrame'>\n",
      "RangeIndex: 344 entries, 0 to 343\n",
      "Data columns (total 10 columns):\n",
      " #   Column                  Non-Null Count  Dtype  \n",
      "---  ------                  --------------  -----  \n",
      " 0   species                 333 non-null    object \n",
      " 1   island                  334 non-null    object \n",
      " 2   calorie requirement     344 non-null    int64  \n",
      " 3   average sleep duration  344 non-null    int64  \n",
      " 4   bill_length_mm          337 non-null    float64\n",
      " 5   bill_depth_mm           333 non-null    float64\n",
      " 6   flipper_length_mm       336 non-null    float64\n",
      " 7   body_mass_g             339 non-null    float64\n",
      " 8   gender                  327 non-null    object \n",
      " 9   year                    342 non-null    float64\n",
      "dtypes: float64(5), int64(2), object(3)\n",
      "memory usage: 27.0+ KB\n",
      "None\n"
     ]
    }
   ],
   "execution_count": 10
  },
  {
   "cell_type": "code",
   "metadata": {
    "id": "6J1tx_ysgg5w",
    "ExecuteTime": {
     "end_time": "2024-09-26T16:48:16.995946Z",
     "start_time": "2024-09-26T16:48:16.983946Z"
    }
   },
   "source": [
    "categorical = df.select_dtypes(include=['object']).columns\n"
   ],
   "outputs": [],
   "execution_count": 11
  },
  {
   "cell_type": "code",
   "metadata": {
    "id": "RUyVOy1JgnxI",
    "ExecuteTime": {
     "end_time": "2024-09-26T16:48:18.250949Z",
     "start_time": "2024-09-26T16:48:18.232957Z"
    }
   },
   "source": [
    "numerical = df.select_dtypes(include=['int64','float64']).columns\n"
   ],
   "outputs": [],
   "execution_count": 12
  },
  {
   "cell_type": "code",
   "metadata": {
    "colab": {
     "base_uri": "https://localhost:8080/"
    },
    "id": "MdwJ5kIkgqNN",
    "outputId": "1ea4e1db-06d3-4f6d-9f93-bc5a6bf354dc",
    "ExecuteTime": {
     "end_time": "2024-09-26T16:48:19.709152Z",
     "start_time": "2024-09-26T16:48:19.696151Z"
    }
   },
   "source": [
    "print(f\"Categorical columns: {categorical}\")\n",
    "print(f\"Numerical columns: {numerical}\")"
   ],
   "outputs": [
    {
     "name": "stdout",
     "output_type": "stream",
     "text": [
      "Categorical columns: Index(['species', 'island', 'gender'], dtype='object')\n",
      "Numerical columns: Index(['calorie requirement', 'average sleep duration', 'bill_length_mm',\n",
      "       'bill_depth_mm', 'flipper_length_mm', 'body_mass_g', 'year'],\n",
      "      dtype='object')\n"
     ]
    }
   ],
   "execution_count": 13
  },
  {
   "cell_type": "code",
   "metadata": {
    "colab": {
     "base_uri": "https://localhost:8080/",
     "height": 393
    },
    "id": "oPxt9qTdhHAM",
    "outputId": "ee133ead-4240-4cd3-8559-69bc825f2d94",
    "ExecuteTime": {
     "end_time": "2024-09-26T16:48:26.207519Z",
     "start_time": "2024-09-26T16:48:26.190978Z"
    }
   },
   "source": "print(df.isnull().sum())",
   "outputs": [
    {
     "name": "stdout",
     "output_type": "stream",
     "text": [
      "species                   11\n",
      "island                    10\n",
      "calorie requirement        0\n",
      "average sleep duration     0\n",
      "bill_length_mm             7\n",
      "bill_depth_mm             11\n",
      "flipper_length_mm          8\n",
      "body_mass_g                5\n",
      "gender                    17\n",
      "year                       2\n",
      "dtype: int64\n"
     ]
    }
   ],
   "execution_count": 14
  },
  {
   "cell_type": "markdown",
   "metadata": {
    "id": "Z3zitSmQfOgb"
   },
   "source": [
    "### Droping\n",
    "Since the null values are in less numbers, we will not execute this."
   ]
  },
  {
   "cell_type": "code",
   "metadata": {
    "colab": {
     "base_uri": "https://localhost:8080/"
    },
    "id": "vS5Cv6Zbh1rS",
    "outputId": "3141b6a2-060c-402c-a2ca-ebc9cb3cfe60",
    "ExecuteTime": {
     "end_time": "2024-09-26T16:48:28.583496Z",
     "start_time": "2024-09-26T16:48:28.574989Z"
    }
   },
   "source": [
    "print(\"Unique values in each column \",df.nunique())"
   ],
   "outputs": [
    {
     "name": "stdout",
     "output_type": "stream",
     "text": [
      "Unique values in each column  species                     8\n",
      "island                      8\n",
      "calorie requirement       333\n",
      "average sleep duration      8\n",
      "bill_length_mm            172\n",
      "bill_depth_mm              83\n",
      "flipper_length_mm          60\n",
      "body_mass_g                97\n",
      "gender                      4\n",
      "year                        3\n",
      "dtype: int64\n"
     ]
    }
   ],
   "execution_count": 15
  },
  {
   "cell_type": "code",
   "metadata": {
    "id": "74J3GusLj4vp",
    "ExecuteTime": {
     "end_time": "2024-09-26T16:48:34.165237Z",
     "start_time": "2024-09-26T16:48:34.152239Z"
    }
   },
   "source": [
    "for i in df.select_dtypes(include=['object']).columns:\n",
    "        mode_value = df[i].mode()[0]\n",
    "        df[i].fillna(mode_value,inplace=True)\n",
    "\n",
    "for i in df.select_dtypes(include=['int64','float64']).columns:\n",
    "        mean = df[i].mean()\n",
    "        df[i].fillna(math.ceil(mean),inplace=True)\n"
   ],
   "outputs": [],
   "execution_count": 16
  },
  {
   "cell_type": "code",
   "metadata": {
    "colab": {
     "base_uri": "https://localhost:8080/",
     "height": 393
    },
    "id": "d8zCpuw1j6z5",
    "outputId": "e62ac302-4342-49bc-ccdd-87055b2ea22c",
    "ExecuteTime": {
     "end_time": "2024-09-26T16:48:36.231339Z",
     "start_time": "2024-09-26T16:48:36.210658Z"
    }
   },
   "source": [
    "df.isnull().sum()"
   ],
   "outputs": [
    {
     "data": {
      "text/plain": [
       "species                   0\n",
       "island                    0\n",
       "calorie requirement       0\n",
       "average sleep duration    0\n",
       "bill_length_mm            0\n",
       "bill_depth_mm             0\n",
       "flipper_length_mm         0\n",
       "body_mass_g               0\n",
       "gender                    0\n",
       "year                      0\n",
       "dtype: int64"
      ]
     },
     "execution_count": 17,
     "metadata": {},
     "output_type": "execute_result"
    }
   ],
   "execution_count": 17
  },
  {
   "cell_type": "code",
   "metadata": {
    "colab": {
     "base_uri": "https://localhost:8080/",
     "height": 1000
    },
    "id": "7qNyW5Kij9hE",
    "outputId": "8b9f6c19-e598-4157-cf1a-b62d1432622a",
    "ExecuteTime": {
     "end_time": "2024-09-26T16:48:40.179753Z",
     "start_time": "2024-09-26T16:48:39.332107Z"
    }
   },
   "source": [
    "for c in df.select_dtypes(include=['int64','float64']).columns:\n",
    "    plt.figure(figsize=(7, 4))\n",
    "    sns.boxplot(x=df[c])\n",
    "    plt.show()"
   ],
   "outputs": [
    {
     "data": {
      "text/plain": [
       "<Figure size 504x288 with 1 Axes>"
      ],
      "image/png": "[encoded data removed]"
     },
     "metadata": {},
     "output_type": "display_data"
    },
    {
     "data": {
      "text/plain": [
       "<Figure size 504x288 with 1 Axes>"
      ],
      "image/png": "[encoded data removed]"
     },
     "metadata": {},
     "output_type": "display_data"
    },
    {
     "data": {
      "text/plain": [
       "<Figure size 504x288 with 1 Axes>"
      ],
      "image/png": "[encoded data removed]"
     },
     "metadata": {},
     "output_type": "display_data"
    },
    {
     "data": {
      "text/plain": [
       "<Figure size 504x288 with 1 Axes>"
      ],
      "image/png": "[encoded data removed]"
     },
     "metadata": {},
     "output_type": "display_data"
    },
    {
     "data": {
      "text/plain": [
       "<Figure size 504x288 with 1 Axes>"
      ],
      "image/png": "[encoded data removed]"
     },
     "metadata": {},
     "output_type": "display_data"
    },
    {
     "data": {
      "text/plain": [
       "<Figure size 504x288 with 1 Axes>"
      ],
      "image/png": "[encoded data removed]"
     },
     "metadata": {},
     "output_type": "display_data"
    },
    {
     "data": {
      "text/plain": [
       "<Figure size 504x288 with 1 Axes>"
      ],
      "image/png": "[encoded data removed]"
     },
     "metadata": {},
     "output_type": "display_data"
    }
   ],
   "execution_count": 18
  },
  {
   "cell_type": "code",
   "metadata": {
    "id": "UShuT4fAli4y",
    "ExecuteTime": {
     "end_time": "2024-09-26T16:48:44.556633Z",
     "start_time": "2024-09-26T16:48:44.510919Z"
    }
   },
   "source": [
    "df_zscore = df.copy()\n",
    "for i in df.select_dtypes(include=['int64','float64']).columns:\n",
    "  z_score_column = i + '_z-score'\n",
    "  df_zscore[z_score_column] = (df[i] - df[i].mean()) / df[i].std()\n"
   ],
   "outputs": [],
   "execution_count": 19
  },
  {
   "cell_type": "code",
   "metadata": {
    "colab": {
     "base_uri": "https://localhost:8080/",
     "height": 275
    },
    "id": "R5wgWKhKoOft",
    "outputId": "f9fd1b04-599e-4377-f746-3ebebd2c8825",
    "ExecuteTime": {
     "end_time": "2024-09-26T16:48:46.608968Z",
     "start_time": "2024-09-26T16:48:46.569953Z"
    }
   },
   "source": [
    "df_zscore.head()"
   ],
   "outputs": [
    {
     "data": {
      "text/plain": [
       "  species     island  calorie requirement  average sleep duration  \\\n",
       "0  Adelie  Torgersen                 6563                      11   \n",
       "1  Adelie  Torgersen                 4890                      14   \n",
       "2  Adelie  Torgersen                 7184                      11   \n",
       "3  Adelie  Torgersen                 4169                       8   \n",
       "4  Adelie  Torgersen                 4774                       8   \n",
       "\n",
       "   bill_length_mm  bill_depth_mm  flipper_length_mm  body_mass_g  gender  \\\n",
       "0            39.1           18.7              181.0       3750.0    male   \n",
       "1            39.5           17.4              186.0       3800.0  female   \n",
       "2            40.3           18.0              195.0       3250.0  female   \n",
       "3            46.0           19.0              198.0        992.0    male   \n",
       "4            36.7           19.3              193.0       3450.0  female   \n",
       "\n",
       "     year  calorie requirement_z-score  average sleep duration_z-score  \\\n",
       "0  2007.0                     1.210718                        0.243756   \n",
       "1  2007.0                    -0.355822                        1.567736   \n",
       "2  2007.0                     1.792201                        0.243756   \n",
       "3  2007.0                    -1.030941                       -1.080224   \n",
       "4  2007.0                    -0.464440                       -1.080224   \n",
       "\n",
       "   bill_length_mm_z-score  bill_depth_mm_z-score  flipper_length_mm_z-score  \\\n",
       "0               -0.598267               0.071511                  -0.611191   \n",
       "1               -0.560902              -0.071447                  -0.428967   \n",
       "2               -0.486171              -0.005466                  -0.100965   \n",
       "3                0.046286               0.104501                   0.008370   \n",
       "4               -0.822460               0.137491                  -0.173854   \n",
       "\n",
       "   body_mass_g_z-score  year_z-score  \n",
       "0            -0.499126     -1.272466  \n",
       "1            -0.440471     -1.272466  \n",
       "2            -1.085684     -1.272466  \n",
       "3            -3.734577     -1.272466  \n",
       "4            -0.851061     -1.272466  "
      ],
      "text/html": [
       "<div>\n",
       "<style scoped>\n",
       "    .dataframe tbody tr th:only-of-type {\n",
       "        vertical-align: middle;\n",
       "    }\n",
       "\n",
       "    .dataframe tbody tr th {\n",
       "        vertical-align: top;\n",
       "    }\n",
       "\n",
       "    .dataframe thead th {\n",
       "        text-align: right;\n",
       "    }\n",
       "</style>\n",
       "<table border=\"1\" class=\"dataframe\">\n",
       "  <thead>\n",
       "    <tr style=\"text-align: right;\">\n",
       "      <th></th>\n",
       "      <th>species</th>\n",
       "      <th>island</th>\n",
       "      <th>calorie requirement</th>\n",
       "      <th>average sleep duration</th>\n",
       "      <th>bill_length_mm</th>\n",
       "      <th>bill_depth_mm</th>\n",
       "      <th>flipper_length_mm</th>\n",
       "      <th>body_mass_g</th>\n",
       "      <th>gender</th>\n",
       "      <th>year</th>\n",
       "      <th>calorie requirement_z-score</th>\n",
       "      <th>average sleep duration_z-score</th>\n",
       "      <th>bill_length_mm_z-score</th>\n",
       "      <th>bill_depth_mm_z-score</th>\n",
       "      <th>flipper_length_mm_z-score</th>\n",
       "      <th>body_mass_g_z-score</th>\n",
       "      <th>year_z-score</th>\n",
       "    </tr>\n",
       "  </thead>\n",
       "  <tbody>\n",
       "    <tr>\n",
       "      <th>0</th>\n",
       "      <td>Adelie</td>\n",
       "      <td>Torgersen</td>\n",
       "      <td>6563</td>\n",
       "      <td>11</td>\n",
       "      <td>39.1</td>\n",
       "      <td>18.7</td>\n",
       "      <td>181.0</td>\n",
       "      <td>3750.0</td>\n",
       "      <td>male</td>\n",
       "      <td>2007.0</td>\n",
       "      <td>1.210718</td>\n",
       "      <td>0.243756</td>\n",
       "      <td>-0.598267</td>\n",
       "      <td>0.071511</td>\n",
       "      <td>-0.611191</td>\n",
       "      <td>-0.499126</td>\n",
       "      <td>-1.272466</td>\n",
       "    </tr>\n",
       "    <tr>\n",
       "      <th>1</th>\n",
       "      <td>Adelie</td>\n",
       "      <td>Torgersen</td>\n",
       "      <td>4890</td>\n",
       "      <td>14</td>\n",
       "      <td>39.5</td>\n",
       "      <td>17.4</td>\n",
       "      <td>186.0</td>\n",
       "      <td>3800.0</td>\n",
       "      <td>female</td>\n",
       "      <td>2007.0</td>\n",
       "      <td>-0.355822</td>\n",
       "      <td>1.567736</td>\n",
       "      <td>-0.560902</td>\n",
       "      <td>-0.071447</td>\n",
       "      <td>-0.428967</td>\n",
       "      <td>-0.440471</td>\n",
       "      <td>-1.272466</td>\n",
       "    </tr>\n",
       "    <tr>\n",
       "      <th>2</th>\n",
       "      <td>Adelie</td>\n",
       "      <td>Torgersen</td>\n",
       "      <td>7184</td>\n",
       "      <td>11</td>\n",
       "      <td>40.3</td>\n",
       "      <td>18.0</td>\n",
       "      <td>195.0</td>\n",
       "      <td>3250.0</td>\n",
       "      <td>female</td>\n",
       "      <td>2007.0</td>\n",
       "      <td>1.792201</td>\n",
       "      <td>0.243756</td>\n",
       "      <td>-0.486171</td>\n",
       "      <td>-0.005466</td>\n",
       "      <td>-0.100965</td>\n",
       "      <td>-1.085684</td>\n",
       "      <td>-1.272466</td>\n",
       "    </tr>\n",
       "    <tr>\n",
       "      <th>3</th>\n",
       "      <td>Adelie</td>\n",
       "      <td>Torgersen</td>\n",
       "      <td>4169</td>\n",
       "      <td>8</td>\n",
       "      <td>46.0</td>\n",
       "      <td>19.0</td>\n",
       "      <td>198.0</td>\n",
       "      <td>992.0</td>\n",
       "      <td>male</td>\n",
       "      <td>2007.0</td>\n",
       "      <td>-1.030941</td>\n",
       "      <td>-1.080224</td>\n",
       "      <td>0.046286</td>\n",
       "      <td>0.104501</td>\n",
       "      <td>0.008370</td>\n",
       "      <td>-3.734577</td>\n",
       "      <td>-1.272466</td>\n",
       "    </tr>\n",
       "    <tr>\n",
       "      <th>4</th>\n",
       "      <td>Adelie</td>\n",
       "      <td>Torgersen</td>\n",
       "      <td>4774</td>\n",
       "      <td>8</td>\n",
       "      <td>36.7</td>\n",
       "      <td>19.3</td>\n",
       "      <td>193.0</td>\n",
       "      <td>3450.0</td>\n",
       "      <td>female</td>\n",
       "      <td>2007.0</td>\n",
       "      <td>-0.464440</td>\n",
       "      <td>-1.080224</td>\n",
       "      <td>-0.822460</td>\n",
       "      <td>0.137491</td>\n",
       "      <td>-0.173854</td>\n",
       "      <td>-0.851061</td>\n",
       "      <td>-1.272466</td>\n",
       "    </tr>\n",
       "  </tbody>\n",
       "</table>\n",
       "</div>"
      ]
     },
     "execution_count": 20,
     "metadata": {},
     "output_type": "execute_result"
    }
   ],
   "execution_count": 20
  },
  {
   "cell_type": "code",
   "metadata": {
    "colab": {
     "base_uri": "https://localhost:8080/"
    },
    "id": "GA6sMpmhrgIR",
    "outputId": "a4911859-32ca-4dbe-f7f4-e8cd6e20314c",
    "ExecuteTime": {
     "end_time": "2024-09-26T16:48:54.891680Z",
     "start_time": "2024-09-26T16:48:54.873694Z"
    }
   },
   "source": [
    "for i in df_zscore.columns[df_zscore.columns.str.endswith('_z-score')]:\n",
    "    outliers = df_zscore[df_zscore[i] > 3]\n",
    "    print(f\"Number of outliers in {i}: {len(outliers)}\")\n"
   ],
   "outputs": [
    {
     "name": "stdout",
     "output_type": "stream",
     "text": [
      "Number of outliers in calorie requirement_z-score: 0\n",
      "Number of outliers in average sleep duration_z-score: 0\n",
      "Number of outliers in bill_length_mm_z-score: 9\n",
      "Number of outliers in bill_depth_mm_z-score: 3\n",
      "Number of outliers in flipper_length_mm_z-score: 0\n",
      "Number of outliers in body_mass_g_z-score: 0\n",
      "Number of outliers in year_z-score: 0\n"
     ]
    }
   ],
   "execution_count": 21
  },
  {
   "cell_type": "code",
   "metadata": {
    "colab": {
     "base_uri": "https://localhost:8080/",
     "height": 382
    },
    "id": "2c3SANfru773",
    "outputId": "59ff659c-ed31-45e0-e009-1939ce28983c",
    "ExecuteTime": {
     "end_time": "2024-09-26T16:48:58.029856Z",
     "start_time": "2024-09-26T16:48:57.998704Z"
    }
   },
   "source": [
    "df.loc[df_zscore['bill_length_mm_z-score'] > 3].head(10)\n"
   ],
   "outputs": [
    {
     "data": {
      "text/plain": [
       "       species     island  calorie requirement  average sleep duration  \\\n",
       "17      adelie  Torgersen                 6543                       8   \n",
       "21      Adelie     Biscoe                 4138                       8   \n",
       "72      Adelie  torgersen                 3955                      12   \n",
       "92      Adelie      Dream                 4612                      12   \n",
       "147     Adelie     Biscoe                 6356                      10   \n",
       "210     gentoo     Biscoe                 4985                      11   \n",
       "279  CHINSTRAP     Biscoe                 5337                       9   \n",
       "322  Chinstrap      Dream                 3802                       9   \n",
       "335  chinstrap      DREAM                 7195                      13   \n",
       "\n",
       "     bill_length_mm  bill_depth_mm  flipper_length_mm  body_mass_g  gender  \\\n",
       "17            82.40           20.7              197.0       4500.0    male   \n",
       "21            82.47           18.7              180.0       3600.0    male   \n",
       "72           119.89           17.2              196.0       4176.0    male   \n",
       "92            81.10           17.1               27.0       3400.0  female   \n",
       "147          124.30           18.4              184.0       3475.0    male   \n",
       "210           90.30           14.5              208.0       4450.0  female   \n",
       "279          116.67           18.7              198.0       3525.0  female   \n",
       "322           83.27           17.9               19.0       3400.0  female   \n",
       "335          112.75           19.4              194.0       3525.0  female   \n",
       "\n",
       "       year  \n",
       "17   2007.0  \n",
       "21   2007.0  \n",
       "72   2008.0  \n",
       "92   2008.0  \n",
       "147  2009.0  \n",
       "210  2008.0  \n",
       "279  2007.0  \n",
       "322  2009.0  \n",
       "335  2009.0  "
      ],
      "text/html": [
       "<div>\n",
       "<style scoped>\n",
       "    .dataframe tbody tr th:only-of-type {\n",
       "        vertical-align: middle;\n",
       "    }\n",
       "\n",
       "    .dataframe tbody tr th {\n",
       "        vertical-align: top;\n",
       "    }\n",
       "\n",
       "    .dataframe thead th {\n",
       "        text-align: right;\n",
       "    }\n",
       "</style>\n",
       "<table border=\"1\" class=\"dataframe\">\n",
       "  <thead>\n",
       "    <tr style=\"text-align: right;\">\n",
       "      <th></th>\n",
       "      <th>species</th>\n",
       "      <th>island</th>\n",
       "      <th>calorie requirement</th>\n",
       "      <th>average sleep duration</th>\n",
       "      <th>bill_length_mm</th>\n",
       "      <th>bill_depth_mm</th>\n",
       "      <th>flipper_length_mm</th>\n",
       "      <th>body_mass_g</th>\n",
       "      <th>gender</th>\n",
       "      <th>year</th>\n",
       "    </tr>\n",
       "  </thead>\n",
       "  <tbody>\n",
       "    <tr>\n",
       "      <th>17</th>\n",
       "      <td>adelie</td>\n",
       "      <td>Torgersen</td>\n",
       "      <td>6543</td>\n",
       "      <td>8</td>\n",
       "      <td>82.40</td>\n",
       "      <td>20.7</td>\n",
       "      <td>197.0</td>\n",
       "      <td>4500.0</td>\n",
       "      <td>male</td>\n",
       "      <td>2007.0</td>\n",
       "    </tr>\n",
       "    <tr>\n",
       "      <th>21</th>\n",
       "      <td>Adelie</td>\n",
       "      <td>Biscoe</td>\n",
       "      <td>4138</td>\n",
       "      <td>8</td>\n",
       "      <td>82.47</td>\n",
       "      <td>18.7</td>\n",
       "      <td>180.0</td>\n",
       "      <td>3600.0</td>\n",
       "      <td>male</td>\n",
       "      <td>2007.0</td>\n",
       "    </tr>\n",
       "    <tr>\n",
       "      <th>72</th>\n",
       "      <td>Adelie</td>\n",
       "      <td>torgersen</td>\n",
       "      <td>3955</td>\n",
       "      <td>12</td>\n",
       "      <td>119.89</td>\n",
       "      <td>17.2</td>\n",
       "      <td>196.0</td>\n",
       "      <td>4176.0</td>\n",
       "      <td>male</td>\n",
       "      <td>2008.0</td>\n",
       "    </tr>\n",
       "    <tr>\n",
       "      <th>92</th>\n",
       "      <td>Adelie</td>\n",
       "      <td>Dream</td>\n",
       "      <td>4612</td>\n",
       "      <td>12</td>\n",
       "      <td>81.10</td>\n",
       "      <td>17.1</td>\n",
       "      <td>27.0</td>\n",
       "      <td>3400.0</td>\n",
       "      <td>female</td>\n",
       "      <td>2008.0</td>\n",
       "    </tr>\n",
       "    <tr>\n",
       "      <th>147</th>\n",
       "      <td>Adelie</td>\n",
       "      <td>Biscoe</td>\n",
       "      <td>6356</td>\n",
       "      <td>10</td>\n",
       "      <td>124.30</td>\n",
       "      <td>18.4</td>\n",
       "      <td>184.0</td>\n",
       "      <td>3475.0</td>\n",
       "      <td>male</td>\n",
       "      <td>2009.0</td>\n",
       "    </tr>\n",
       "    <tr>\n",
       "      <th>210</th>\n",
       "      <td>gentoo</td>\n",
       "      <td>Biscoe</td>\n",
       "      <td>4985</td>\n",
       "      <td>11</td>\n",
       "      <td>90.30</td>\n",
       "      <td>14.5</td>\n",
       "      <td>208.0</td>\n",
       "      <td>4450.0</td>\n",
       "      <td>female</td>\n",
       "      <td>2008.0</td>\n",
       "    </tr>\n",
       "    <tr>\n",
       "      <th>279</th>\n",
       "      <td>CHINSTRAP</td>\n",
       "      <td>Biscoe</td>\n",
       "      <td>5337</td>\n",
       "      <td>9</td>\n",
       "      <td>116.67</td>\n",
       "      <td>18.7</td>\n",
       "      <td>198.0</td>\n",
       "      <td>3525.0</td>\n",
       "      <td>female</td>\n",
       "      <td>2007.0</td>\n",
       "    </tr>\n",
       "    <tr>\n",
       "      <th>322</th>\n",
       "      <td>Chinstrap</td>\n",
       "      <td>Dream</td>\n",
       "      <td>3802</td>\n",
       "      <td>9</td>\n",
       "      <td>83.27</td>\n",
       "      <td>17.9</td>\n",
       "      <td>19.0</td>\n",
       "      <td>3400.0</td>\n",
       "      <td>female</td>\n",
       "      <td>2009.0</td>\n",
       "    </tr>\n",
       "    <tr>\n",
       "      <th>335</th>\n",
       "      <td>chinstrap</td>\n",
       "      <td>DREAM</td>\n",
       "      <td>7195</td>\n",
       "      <td>13</td>\n",
       "      <td>112.75</td>\n",
       "      <td>19.4</td>\n",
       "      <td>194.0</td>\n",
       "      <td>3525.0</td>\n",
       "      <td>female</td>\n",
       "      <td>2009.0</td>\n",
       "    </tr>\n",
       "  </tbody>\n",
       "</table>\n",
       "</div>"
      ]
     },
     "execution_count": 22,
     "metadata": {},
     "output_type": "execute_result"
    }
   ],
   "execution_count": 22
  },
  {
   "cell_type": "code",
   "metadata": {
    "colab": {
     "base_uri": "https://localhost:8080/",
     "height": 196
    },
    "id": "Tg3FEqxavaIa",
    "outputId": "591f0279-9d47-4d6a-8551-7a67a0c1e990",
    "ExecuteTime": {
     "end_time": "2024-09-26T16:49:01.000016Z",
     "start_time": "2024-09-26T16:49:00.977488Z"
    }
   },
   "source": [
    "df.loc[df_zscore['bill_depth_mm_z-score'] > 3].head(10)\n"
   ],
   "outputs": [
    {
     "data": {
      "text/plain": [
       "    species     island  calorie requirement  average sleep duration  \\\n",
       "36   Adelie      Dream                 3758                       7   \n",
       "116  Adelie  Torgersen                 5580                      12   \n",
       "161  gentoo     biscoe                 4743                      12   \n",
       "\n",
       "     bill_length_mm  bill_depth_mm  flipper_length_mm  body_mass_g  gender  \\\n",
       "36             38.8          89.21              190.0       3950.0    male   \n",
       "116            46.0         117.23              188.0       2900.0  FEMALE   \n",
       "161            46.8         127.26              215.0       5150.0    male   \n",
       "\n",
       "       year  \n",
       "36   2007.0  \n",
       "116  2009.0  \n",
       "161  2007.0  "
      ],
      "text/html": [
       "<div>\n",
       "<style scoped>\n",
       "    .dataframe tbody tr th:only-of-type {\n",
       "        vertical-align: middle;\n",
       "    }\n",
       "\n",
       "    .dataframe tbody tr th {\n",
       "        vertical-align: top;\n",
       "    }\n",
       "\n",
       "    .dataframe thead th {\n",
       "        text-align: right;\n",
       "    }\n",
       "</style>\n",
       "<table border=\"1\" class=\"dataframe\">\n",
       "  <thead>\n",
       "    <tr style=\"text-align: right;\">\n",
       "      <th></th>\n",
       "      <th>species</th>\n",
       "      <th>island</th>\n",
       "      <th>calorie requirement</th>\n",
       "      <th>average sleep duration</th>\n",
       "      <th>bill_length_mm</th>\n",
       "      <th>bill_depth_mm</th>\n",
       "      <th>flipper_length_mm</th>\n",
       "      <th>body_mass_g</th>\n",
       "      <th>gender</th>\n",
       "      <th>year</th>\n",
       "    </tr>\n",
       "  </thead>\n",
       "  <tbody>\n",
       "    <tr>\n",
       "      <th>36</th>\n",
       "      <td>Adelie</td>\n",
       "      <td>Dream</td>\n",
       "      <td>3758</td>\n",
       "      <td>7</td>\n",
       "      <td>38.8</td>\n",
       "      <td>89.21</td>\n",
       "      <td>190.0</td>\n",
       "      <td>3950.0</td>\n",
       "      <td>male</td>\n",
       "      <td>2007.0</td>\n",
       "    </tr>\n",
       "    <tr>\n",
       "      <th>116</th>\n",
       "      <td>Adelie</td>\n",
       "      <td>Torgersen</td>\n",
       "      <td>5580</td>\n",
       "      <td>12</td>\n",
       "      <td>46.0</td>\n",
       "      <td>117.23</td>\n",
       "      <td>188.0</td>\n",
       "      <td>2900.0</td>\n",
       "      <td>FEMALE</td>\n",
       "      <td>2009.0</td>\n",
       "    </tr>\n",
       "    <tr>\n",
       "      <th>161</th>\n",
       "      <td>gentoo</td>\n",
       "      <td>biscoe</td>\n",
       "      <td>4743</td>\n",
       "      <td>12</td>\n",
       "      <td>46.8</td>\n",
       "      <td>127.26</td>\n",
       "      <td>215.0</td>\n",
       "      <td>5150.0</td>\n",
       "      <td>male</td>\n",
       "      <td>2007.0</td>\n",
       "    </tr>\n",
       "  </tbody>\n",
       "</table>\n",
       "</div>"
      ]
     },
     "execution_count": 23,
     "metadata": {},
     "output_type": "execute_result"
    }
   ],
   "execution_count": 23
  },
  {
   "cell_type": "code",
   "metadata": {
    "id": "iXtI_r7evxgl",
    "ExecuteTime": {
     "end_time": "2024-09-26T16:49:02.818422Z",
     "start_time": "2024-09-26T16:49:02.812416Z"
    }
   },
   "source": [
    "df_zscore = df_zscore.drop(df_zscore.loc[df_zscore['bill_length_mm_z-score'] > 3].index)\n",
    "df_zscore = df_zscore.drop(df_zscore.loc[df_zscore['bill_depth_mm_z-score'] > 3].index)"
   ],
   "outputs": [],
   "execution_count": 24
  },
  {
   "cell_type": "code",
   "metadata": {
    "colab": {
     "base_uri": "https://localhost:8080/"
    },
    "id": "VaM3Pocev0Rq",
    "outputId": "657d3a2f-c756-41ec-9d39-646251c46b16",
    "ExecuteTime": {
     "end_time": "2024-09-26T16:49:04.883165Z",
     "start_time": "2024-09-26T16:49:04.871173Z"
    }
   },
   "source": [
    "for i in df_zscore.columns[df_zscore.columns.str.endswith('_z-score')]:\n",
    "    outliers = df_zscore[df_zscore[i] > 3]\n",
    "    print(f\"Number of outliers in {i}: {len(outliers)}\")"
   ],
   "outputs": [
    {
     "name": "stdout",
     "output_type": "stream",
     "text": [
      "Number of outliers in calorie requirement_z-score: 0\n",
      "Number of outliers in average sleep duration_z-score: 0\n",
      "Number of outliers in bill_length_mm_z-score: 0\n",
      "Number of outliers in bill_depth_mm_z-score: 0\n",
      "Number of outliers in flipper_length_mm_z-score: 0\n",
      "Number of outliers in body_mass_g_z-score: 0\n",
      "Number of outliers in year_z-score: 0\n"
     ]
    }
   ],
   "execution_count": 25
  },
  {
   "cell_type": "code",
   "metadata": {
    "id": "sPm2Ee8cv24A",
    "ExecuteTime": {
     "end_time": "2024-09-26T16:49:07.733752Z",
     "start_time": "2024-09-26T16:49:07.726733Z"
    }
   },
   "source": [
    "df_zscore = df_zscore.drop(columns=[col for col in df_zscore.columns if col.endswith('_z-score')])"
   ],
   "outputs": [],
   "execution_count": 26
  },
  {
   "cell_type": "code",
   "metadata": {
    "colab": {
     "base_uri": "https://localhost:8080/",
     "height": 238
    },
    "id": "Ucww4Cj9v9r7",
    "outputId": "8866c3e2-328c-499a-a989-1a0635c0254f",
    "ExecuteTime": {
     "end_time": "2024-09-26T16:49:10.443760Z",
     "start_time": "2024-09-26T16:49:10.429748Z"
    }
   },
   "source": [
    "df_zscore.head()"
   ],
   "outputs": [
    {
     "data": {
      "text/plain": [
       "  species     island  calorie requirement  average sleep duration  \\\n",
       "0  Adelie  Torgersen                 6563                      11   \n",
       "1  Adelie  Torgersen                 4890                      14   \n",
       "2  Adelie  Torgersen                 7184                      11   \n",
       "3  Adelie  Torgersen                 4169                       8   \n",
       "4  Adelie  Torgersen                 4774                       8   \n",
       "\n",
       "   bill_length_mm  bill_depth_mm  flipper_length_mm  body_mass_g  gender  \\\n",
       "0            39.1           18.7              181.0       3750.0    male   \n",
       "1            39.5           17.4              186.0       3800.0  female   \n",
       "2            40.3           18.0              195.0       3250.0  female   \n",
       "3            46.0           19.0              198.0        992.0    male   \n",
       "4            36.7           19.3              193.0       3450.0  female   \n",
       "\n",
       "     year  \n",
       "0  2007.0  \n",
       "1  2007.0  \n",
       "2  2007.0  \n",
       "3  2007.0  \n",
       "4  2007.0  "
      ],
      "text/html": [
       "<div>\n",
       "<style scoped>\n",
       "    .dataframe tbody tr th:only-of-type {\n",
       "        vertical-align: middle;\n",
       "    }\n",
       "\n",
       "    .dataframe tbody tr th {\n",
       "        vertical-align: top;\n",
       "    }\n",
       "\n",
       "    .dataframe thead th {\n",
       "        text-align: right;\n",
       "    }\n",
       "</style>\n",
       "<table border=\"1\" class=\"dataframe\">\n",
       "  <thead>\n",
       "    <tr style=\"text-align: right;\">\n",
       "      <th></th>\n",
       "      <th>species</th>\n",
       "      <th>island</th>\n",
       "      <th>calorie requirement</th>\n",
       "      <th>average sleep duration</th>\n",
       "      <th>bill_length_mm</th>\n",
       "      <th>bill_depth_mm</th>\n",
       "      <th>flipper_length_mm</th>\n",
       "      <th>body_mass_g</th>\n",
       "      <th>gender</th>\n",
       "      <th>year</th>\n",
       "    </tr>\n",
       "  </thead>\n",
       "  <tbody>\n",
       "    <tr>\n",
       "      <th>0</th>\n",
       "      <td>Adelie</td>\n",
       "      <td>Torgersen</td>\n",
       "      <td>6563</td>\n",
       "      <td>11</td>\n",
       "      <td>39.1</td>\n",
       "      <td>18.7</td>\n",
       "      <td>181.0</td>\n",
       "      <td>3750.0</td>\n",
       "      <td>male</td>\n",
       "      <td>2007.0</td>\n",
       "    </tr>\n",
       "    <tr>\n",
       "      <th>1</th>\n",
       "      <td>Adelie</td>\n",
       "      <td>Torgersen</td>\n",
       "      <td>4890</td>\n",
       "      <td>14</td>\n",
       "      <td>39.5</td>\n",
       "      <td>17.4</td>\n",
       "      <td>186.0</td>\n",
       "      <td>3800.0</td>\n",
       "      <td>female</td>\n",
       "      <td>2007.0</td>\n",
       "    </tr>\n",
       "    <tr>\n",
       "      <th>2</th>\n",
       "      <td>Adelie</td>\n",
       "      <td>Torgersen</td>\n",
       "      <td>7184</td>\n",
       "      <td>11</td>\n",
       "      <td>40.3</td>\n",
       "      <td>18.0</td>\n",
       "      <td>195.0</td>\n",
       "      <td>3250.0</td>\n",
       "      <td>female</td>\n",
       "      <td>2007.0</td>\n",
       "    </tr>\n",
       "    <tr>\n",
       "      <th>3</th>\n",
       "      <td>Adelie</td>\n",
       "      <td>Torgersen</td>\n",
       "      <td>4169</td>\n",
       "      <td>8</td>\n",
       "      <td>46.0</td>\n",
       "      <td>19.0</td>\n",
       "      <td>198.0</td>\n",
       "      <td>992.0</td>\n",
       "      <td>male</td>\n",
       "      <td>2007.0</td>\n",
       "    </tr>\n",
       "    <tr>\n",
       "      <th>4</th>\n",
       "      <td>Adelie</td>\n",
       "      <td>Torgersen</td>\n",
       "      <td>4774</td>\n",
       "      <td>8</td>\n",
       "      <td>36.7</td>\n",
       "      <td>19.3</td>\n",
       "      <td>193.0</td>\n",
       "      <td>3450.0</td>\n",
       "      <td>female</td>\n",
       "      <td>2007.0</td>\n",
       "    </tr>\n",
       "  </tbody>\n",
       "</table>\n",
       "</div>"
      ]
     },
     "execution_count": 27,
     "metadata": {},
     "output_type": "execute_result"
    }
   ],
   "execution_count": 27
  },
  {
   "cell_type": "code",
   "metadata": {
    "id": "JukI5i7lwAQ5",
    "ExecuteTime": {
     "end_time": "2024-09-26T16:49:13.047031Z",
     "start_time": "2024-09-26T16:49:13.041518Z"
    }
   },
   "source": [
    "df_outlier_free = df_zscore.copy()"
   ],
   "outputs": [],
   "execution_count": 28
  },
  {
   "cell_type": "code",
   "metadata": {
    "colab": {
     "base_uri": "https://localhost:8080/"
    },
    "id": "lQj2NYEux05I",
    "outputId": "cf0a1383-e94b-43c0-c03d-970b8e608d37",
    "ExecuteTime": {
     "end_time": "2024-09-26T16:49:14.704376Z",
     "start_time": "2024-09-26T16:49:14.684385Z"
    }
   },
   "source": [
    "df_outlier_free.shape"
   ],
   "outputs": [
    {
     "data": {
      "text/plain": [
       "(332, 10)"
      ]
     },
     "execution_count": 29,
     "metadata": {},
     "output_type": "execute_result"
    }
   ],
   "execution_count": 29
  },
  {
   "cell_type": "code",
   "metadata": {
    "id": "NVr7xS2Pyyqt",
    "ExecuteTime": {
     "end_time": "2024-09-26T16:49:18.706702Z",
     "start_time": "2024-09-26T16:49:18.693699Z"
    }
   },
   "source": [
    "df_outlier_free['species']=df_outlier_free['species'].str.upper()"
   ],
   "outputs": [],
   "execution_count": 30
  },
  {
   "cell_type": "code",
   "metadata": {
    "id": "htxWHgspzAgm",
    "ExecuteTime": {
     "end_time": "2024-09-26T16:49:19.855579Z",
     "start_time": "2024-09-26T16:49:19.846068Z"
    }
   },
   "source": [
    "df_outlier_free['island']=df_outlier_free['island'].str.upper()"
   ],
   "outputs": [],
   "execution_count": 31
  },
  {
   "metadata": {
    "ExecuteTime": {
     "end_time": "2024-09-26T17:02:29.887727Z",
     "start_time": "2024-09-26T17:02:28.865351Z"
    }
   },
   "cell_type": "code",
   "source": [
    "# finding correlation between target variable and numerical variables \n",
    "df_correlation = df_outlier_free.copy()\n",
    "df_correlation['gender'] = df_correlation['gender'].apply(lambda x: 1 if x.lower() == 'male' else 0)\n",
    "columnOrder = [x for x in df_correlation.columns if x != \"gender\"] + [\"gender\"]\n",
    "df_correlation = df_correlation[columnOrder]\n",
    "correlation_matrix = df_correlation.corr()\n",
    "plt.figure(figsize=(16, 16))\n",
    "\n",
    "sns.heatmap(correlation_matrix, \n",
    "            annot=True,        \n",
    "            cmap='cool',  \n",
    "            vmin=0, vmax=1,  \n",
    "            linewidths=0.5,  \n",
    "            square=True,\n",
    "            fmt='.3f')    \n",
    "plt.xticks(rotation=45, ha='right') \n",
    "# plt.tight_layout()\n",
    "plt.title('Correlation Matrix Heatmap')\n",
    "plt.show()"
   ],
   "outputs": [
    {
     "data": {
      "text/plain": [
       "<Figure size 1152x1152 with 2 Axes>"
      ],
      "image/png": "[encoded data removed]"
     },
     "metadata": {},
     "output_type": "display_data"
    }
   ],
   "execution_count": 38
  },
  {
   "cell_type": "code",
   "metadata": {
    "id": "1eTJrPdGx2uf",
    "ExecuteTime": {
     "end_time": "2024-09-26T17:03:07.323176Z",
     "start_time": "2024-09-26T17:03:07.318175Z"
    }
   },
   "source": [
    "# Reference : gishnuma_assignmen0_final.ipnb\n",
    "df_groupby_species = df_outlier_free.groupby('species').size()"
   ],
   "outputs": [],
   "execution_count": 39
  },
  {
   "cell_type": "code",
   "metadata": {
    "colab": {
     "base_uri": "https://localhost:8080/",
     "height": 533
    },
    "id": "LjiQ5rcLx75y",
    "outputId": "6b81b8e7-6400-4a6f-934f-37041fd465cf",
    "ExecuteTime": {
     "end_time": "2024-09-26T17:03:14.790822Z",
     "start_time": "2024-09-26T17:03:14.579347Z"
    }
   },
   "source": [
    "plt.bar(df_groupby_species.index,df_groupby_species.values)\n",
    "plt.xlabel('Species')\n",
    "plt.ylabel('Penguins Count')\n",
    "plt.title('Total number of penguins per species')\n",
    "plt.xticks(rotation=60)\n",
    "plt.show()"
   ],
   "outputs": [
    {
     "data": {
      "text/plain": [
       "<Figure size 432x288 with 1 Axes>"
      ],
      "image/png": "[encoded data removed]"
     },
     "metadata": {},
     "output_type": "display_data"
    }
   ],
   "execution_count": 41
  },
  {
   "cell_type": "code",
   "metadata": {
    "colab": {
     "base_uri": "https://localhost:8080/",
     "height": 521
    },
    "id": "dS9ThenG0Bm8",
    "outputId": "59042e5b-2f8d-477e-b671-1c081f9dbfeb",
    "ExecuteTime": {
     "end_time": "2024-09-26T17:03:16.692391Z",
     "start_time": "2024-09-26T17:03:16.590123Z"
    }
   },
   "source": [
    "island_counts = df_outlier_free['island'].value_counts().sort_values(ascending=False)\n",
    "\n",
    "# Create the pie chart\n",
    "plt.figure(figsize=(8, 6))\n",
    "plt.pie(island_counts, labels=island_counts.index, autopct=\"%1.1f%%\")\n",
    "plt.title(\"Distribution of Penguins by Island\")\n",
    "plt.show()"
   ],
   "outputs": [
    {
     "data": {
      "text/plain": [
       "<Figure size 576x432 with 1 Axes>"
      ],
      "image/png": "[encoded data removed]"
     },
     "metadata": {},
     "output_type": "display_data"
    }
   ],
   "execution_count": 42
  },
  {
   "cell_type": "code",
   "metadata": {
    "colab": {
     "base_uri": "https://localhost:8080/",
     "height": 564
    },
    "id": "g4-eL8mh0utF",
    "outputId": "f90eca76-dfca-43ef-db12-fc0f15f950bc",
    "ExecuteTime": {
     "end_time": "2024-09-26T17:03:18.839373Z",
     "start_time": "2024-09-26T17:03:18.672380Z"
    }
   },
   "source": [
    "plt.figure(figsize=(8, 6))\n",
    "plt.scatter(df_outlier_free[\"bill_length_mm\"], df_outlier_free[\"bill_depth_mm\"])\n",
    "plt.xlabel(\"Bill Length (mm)\")\n",
    "plt.ylabel(\"Bill Depth (mm)\")\n",
    "plt.title(\"Relationship Between Bill Length and Bill Depth\")\n",
    "plt.grid(True)\n",
    "plt.show()"
   ],
   "outputs": [
    {
     "data": {
      "text/plain": [
       "<Figure size 576x432 with 1 Axes>"
      ],
      "image/png": "[encoded data removed]"
     },
     "metadata": {},
     "output_type": "display_data"
    }
   ],
   "execution_count": 43
  },
  {
   "cell_type": "code",
   "metadata": {
    "colab": {
     "base_uri": "https://localhost:8080/",
     "height": 564
    },
    "id": "XkfjC9yH0zRM",
    "outputId": "7cb424b0-f6c9-4c14-f9cd-0cfd3bb4f193",
    "ExecuteTime": {
     "end_time": "2024-09-26T17:03:20.916252Z",
     "start_time": "2024-09-26T17:03:20.781376Z"
    }
   },
   "source": [
    "avg_sleep_by_species = df_outlier_free.groupby('species')['average sleep duration'].mean()\n",
    "\n",
    "# Bar graph for average sleep duration by species\n",
    "plt.figure(figsize=(8, 6))\n",
    "plt.bar(avg_sleep_by_species.index, avg_sleep_by_species.values)\n",
    "plt.xlabel(\"Species\")\n",
    "plt.ylabel(\"Average Sleep Duration (hours)\")\n",
    "plt.title(\"Average Sleep Duration by Species\")\n",
    "plt.grid(axis='y')\n",
    "plt.show()"
   ],
   "outputs": [
    {
     "data": {
      "text/plain": [
       "<Figure size 576x432 with 1 Axes>"
      ],
      "image/png": "[encoded data removed]"
     },
     "metadata": {},
     "output_type": "display_data"
    }
   ],
   "execution_count": 44
  },
  {
   "cell_type": "code",
   "metadata": {
    "id": "Vh5UlqdU1qIv",
    "ExecuteTime": {
     "end_time": "2024-09-26T17:03:23.375487Z",
     "start_time": "2024-09-26T17:03:23.360489Z"
    }
   },
   "source": [
    "df_outlier_free.to_csv('penguins_cleaned_itr1.csv',index=False)"
   ],
   "outputs": [],
   "execution_count": 45
  },
  {
   "cell_type": "markdown",
   "metadata": {
    "id": "-FJIS_sU-TOW"
   },
   "source": [
    "We will take gender as the target. therefore dropping it before we conduct encoding"
   ]
  },
  {
   "cell_type": "code",
   "metadata": {
    "id": "GWRSGw0K-Isg",
    "ExecuteTime": {
     "end_time": "2024-09-26T17:03:25.746837Z",
     "start_time": "2024-09-26T17:03:25.731407Z"
    }
   },
   "source": [
    "categorical_columns=categorical.drop('gender')"
   ],
   "outputs": [],
   "execution_count": 46
  },
  {
   "cell_type": "code",
   "metadata": {
    "id": "VfYj1DWc1_a_",
    "ExecuteTime": {
     "end_time": "2024-09-26T17:03:38.806333Z",
     "start_time": "2024-09-26T17:03:38.789324Z"
    }
   },
   "source": [
    "df_encoded = pd.get_dummies(df_outlier_free, columns=categorical_columns)"
   ],
   "outputs": [],
   "execution_count": 47
  },
  {
   "cell_type": "code",
   "metadata": {
    "colab": {
     "base_uri": "https://localhost:8080/",
     "height": 258
    },
    "id": "74bY2t0m2Fah",
    "outputId": "0ff9c789-f893-418e-a2d0-01f31c54af62",
    "ExecuteTime": {
     "end_time": "2024-09-26T17:03:40.203187Z",
     "start_time": "2024-09-26T17:03:40.180169Z"
    }
   },
   "source": [
    "df_encoded.head()"
   ],
   "outputs": [
    {
     "data": {
      "text/plain": [
       "   calorie requirement  average sleep duration  bill_length_mm  bill_depth_mm  \\\n",
       "0                 6563                      11            39.1           18.7   \n",
       "1                 4890                      14            39.5           17.4   \n",
       "2                 7184                      11            40.3           18.0   \n",
       "3                 4169                       8            46.0           19.0   \n",
       "4                 4774                       8            36.7           19.3   \n",
       "\n",
       "   flipper_length_mm  body_mass_g  gender    year  species_ADELIE  \\\n",
       "0              181.0       3750.0    male  2007.0               1   \n",
       "1              186.0       3800.0  female  2007.0               1   \n",
       "2              195.0       3250.0  female  2007.0               1   \n",
       "3              198.0        992.0    male  2007.0               1   \n",
       "4              193.0       3450.0  female  2007.0               1   \n",
       "\n",
       "   species_CHINSTRAP  species_GENTOO  island_BISCOE  island_DREAM  \\\n",
       "0                  0               0              0             0   \n",
       "1                  0               0              0             0   \n",
       "2                  0               0              0             0   \n",
       "3                  0               0              0             0   \n",
       "4                  0               0              0             0   \n",
       "\n",
       "   island_TORGERSEN  \n",
       "0                 1  \n",
       "1                 1  \n",
       "2                 1  \n",
       "3                 1  \n",
       "4                 1  "
      ],
      "text/html": [
       "<div>\n",
       "<style scoped>\n",
       "    .dataframe tbody tr th:only-of-type {\n",
       "        vertical-align: middle;\n",
       "    }\n",
       "\n",
       "    .dataframe tbody tr th {\n",
       "        vertical-align: top;\n",
       "    }\n",
       "\n",
       "    .dataframe thead th {\n",
       "        text-align: right;\n",
       "    }\n",
       "</style>\n",
       "<table border=\"1\" class=\"dataframe\">\n",
       "  <thead>\n",
       "    <tr style=\"text-align: right;\">\n",
       "      <th></th>\n",
       "      <th>calorie requirement</th>\n",
       "      <th>average sleep duration</th>\n",
       "      <th>bill_length_mm</th>\n",
       "      <th>bill_depth_mm</th>\n",
       "      <th>flipper_length_mm</th>\n",
       "      <th>body_mass_g</th>\n",
       "      <th>gender</th>\n",
       "      <th>year</th>\n",
       "      <th>species_ADELIE</th>\n",
       "      <th>species_CHINSTRAP</th>\n",
       "      <th>species_GENTOO</th>\n",
       "      <th>island_BISCOE</th>\n",
       "      <th>island_DREAM</th>\n",
       "      <th>island_TORGERSEN</th>\n",
       "    </tr>\n",
       "  </thead>\n",
       "  <tbody>\n",
       "    <tr>\n",
       "      <th>0</th>\n",
       "      <td>6563</td>\n",
       "      <td>11</td>\n",
       "      <td>39.1</td>\n",
       "      <td>18.7</td>\n",
       "      <td>181.0</td>\n",
       "      <td>3750.0</td>\n",
       "      <td>male</td>\n",
       "      <td>2007.0</td>\n",
       "      <td>1</td>\n",
       "      <td>0</td>\n",
       "      <td>0</td>\n",
       "      <td>0</td>\n",
       "      <td>0</td>\n",
       "      <td>1</td>\n",
       "    </tr>\n",
       "    <tr>\n",
       "      <th>1</th>\n",
       "      <td>4890</td>\n",
       "      <td>14</td>\n",
       "      <td>39.5</td>\n",
       "      <td>17.4</td>\n",
       "      <td>186.0</td>\n",
       "      <td>3800.0</td>\n",
       "      <td>female</td>\n",
       "      <td>2007.0</td>\n",
       "      <td>1</td>\n",
       "      <td>0</td>\n",
       "      <td>0</td>\n",
       "      <td>0</td>\n",
       "      <td>0</td>\n",
       "      <td>1</td>\n",
       "    </tr>\n",
       "    <tr>\n",
       "      <th>2</th>\n",
       "      <td>7184</td>\n",
       "      <td>11</td>\n",
       "      <td>40.3</td>\n",
       "      <td>18.0</td>\n",
       "      <td>195.0</td>\n",
       "      <td>3250.0</td>\n",
       "      <td>female</td>\n",
       "      <td>2007.0</td>\n",
       "      <td>1</td>\n",
       "      <td>0</td>\n",
       "      <td>0</td>\n",
       "      <td>0</td>\n",
       "      <td>0</td>\n",
       "      <td>1</td>\n",
       "    </tr>\n",
       "    <tr>\n",
       "      <th>3</th>\n",
       "      <td>4169</td>\n",
       "      <td>8</td>\n",
       "      <td>46.0</td>\n",
       "      <td>19.0</td>\n",
       "      <td>198.0</td>\n",
       "      <td>992.0</td>\n",
       "      <td>male</td>\n",
       "      <td>2007.0</td>\n",
       "      <td>1</td>\n",
       "      <td>0</td>\n",
       "      <td>0</td>\n",
       "      <td>0</td>\n",
       "      <td>0</td>\n",
       "      <td>1</td>\n",
       "    </tr>\n",
       "    <tr>\n",
       "      <th>4</th>\n",
       "      <td>4774</td>\n",
       "      <td>8</td>\n",
       "      <td>36.7</td>\n",
       "      <td>19.3</td>\n",
       "      <td>193.0</td>\n",
       "      <td>3450.0</td>\n",
       "      <td>female</td>\n",
       "      <td>2007.0</td>\n",
       "      <td>1</td>\n",
       "      <td>0</td>\n",
       "      <td>0</td>\n",
       "      <td>0</td>\n",
       "      <td>0</td>\n",
       "      <td>1</td>\n",
       "    </tr>\n",
       "  </tbody>\n",
       "</table>\n",
       "</div>"
      ]
     },
     "execution_count": 48,
     "metadata": {},
     "output_type": "execute_result"
    }
   ],
   "execution_count": 48
  },
  {
   "cell_type": "code",
   "metadata": {
    "colab": {
     "base_uri": "https://localhost:8080/"
    },
    "id": "j-fQCk842IMf",
    "outputId": "f1ed369e-895a-4b47-e064-657823477030",
    "ExecuteTime": {
     "end_time": "2024-09-26T17:03:55.631724Z",
     "start_time": "2024-09-26T17:03:55.613732Z"
    }
   },
   "source": [
    "df_encoded.shape"
   ],
   "outputs": [
    {
     "data": {
      "text/plain": [
       "(332, 14)"
      ]
     },
     "execution_count": 49,
     "metadata": {},
     "output_type": "execute_result"
    }
   ],
   "execution_count": 49
  },
  {
   "cell_type": "code",
   "metadata": {
    "id": "nrRpLVxJ2KKt",
    "ExecuteTime": {
     "end_time": "2024-09-26T17:04:04.028853Z",
     "start_time": "2024-09-26T17:04:04.013864Z"
    }
   },
   "source": [
    "df_encoded.to_csv('penguins_cleaned_string_encoded.csv', index=False)"
   ],
   "outputs": [],
   "execution_count": 50
  },
  {
   "cell_type": "code",
   "metadata": {
    "id": "DQ1mbmqY2xiH",
    "ExecuteTime": {
     "end_time": "2024-09-26T17:04:04.979161Z",
     "start_time": "2024-09-26T17:04:04.961182Z"
    }
   },
   "source": [
    "df_normalized = df_outlier_free.get(numerical)"
   ],
   "outputs": [],
   "execution_count": 51
  },
  {
   "cell_type": "code",
   "metadata": {
    "colab": {
     "base_uri": "https://localhost:8080/",
     "height": 204
    },
    "id": "srJMFop33J87",
    "outputId": "545a07f8-b436-4def-a12b-03322ec10f6a",
    "ExecuteTime": {
     "end_time": "2024-09-26T17:04:06.298956Z",
     "start_time": "2024-09-26T17:04:06.274957Z"
    }
   },
   "source": [
    "df_normalized.head()"
   ],
   "outputs": [
    {
     "data": {
      "text/plain": [
       "   calorie requirement  average sleep duration  bill_length_mm  bill_depth_mm  \\\n",
       "0                 6563                      11            39.1           18.7   \n",
       "1                 4890                      14            39.5           17.4   \n",
       "2                 7184                      11            40.3           18.0   \n",
       "3                 4169                       8            46.0           19.0   \n",
       "4                 4774                       8            36.7           19.3   \n",
       "\n",
       "   flipper_length_mm  body_mass_g    year  \n",
       "0              181.0       3750.0  2007.0  \n",
       "1              186.0       3800.0  2007.0  \n",
       "2              195.0       3250.0  2007.0  \n",
       "3              198.0        992.0  2007.0  \n",
       "4              193.0       3450.0  2007.0  "
      ],
      "text/html": [
       "<div>\n",
       "<style scoped>\n",
       "    .dataframe tbody tr th:only-of-type {\n",
       "        vertical-align: middle;\n",
       "    }\n",
       "\n",
       "    .dataframe tbody tr th {\n",
       "        vertical-align: top;\n",
       "    }\n",
       "\n",
       "    .dataframe thead th {\n",
       "        text-align: right;\n",
       "    }\n",
       "</style>\n",
       "<table border=\"1\" class=\"dataframe\">\n",
       "  <thead>\n",
       "    <tr style=\"text-align: right;\">\n",
       "      <th></th>\n",
       "      <th>calorie requirement</th>\n",
       "      <th>average sleep duration</th>\n",
       "      <th>bill_length_mm</th>\n",
       "      <th>bill_depth_mm</th>\n",
       "      <th>flipper_length_mm</th>\n",
       "      <th>body_mass_g</th>\n",
       "      <th>year</th>\n",
       "    </tr>\n",
       "  </thead>\n",
       "  <tbody>\n",
       "    <tr>\n",
       "      <th>0</th>\n",
       "      <td>6563</td>\n",
       "      <td>11</td>\n",
       "      <td>39.1</td>\n",
       "      <td>18.7</td>\n",
       "      <td>181.0</td>\n",
       "      <td>3750.0</td>\n",
       "      <td>2007.0</td>\n",
       "    </tr>\n",
       "    <tr>\n",
       "      <th>1</th>\n",
       "      <td>4890</td>\n",
       "      <td>14</td>\n",
       "      <td>39.5</td>\n",
       "      <td>17.4</td>\n",
       "      <td>186.0</td>\n",
       "      <td>3800.0</td>\n",
       "      <td>2007.0</td>\n",
       "    </tr>\n",
       "    <tr>\n",
       "      <th>2</th>\n",
       "      <td>7184</td>\n",
       "      <td>11</td>\n",
       "      <td>40.3</td>\n",
       "      <td>18.0</td>\n",
       "      <td>195.0</td>\n",
       "      <td>3250.0</td>\n",
       "      <td>2007.0</td>\n",
       "    </tr>\n",
       "    <tr>\n",
       "      <th>3</th>\n",
       "      <td>4169</td>\n",
       "      <td>8</td>\n",
       "      <td>46.0</td>\n",
       "      <td>19.0</td>\n",
       "      <td>198.0</td>\n",
       "      <td>992.0</td>\n",
       "      <td>2007.0</td>\n",
       "    </tr>\n",
       "    <tr>\n",
       "      <th>4</th>\n",
       "      <td>4774</td>\n",
       "      <td>8</td>\n",
       "      <td>36.7</td>\n",
       "      <td>19.3</td>\n",
       "      <td>193.0</td>\n",
       "      <td>3450.0</td>\n",
       "      <td>2007.0</td>\n",
       "    </tr>\n",
       "  </tbody>\n",
       "</table>\n",
       "</div>"
      ]
     },
     "execution_count": 52,
     "metadata": {},
     "output_type": "execute_result"
    }
   ],
   "execution_count": 52
  },
  {
   "cell_type": "markdown",
   "metadata": {
    "id": "lr3cQ6H6_LB4"
   },
   "source": []
  },
  {
   "cell_type": "code",
   "metadata": {
    "id": "Brhh5OOX3YqI",
    "ExecuteTime": {
     "end_time": "2024-09-26T17:04:08.572848Z",
     "start_time": "2024-09-26T17:04:08.563853Z"
    }
   },
   "source": [
    "min_values = df_normalized.min()\n",
    "max_values = df_normalized.max()"
   ],
   "outputs": [],
   "execution_count": 53
  },
  {
   "cell_type": "code",
   "metadata": {
    "id": "qzN6OZNw34Z1",
    "ExecuteTime": {
     "end_time": "2024-09-26T17:04:09.688211Z",
     "start_time": "2024-09-26T17:04:09.674212Z"
    }
   },
   "source": [
    "normalized_df = (df_normalized - min_values) / (max_values - min_values)"
   ],
   "outputs": [],
   "execution_count": 54
  },
  {
   "cell_type": "code",
   "metadata": {
    "colab": {
     "base_uri": "https://localhost:8080/",
     "height": 204
    },
    "id": "vh5aDYz44DxH",
    "outputId": "37e4a476-c089-41ca-c19a-8464da6c6bbe",
    "ExecuteTime": {
     "end_time": "2024-09-26T17:04:10.978908Z",
     "start_time": "2024-09-26T17:04:10.962373Z"
    }
   },
   "source": [
    "normalized_df.head()"
   ],
   "outputs": [
    {
     "data": {
      "text/plain": [
       "   calorie requirement  average sleep duration  bill_length_mm  bill_depth_mm  \\\n",
       "0             0.828324                0.571429        0.254545       0.666667   \n",
       "1             0.375305                1.000000        0.269091       0.511905   \n",
       "2             0.996480                0.571429        0.298182       0.583333   \n",
       "3             0.180070                0.142857        0.505455       0.702381   \n",
       "4             0.343894                0.142857        0.167273       0.738095   \n",
       "\n",
       "   flipper_length_mm  body_mass_g  year  \n",
       "0           0.773756     0.529347   0.0  \n",
       "1           0.796380     0.538575   0.0  \n",
       "2           0.837104     0.437062   0.0  \n",
       "3           0.850679     0.020303   0.0  \n",
       "4           0.828054     0.473976   0.0  "
      ],
      "text/html": [
       "<div>\n",
       "<style scoped>\n",
       "    .dataframe tbody tr th:only-of-type {\n",
       "        vertical-align: middle;\n",
       "    }\n",
       "\n",
       "    .dataframe tbody tr th {\n",
       "        vertical-align: top;\n",
       "    }\n",
       "\n",
       "    .dataframe thead th {\n",
       "        text-align: right;\n",
       "    }\n",
       "</style>\n",
       "<table border=\"1\" class=\"dataframe\">\n",
       "  <thead>\n",
       "    <tr style=\"text-align: right;\">\n",
       "      <th></th>\n",
       "      <th>calorie requirement</th>\n",
       "      <th>average sleep duration</th>\n",
       "      <th>bill_length_mm</th>\n",
       "      <th>bill_depth_mm</th>\n",
       "      <th>flipper_length_mm</th>\n",
       "      <th>body_mass_g</th>\n",
       "      <th>year</th>\n",
       "    </tr>\n",
       "  </thead>\n",
       "  <tbody>\n",
       "    <tr>\n",
       "      <th>0</th>\n",
       "      <td>0.828324</td>\n",
       "      <td>0.571429</td>\n",
       "      <td>0.254545</td>\n",
       "      <td>0.666667</td>\n",
       "      <td>0.773756</td>\n",
       "      <td>0.529347</td>\n",
       "      <td>0.0</td>\n",
       "    </tr>\n",
       "    <tr>\n",
       "      <th>1</th>\n",
       "      <td>0.375305</td>\n",
       "      <td>1.000000</td>\n",
       "      <td>0.269091</td>\n",
       "      <td>0.511905</td>\n",
       "      <td>0.796380</td>\n",
       "      <td>0.538575</td>\n",
       "      <td>0.0</td>\n",
       "    </tr>\n",
       "    <tr>\n",
       "      <th>2</th>\n",
       "      <td>0.996480</td>\n",
       "      <td>0.571429</td>\n",
       "      <td>0.298182</td>\n",
       "      <td>0.583333</td>\n",
       "      <td>0.837104</td>\n",
       "      <td>0.437062</td>\n",
       "      <td>0.0</td>\n",
       "    </tr>\n",
       "    <tr>\n",
       "      <th>3</th>\n",
       "      <td>0.180070</td>\n",
       "      <td>0.142857</td>\n",
       "      <td>0.505455</td>\n",
       "      <td>0.702381</td>\n",
       "      <td>0.850679</td>\n",
       "      <td>0.020303</td>\n",
       "      <td>0.0</td>\n",
       "    </tr>\n",
       "    <tr>\n",
       "      <th>4</th>\n",
       "      <td>0.343894</td>\n",
       "      <td>0.142857</td>\n",
       "      <td>0.167273</td>\n",
       "      <td>0.738095</td>\n",
       "      <td>0.828054</td>\n",
       "      <td>0.473976</td>\n",
       "      <td>0.0</td>\n",
       "    </tr>\n",
       "  </tbody>\n",
       "</table>\n",
       "</div>"
      ]
     },
     "execution_count": 55,
     "metadata": {},
     "output_type": "execute_result"
    }
   ],
   "execution_count": 55
  },
  {
   "cell_type": "code",
   "metadata": {
    "id": "ialX4LgQ4JHm",
    "ExecuteTime": {
     "end_time": "2024-09-26T17:04:17.391320Z",
     "start_time": "2024-09-26T17:04:17.374626Z"
    }
   },
   "source": [
    "pre_processed_df = pd.concat([normalized_df,df_encoded.iloc[:,8:],df_encoded['gender']], axis=1)"
   ],
   "outputs": [],
   "execution_count": 56
  },
  {
   "cell_type": "code",
   "metadata": {
    "colab": {
     "base_uri": "https://localhost:8080/",
     "height": 258
    },
    "id": "TOmS_-4f4c4c",
    "outputId": "2ffd69af-b84d-4769-cede-8608e6202968",
    "ExecuteTime": {
     "end_time": "2024-09-26T17:04:56.712396Z",
     "start_time": "2024-09-26T17:04:56.696168Z"
    }
   },
   "source": [
    "pre_processed_df.head()"
   ],
   "outputs": [
    {
     "data": {
      "text/plain": [
       "   calorie requirement  average sleep duration  bill_length_mm  bill_depth_mm  \\\n",
       "0             0.828324                0.571429        0.254545       0.666667   \n",
       "1             0.375305                1.000000        0.269091       0.511905   \n",
       "2             0.996480                0.571429        0.298182       0.583333   \n",
       "3             0.180070                0.142857        0.505455       0.702381   \n",
       "4             0.343894                0.142857        0.167273       0.738095   \n",
       "\n",
       "   flipper_length_mm  body_mass_g  year  species_ADELIE  species_CHINSTRAP  \\\n",
       "0           0.773756     0.529347   0.0               1                  0   \n",
       "1           0.796380     0.538575   0.0               1                  0   \n",
       "2           0.837104     0.437062   0.0               1                  0   \n",
       "3           0.850679     0.020303   0.0               1                  0   \n",
       "4           0.828054     0.473976   0.0               1                  0   \n",
       "\n",
       "   species_GENTOO  island_BISCOE  island_DREAM  island_TORGERSEN  gender  \n",
       "0               0              0             0                 1    male  \n",
       "1               0              0             0                 1  female  \n",
       "2               0              0             0                 1  female  \n",
       "3               0              0             0                 1    male  \n",
       "4               0              0             0                 1  female  "
      ],
      "text/html": [
       "<div>\n",
       "<style scoped>\n",
       "    .dataframe tbody tr th:only-of-type {\n",
       "        vertical-align: middle;\n",
       "    }\n",
       "\n",
       "    .dataframe tbody tr th {\n",
       "        vertical-align: top;\n",
       "    }\n",
       "\n",
       "    .dataframe thead th {\n",
       "        text-align: right;\n",
       "    }\n",
       "</style>\n",
       "<table border=\"1\" class=\"dataframe\">\n",
       "  <thead>\n",
       "    <tr style=\"text-align: right;\">\n",
       "      <th></th>\n",
       "      <th>calorie requirement</th>\n",
       "      <th>average sleep duration</th>\n",
       "      <th>bill_length_mm</th>\n",
       "      <th>bill_depth_mm</th>\n",
       "      <th>flipper_length_mm</th>\n",
       "      <th>body_mass_g</th>\n",
       "      <th>year</th>\n",
       "      <th>species_ADELIE</th>\n",
       "      <th>species_CHINSTRAP</th>\n",
       "      <th>species_GENTOO</th>\n",
       "      <th>island_BISCOE</th>\n",
       "      <th>island_DREAM</th>\n",
       "      <th>island_TORGERSEN</th>\n",
       "      <th>gender</th>\n",
       "    </tr>\n",
       "  </thead>\n",
       "  <tbody>\n",
       "    <tr>\n",
       "      <th>0</th>\n",
       "      <td>0.828324</td>\n",
       "      <td>0.571429</td>\n",
       "      <td>0.254545</td>\n",
       "      <td>0.666667</td>\n",
       "      <td>0.773756</td>\n",
       "      <td>0.529347</td>\n",
       "      <td>0.0</td>\n",
       "      <td>1</td>\n",
       "      <td>0</td>\n",
       "      <td>0</td>\n",
       "      <td>0</td>\n",
       "      <td>0</td>\n",
       "      <td>1</td>\n",
       "      <td>male</td>\n",
       "    </tr>\n",
       "    <tr>\n",
       "      <th>1</th>\n",
       "      <td>0.375305</td>\n",
       "      <td>1.000000</td>\n",
       "      <td>0.269091</td>\n",
       "      <td>0.511905</td>\n",
       "      <td>0.796380</td>\n",
       "      <td>0.538575</td>\n",
       "      <td>0.0</td>\n",
       "      <td>1</td>\n",
       "      <td>0</td>\n",
       "      <td>0</td>\n",
       "      <td>0</td>\n",
       "      <td>0</td>\n",
       "      <td>1</td>\n",
       "      <td>female</td>\n",
       "    </tr>\n",
       "    <tr>\n",
       "      <th>2</th>\n",
       "      <td>0.996480</td>\n",
       "      <td>0.571429</td>\n",
       "      <td>0.298182</td>\n",
       "      <td>0.583333</td>\n",
       "      <td>0.837104</td>\n",
       "      <td>0.437062</td>\n",
       "      <td>0.0</td>\n",
       "      <td>1</td>\n",
       "      <td>0</td>\n",
       "      <td>0</td>\n",
       "      <td>0</td>\n",
       "      <td>0</td>\n",
       "      <td>1</td>\n",
       "      <td>female</td>\n",
       "    </tr>\n",
       "    <tr>\n",
       "      <th>3</th>\n",
       "      <td>0.180070</td>\n",
       "      <td>0.142857</td>\n",
       "      <td>0.505455</td>\n",
       "      <td>0.702381</td>\n",
       "      <td>0.850679</td>\n",
       "      <td>0.020303</td>\n",
       "      <td>0.0</td>\n",
       "      <td>1</td>\n",
       "      <td>0</td>\n",
       "      <td>0</td>\n",
       "      <td>0</td>\n",
       "      <td>0</td>\n",
       "      <td>1</td>\n",
       "      <td>male</td>\n",
       "    </tr>\n",
       "    <tr>\n",
       "      <th>4</th>\n",
       "      <td>0.343894</td>\n",
       "      <td>0.142857</td>\n",
       "      <td>0.167273</td>\n",
       "      <td>0.738095</td>\n",
       "      <td>0.828054</td>\n",
       "      <td>0.473976</td>\n",
       "      <td>0.0</td>\n",
       "      <td>1</td>\n",
       "      <td>0</td>\n",
       "      <td>0</td>\n",
       "      <td>0</td>\n",
       "      <td>0</td>\n",
       "      <td>1</td>\n",
       "      <td>female</td>\n",
       "    </tr>\n",
       "  </tbody>\n",
       "</table>\n",
       "</div>"
      ]
     },
     "execution_count": 58,
     "metadata": {},
     "output_type": "execute_result"
    }
   ],
   "execution_count": 58
  },
  {
   "cell_type": "code",
   "metadata": {
    "id": "fMrBE26t4raS",
    "ExecuteTime": {
     "end_time": "2024-09-26T17:05:20.387422Z",
     "start_time": "2024-09-26T17:05:20.373872Z"
    }
   },
   "source": [
    "pre_processed_df.to_csv('penguins_preprocessed.csv', index=False)"
   ],
   "outputs": [],
   "execution_count": 60
  }
 ],
 "metadata": {
  "colab": {
   "provenance": []
  },
  "kernelspec": {
   "display_name": "Python 3",
   "name": "python3",
   "language": "python"
  },
  "language_info": {
   "name": "python"
  }
 },
 "nbformat": 4,
 "nbformat_minor": 0
}
