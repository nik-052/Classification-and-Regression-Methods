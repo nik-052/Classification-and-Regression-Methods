{
 "cells": [
  {
   "cell_type": "code",
   "id": "initial_id",
   "metadata": {
    "collapsed": true,
    "ExecuteTime": {
     "end_time": "2024-09-26T17:20:50.016127Z",
     "start_time": "2024-09-26T17:20:49.996608Z"
    }
   },
   "source": [
    "import pandas as pd\n",
    "import matplotlib.pyplot as plt\n",
    "import seaborn as sns\n",
    "import math\n",
    "import warnings\n",
    "warnings.filterwarnings('ignore')"
   ],
   "outputs": [],
   "execution_count": 69
  },
  {
   "metadata": {
    "ExecuteTime": {
     "end_time": "2024-09-26T17:20:51.380401Z",
     "start_time": "2024-09-26T17:20:51.312587Z"
    }
   },
   "cell_type": "code",
   "source": "df = pd.read_csv('emissions_by_country.csv')",
   "id": "6aa92d7abcf0e26",
   "outputs": [],
   "execution_count": 70
  },
  {
   "metadata": {
    "ExecuteTime": {
     "end_time": "2024-09-26T17:20:52.548250Z",
     "start_time": "2024-09-26T17:20:52.518259Z"
    }
   },
   "cell_type": "code",
   "source": "df.head()",
   "id": "eab8b3ab745df1",
   "outputs": [
    {
     "data": {
      "text/plain": [
       "       Country ISO 3166-1 alpha-3    Year  Total  Temperature  \\\n",
       "0  Afghanistan                AFG  1750.0    0.0           70   \n",
       "1  Afghanistan                AFG  1751.0    0.0           66   \n",
       "2  Afghanistan                AFG  1752.0    0.0           72   \n",
       "3  Afghanistan                AFG  1753.0    0.0           44   \n",
       "4  Afghanistan                AFG  1754.0    0.0           21   \n",
       "\n",
       "   GDP Per Capita (USD)  Coal  Oil  Gas  Cement  Flaring  Other  Per Capita  \n",
       "0                 55455   NaN  NaN  NaN     NaN      NaN    NaN         NaN  \n",
       "1                 45101   NaN  NaN  NaN     NaN      NaN    NaN         NaN  \n",
       "2                 31891   NaN  NaN  NaN     NaN      NaN    NaN         NaN  \n",
       "3                 35466   NaN  NaN  NaN     NaN      NaN    NaN         NaN  \n",
       "4                 33247   NaN  NaN  NaN     NaN      NaN    NaN         NaN  "
      ],
      "text/html": [
       "<div>\n",
       "<style scoped>\n",
       "    .dataframe tbody tr th:only-of-type {\n",
       "        vertical-align: middle;\n",
       "    }\n",
       "\n",
       "    .dataframe tbody tr th {\n",
       "        vertical-align: top;\n",
       "    }\n",
       "\n",
       "    .dataframe thead th {\n",
       "        text-align: right;\n",
       "    }\n",
       "</style>\n",
       "<table border=\"1\" class=\"dataframe\">\n",
       "  <thead>\n",
       "    <tr style=\"text-align: right;\">\n",
       "      <th></th>\n",
       "      <th>Country</th>\n",
       "      <th>ISO 3166-1 alpha-3</th>\n",
       "      <th>Year</th>\n",
       "      <th>Total</th>\n",
       "      <th>Temperature</th>\n",
       "      <th>GDP Per Capita (USD)</th>\n",
       "      <th>Coal</th>\n",
       "      <th>Oil</th>\n",
       "      <th>Gas</th>\n",
       "      <th>Cement</th>\n",
       "      <th>Flaring</th>\n",
       "      <th>Other</th>\n",
       "      <th>Per Capita</th>\n",
       "    </tr>\n",
       "  </thead>\n",
       "  <tbody>\n",
       "    <tr>\n",
       "      <th>0</th>\n",
       "      <td>Afghanistan</td>\n",
       "      <td>AFG</td>\n",
       "      <td>1750.0</td>\n",
       "      <td>0.0</td>\n",
       "      <td>70</td>\n",
       "      <td>55455</td>\n",
       "      <td>NaN</td>\n",
       "      <td>NaN</td>\n",
       "      <td>NaN</td>\n",
       "      <td>NaN</td>\n",
       "      <td>NaN</td>\n",
       "      <td>NaN</td>\n",
       "      <td>NaN</td>\n",
       "    </tr>\n",
       "    <tr>\n",
       "      <th>1</th>\n",
       "      <td>Afghanistan</td>\n",
       "      <td>AFG</td>\n",
       "      <td>1751.0</td>\n",
       "      <td>0.0</td>\n",
       "      <td>66</td>\n",
       "      <td>45101</td>\n",
       "      <td>NaN</td>\n",
       "      <td>NaN</td>\n",
       "      <td>NaN</td>\n",
       "      <td>NaN</td>\n",
       "      <td>NaN</td>\n",
       "      <td>NaN</td>\n",
       "      <td>NaN</td>\n",
       "    </tr>\n",
       "    <tr>\n",
       "      <th>2</th>\n",
       "      <td>Afghanistan</td>\n",
       "      <td>AFG</td>\n",
       "      <td>1752.0</td>\n",
       "      <td>0.0</td>\n",
       "      <td>72</td>\n",
       "      <td>31891</td>\n",
       "      <td>NaN</td>\n",
       "      <td>NaN</td>\n",
       "      <td>NaN</td>\n",
       "      <td>NaN</td>\n",
       "      <td>NaN</td>\n",
       "      <td>NaN</td>\n",
       "      <td>NaN</td>\n",
       "    </tr>\n",
       "    <tr>\n",
       "      <th>3</th>\n",
       "      <td>Afghanistan</td>\n",
       "      <td>AFG</td>\n",
       "      <td>1753.0</td>\n",
       "      <td>0.0</td>\n",
       "      <td>44</td>\n",
       "      <td>35466</td>\n",
       "      <td>NaN</td>\n",
       "      <td>NaN</td>\n",
       "      <td>NaN</td>\n",
       "      <td>NaN</td>\n",
       "      <td>NaN</td>\n",
       "      <td>NaN</td>\n",
       "      <td>NaN</td>\n",
       "    </tr>\n",
       "    <tr>\n",
       "      <th>4</th>\n",
       "      <td>Afghanistan</td>\n",
       "      <td>AFG</td>\n",
       "      <td>1754.0</td>\n",
       "      <td>0.0</td>\n",
       "      <td>21</td>\n",
       "      <td>33247</td>\n",
       "      <td>NaN</td>\n",
       "      <td>NaN</td>\n",
       "      <td>NaN</td>\n",
       "      <td>NaN</td>\n",
       "      <td>NaN</td>\n",
       "      <td>NaN</td>\n",
       "      <td>NaN</td>\n",
       "    </tr>\n",
       "  </tbody>\n",
       "</table>\n",
       "</div>"
      ]
     },
     "execution_count": 71,
     "metadata": {},
     "output_type": "execute_result"
    }
   ],
   "execution_count": 71
  },
  {
   "metadata": {
    "ExecuteTime": {
     "end_time": "2024-09-26T17:20:54.185899Z",
     "start_time": "2024-09-26T17:20:54.129905Z"
    }
   },
   "cell_type": "code",
   "source": "df.describe()",
   "id": "5deebbe5d621a0e9",
   "outputs": [
    {
     "data": {
      "text/plain": [
       "               Year         Total   Temperature  GDP Per Capita (USD)  \\\n",
       "count  62307.000000  62381.000000  63104.000000          63104.000000   \n",
       "mean    1888.267097     73.683456     49.497813          39026.539015   \n",
       "std      122.651184    843.930381     17.292092          10975.539432   \n",
       "min     1003.000000      0.000000     20.000000          20000.000000   \n",
       "25%     1816.000000      0.000000     35.000000          29498.750000   \n",
       "50%     1886.000000      0.000000     49.000000          39067.000000   \n",
       "75%     1955.000000      0.659520     64.000000          48544.250000   \n",
       "max     2999.000000  37123.850352     79.000000          57999.000000   \n",
       "\n",
       "               Coal           Oil           Gas        Cement       Flaring  \\\n",
       "count  21797.000000  21774.000000  21717.000000  20488.000000  21338.000000   \n",
       "mean     127.387271    153.480038    125.162671     62.599364     56.074327   \n",
       "std      677.951392    670.830891    514.391435    353.918064    337.629062   \n",
       "min        0.000000      0.000000      0.000000      0.000000      0.000000   \n",
       "25%        0.000000      0.113584      0.000000      0.000000      0.000000   \n",
       "50%        0.344416      1.344688      0.000000      0.032709      0.000000   \n",
       "75%        8.500480     13.008908      1.683510      0.725079      0.000000   \n",
       "max    15051.512770  12345.653374   7921.829472   2982.000000   2994.000000   \n",
       "\n",
       "             Other    Per Capita  \n",
       "count  2685.000000  19392.000000  \n",
       "mean    849.395127    121.565443  \n",
       "std    1055.250022    489.339877  \n",
       "min       0.000000      0.000000  \n",
       "25%       1.016000      0.231702  \n",
       "50%       9.237945      1.601436  \n",
       "75%    1812.000000      6.305100  \n",
       "max    2999.000000   2997.000000  "
      ],
      "text/html": [
       "<div>\n",
       "<style scoped>\n",
       "    .dataframe tbody tr th:only-of-type {\n",
       "        vertical-align: middle;\n",
       "    }\n",
       "\n",
       "    .dataframe tbody tr th {\n",
       "        vertical-align: top;\n",
       "    }\n",
       "\n",
       "    .dataframe thead th {\n",
       "        text-align: right;\n",
       "    }\n",
       "</style>\n",
       "<table border=\"1\" class=\"dataframe\">\n",
       "  <thead>\n",
       "    <tr style=\"text-align: right;\">\n",
       "      <th></th>\n",
       "      <th>Year</th>\n",
       "      <th>Total</th>\n",
       "      <th>Temperature</th>\n",
       "      <th>GDP Per Capita (USD)</th>\n",
       "      <th>Coal</th>\n",
       "      <th>Oil</th>\n",
       "      <th>Gas</th>\n",
       "      <th>Cement</th>\n",
       "      <th>Flaring</th>\n",
       "      <th>Other</th>\n",
       "      <th>Per Capita</th>\n",
       "    </tr>\n",
       "  </thead>\n",
       "  <tbody>\n",
       "    <tr>\n",
       "      <th>count</th>\n",
       "      <td>62307.000000</td>\n",
       "      <td>62381.000000</td>\n",
       "      <td>63104.000000</td>\n",
       "      <td>63104.000000</td>\n",
       "      <td>21797.000000</td>\n",
       "      <td>21774.000000</td>\n",
       "      <td>21717.000000</td>\n",
       "      <td>20488.000000</td>\n",
       "      <td>21338.000000</td>\n",
       "      <td>2685.000000</td>\n",
       "      <td>19392.000000</td>\n",
       "    </tr>\n",
       "    <tr>\n",
       "      <th>mean</th>\n",
       "      <td>1888.267097</td>\n",
       "      <td>73.683456</td>\n",
       "      <td>49.497813</td>\n",
       "      <td>39026.539015</td>\n",
       "      <td>127.387271</td>\n",
       "      <td>153.480038</td>\n",
       "      <td>125.162671</td>\n",
       "      <td>62.599364</td>\n",
       "      <td>56.074327</td>\n",
       "      <td>849.395127</td>\n",
       "      <td>121.565443</td>\n",
       "    </tr>\n",
       "    <tr>\n",
       "      <th>std</th>\n",
       "      <td>122.651184</td>\n",
       "      <td>843.930381</td>\n",
       "      <td>17.292092</td>\n",
       "      <td>10975.539432</td>\n",
       "      <td>677.951392</td>\n",
       "      <td>670.830891</td>\n",
       "      <td>514.391435</td>\n",
       "      <td>353.918064</td>\n",
       "      <td>337.629062</td>\n",
       "      <td>1055.250022</td>\n",
       "      <td>489.339877</td>\n",
       "    </tr>\n",
       "    <tr>\n",
       "      <th>min</th>\n",
       "      <td>1003.000000</td>\n",
       "      <td>0.000000</td>\n",
       "      <td>20.000000</td>\n",
       "      <td>20000.000000</td>\n",
       "      <td>0.000000</td>\n",
       "      <td>0.000000</td>\n",
       "      <td>0.000000</td>\n",
       "      <td>0.000000</td>\n",
       "      <td>0.000000</td>\n",
       "      <td>0.000000</td>\n",
       "      <td>0.000000</td>\n",
       "    </tr>\n",
       "    <tr>\n",
       "      <th>25%</th>\n",
       "      <td>1816.000000</td>\n",
       "      <td>0.000000</td>\n",
       "      <td>35.000000</td>\n",
       "      <td>29498.750000</td>\n",
       "      <td>0.000000</td>\n",
       "      <td>0.113584</td>\n",
       "      <td>0.000000</td>\n",
       "      <td>0.000000</td>\n",
       "      <td>0.000000</td>\n",
       "      <td>1.016000</td>\n",
       "      <td>0.231702</td>\n",
       "    </tr>\n",
       "    <tr>\n",
       "      <th>50%</th>\n",
       "      <td>1886.000000</td>\n",
       "      <td>0.000000</td>\n",
       "      <td>49.000000</td>\n",
       "      <td>39067.000000</td>\n",
       "      <td>0.344416</td>\n",
       "      <td>1.344688</td>\n",
       "      <td>0.000000</td>\n",
       "      <td>0.032709</td>\n",
       "      <td>0.000000</td>\n",
       "      <td>9.237945</td>\n",
       "      <td>1.601436</td>\n",
       "    </tr>\n",
       "    <tr>\n",
       "      <th>75%</th>\n",
       "      <td>1955.000000</td>\n",
       "      <td>0.659520</td>\n",
       "      <td>64.000000</td>\n",
       "      <td>48544.250000</td>\n",
       "      <td>8.500480</td>\n",
       "      <td>13.008908</td>\n",
       "      <td>1.683510</td>\n",
       "      <td>0.725079</td>\n",
       "      <td>0.000000</td>\n",
       "      <td>1812.000000</td>\n",
       "      <td>6.305100</td>\n",
       "    </tr>\n",
       "    <tr>\n",
       "      <th>max</th>\n",
       "      <td>2999.000000</td>\n",
       "      <td>37123.850352</td>\n",
       "      <td>79.000000</td>\n",
       "      <td>57999.000000</td>\n",
       "      <td>15051.512770</td>\n",
       "      <td>12345.653374</td>\n",
       "      <td>7921.829472</td>\n",
       "      <td>2982.000000</td>\n",
       "      <td>2994.000000</td>\n",
       "      <td>2999.000000</td>\n",
       "      <td>2997.000000</td>\n",
       "    </tr>\n",
       "  </tbody>\n",
       "</table>\n",
       "</div>"
      ]
     },
     "execution_count": 72,
     "metadata": {},
     "output_type": "execute_result"
    }
   ],
   "execution_count": 72
  },
  {
   "metadata": {
    "ExecuteTime": {
     "end_time": "2024-09-26T17:20:56.395347Z",
     "start_time": "2024-09-26T17:20:56.346354Z"
    }
   },
   "cell_type": "code",
   "source": "print(df.describe())",
   "id": "e61dd38dcffb0eb4",
   "outputs": [
    {
     "name": "stdout",
     "output_type": "stream",
     "text": [
      "               Year         Total   Temperature  GDP Per Capita (USD)  \\\n",
      "count  62307.000000  62381.000000  63104.000000          63104.000000   \n",
      "mean    1888.267097     73.683456     49.497813          39026.539015   \n",
      "std      122.651184    843.930381     17.292092          10975.539432   \n",
      "min     1003.000000      0.000000     20.000000          20000.000000   \n",
      "25%     1816.000000      0.000000     35.000000          29498.750000   \n",
      "50%     1886.000000      0.000000     49.000000          39067.000000   \n",
      "75%     1955.000000      0.659520     64.000000          48544.250000   \n",
      "max     2999.000000  37123.850352     79.000000          57999.000000   \n",
      "\n",
      "               Coal           Oil           Gas        Cement       Flaring  \\\n",
      "count  21797.000000  21774.000000  21717.000000  20488.000000  21338.000000   \n",
      "mean     127.387271    153.480038    125.162671     62.599364     56.074327   \n",
      "std      677.951392    670.830891    514.391435    353.918064    337.629062   \n",
      "min        0.000000      0.000000      0.000000      0.000000      0.000000   \n",
      "25%        0.000000      0.113584      0.000000      0.000000      0.000000   \n",
      "50%        0.344416      1.344688      0.000000      0.032709      0.000000   \n",
      "75%        8.500480     13.008908      1.683510      0.725079      0.000000   \n",
      "max    15051.512770  12345.653374   7921.829472   2982.000000   2994.000000   \n",
      "\n",
      "             Other    Per Capita  \n",
      "count  2685.000000  19392.000000  \n",
      "mean    849.395127    121.565443  \n",
      "std    1055.250022    489.339877  \n",
      "min       0.000000      0.000000  \n",
      "25%       1.016000      0.231702  \n",
      "50%       9.237945      1.601436  \n",
      "75%    1812.000000      6.305100  \n",
      "max    2999.000000   2997.000000  \n"
     ]
    }
   ],
   "execution_count": 73
  },
  {
   "metadata": {
    "ExecuteTime": {
     "end_time": "2024-09-26T17:21:01.401436Z",
     "start_time": "2024-09-26T17:21:01.389433Z"
    }
   },
   "cell_type": "code",
   "source": "print(df.shape)",
   "id": "545b74913ce47d2e",
   "outputs": [
    {
     "name": "stdout",
     "output_type": "stream",
     "text": [
      "(63104, 13)\n"
     ]
    }
   ],
   "execution_count": 74
  },
  {
   "metadata": {
    "ExecuteTime": {
     "end_time": "2024-09-26T17:21:03.030706Z",
     "start_time": "2024-09-26T17:21:03.011171Z"
    }
   },
   "cell_type": "code",
   "source": "print(df.info())",
   "id": "4b98f0190b99e8ad",
   "outputs": [
    {
     "name": "stdout",
     "output_type": "stream",
     "text": [
      "<class 'pandas.core.frame.DataFrame'>\n",
      "RangeIndex: 63104 entries, 0 to 63103\n",
      "Data columns (total 13 columns):\n",
      " #   Column                Non-Null Count  Dtype  \n",
      "---  ------                --------------  -----  \n",
      " 0   Country               61087 non-null  object \n",
      " 1   ISO 3166-1 alpha-3    59483 non-null  object \n",
      " 2   Year                  62307 non-null  float64\n",
      " 3   Total                 62381 non-null  float64\n",
      " 4   Temperature           63104 non-null  int64  \n",
      " 5   GDP Per Capita (USD)  63104 non-null  int64  \n",
      " 6   Coal                  21797 non-null  float64\n",
      " 7   Oil                   21774 non-null  float64\n",
      " 8   Gas                   21717 non-null  float64\n",
      " 9   Cement                20488 non-null  float64\n",
      " 10  Flaring               21338 non-null  float64\n",
      " 11  Other                 2685 non-null   float64\n",
      " 12  Per Capita            19392 non-null  float64\n",
      "dtypes: float64(9), int64(2), object(2)\n",
      "memory usage: 6.3+ MB\n",
      "None\n"
     ]
    }
   ],
   "execution_count": 75
  },
  {
   "metadata": {
    "ExecuteTime": {
     "end_time": "2024-09-26T17:21:04.877886Z",
     "start_time": "2024-09-26T17:21:04.852872Z"
    }
   },
   "cell_type": "code",
   "source": "print(df.isnull().sum())",
   "id": "21b57c448c603e15",
   "outputs": [
    {
     "name": "stdout",
     "output_type": "stream",
     "text": [
      "Country                  2017\n",
      "ISO 3166-1 alpha-3       3621\n",
      "Year                      797\n",
      "Total                     723\n",
      "Temperature                 0\n",
      "GDP Per Capita (USD)        0\n",
      "Coal                    41307\n",
      "Oil                     41330\n",
      "Gas                     41387\n",
      "Cement                  42616\n",
      "Flaring                 41766\n",
      "Other                   60419\n",
      "Per Capita              43712\n",
      "dtype: int64\n"
     ]
    }
   ],
   "execution_count": 76
  },
  {
   "metadata": {
    "ExecuteTime": {
     "end_time": "2024-09-26T17:21:08.171707Z",
     "start_time": "2024-09-26T17:21:08.157709Z"
    }
   },
   "cell_type": "code",
   "source": "categorical = df.select_dtypes(include=['object']).columns",
   "id": "377630deff0f0115",
   "outputs": [],
   "execution_count": 77
  },
  {
   "metadata": {
    "ExecuteTime": {
     "end_time": "2024-09-26T17:21:09.537137Z",
     "start_time": "2024-09-26T17:21:09.523952Z"
    }
   },
   "cell_type": "code",
   "source": "numerical = df.select_dtypes(include=['int64','float64']).columns",
   "id": "5d004d51e079b5eb",
   "outputs": [],
   "execution_count": 78
  },
  {
   "metadata": {
    "ExecuteTime": {
     "end_time": "2024-09-26T17:21:10.642779Z",
     "start_time": "2024-09-26T17:21:10.628585Z"
    }
   },
   "cell_type": "code",
   "source": [
    "print(f\"Categorical columns: {categorical}\")\n",
    "print(f\"Numerical columns: {numerical}\")"
   ],
   "id": "e0c15232353b6b3f",
   "outputs": [
    {
     "name": "stdout",
     "output_type": "stream",
     "text": [
      "Categorical columns: Index(['Country', 'ISO 3166-1 alpha-3'], dtype='object')\n",
      "Numerical columns: Index(['Year', 'Total', 'Temperature', 'GDP Per Capita (USD)', 'Coal', 'Oil',\n",
      "       'Gas', 'Cement', 'Flaring', 'Other', 'Per Capita'],\n",
      "      dtype='object')\n"
     ]
    }
   ],
   "execution_count": 79
  },
  {
   "metadata": {
    "ExecuteTime": {
     "end_time": "2024-09-26T17:21:12.404690Z",
     "start_time": "2024-09-26T17:21:12.379692Z"
    }
   },
   "cell_type": "code",
   "source": "print(\"Unique values in each column \",df.nunique())",
   "id": "52cb8bbfbeaffadc",
   "outputs": [
    {
     "name": "stdout",
     "output_type": "stream",
     "text": [
      "Unique values in each column  Country                   638\n",
      "ISO 3166-1 alpha-3        449\n",
      "Year                     1243\n",
      "Total                   16471\n",
      "Temperature                60\n",
      "GDP Per Capita (USD)    30779\n",
      "Coal                    11101\n",
      "Oil                     12096\n",
      "Gas                      7053\n",
      "Cement                   9253\n",
      "Flaring                  3974\n",
      "Other                    2327\n",
      "Per Capita              17319\n",
      "dtype: int64\n"
     ]
    }
   ],
   "execution_count": 80
  },
  {
   "metadata": {},
   "cell_type": "markdown",
   "source": "Here we can observe that Other column is most likely null and can be ignored. But other columns hold relevant information and can not be eliminated nor can be imputed, since it would not be in line with real world scenario. ",
   "id": "1bb47d25d9d3e88d"
  },
  {
   "metadata": {
    "ExecuteTime": {
     "end_time": "2024-09-26T17:21:15.813294Z",
     "start_time": "2024-09-26T17:21:15.799297Z"
    }
   },
   "cell_type": "code",
   "source": "df = df.drop('Other', axis=1)",
   "id": "c80055468455f4be",
   "outputs": [],
   "execution_count": 81
  },
  {
   "metadata": {
    "ExecuteTime": {
     "end_time": "2024-09-26T17:21:27.541075Z",
     "start_time": "2024-09-26T17:21:27.528063Z"
    }
   },
   "cell_type": "code",
   "source": "print(df.columns)",
   "id": "f6d88a195c76b3a7",
   "outputs": [
    {
     "name": "stdout",
     "output_type": "stream",
     "text": [
      "Index(['Country', 'ISO 3166-1 alpha-3', 'Year', 'Total', 'Temperature',\n",
      "       'GDP Per Capita (USD)', 'Coal', 'Oil', 'Gas', 'Cement', 'Flaring',\n",
      "       'Per Capita'],\n",
      "      dtype='object')\n"
     ]
    }
   ],
   "execution_count": 82
  },
  {
   "metadata": {
    "ExecuteTime": {
     "end_time": "2024-09-26T17:21:30.614820Z",
     "start_time": "2024-09-26T17:21:30.584817Z"
    }
   },
   "cell_type": "code",
   "source": [
    "# with this we eliminate country and iso reference null values \n",
    "df_1 = df.loc[df['Country'].notnull() & df['ISO 3166-1 alpha-3'].notnull()]"
   ],
   "id": "8755bea03140b37c",
   "outputs": [],
   "execution_count": 83
  },
  {
   "metadata": {
    "ExecuteTime": {
     "end_time": "2024-09-26T17:21:31.458542Z",
     "start_time": "2024-09-26T17:21:31.436995Z"
    }
   },
   "cell_type": "code",
   "source": "print(df_1.isnull().sum())",
   "id": "ac0ca5ed570c5547",
   "outputs": [
    {
     "name": "stdout",
     "output_type": "stream",
     "text": [
      "Country                     0\n",
      "ISO 3166-1 alpha-3          0\n",
      "Year                      318\n",
      "Total                     399\n",
      "Temperature                 0\n",
      "GDP Per Capita (USD)        0\n",
      "Coal                    37667\n",
      "Oil                     37710\n",
      "Gas                     37803\n",
      "Cement                  38729\n",
      "Flaring                 37969\n",
      "Per Capita              40467\n",
      "dtype: int64\n"
     ]
    }
   ],
   "execution_count": 84
  },
  {
   "metadata": {
    "ExecuteTime": {
     "end_time": "2024-09-26T17:21:57.791834Z",
     "start_time": "2024-09-26T17:21:57.779316Z"
    }
   },
   "cell_type": "code",
   "source": [
    "numerical = df.select_dtypes(include=['int64','float64']).columns\n",
    "print(numerical)"
   ],
   "id": "bd32f2427e10ff25",
   "outputs": [
    {
     "name": "stdout",
     "output_type": "stream",
     "text": [
      "Index(['Year', 'Total', 'Temperature', 'GDP Per Capita (USD)', 'Coal', 'Oil',\n",
      "       'Gas', 'Cement', 'Flaring', 'Per Capita'],\n",
      "      dtype='object')\n"
     ]
    }
   ],
   "execution_count": 86
  },
  {
   "metadata": {},
   "cell_type": "markdown",
   "source": "### We impute the data. Here we can observe that the dataset is highly ",
   "id": "92399cc7fcfd58d1"
  },
  {
   "metadata": {
    "ExecuteTime": {
     "end_time": "2024-09-26T17:22:04.902348Z",
     "start_time": "2024-09-26T17:22:00.778567Z"
    }
   },
   "cell_type": "code",
   "source": [
    "for i in numerical:\n",
    "    sns.kdeplot(df_1[i])\n",
    "    plt.title(f'Density Plot of {i}')\n",
    "    plt.xlabel(i)\n",
    "    plt.ylabel('Density')\n",
    "    plt.show()\n",
    "    print(f'column name {i}')\n"
   ],
   "id": "7bf3bdca0c4280db",
   "outputs": [
    {
     "data": {
      "text/plain": [
       "<Figure size 432x288 with 1 Axes>"
      ],
      "image/png": "[encoded data removed]"
     },
     "metadata": {},
     "output_type": "display_data"
    },
    {
     "name": "stdout",
     "output_type": "stream",
     "text": [
      "column name Year\n"
     ]
    },
    {
     "data": {
      "text/plain": [
       "<Figure size 432x288 with 1 Axes>"
      ],
      "image/png": "[encoded data removed]"
     },
     "metadata": {},
     "output_type": "display_data"
    },
    {
     "name": "stdout",
     "output_type": "stream",
     "text": [
      "column name Total\n"
     ]
    },
    {
     "data": {
      "text/plain": [
       "<Figure size 432x288 with 1 Axes>"
      ],
      "image/png": "[encoded data removed]"
     },
     "metadata": {},
     "output_type": "display_data"
    },
    {
     "name": "stdout",
     "output_type": "stream",
     "text": [
      "column name Temperature\n"
     ]
    },
    {
     "data": {
      "text/plain": [
       "<Figure size 432x288 with 1 Axes>"
      ],
      "image/png": "[encoded data removed]"
     },
     "metadata": {},
     "output_type": "display_data"
    },
    {
     "name": "stdout",
     "output_type": "stream",
     "text": [
      "column name GDP Per Capita (USD)\n"
     ]
    },
    {
     "data": {
      "text/plain": [
       "<Figure size 432x288 with 1 Axes>"
      ],
      "image/png": "[encoded data removed]"
     },
     "metadata": {},
     "output_type": "display_data"
    },
    {
     "name": "stdout",
     "output_type": "stream",
     "text": [
      "column name Coal\n"
     ]
    },
    {
     "data": {
      "text/plain": [
       "<Figure size 432x288 with 1 Axes>"
      ],
      "image/png": "[encoded data removed]"
     },
     "metadata": {},
     "output_type": "display_data"
    },
    {
     "name": "stdout",
     "output_type": "stream",
     "text": [
      "column name Oil\n"
     ]
    },
    {
     "data": {
      "text/plain": [
       "<Figure size 432x288 with 1 Axes>"
      ],
      "image/png": "[encoded data removed]"
     },
     "metadata": {},
     "output_type": "display_data"
    },
    {
     "name": "stdout",
     "output_type": "stream",
     "text": [
      "column name Gas\n"
     ]
    },
    {
     "data": {
      "text/plain": [
       "<Figure size 432x288 with 1 Axes>"
      ],
      "image/png": "[encoded data removed]"
     },
     "metadata": {},
     "output_type": "display_data"
    },
    {
     "name": "stdout",
     "output_type": "stream",
     "text": [
      "column name Cement\n"
     ]
    },
    {
     "data": {
      "text/plain": [
       "<Figure size 432x288 with 1 Axes>"
      ],
      "image/png": "[encoded data removed]"
     },
     "metadata": {},
     "output_type": "display_data"
    },
    {
     "name": "stdout",
     "output_type": "stream",
     "text": [
      "column name Flaring\n"
     ]
    },
    {
     "data": {
      "text/plain": [
       "<Figure size 432x288 with 1 Axes>"
      ],
      "image/png": "[encoded data removed]"
     },
     "metadata": {},
     "output_type": "display_data"
    },
    {
     "name": "stdout",
     "output_type": "stream",
     "text": [
      "column name Per Capita\n"
     ]
    }
   ],
   "execution_count": 87
  },
  {
   "metadata": {},
   "cell_type": "markdown",
   "source": "### We know that if the column data density is normal distribution then we need to take the mean. Whereas if the data is skewed then we need to take median or mode. Therefore, with the distribution graph we will take the decision. ",
   "id": "aefa0b7bde52aa1e"
  },
  {
   "metadata": {
    "ExecuteTime": {
     "end_time": "2024-09-26T17:22:09.988772Z",
     "start_time": "2024-09-26T17:22:09.981776Z"
    }
   },
   "cell_type": "code",
   "source": [
    "normal_distribution_columns = ['Temperature','Year', 'GDP Per Capita (USD)']\n",
    "skewed_distributed_columns = list(set(numerical).difference(set(normal_distribution_columns))) \n",
    "\n",
    "print(f'skewed_distributed_columns:{skewed_distributed_columns}')\n",
    "print(f'normal_distribution_columns:{normal_distribution_columns}')"
   ],
   "id": "8cd7d5e4f10c9a44",
   "outputs": [
    {
     "name": "stdout",
     "output_type": "stream",
     "text": [
      "skewed_distributed_columns:['Gas', 'Oil', 'Total', 'Cement', 'Flaring', 'Per Capita', 'Coal']\n",
      "normal_distribution_columns:['Temperature', 'Year', 'GDP Per Capita (USD)']\n"
     ]
    }
   ],
   "execution_count": 88
  },
  {
   "metadata": {
    "ExecuteTime": {
     "end_time": "2024-09-26T17:22:11.741466Z",
     "start_time": "2024-09-26T17:22:11.722472Z"
    }
   },
   "cell_type": "code",
   "source": [
    "for i in normal_distribution_columns:\n",
    "        mean = df_1[i].mean()\n",
    "        df_1[i].fillna(math.ceil(mean),inplace=True)\n",
    "\n",
    "for i in skewed_distributed_columns:\n",
    "        median_value = df_1[i].median()\n",
    "        df_1[i].fillna(median_value,inplace=True)"
   ],
   "id": "a4dd0a670daebed8",
   "outputs": [],
   "execution_count": 89
  },
  {
   "metadata": {
    "ExecuteTime": {
     "end_time": "2024-09-26T17:22:13.466060Z",
     "start_time": "2024-09-26T17:22:13.443054Z"
    }
   },
   "cell_type": "code",
   "source": "print(df_1.isnull().sum())",
   "id": "6781b106fef7d93c",
   "outputs": [
    {
     "name": "stdout",
     "output_type": "stream",
     "text": [
      "Country                 0\n",
      "ISO 3166-1 alpha-3      0\n",
      "Year                    0\n",
      "Total                   0\n",
      "Temperature             0\n",
      "GDP Per Capita (USD)    0\n",
      "Coal                    0\n",
      "Oil                     0\n",
      "Gas                     0\n",
      "Cement                  0\n",
      "Flaring                 0\n",
      "Per Capita              0\n",
      "dtype: int64\n"
     ]
    }
   ],
   "execution_count": 90
  },
  {
   "metadata": {
    "ExecuteTime": {
     "end_time": "2024-09-26T17:22:16.125643Z",
     "start_time": "2024-09-26T17:22:15.566417Z"
    }
   },
   "cell_type": "code",
   "source": "df_1.to_csv('df-cleaning-itr-1.csv', index=False)",
   "id": "3b562846e50f493f",
   "outputs": [],
   "execution_count": 91
  },
  {
   "metadata": {
    "ExecuteTime": {
     "end_time": "2024-09-26T17:22:17.693629Z",
     "start_time": "2024-09-26T17:22:17.688639Z"
    }
   },
   "cell_type": "code",
   "source": "clean_df = df_1",
   "id": "7ebddc9525dd5aea",
   "outputs": [],
   "execution_count": 92
  },
  {
   "metadata": {
    "ExecuteTime": {
     "end_time": "2024-09-26T17:22:19.522737Z",
     "start_time": "2024-09-26T17:22:19.513578Z"
    }
   },
   "cell_type": "code",
   "source": "print(clean_df.shape)",
   "id": "804e956970637e6d",
   "outputs": [
    {
     "name": "stdout",
     "output_type": "stream",
     "text": [
      "(58210, 12)\n"
     ]
    }
   ],
   "execution_count": 93
  },
  {
   "metadata": {
    "ExecuteTime": {
     "end_time": "2024-09-26T17:22:21.432470Z",
     "start_time": "2024-09-26T17:22:21.425471Z"
    }
   },
   "cell_type": "code",
   "source": "clean_df = clean_df.rename({'ISO 3166-1 alpha-3': 'ISO'}, axis='columns')",
   "id": "424ccbe3a0fbe4c3",
   "outputs": [],
   "execution_count": 94
  },
  {
   "metadata": {
    "ExecuteTime": {
     "end_time": "2024-09-26T17:22:22.782467Z",
     "start_time": "2024-09-26T17:22:22.771467Z"
    }
   },
   "cell_type": "code",
   "source": "clean_df.head()",
   "id": "f753b7579a40e042",
   "outputs": [
    {
     "data": {
      "text/plain": [
       "       Country  ISO    Year  Total  Temperature  GDP Per Capita (USD)  \\\n",
       "0  Afghanistan  AFG  1750.0    0.0           70                 55455   \n",
       "1  Afghanistan  AFG  1751.0    0.0           66                 45101   \n",
       "2  Afghanistan  AFG  1752.0    0.0           72                 31891   \n",
       "3  Afghanistan  AFG  1753.0    0.0           44                 35466   \n",
       "4  Afghanistan  AFG  1754.0    0.0           21                 33247   \n",
       "\n",
       "       Coal       Oil  Gas    Cement  Flaring  Per Capita  \n",
       "0  0.322126  1.179808  0.0  0.028772      0.0    1.527148  \n",
       "1  0.322126  1.179808  0.0  0.028772      0.0    1.527148  \n",
       "2  0.322126  1.179808  0.0  0.028772      0.0    1.527148  \n",
       "3  0.322126  1.179808  0.0  0.028772      0.0    1.527148  \n",
       "4  0.322126  1.179808  0.0  0.028772      0.0    1.527148  "
      ],
      "text/html": [
       "<div>\n",
       "<style scoped>\n",
       "    .dataframe tbody tr th:only-of-type {\n",
       "        vertical-align: middle;\n",
       "    }\n",
       "\n",
       "    .dataframe tbody tr th {\n",
       "        vertical-align: top;\n",
       "    }\n",
       "\n",
       "    .dataframe thead th {\n",
       "        text-align: right;\n",
       "    }\n",
       "</style>\n",
       "<table border=\"1\" class=\"dataframe\">\n",
       "  <thead>\n",
       "    <tr style=\"text-align: right;\">\n",
       "      <th></th>\n",
       "      <th>Country</th>\n",
       "      <th>ISO</th>\n",
       "      <th>Year</th>\n",
       "      <th>Total</th>\n",
       "      <th>Temperature</th>\n",
       "      <th>GDP Per Capita (USD)</th>\n",
       "      <th>Coal</th>\n",
       "      <th>Oil</th>\n",
       "      <th>Gas</th>\n",
       "      <th>Cement</th>\n",
       "      <th>Flaring</th>\n",
       "      <th>Per Capita</th>\n",
       "    </tr>\n",
       "  </thead>\n",
       "  <tbody>\n",
       "    <tr>\n",
       "      <th>0</th>\n",
       "      <td>Afghanistan</td>\n",
       "      <td>AFG</td>\n",
       "      <td>1750.0</td>\n",
       "      <td>0.0</td>\n",
       "      <td>70</td>\n",
       "      <td>55455</td>\n",
       "      <td>0.322126</td>\n",
       "      <td>1.179808</td>\n",
       "      <td>0.0</td>\n",
       "      <td>0.028772</td>\n",
       "      <td>0.0</td>\n",
       "      <td>1.527148</td>\n",
       "    </tr>\n",
       "    <tr>\n",
       "      <th>1</th>\n",
       "      <td>Afghanistan</td>\n",
       "      <td>AFG</td>\n",
       "      <td>1751.0</td>\n",
       "      <td>0.0</td>\n",
       "      <td>66</td>\n",
       "      <td>45101</td>\n",
       "      <td>0.322126</td>\n",
       "      <td>1.179808</td>\n",
       "      <td>0.0</td>\n",
       "      <td>0.028772</td>\n",
       "      <td>0.0</td>\n",
       "      <td>1.527148</td>\n",
       "    </tr>\n",
       "    <tr>\n",
       "      <th>2</th>\n",
       "      <td>Afghanistan</td>\n",
       "      <td>AFG</td>\n",
       "      <td>1752.0</td>\n",
       "      <td>0.0</td>\n",
       "      <td>72</td>\n",
       "      <td>31891</td>\n",
       "      <td>0.322126</td>\n",
       "      <td>1.179808</td>\n",
       "      <td>0.0</td>\n",
       "      <td>0.028772</td>\n",
       "      <td>0.0</td>\n",
       "      <td>1.527148</td>\n",
       "    </tr>\n",
       "    <tr>\n",
       "      <th>3</th>\n",
       "      <td>Afghanistan</td>\n",
       "      <td>AFG</td>\n",
       "      <td>1753.0</td>\n",
       "      <td>0.0</td>\n",
       "      <td>44</td>\n",
       "      <td>35466</td>\n",
       "      <td>0.322126</td>\n",
       "      <td>1.179808</td>\n",
       "      <td>0.0</td>\n",
       "      <td>0.028772</td>\n",
       "      <td>0.0</td>\n",
       "      <td>1.527148</td>\n",
       "    </tr>\n",
       "    <tr>\n",
       "      <th>4</th>\n",
       "      <td>Afghanistan</td>\n",
       "      <td>AFG</td>\n",
       "      <td>1754.0</td>\n",
       "      <td>0.0</td>\n",
       "      <td>21</td>\n",
       "      <td>33247</td>\n",
       "      <td>0.322126</td>\n",
       "      <td>1.179808</td>\n",
       "      <td>0.0</td>\n",
       "      <td>0.028772</td>\n",
       "      <td>0.0</td>\n",
       "      <td>1.527148</td>\n",
       "    </tr>\n",
       "  </tbody>\n",
       "</table>\n",
       "</div>"
      ]
     },
     "execution_count": 95,
     "metadata": {},
     "output_type": "execute_result"
    }
   ],
   "execution_count": 95
  },
  {
   "metadata": {
    "ExecuteTime": {
     "end_time": "2024-09-26T17:22:25.126843Z",
     "start_time": "2024-09-26T17:22:25.094779Z"
    }
   },
   "cell_type": "code",
   "source": "clean_df['Country']=clean_df['Country'].str.upper()",
   "id": "27b794393531f9f",
   "outputs": [],
   "execution_count": 96
  },
  {
   "metadata": {
    "ExecuteTime": {
     "end_time": "2024-09-26T17:22:26.239613Z",
     "start_time": "2024-09-26T17:22:26.218192Z"
    }
   },
   "cell_type": "code",
   "source": "clean_df['ISO'] = clean_df['ISO'].str.upper()",
   "id": "5afe7233fa76e476",
   "outputs": [],
   "execution_count": 97
  },
  {
   "metadata": {
    "ExecuteTime": {
     "end_time": "2024-09-26T17:22:27.632151Z",
     "start_time": "2024-09-26T17:22:27.611611Z"
    }
   },
   "cell_type": "code",
   "source": "clean_df.head()",
   "id": "ab17a0d1ea100d54",
   "outputs": [
    {
     "data": {
      "text/plain": [
       "       Country  ISO    Year  Total  Temperature  GDP Per Capita (USD)  \\\n",
       "0  AFGHANISTAN  AFG  1750.0    0.0           70                 55455   \n",
       "1  AFGHANISTAN  AFG  1751.0    0.0           66                 45101   \n",
       "2  AFGHANISTAN  AFG  1752.0    0.0           72                 31891   \n",
       "3  AFGHANISTAN  AFG  1753.0    0.0           44                 35466   \n",
       "4  AFGHANISTAN  AFG  1754.0    0.0           21                 33247   \n",
       "\n",
       "       Coal       Oil  Gas    Cement  Flaring  Per Capita  \n",
       "0  0.322126  1.179808  0.0  0.028772      0.0    1.527148  \n",
       "1  0.322126  1.179808  0.0  0.028772      0.0    1.527148  \n",
       "2  0.322126  1.179808  0.0  0.028772      0.0    1.527148  \n",
       "3  0.322126  1.179808  0.0  0.028772      0.0    1.527148  \n",
       "4  0.322126  1.179808  0.0  0.028772      0.0    1.527148  "
      ],
      "text/html": [
       "<div>\n",
       "<style scoped>\n",
       "    .dataframe tbody tr th:only-of-type {\n",
       "        vertical-align: middle;\n",
       "    }\n",
       "\n",
       "    .dataframe tbody tr th {\n",
       "        vertical-align: top;\n",
       "    }\n",
       "\n",
       "    .dataframe thead th {\n",
       "        text-align: right;\n",
       "    }\n",
       "</style>\n",
       "<table border=\"1\" class=\"dataframe\">\n",
       "  <thead>\n",
       "    <tr style=\"text-align: right;\">\n",
       "      <th></th>\n",
       "      <th>Country</th>\n",
       "      <th>ISO</th>\n",
       "      <th>Year</th>\n",
       "      <th>Total</th>\n",
       "      <th>Temperature</th>\n",
       "      <th>GDP Per Capita (USD)</th>\n",
       "      <th>Coal</th>\n",
       "      <th>Oil</th>\n",
       "      <th>Gas</th>\n",
       "      <th>Cement</th>\n",
       "      <th>Flaring</th>\n",
       "      <th>Per Capita</th>\n",
       "    </tr>\n",
       "  </thead>\n",
       "  <tbody>\n",
       "    <tr>\n",
       "      <th>0</th>\n",
       "      <td>AFGHANISTAN</td>\n",
       "      <td>AFG</td>\n",
       "      <td>1750.0</td>\n",
       "      <td>0.0</td>\n",
       "      <td>70</td>\n",
       "      <td>55455</td>\n",
       "      <td>0.322126</td>\n",
       "      <td>1.179808</td>\n",
       "      <td>0.0</td>\n",
       "      <td>0.028772</td>\n",
       "      <td>0.0</td>\n",
       "      <td>1.527148</td>\n",
       "    </tr>\n",
       "    <tr>\n",
       "      <th>1</th>\n",
       "      <td>AFGHANISTAN</td>\n",
       "      <td>AFG</td>\n",
       "      <td>1751.0</td>\n",
       "      <td>0.0</td>\n",
       "      <td>66</td>\n",
       "      <td>45101</td>\n",
       "      <td>0.322126</td>\n",
       "      <td>1.179808</td>\n",
       "      <td>0.0</td>\n",
       "      <td>0.028772</td>\n",
       "      <td>0.0</td>\n",
       "      <td>1.527148</td>\n",
       "    </tr>\n",
       "    <tr>\n",
       "      <th>2</th>\n",
       "      <td>AFGHANISTAN</td>\n",
       "      <td>AFG</td>\n",
       "      <td>1752.0</td>\n",
       "      <td>0.0</td>\n",
       "      <td>72</td>\n",
       "      <td>31891</td>\n",
       "      <td>0.322126</td>\n",
       "      <td>1.179808</td>\n",
       "      <td>0.0</td>\n",
       "      <td>0.028772</td>\n",
       "      <td>0.0</td>\n",
       "      <td>1.527148</td>\n",
       "    </tr>\n",
       "    <tr>\n",
       "      <th>3</th>\n",
       "      <td>AFGHANISTAN</td>\n",
       "      <td>AFG</td>\n",
       "      <td>1753.0</td>\n",
       "      <td>0.0</td>\n",
       "      <td>44</td>\n",
       "      <td>35466</td>\n",
       "      <td>0.322126</td>\n",
       "      <td>1.179808</td>\n",
       "      <td>0.0</td>\n",
       "      <td>0.028772</td>\n",
       "      <td>0.0</td>\n",
       "      <td>1.527148</td>\n",
       "    </tr>\n",
       "    <tr>\n",
       "      <th>4</th>\n",
       "      <td>AFGHANISTAN</td>\n",
       "      <td>AFG</td>\n",
       "      <td>1754.0</td>\n",
       "      <td>0.0</td>\n",
       "      <td>21</td>\n",
       "      <td>33247</td>\n",
       "      <td>0.322126</td>\n",
       "      <td>1.179808</td>\n",
       "      <td>0.0</td>\n",
       "      <td>0.028772</td>\n",
       "      <td>0.0</td>\n",
       "      <td>1.527148</td>\n",
       "    </tr>\n",
       "  </tbody>\n",
       "</table>\n",
       "</div>"
      ]
     },
     "execution_count": 98,
     "metadata": {},
     "output_type": "execute_result"
    }
   ],
   "execution_count": 98
  },
  {
   "metadata": {},
   "cell_type": "markdown",
   "source": "EDA Graphical exploration ",
   "id": "2154f606104e8072"
  },
  {
   "metadata": {
    "ExecuteTime": {
     "end_time": "2024-09-26T17:22:30.898Z",
     "start_time": "2024-09-26T17:22:29.754795Z"
    }
   },
   "cell_type": "code",
   "source": [
    "numeric_df = clean_df.select_dtypes(include=['float64','int64'])\n",
    "matrix = numeric_df.corr()\n",
    "plt.figure(figsize=(10, 8))\n",
    "sns.heatmap(matrix, annot=True)\n",
    "plt.title('Correlation Matrix')\n",
    "plt.show()"
   ],
   "id": "6248127fe66f4167",
   "outputs": [
    {
     "data": {
      "text/plain": [
       "<Figure size 720x576 with 2 Axes>"
      ],
      "image/png": "[encoded data removed]"
     },
     "metadata": {},
     "output_type": "display_data"
    }
   ],
   "execution_count": 99
  },
  {
   "metadata": {},
   "cell_type": "markdown",
   "source": "### We can observe that with the data, we dont see much of a correlation between temperature and the natural resources production. This can mean a multitude of things, including questioning the accuracy of the data. But the interesting part is the correlation between per capita and the natural resources. Which can shed light on how much consumption of natural resources increase as per increase in per capita. We low key know that energy consumption increases with per capita increase, so we can select Per capita as a target variable and find this positive association is true or not. ",
   "id": "4ad96b98900a84b5"
  },
  {
   "metadata": {
    "ExecuteTime": {
     "end_time": "2024-09-26T17:22:36.580873Z",
     "start_time": "2024-09-26T17:22:36.365165Z"
    }
   },
   "cell_type": "code",
   "source": [
    "country='USA'\n",
    "temp_to_year_df = clean_df[['Country','Year','Temperature']]\n",
    "country_data = temp_to_year_df[temp_to_year_df['Country'] == country]\n",
    "sns.lineplot(x='Year', y='Temperature', data=country_data)\n",
    "plt.title(f\"Temperature Variations for {country}\")\n",
    "plt.xlabel(\"Year\")\n",
    "plt.ylabel(\"Temperature\")\n",
    "plt.show()"
   ],
   "id": "a368ec035b357a6f",
   "outputs": [
    {
     "data": {
      "text/plain": [
       "<Figure size 432x288 with 1 Axes>"
      ],
      "image/png": "[encoded data removed]"
     },
     "metadata": {},
     "output_type": "display_data"
    }
   ],
   "execution_count": 100
  },
  {
   "metadata": {},
   "cell_type": "markdown",
   "source": "This particular analysis shows further gap in the data. There exists data pointing to future as well. We will delete all these entries and put it to clean_df",
   "id": "3ca68bb643bfe3a"
  },
  {
   "metadata": {
    "ExecuteTime": {
     "end_time": "2024-09-26T17:22:38.966084Z",
     "start_time": "2024-09-26T17:22:38.952080Z"
    }
   },
   "cell_type": "code",
   "source": "clean_df = clean_df.loc[clean_df['Year'] < 2024]",
   "id": "e34d13b480b531fc",
   "outputs": [],
   "execution_count": 101
  },
  {
   "metadata": {},
   "cell_type": "markdown",
   "source": "This operation should eliminate undesired future dates.",
   "id": "705454ed98edbb0a"
  },
  {
   "metadata": {
    "ExecuteTime": {
     "end_time": "2024-09-26T17:22:41.044164Z",
     "start_time": "2024-09-26T17:22:40.840457Z"
    }
   },
   "cell_type": "code",
   "source": [
    "country='USA'\n",
    "temp_to_year_df = clean_df[['Country','Year','Temperature']]\n",
    "country_data = temp_to_year_df[temp_to_year_df['Country'] == country]\n",
    "sns.lineplot(x='Year', y='Temperature', data=country_data)\n",
    "plt.title(f\"Temperature Variations for {country}\")\n",
    "plt.xlabel(\"Year\")\n",
    "plt.ylabel(\"Temperature\")\n",
    "plt.show()"
   ],
   "id": "71ec3f536ffadacd",
   "outputs": [
    {
     "data": {
      "text/plain": [
       "<Figure size 432x288 with 1 Axes>"
      ],
      "image/png": "[encoded data removed]"
     },
     "metadata": {},
     "output_type": "display_data"
    }
   ],
   "execution_count": 102
  },
  {
   "metadata": {
    "ExecuteTime": {
     "end_time": "2024-09-26T17:22:43.717580Z",
     "start_time": "2024-09-26T17:22:43.444351Z"
    }
   },
   "cell_type": "code",
   "source": [
    "plt.scatter(clean_df['Year'], clean_df['GDP Per Capita (USD)'])\n",
    "plt.xlabel('Year')\n",
    "plt.ylabel('Per Capita')\n",
    "plt.title('Scatter Plot of Year vs. Per Capita')\n",
    "plt.grid(True)\n",
    "plt.show()"
   ],
   "id": "c685c14a895827de",
   "outputs": [
    {
     "data": {
      "text/plain": [
       "<Figure size 432x288 with 1 Axes>"
      ],
      "image/png": "[encoded data removed]"
     },
     "metadata": {},
     "output_type": "display_data"
    }
   ],
   "execution_count": 103
  },
  {
   "metadata": {
    "ExecuteTime": {
     "end_time": "2024-09-26T17:23:25.858762Z",
     "start_time": "2024-09-26T17:23:25.842383Z"
    }
   },
   "cell_type": "code",
   "source": "clean_df = clean_df.loc[clean_df['Year'] != 0]\n",
   "id": "11afec338b961723",
   "outputs": [],
   "execution_count": 105
  },
  {
   "metadata": {
    "ExecuteTime": {
     "end_time": "2024-09-26T17:23:27.397566Z",
     "start_time": "2024-09-26T17:23:27.101945Z"
    }
   },
   "cell_type": "code",
   "source": [
    "plt.scatter(clean_df['Year'], clean_df['GDP Per Capita (USD)'])\n",
    "plt.xlabel('Year')\n",
    "plt.ylabel('Per Capita')\n",
    "plt.title('Scatter Plot of Year vs. Per Capita')\n",
    "plt.grid(True)\n",
    "plt.show()"
   ],
   "id": "597e0301965e2605",
   "outputs": [
    {
     "data": {
      "text/plain": [
       "<Figure size 432x288 with 1 Axes>"
      ],
      "image/png": "[encoded data removed]"
     },
     "metadata": {},
     "output_type": "display_data"
    }
   ],
   "execution_count": 106
  },
  {
   "metadata": {
    "ExecuteTime": {
     "end_time": "2024-09-26T17:23:31.176398Z",
     "start_time": "2024-09-26T17:23:29.626454Z"
    }
   },
   "cell_type": "code",
   "source": [
    "for c in clean_df.select_dtypes(include=['int64','float64']).columns:\n",
    "    plt.figure(figsize=(10, 6))\n",
    "    sns.boxplot(x=clean_df[c])\n",
    "    plt.show()"
   ],
   "id": "c920670a9839f961",
   "outputs": [
    {
     "data": {
      "text/plain": [
       "<Figure size 720x432 with 1 Axes>"
      ],
      "image/png": "[encoded data removed]"
     },
     "metadata": {},
     "output_type": "display_data"
    },
    {
     "data": {
      "text/plain": [
       "<Figure size 720x432 with 1 Axes>"
      ],
      "image/png": "[encoded data removed]"
     },
     "metadata": {},
     "output_type": "display_data"
    },
    {
     "data": {
      "text/plain": [
       "<Figure size 720x432 with 1 Axes>"
      ],
      "image/png": "[encoded data removed]"
     },
     "metadata": {},
     "output_type": "display_data"
    },
    {
     "data": {
      "text/plain": [
       "<Figure size 720x432 with 1 Axes>"
      ],
      "image/png": "[encoded data removed]"
     },
     "metadata": {},
     "output_type": "display_data"
    },
    {
     "data": {
      "text/plain": [
       "<Figure size 720x432 with 1 Axes>"
      ],
      "image/png": "[encoded data removed]"
     },
     "metadata": {},
     "output_type": "display_data"
    },
    {
     "data": {
      "text/plain": [
       "<Figure size 720x432 with 1 Axes>"
      ],
      "image/png": "[encoded data removed]"
     },
     "metadata": {},
     "output_type": "display_data"
    },
    {
     "data": {
      "text/plain": [
       "<Figure size 720x432 with 1 Axes>"
      ],
      "image/png": "[encoded data removed]"
     },
     "metadata": {},
     "output_type": "display_data"
    },
    {
     "data": {
      "text/plain": [
       "<Figure size 720x432 with 1 Axes>"
      ],
      "image/png": "[encoded data removed]"
     },
     "metadata": {},
     "output_type": "display_data"
    },
    {
     "data": {
      "text/plain": [
       "<Figure size 720x432 with 1 Axes>"
      ],
      "image/png": "[encoded data removed]"
     },
     "metadata": {},
     "output_type": "display_data"
    },
    {
     "data": {
      "text/plain": [
       "<Figure size 720x432 with 1 Axes>"
      ],
      "image/png": "[encoded data removed]"
     },
     "metadata": {},
     "output_type": "display_data"
    }
   ],
   "execution_count": 107
  },
  {
   "metadata": {
    "ExecuteTime": {
     "end_time": "2024-09-26T17:23:39.691732Z",
     "start_time": "2024-09-26T17:23:39.630720Z"
    }
   },
   "cell_type": "code",
   "source": [
    "df_zscore = clean_df.copy()\n",
    "for i in df.select_dtypes(include=['int64','float64']).columns:\n",
    "  z_score_column = i + '_z-score'\n",
    "  df_zscore[z_score_column] = (df[i] - df[i].mean()) / df[i].std()"
   ],
   "id": "ce40203193c23d9e",
   "outputs": [],
   "execution_count": 108
  },
  {
   "metadata": {
    "ExecuteTime": {
     "end_time": "2024-09-26T17:23:41.124290Z",
     "start_time": "2024-09-26T17:23:41.101716Z"
    }
   },
   "cell_type": "code",
   "source": "df_zscore.head()\n",
   "id": "ebc97e5d9e618e07",
   "outputs": [
    {
     "data": {
      "text/plain": [
       "       Country  ISO    Year  Total  Temperature  GDP Per Capita (USD)  \\\n",
       "0  AFGHANISTAN  AFG  1750.0    0.0           70                 55455   \n",
       "1  AFGHANISTAN  AFG  1751.0    0.0           66                 45101   \n",
       "2  AFGHANISTAN  AFG  1752.0    0.0           72                 31891   \n",
       "3  AFGHANISTAN  AFG  1753.0    0.0           44                 35466   \n",
       "4  AFGHANISTAN  AFG  1754.0    0.0           21                 33247   \n",
       "\n",
       "       Coal       Oil  Gas    Cement  ...  Year_z-score  Total_z-score  \\\n",
       "0  0.322126  1.179808  0.0  0.028772  ...     -1.127320       -0.08731   \n",
       "1  0.322126  1.179808  0.0  0.028772  ...     -1.119167       -0.08731   \n",
       "2  0.322126  1.179808  0.0  0.028772  ...     -1.111013       -0.08731   \n",
       "3  0.322126  1.179808  0.0  0.028772  ...     -1.102860       -0.08731   \n",
       "4  0.322126  1.179808  0.0  0.028772  ...     -1.094707       -0.08731   \n",
       "\n",
       "   Temperature_z-score  GDP Per Capita (USD)_z-score  Coal_z-score  \\\n",
       "0             1.185639                      1.496825           NaN   \n",
       "1             0.954320                      0.553454           NaN   \n",
       "2             1.301299                     -0.650131           NaN   \n",
       "3            -0.317938                     -0.324407           NaN   \n",
       "4            -1.648026                     -0.526584           NaN   \n",
       "\n",
       "   Oil_z-score  Gas_z-score  Cement_z-score  Flaring_z-score  \\\n",
       "0          NaN          NaN             NaN              NaN   \n",
       "1          NaN          NaN             NaN              NaN   \n",
       "2          NaN          NaN             NaN              NaN   \n",
       "3          NaN          NaN             NaN              NaN   \n",
       "4          NaN          NaN             NaN              NaN   \n",
       "\n",
       "   Per Capita_z-score  \n",
       "0                 NaN  \n",
       "1                 NaN  \n",
       "2                 NaN  \n",
       "3                 NaN  \n",
       "4                 NaN  \n",
       "\n",
       "[5 rows x 22 columns]"
      ],
      "text/html": [
       "<div>\n",
       "<style scoped>\n",
       "    .dataframe tbody tr th:only-of-type {\n",
       "        vertical-align: middle;\n",
       "    }\n",
       "\n",
       "    .dataframe tbody tr th {\n",
       "        vertical-align: top;\n",
       "    }\n",
       "\n",
       "    .dataframe thead th {\n",
       "        text-align: right;\n",
       "    }\n",
       "</style>\n",
       "<table border=\"1\" class=\"dataframe\">\n",
       "  <thead>\n",
       "    <tr style=\"text-align: right;\">\n",
       "      <th></th>\n",
       "      <th>Country</th>\n",
       "      <th>ISO</th>\n",
       "      <th>Year</th>\n",
       "      <th>Total</th>\n",
       "      <th>Temperature</th>\n",
       "      <th>GDP Per Capita (USD)</th>\n",
       "      <th>Coal</th>\n",
       "      <th>Oil</th>\n",
       "      <th>Gas</th>\n",
       "      <th>Cement</th>\n",
       "      <th>...</th>\n",
       "      <th>Year_z-score</th>\n",
       "      <th>Total_z-score</th>\n",
       "      <th>Temperature_z-score</th>\n",
       "      <th>GDP Per Capita (USD)_z-score</th>\n",
       "      <th>Coal_z-score</th>\n",
       "      <th>Oil_z-score</th>\n",
       "      <th>Gas_z-score</th>\n",
       "      <th>Cement_z-score</th>\n",
       "      <th>Flaring_z-score</th>\n",
       "      <th>Per Capita_z-score</th>\n",
       "    </tr>\n",
       "  </thead>\n",
       "  <tbody>\n",
       "    <tr>\n",
       "      <th>0</th>\n",
       "      <td>AFGHANISTAN</td>\n",
       "      <td>AFG</td>\n",
       "      <td>1750.0</td>\n",
       "      <td>0.0</td>\n",
       "      <td>70</td>\n",
       "      <td>55455</td>\n",
       "      <td>0.322126</td>\n",
       "      <td>1.179808</td>\n",
       "      <td>0.0</td>\n",
       "      <td>0.028772</td>\n",
       "      <td>...</td>\n",
       "      <td>-1.127320</td>\n",
       "      <td>-0.08731</td>\n",
       "      <td>1.185639</td>\n",
       "      <td>1.496825</td>\n",
       "      <td>NaN</td>\n",
       "      <td>NaN</td>\n",
       "      <td>NaN</td>\n",
       "      <td>NaN</td>\n",
       "      <td>NaN</td>\n",
       "      <td>NaN</td>\n",
       "    </tr>\n",
       "    <tr>\n",
       "      <th>1</th>\n",
       "      <td>AFGHANISTAN</td>\n",
       "      <td>AFG</td>\n",
       "      <td>1751.0</td>\n",
       "      <td>0.0</td>\n",
       "      <td>66</td>\n",
       "      <td>45101</td>\n",
       "      <td>0.322126</td>\n",
       "      <td>1.179808</td>\n",
       "      <td>0.0</td>\n",
       "      <td>0.028772</td>\n",
       "      <td>...</td>\n",
       "      <td>-1.119167</td>\n",
       "      <td>-0.08731</td>\n",
       "      <td>0.954320</td>\n",
       "      <td>0.553454</td>\n",
       "      <td>NaN</td>\n",
       "      <td>NaN</td>\n",
       "      <td>NaN</td>\n",
       "      <td>NaN</td>\n",
       "      <td>NaN</td>\n",
       "      <td>NaN</td>\n",
       "    </tr>\n",
       "    <tr>\n",
       "      <th>2</th>\n",
       "      <td>AFGHANISTAN</td>\n",
       "      <td>AFG</td>\n",
       "      <td>1752.0</td>\n",
       "      <td>0.0</td>\n",
       "      <td>72</td>\n",
       "      <td>31891</td>\n",
       "      <td>0.322126</td>\n",
       "      <td>1.179808</td>\n",
       "      <td>0.0</td>\n",
       "      <td>0.028772</td>\n",
       "      <td>...</td>\n",
       "      <td>-1.111013</td>\n",
       "      <td>-0.08731</td>\n",
       "      <td>1.301299</td>\n",
       "      <td>-0.650131</td>\n",
       "      <td>NaN</td>\n",
       "      <td>NaN</td>\n",
       "      <td>NaN</td>\n",
       "      <td>NaN</td>\n",
       "      <td>NaN</td>\n",
       "      <td>NaN</td>\n",
       "    </tr>\n",
       "    <tr>\n",
       "      <th>3</th>\n",
       "      <td>AFGHANISTAN</td>\n",
       "      <td>AFG</td>\n",
       "      <td>1753.0</td>\n",
       "      <td>0.0</td>\n",
       "      <td>44</td>\n",
       "      <td>35466</td>\n",
       "      <td>0.322126</td>\n",
       "      <td>1.179808</td>\n",
       "      <td>0.0</td>\n",
       "      <td>0.028772</td>\n",
       "      <td>...</td>\n",
       "      <td>-1.102860</td>\n",
       "      <td>-0.08731</td>\n",
       "      <td>-0.317938</td>\n",
       "      <td>-0.324407</td>\n",
       "      <td>NaN</td>\n",
       "      <td>NaN</td>\n",
       "      <td>NaN</td>\n",
       "      <td>NaN</td>\n",
       "      <td>NaN</td>\n",
       "      <td>NaN</td>\n",
       "    </tr>\n",
       "    <tr>\n",
       "      <th>4</th>\n",
       "      <td>AFGHANISTAN</td>\n",
       "      <td>AFG</td>\n",
       "      <td>1754.0</td>\n",
       "      <td>0.0</td>\n",
       "      <td>21</td>\n",
       "      <td>33247</td>\n",
       "      <td>0.322126</td>\n",
       "      <td>1.179808</td>\n",
       "      <td>0.0</td>\n",
       "      <td>0.028772</td>\n",
       "      <td>...</td>\n",
       "      <td>-1.094707</td>\n",
       "      <td>-0.08731</td>\n",
       "      <td>-1.648026</td>\n",
       "      <td>-0.526584</td>\n",
       "      <td>NaN</td>\n",
       "      <td>NaN</td>\n",
       "      <td>NaN</td>\n",
       "      <td>NaN</td>\n",
       "      <td>NaN</td>\n",
       "      <td>NaN</td>\n",
       "    </tr>\n",
       "  </tbody>\n",
       "</table>\n",
       "<p>5 rows × 22 columns</p>\n",
       "</div>"
      ]
     },
     "execution_count": 109,
     "metadata": {},
     "output_type": "execute_result"
    }
   ],
   "execution_count": 109
  },
  {
   "metadata": {
    "ExecuteTime": {
     "end_time": "2024-09-26T17:23:44.565336Z",
     "start_time": "2024-09-26T17:23:44.557342Z"
    }
   },
   "cell_type": "code",
   "source": "df_zscore.shape",
   "id": "769083d841d2b66",
   "outputs": [
    {
     "data": {
      "text/plain": [
       "(57888, 22)"
      ]
     },
     "execution_count": 110,
     "metadata": {},
     "output_type": "execute_result"
    }
   ],
   "execution_count": 110
  },
  {
   "metadata": {
    "ExecuteTime": {
     "end_time": "2024-09-26T17:23:46.359754Z",
     "start_time": "2024-09-26T17:23:46.324249Z"
    }
   },
   "cell_type": "code",
   "source": [
    "capture_outlier_column = []\n",
    "for i in df_zscore.columns[df_zscore.columns.str.endswith('_z-score')]:\n",
    "    outliers = df_zscore[df_zscore[i] > 3 ]\n",
    "    print(f\"Number of outliers in {i}: {len(outliers)}\")\n",
    "    if len(outliers) > 0:\n",
    "        capture_outlier_column.append(i)"
   ],
   "id": "affbdfc5a8c04cd0",
   "outputs": [
    {
     "name": "stdout",
     "output_type": "stream",
     "text": [
      "Number of outliers in Year_z-score: 0\n",
      "Number of outliers in Total_z-score: 240\n",
      "Number of outliers in Temperature_z-score: 0\n",
      "Number of outliers in GDP Per Capita (USD)_z-score: 0\n",
      "Number of outliers in Coal_z-score: 220\n",
      "Number of outliers in Oil_z-score: 246\n",
      "Number of outliers in Gas_z-score: 284\n",
      "Number of outliers in Cement_z-score: 213\n",
      "Number of outliers in Flaring_z-score: 195\n",
      "Number of outliers in Per Capita_z-score: 290\n"
     ]
    }
   ],
   "execution_count": 111
  },
  {
   "metadata": {
    "ExecuteTime": {
     "end_time": "2024-09-26T17:23:48.412069Z",
     "start_time": "2024-09-26T17:23:48.393387Z"
    }
   },
   "cell_type": "code",
   "source": "capture_outlier_column",
   "id": "30797a1e0e710314",
   "outputs": [
    {
     "data": {
      "text/plain": [
       "['Total_z-score',\n",
       " 'Coal_z-score',\n",
       " 'Oil_z-score',\n",
       " 'Gas_z-score',\n",
       " 'Cement_z-score',\n",
       " 'Flaring_z-score',\n",
       " 'Per Capita_z-score']"
      ]
     },
     "execution_count": 112,
     "metadata": {},
     "output_type": "execute_result"
    }
   ],
   "execution_count": 112
  },
  {
   "metadata": {
    "ExecuteTime": {
     "end_time": "2024-09-26T17:23:49.982618Z",
     "start_time": "2024-09-26T17:23:49.889766Z"
    }
   },
   "cell_type": "code",
   "source": [
    "for i in capture_outlier_column:\n",
    "    df_zscore = df_zscore.drop(df_zscore.loc[df_zscore[i] > 3].index)"
   ],
   "id": "543889b0fe1648e4",
   "outputs": [],
   "execution_count": 113
  },
  {
   "metadata": {
    "ExecuteTime": {
     "end_time": "2024-09-26T17:23:51.143576Z",
     "start_time": "2024-09-26T17:23:51.118059Z"
    }
   },
   "cell_type": "code",
   "source": "df_zscore.head()",
   "id": "78bcb78a0695c1e6",
   "outputs": [
    {
     "data": {
      "text/plain": [
       "       Country  ISO    Year  Total  Temperature  GDP Per Capita (USD)  \\\n",
       "0  AFGHANISTAN  AFG  1750.0    0.0           70                 55455   \n",
       "1  AFGHANISTAN  AFG  1751.0    0.0           66                 45101   \n",
       "2  AFGHANISTAN  AFG  1752.0    0.0           72                 31891   \n",
       "3  AFGHANISTAN  AFG  1753.0    0.0           44                 35466   \n",
       "4  AFGHANISTAN  AFG  1754.0    0.0           21                 33247   \n",
       "\n",
       "       Coal       Oil  Gas    Cement  ...  Year_z-score  Total_z-score  \\\n",
       "0  0.322126  1.179808  0.0  0.028772  ...     -1.127320       -0.08731   \n",
       "1  0.322126  1.179808  0.0  0.028772  ...     -1.119167       -0.08731   \n",
       "2  0.322126  1.179808  0.0  0.028772  ...     -1.111013       -0.08731   \n",
       "3  0.322126  1.179808  0.0  0.028772  ...     -1.102860       -0.08731   \n",
       "4  0.322126  1.179808  0.0  0.028772  ...     -1.094707       -0.08731   \n",
       "\n",
       "   Temperature_z-score  GDP Per Capita (USD)_z-score  Coal_z-score  \\\n",
       "0             1.185639                      1.496825           NaN   \n",
       "1             0.954320                      0.553454           NaN   \n",
       "2             1.301299                     -0.650131           NaN   \n",
       "3            -0.317938                     -0.324407           NaN   \n",
       "4            -1.648026                     -0.526584           NaN   \n",
       "\n",
       "   Oil_z-score  Gas_z-score  Cement_z-score  Flaring_z-score  \\\n",
       "0          NaN          NaN             NaN              NaN   \n",
       "1          NaN          NaN             NaN              NaN   \n",
       "2          NaN          NaN             NaN              NaN   \n",
       "3          NaN          NaN             NaN              NaN   \n",
       "4          NaN          NaN             NaN              NaN   \n",
       "\n",
       "   Per Capita_z-score  \n",
       "0                 NaN  \n",
       "1                 NaN  \n",
       "2                 NaN  \n",
       "3                 NaN  \n",
       "4                 NaN  \n",
       "\n",
       "[5 rows x 22 columns]"
      ],
      "text/html": [
       "<div>\n",
       "<style scoped>\n",
       "    .dataframe tbody tr th:only-of-type {\n",
       "        vertical-align: middle;\n",
       "    }\n",
       "\n",
       "    .dataframe tbody tr th {\n",
       "        vertical-align: top;\n",
       "    }\n",
       "\n",
       "    .dataframe thead th {\n",
       "        text-align: right;\n",
       "    }\n",
       "</style>\n",
       "<table border=\"1\" class=\"dataframe\">\n",
       "  <thead>\n",
       "    <tr style=\"text-align: right;\">\n",
       "      <th></th>\n",
       "      <th>Country</th>\n",
       "      <th>ISO</th>\n",
       "      <th>Year</th>\n",
       "      <th>Total</th>\n",
       "      <th>Temperature</th>\n",
       "      <th>GDP Per Capita (USD)</th>\n",
       "      <th>Coal</th>\n",
       "      <th>Oil</th>\n",
       "      <th>Gas</th>\n",
       "      <th>Cement</th>\n",
       "      <th>...</th>\n",
       "      <th>Year_z-score</th>\n",
       "      <th>Total_z-score</th>\n",
       "      <th>Temperature_z-score</th>\n",
       "      <th>GDP Per Capita (USD)_z-score</th>\n",
       "      <th>Coal_z-score</th>\n",
       "      <th>Oil_z-score</th>\n",
       "      <th>Gas_z-score</th>\n",
       "      <th>Cement_z-score</th>\n",
       "      <th>Flaring_z-score</th>\n",
       "      <th>Per Capita_z-score</th>\n",
       "    </tr>\n",
       "  </thead>\n",
       "  <tbody>\n",
       "    <tr>\n",
       "      <th>0</th>\n",
       "      <td>AFGHANISTAN</td>\n",
       "      <td>AFG</td>\n",
       "      <td>1750.0</td>\n",
       "      <td>0.0</td>\n",
       "      <td>70</td>\n",
       "      <td>55455</td>\n",
       "      <td>0.322126</td>\n",
       "      <td>1.179808</td>\n",
       "      <td>0.0</td>\n",
       "      <td>0.028772</td>\n",
       "      <td>...</td>\n",
       "      <td>-1.127320</td>\n",
       "      <td>-0.08731</td>\n",
       "      <td>1.185639</td>\n",
       "      <td>1.496825</td>\n",
       "      <td>NaN</td>\n",
       "      <td>NaN</td>\n",
       "      <td>NaN</td>\n",
       "      <td>NaN</td>\n",
       "      <td>NaN</td>\n",
       "      <td>NaN</td>\n",
       "    </tr>\n",
       "    <tr>\n",
       "      <th>1</th>\n",
       "      <td>AFGHANISTAN</td>\n",
       "      <td>AFG</td>\n",
       "      <td>1751.0</td>\n",
       "      <td>0.0</td>\n",
       "      <td>66</td>\n",
       "      <td>45101</td>\n",
       "      <td>0.322126</td>\n",
       "      <td>1.179808</td>\n",
       "      <td>0.0</td>\n",
       "      <td>0.028772</td>\n",
       "      <td>...</td>\n",
       "      <td>-1.119167</td>\n",
       "      <td>-0.08731</td>\n",
       "      <td>0.954320</td>\n",
       "      <td>0.553454</td>\n",
       "      <td>NaN</td>\n",
       "      <td>NaN</td>\n",
       "      <td>NaN</td>\n",
       "      <td>NaN</td>\n",
       "      <td>NaN</td>\n",
       "      <td>NaN</td>\n",
       "    </tr>\n",
       "    <tr>\n",
       "      <th>2</th>\n",
       "      <td>AFGHANISTAN</td>\n",
       "      <td>AFG</td>\n",
       "      <td>1752.0</td>\n",
       "      <td>0.0</td>\n",
       "      <td>72</td>\n",
       "      <td>31891</td>\n",
       "      <td>0.322126</td>\n",
       "      <td>1.179808</td>\n",
       "      <td>0.0</td>\n",
       "      <td>0.028772</td>\n",
       "      <td>...</td>\n",
       "      <td>-1.111013</td>\n",
       "      <td>-0.08731</td>\n",
       "      <td>1.301299</td>\n",
       "      <td>-0.650131</td>\n",
       "      <td>NaN</td>\n",
       "      <td>NaN</td>\n",
       "      <td>NaN</td>\n",
       "      <td>NaN</td>\n",
       "      <td>NaN</td>\n",
       "      <td>NaN</td>\n",
       "    </tr>\n",
       "    <tr>\n",
       "      <th>3</th>\n",
       "      <td>AFGHANISTAN</td>\n",
       "      <td>AFG</td>\n",
       "      <td>1753.0</td>\n",
       "      <td>0.0</td>\n",
       "      <td>44</td>\n",
       "      <td>35466</td>\n",
       "      <td>0.322126</td>\n",
       "      <td>1.179808</td>\n",
       "      <td>0.0</td>\n",
       "      <td>0.028772</td>\n",
       "      <td>...</td>\n",
       "      <td>-1.102860</td>\n",
       "      <td>-0.08731</td>\n",
       "      <td>-0.317938</td>\n",
       "      <td>-0.324407</td>\n",
       "      <td>NaN</td>\n",
       "      <td>NaN</td>\n",
       "      <td>NaN</td>\n",
       "      <td>NaN</td>\n",
       "      <td>NaN</td>\n",
       "      <td>NaN</td>\n",
       "    </tr>\n",
       "    <tr>\n",
       "      <th>4</th>\n",
       "      <td>AFGHANISTAN</td>\n",
       "      <td>AFG</td>\n",
       "      <td>1754.0</td>\n",
       "      <td>0.0</td>\n",
       "      <td>21</td>\n",
       "      <td>33247</td>\n",
       "      <td>0.322126</td>\n",
       "      <td>1.179808</td>\n",
       "      <td>0.0</td>\n",
       "      <td>0.028772</td>\n",
       "      <td>...</td>\n",
       "      <td>-1.094707</td>\n",
       "      <td>-0.08731</td>\n",
       "      <td>-1.648026</td>\n",
       "      <td>-0.526584</td>\n",
       "      <td>NaN</td>\n",
       "      <td>NaN</td>\n",
       "      <td>NaN</td>\n",
       "      <td>NaN</td>\n",
       "      <td>NaN</td>\n",
       "      <td>NaN</td>\n",
       "    </tr>\n",
       "  </tbody>\n",
       "</table>\n",
       "<p>5 rows × 22 columns</p>\n",
       "</div>"
      ]
     },
     "execution_count": 114,
     "metadata": {},
     "output_type": "execute_result"
    }
   ],
   "execution_count": 114
  },
  {
   "metadata": {
    "ExecuteTime": {
     "end_time": "2024-09-26T17:23:52.943906Z",
     "start_time": "2024-09-26T17:23:52.928368Z"
    }
   },
   "cell_type": "code",
   "source": "df_zscore = df_zscore.drop(columns=[col for col in df_zscore.columns if col.endswith('_z-score')])\n",
   "id": "9caf92b094fb6e8e",
   "outputs": [],
   "execution_count": 115
  },
  {
   "metadata": {
    "ExecuteTime": {
     "end_time": "2024-09-26T17:23:54.079305Z",
     "start_time": "2024-09-26T17:23:54.056298Z"
    }
   },
   "cell_type": "code",
   "source": "df_zscore.head()",
   "id": "b43b9555c64bdda8",
   "outputs": [
    {
     "data": {
      "text/plain": [
       "       Country  ISO    Year  Total  Temperature  GDP Per Capita (USD)  \\\n",
       "0  AFGHANISTAN  AFG  1750.0    0.0           70                 55455   \n",
       "1  AFGHANISTAN  AFG  1751.0    0.0           66                 45101   \n",
       "2  AFGHANISTAN  AFG  1752.0    0.0           72                 31891   \n",
       "3  AFGHANISTAN  AFG  1753.0    0.0           44                 35466   \n",
       "4  AFGHANISTAN  AFG  1754.0    0.0           21                 33247   \n",
       "\n",
       "       Coal       Oil  Gas    Cement  Flaring  Per Capita  \n",
       "0  0.322126  1.179808  0.0  0.028772      0.0    1.527148  \n",
       "1  0.322126  1.179808  0.0  0.028772      0.0    1.527148  \n",
       "2  0.322126  1.179808  0.0  0.028772      0.0    1.527148  \n",
       "3  0.322126  1.179808  0.0  0.028772      0.0    1.527148  \n",
       "4  0.322126  1.179808  0.0  0.028772      0.0    1.527148  "
      ],
      "text/html": [
       "<div>\n",
       "<style scoped>\n",
       "    .dataframe tbody tr th:only-of-type {\n",
       "        vertical-align: middle;\n",
       "    }\n",
       "\n",
       "    .dataframe tbody tr th {\n",
       "        vertical-align: top;\n",
       "    }\n",
       "\n",
       "    .dataframe thead th {\n",
       "        text-align: right;\n",
       "    }\n",
       "</style>\n",
       "<table border=\"1\" class=\"dataframe\">\n",
       "  <thead>\n",
       "    <tr style=\"text-align: right;\">\n",
       "      <th></th>\n",
       "      <th>Country</th>\n",
       "      <th>ISO</th>\n",
       "      <th>Year</th>\n",
       "      <th>Total</th>\n",
       "      <th>Temperature</th>\n",
       "      <th>GDP Per Capita (USD)</th>\n",
       "      <th>Coal</th>\n",
       "      <th>Oil</th>\n",
       "      <th>Gas</th>\n",
       "      <th>Cement</th>\n",
       "      <th>Flaring</th>\n",
       "      <th>Per Capita</th>\n",
       "    </tr>\n",
       "  </thead>\n",
       "  <tbody>\n",
       "    <tr>\n",
       "      <th>0</th>\n",
       "      <td>AFGHANISTAN</td>\n",
       "      <td>AFG</td>\n",
       "      <td>1750.0</td>\n",
       "      <td>0.0</td>\n",
       "      <td>70</td>\n",
       "      <td>55455</td>\n",
       "      <td>0.322126</td>\n",
       "      <td>1.179808</td>\n",
       "      <td>0.0</td>\n",
       "      <td>0.028772</td>\n",
       "      <td>0.0</td>\n",
       "      <td>1.527148</td>\n",
       "    </tr>\n",
       "    <tr>\n",
       "      <th>1</th>\n",
       "      <td>AFGHANISTAN</td>\n",
       "      <td>AFG</td>\n",
       "      <td>1751.0</td>\n",
       "      <td>0.0</td>\n",
       "      <td>66</td>\n",
       "      <td>45101</td>\n",
       "      <td>0.322126</td>\n",
       "      <td>1.179808</td>\n",
       "      <td>0.0</td>\n",
       "      <td>0.028772</td>\n",
       "      <td>0.0</td>\n",
       "      <td>1.527148</td>\n",
       "    </tr>\n",
       "    <tr>\n",
       "      <th>2</th>\n",
       "      <td>AFGHANISTAN</td>\n",
       "      <td>AFG</td>\n",
       "      <td>1752.0</td>\n",
       "      <td>0.0</td>\n",
       "      <td>72</td>\n",
       "      <td>31891</td>\n",
       "      <td>0.322126</td>\n",
       "      <td>1.179808</td>\n",
       "      <td>0.0</td>\n",
       "      <td>0.028772</td>\n",
       "      <td>0.0</td>\n",
       "      <td>1.527148</td>\n",
       "    </tr>\n",
       "    <tr>\n",
       "      <th>3</th>\n",
       "      <td>AFGHANISTAN</td>\n",
       "      <td>AFG</td>\n",
       "      <td>1753.0</td>\n",
       "      <td>0.0</td>\n",
       "      <td>44</td>\n",
       "      <td>35466</td>\n",
       "      <td>0.322126</td>\n",
       "      <td>1.179808</td>\n",
       "      <td>0.0</td>\n",
       "      <td>0.028772</td>\n",
       "      <td>0.0</td>\n",
       "      <td>1.527148</td>\n",
       "    </tr>\n",
       "    <tr>\n",
       "      <th>4</th>\n",
       "      <td>AFGHANISTAN</td>\n",
       "      <td>AFG</td>\n",
       "      <td>1754.0</td>\n",
       "      <td>0.0</td>\n",
       "      <td>21</td>\n",
       "      <td>33247</td>\n",
       "      <td>0.322126</td>\n",
       "      <td>1.179808</td>\n",
       "      <td>0.0</td>\n",
       "      <td>0.028772</td>\n",
       "      <td>0.0</td>\n",
       "      <td>1.527148</td>\n",
       "    </tr>\n",
       "  </tbody>\n",
       "</table>\n",
       "</div>"
      ]
     },
     "execution_count": 116,
     "metadata": {},
     "output_type": "execute_result"
    }
   ],
   "execution_count": 116
  },
  {
   "metadata": {
    "ExecuteTime": {
     "end_time": "2024-09-26T17:23:55.568277Z",
     "start_time": "2024-09-26T17:23:55.563288Z"
    }
   },
   "cell_type": "code",
   "source": "df_zscore.shape",
   "id": "821ebbf55a0d9f80",
   "outputs": [
    {
     "data": {
      "text/plain": [
       "(56742, 12)"
      ]
     },
     "execution_count": 117,
     "metadata": {},
     "output_type": "execute_result"
    }
   ],
   "execution_count": 117
  },
  {
   "metadata": {},
   "cell_type": "markdown",
   "source": "### We can observe that the entries have changed and we have eliminated outliers which are more than 3 standard deviations away. New df row count = 56547 , previous count = 57570",
   "id": "f7d36d6e253cb849"
  },
  {
   "metadata": {},
   "cell_type": "markdown",
   "source": "",
   "id": "47d705984d57f5be"
  },
  {
   "metadata": {
    "ExecuteTime": {
     "end_time": "2024-09-26T17:23:57.931925Z",
     "start_time": "2024-09-26T17:23:57.918909Z"
    }
   },
   "cell_type": "code",
   "source": "clean_df = df_zscore.copy()",
   "id": "e73a5655dafa2d4c",
   "outputs": [],
   "execution_count": 118
  },
  {
   "metadata": {
    "ExecuteTime": {
     "end_time": "2024-09-26T17:23:59.576270Z",
     "start_time": "2024-09-26T17:23:59.563278Z"
    }
   },
   "cell_type": "code",
   "source": "sublist = ['Coal','Oil','Gas','Cement','Flaring']",
   "id": "1d03806bf080cd9a",
   "outputs": [],
   "execution_count": 119
  },
  {
   "metadata": {
    "ExecuteTime": {
     "end_time": "2024-09-26T17:24:40.224692Z",
     "start_time": "2024-09-26T17:24:39.167375Z"
    }
   },
   "cell_type": "code",
   "source": [
    "## Top 10 Mean of all sub list columns \n",
    "for col in sublist:\n",
    "    mean_coal_data = clean_df.groupby('Country')[col].mean()\n",
    "    top10Largest = mean_coal_data.nlargest(10)\n",
    "    plt.bar(top10Largest.index, top10Largest.values)\n",
    "    plt.xlabel('Country')\n",
    "    plt.ylabel('Mean Coal Data')\n",
    "    plt.title(f'Mean {col} Data by Country')\n",
    "    plt.xticks(rotation=90)\n",
    "    plt.show()  "
   ],
   "id": "af6df63e969286eb",
   "outputs": [
    {
     "data": {
      "text/plain": [
       "<Figure size 432x288 with 1 Axes>"
      ],
      "image/png": "[encoded data removed]"
     },
     "metadata": {},
     "output_type": "display_data"
    },
    {
     "data": {
      "text/plain": [
       "<Figure size 432x288 with 1 Axes>"
      ],
      "image/png": "[encoded data removed]"
     },
     "metadata": {},
     "output_type": "display_data"
    },
    {
     "data": {
      "text/plain": [
       "<Figure size 432x288 with 1 Axes>"
      ],
      "image/png": "[encoded data removed]"
     },
     "metadata": {},
     "output_type": "display_data"
    },
    {
     "data": {
      "text/plain": [
       "<Figure size 432x288 with 1 Axes>"
      ],
      "image/png": "[encoded data removed]"
     },
     "metadata": {},
     "output_type": "display_data"
    },
    {
     "data": {
      "text/plain": [
       "<Figure size 432x288 with 1 Axes>"
      ],
      "image/png": "[encoded data removed]"
     },
     "metadata": {},
     "output_type": "display_data"
    }
   ],
   "execution_count": 122
  },
  {
   "metadata": {
    "ExecuteTime": {
     "end_time": "2024-09-26T17:24:54.739615Z",
     "start_time": "2024-09-26T17:24:54.570554Z"
    }
   },
   "cell_type": "code",
   "source": "df_encoded = pd.get_dummies(clean_df, columns=['Country', 'ISO'])",
   "id": "d7edec71cb72aa56",
   "outputs": [],
   "execution_count": 124
  },
  {
   "metadata": {
    "ExecuteTime": {
     "end_time": "2024-09-26T17:25:01.059515Z",
     "start_time": "2024-09-26T17:24:58.100619Z"
    }
   },
   "cell_type": "code",
   "source": "df_encoded.to_csv('df-string-encoded.csv', index=False)",
   "id": "57c83b2ad9a3a733",
   "outputs": [],
   "execution_count": 125
  },
  {
   "metadata": {
    "ExecuteTime": {
     "end_time": "2024-09-26T17:25:02.753738Z",
     "start_time": "2024-09-26T17:25:02.721718Z"
    }
   },
   "cell_type": "code",
   "source": "df_encoded.head()",
   "id": "5c8c9ed702aab90e",
   "outputs": [
    {
     "data": {
      "text/plain": [
       "     Year  Total  Temperature  GDP Per Capita (USD)      Coal       Oil  Gas  \\\n",
       "0  1750.0    0.0           70                 55455  0.322126  1.179808  0.0   \n",
       "1  1751.0    0.0           66                 45101  0.322126  1.179808  0.0   \n",
       "2  1752.0    0.0           72                 31891  0.322126  1.179808  0.0   \n",
       "3  1753.0    0.0           44                 35466  0.322126  1.179808  0.0   \n",
       "4  1754.0    0.0           21                 33247  0.322126  1.179808  0.0   \n",
       "\n",
       "     Cement  Flaring  Per Capita  ...  ISO_VNM  ISO_VUT  ISO_WLD  ISO_WLF  \\\n",
       "0  0.028772      0.0    1.527148  ...        0        0        0        0   \n",
       "1  0.028772      0.0    1.527148  ...        0        0        0        0   \n",
       "2  0.028772      0.0    1.527148  ...        0        0        0        0   \n",
       "3  0.028772      0.0    1.527148  ...        0        0        0        0   \n",
       "4  0.028772      0.0    1.527148  ...        0        0        0        0   \n",
       "\n",
       "   ISO_WSM  ISO_XIT  ISO_YEM  ISO_ZAF  ISO_ZMB  ISO_ZWE  \n",
       "0        0        0        0        0        0        0  \n",
       "1        0        0        0        0        0        0  \n",
       "2        0        0        0        0        0        0  \n",
       "3        0        0        0        0        0        0  \n",
       "4        0        0        0        0        0        0  \n",
       "\n",
       "[5 rows x 461 columns]"
      ],
      "text/html": [
       "<div>\n",
       "<style scoped>\n",
       "    .dataframe tbody tr th:only-of-type {\n",
       "        vertical-align: middle;\n",
       "    }\n",
       "\n",
       "    .dataframe tbody tr th {\n",
       "        vertical-align: top;\n",
       "    }\n",
       "\n",
       "    .dataframe thead th {\n",
       "        text-align: right;\n",
       "    }\n",
       "</style>\n",
       "<table border=\"1\" class=\"dataframe\">\n",
       "  <thead>\n",
       "    <tr style=\"text-align: right;\">\n",
       "      <th></th>\n",
       "      <th>Year</th>\n",
       "      <th>Total</th>\n",
       "      <th>Temperature</th>\n",
       "      <th>GDP Per Capita (USD)</th>\n",
       "      <th>Coal</th>\n",
       "      <th>Oil</th>\n",
       "      <th>Gas</th>\n",
       "      <th>Cement</th>\n",
       "      <th>Flaring</th>\n",
       "      <th>Per Capita</th>\n",
       "      <th>...</th>\n",
       "      <th>ISO_VNM</th>\n",
       "      <th>ISO_VUT</th>\n",
       "      <th>ISO_WLD</th>\n",
       "      <th>ISO_WLF</th>\n",
       "      <th>ISO_WSM</th>\n",
       "      <th>ISO_XIT</th>\n",
       "      <th>ISO_YEM</th>\n",
       "      <th>ISO_ZAF</th>\n",
       "      <th>ISO_ZMB</th>\n",
       "      <th>ISO_ZWE</th>\n",
       "    </tr>\n",
       "  </thead>\n",
       "  <tbody>\n",
       "    <tr>\n",
       "      <th>0</th>\n",
       "      <td>1750.0</td>\n",
       "      <td>0.0</td>\n",
       "      <td>70</td>\n",
       "      <td>55455</td>\n",
       "      <td>0.322126</td>\n",
       "      <td>1.179808</td>\n",
       "      <td>0.0</td>\n",
       "      <td>0.028772</td>\n",
       "      <td>0.0</td>\n",
       "      <td>1.527148</td>\n",
       "      <td>...</td>\n",
       "      <td>0</td>\n",
       "      <td>0</td>\n",
       "      <td>0</td>\n",
       "      <td>0</td>\n",
       "      <td>0</td>\n",
       "      <td>0</td>\n",
       "      <td>0</td>\n",
       "      <td>0</td>\n",
       "      <td>0</td>\n",
       "      <td>0</td>\n",
       "    </tr>\n",
       "    <tr>\n",
       "      <th>1</th>\n",
       "      <td>1751.0</td>\n",
       "      <td>0.0</td>\n",
       "      <td>66</td>\n",
       "      <td>45101</td>\n",
       "      <td>0.322126</td>\n",
       "      <td>1.179808</td>\n",
       "      <td>0.0</td>\n",
       "      <td>0.028772</td>\n",
       "      <td>0.0</td>\n",
       "      <td>1.527148</td>\n",
       "      <td>...</td>\n",
       "      <td>0</td>\n",
       "      <td>0</td>\n",
       "      <td>0</td>\n",
       "      <td>0</td>\n",
       "      <td>0</td>\n",
       "      <td>0</td>\n",
       "      <td>0</td>\n",
       "      <td>0</td>\n",
       "      <td>0</td>\n",
       "      <td>0</td>\n",
       "    </tr>\n",
       "    <tr>\n",
       "      <th>2</th>\n",
       "      <td>1752.0</td>\n",
       "      <td>0.0</td>\n",
       "      <td>72</td>\n",
       "      <td>31891</td>\n",
       "      <td>0.322126</td>\n",
       "      <td>1.179808</td>\n",
       "      <td>0.0</td>\n",
       "      <td>0.028772</td>\n",
       "      <td>0.0</td>\n",
       "      <td>1.527148</td>\n",
       "      <td>...</td>\n",
       "      <td>0</td>\n",
       "      <td>0</td>\n",
       "      <td>0</td>\n",
       "      <td>0</td>\n",
       "      <td>0</td>\n",
       "      <td>0</td>\n",
       "      <td>0</td>\n",
       "      <td>0</td>\n",
       "      <td>0</td>\n",
       "      <td>0</td>\n",
       "    </tr>\n",
       "    <tr>\n",
       "      <th>3</th>\n",
       "      <td>1753.0</td>\n",
       "      <td>0.0</td>\n",
       "      <td>44</td>\n",
       "      <td>35466</td>\n",
       "      <td>0.322126</td>\n",
       "      <td>1.179808</td>\n",
       "      <td>0.0</td>\n",
       "      <td>0.028772</td>\n",
       "      <td>0.0</td>\n",
       "      <td>1.527148</td>\n",
       "      <td>...</td>\n",
       "      <td>0</td>\n",
       "      <td>0</td>\n",
       "      <td>0</td>\n",
       "      <td>0</td>\n",
       "      <td>0</td>\n",
       "      <td>0</td>\n",
       "      <td>0</td>\n",
       "      <td>0</td>\n",
       "      <td>0</td>\n",
       "      <td>0</td>\n",
       "    </tr>\n",
       "    <tr>\n",
       "      <th>4</th>\n",
       "      <td>1754.0</td>\n",
       "      <td>0.0</td>\n",
       "      <td>21</td>\n",
       "      <td>33247</td>\n",
       "      <td>0.322126</td>\n",
       "      <td>1.179808</td>\n",
       "      <td>0.0</td>\n",
       "      <td>0.028772</td>\n",
       "      <td>0.0</td>\n",
       "      <td>1.527148</td>\n",
       "      <td>...</td>\n",
       "      <td>0</td>\n",
       "      <td>0</td>\n",
       "      <td>0</td>\n",
       "      <td>0</td>\n",
       "      <td>0</td>\n",
       "      <td>0</td>\n",
       "      <td>0</td>\n",
       "      <td>0</td>\n",
       "      <td>0</td>\n",
       "      <td>0</td>\n",
       "    </tr>\n",
       "  </tbody>\n",
       "</table>\n",
       "<p>5 rows × 461 columns</p>\n",
       "</div>"
      ]
     },
     "execution_count": 126,
     "metadata": {},
     "output_type": "execute_result"
    }
   ],
   "execution_count": 126
  },
  {
   "metadata": {
    "ExecuteTime": {
     "end_time": "2024-09-26T17:25:07.183258Z",
     "start_time": "2024-09-26T17:25:07.169881Z"
    }
   },
   "cell_type": "code",
   "source": "clean_df.columns[5:]",
   "id": "548e9f2df2e08ff5",
   "outputs": [
    {
     "data": {
      "text/plain": [
       "Index(['GDP Per Capita (USD)', 'Coal', 'Oil', 'Gas', 'Cement', 'Flaring',\n",
       "       'Per Capita'],\n",
       "      dtype='object')"
      ]
     },
     "execution_count": 127,
     "metadata": {},
     "output_type": "execute_result"
    }
   ],
   "execution_count": 127
  },
  {
   "metadata": {
    "ExecuteTime": {
     "end_time": "2024-09-26T17:25:08.917861Z",
     "start_time": "2024-09-26T17:25:08.913861Z"
    }
   },
   "cell_type": "code",
   "source": "non_categorical_cols = clean_df.columns[5:]",
   "id": "9cc1e15d96d4f944",
   "outputs": [],
   "execution_count": 128
  },
  {
   "metadata": {
    "ExecuteTime": {
     "end_time": "2024-09-26T17:25:10.517748Z",
     "start_time": "2024-09-26T17:25:10.469375Z"
    }
   },
   "cell_type": "code",
   "source": [
    "min_values = df_encoded[non_categorical_cols].min()\n",
    "max_values = df_encoded[non_categorical_cols].max()"
   ],
   "id": "2fef80d0beede638",
   "outputs": [],
   "execution_count": 129
  },
  {
   "metadata": {
    "ExecuteTime": {
     "end_time": "2024-09-26T17:25:11.573262Z",
     "start_time": "2024-09-26T17:25:11.558253Z"
    }
   },
   "cell_type": "code",
   "source": "normalized_df = (df_encoded[non_categorical_cols] - min_values) / (max_values - min_values)",
   "id": "f6b044244fb5cea6",
   "outputs": [],
   "execution_count": 130
  },
  {
   "metadata": {
    "ExecuteTime": {
     "end_time": "2024-09-26T17:25:13.326262Z",
     "start_time": "2024-09-26T17:25:13.301744Z"
    }
   },
   "cell_type": "code",
   "source": "normalized_df.head()",
   "id": "fa45d6b5eb352ffe",
   "outputs": [
    {
     "data": {
      "text/plain": [
       "   GDP Per Capita (USD)     Coal       Oil  Gas    Cement  Flaring  Per Capita\n",
       "0              0.933051  0.00015  0.000547  0.0  0.000026      0.0    0.000962\n",
       "1              0.660570  0.00015  0.000547  0.0  0.000026      0.0    0.000962\n",
       "2              0.312929  0.00015  0.000547  0.0  0.000026      0.0    0.000962\n",
       "3              0.407011  0.00015  0.000547  0.0  0.000026      0.0    0.000962\n",
       "4              0.348614  0.00015  0.000547  0.0  0.000026      0.0    0.000962"
      ],
      "text/html": [
       "<div>\n",
       "<style scoped>\n",
       "    .dataframe tbody tr th:only-of-type {\n",
       "        vertical-align: middle;\n",
       "    }\n",
       "\n",
       "    .dataframe tbody tr th {\n",
       "        vertical-align: top;\n",
       "    }\n",
       "\n",
       "    .dataframe thead th {\n",
       "        text-align: right;\n",
       "    }\n",
       "</style>\n",
       "<table border=\"1\" class=\"dataframe\">\n",
       "  <thead>\n",
       "    <tr style=\"text-align: right;\">\n",
       "      <th></th>\n",
       "      <th>GDP Per Capita (USD)</th>\n",
       "      <th>Coal</th>\n",
       "      <th>Oil</th>\n",
       "      <th>Gas</th>\n",
       "      <th>Cement</th>\n",
       "      <th>Flaring</th>\n",
       "      <th>Per Capita</th>\n",
       "    </tr>\n",
       "  </thead>\n",
       "  <tbody>\n",
       "    <tr>\n",
       "      <th>0</th>\n",
       "      <td>0.933051</td>\n",
       "      <td>0.00015</td>\n",
       "      <td>0.000547</td>\n",
       "      <td>0.0</td>\n",
       "      <td>0.000026</td>\n",
       "      <td>0.0</td>\n",
       "      <td>0.000962</td>\n",
       "    </tr>\n",
       "    <tr>\n",
       "      <th>1</th>\n",
       "      <td>0.660570</td>\n",
       "      <td>0.00015</td>\n",
       "      <td>0.000547</td>\n",
       "      <td>0.0</td>\n",
       "      <td>0.000026</td>\n",
       "      <td>0.0</td>\n",
       "      <td>0.000962</td>\n",
       "    </tr>\n",
       "    <tr>\n",
       "      <th>2</th>\n",
       "      <td>0.312929</td>\n",
       "      <td>0.00015</td>\n",
       "      <td>0.000547</td>\n",
       "      <td>0.0</td>\n",
       "      <td>0.000026</td>\n",
       "      <td>0.0</td>\n",
       "      <td>0.000962</td>\n",
       "    </tr>\n",
       "    <tr>\n",
       "      <th>3</th>\n",
       "      <td>0.407011</td>\n",
       "      <td>0.00015</td>\n",
       "      <td>0.000547</td>\n",
       "      <td>0.0</td>\n",
       "      <td>0.000026</td>\n",
       "      <td>0.0</td>\n",
       "      <td>0.000962</td>\n",
       "    </tr>\n",
       "    <tr>\n",
       "      <th>4</th>\n",
       "      <td>0.348614</td>\n",
       "      <td>0.00015</td>\n",
       "      <td>0.000547</td>\n",
       "      <td>0.0</td>\n",
       "      <td>0.000026</td>\n",
       "      <td>0.0</td>\n",
       "      <td>0.000962</td>\n",
       "    </tr>\n",
       "  </tbody>\n",
       "</table>\n",
       "</div>"
      ]
     },
     "execution_count": 131,
     "metadata": {},
     "output_type": "execute_result"
    }
   ],
   "execution_count": 131
  },
  {
   "metadata": {
    "ExecuteTime": {
     "end_time": "2024-09-26T17:25:15.942354Z",
     "start_time": "2024-09-26T17:25:15.897259Z"
    }
   },
   "cell_type": "code",
   "source": "pre_processed_df = pd.concat([normalized_df,df_encoded.iloc[:,5:]], axis=1)",
   "id": "fb322beb8578e33d",
   "outputs": [],
   "execution_count": 132
  },
  {
   "metadata": {
    "ExecuteTime": {
     "end_time": "2024-09-26T17:25:18.141472Z",
     "start_time": "2024-09-26T17:25:18.122935Z"
    }
   },
   "cell_type": "code",
   "source": "pre_processed_df.head()",
   "id": "e7461ff110c08341",
   "outputs": [
    {
     "data": {
      "text/plain": [
       "   GDP Per Capita (USD)     Coal       Oil  Gas    Cement  Flaring  \\\n",
       "0              0.933051  0.00015  0.000547  0.0  0.000026      0.0   \n",
       "1              0.660570  0.00015  0.000547  0.0  0.000026      0.0   \n",
       "2              0.312929  0.00015  0.000547  0.0  0.000026      0.0   \n",
       "3              0.407011  0.00015  0.000547  0.0  0.000026      0.0   \n",
       "4              0.348614  0.00015  0.000547  0.0  0.000026      0.0   \n",
       "\n",
       "   Per Capita       Oil  Gas    Cement  ...  ISO_VNM  ISO_VUT  ISO_WLD  \\\n",
       "0    0.000962  1.179808  0.0  0.028772  ...        0        0        0   \n",
       "1    0.000962  1.179808  0.0  0.028772  ...        0        0        0   \n",
       "2    0.000962  1.179808  0.0  0.028772  ...        0        0        0   \n",
       "3    0.000962  1.179808  0.0  0.028772  ...        0        0        0   \n",
       "4    0.000962  1.179808  0.0  0.028772  ...        0        0        0   \n",
       "\n",
       "   ISO_WLF  ISO_WSM  ISO_XIT  ISO_YEM  ISO_ZAF  ISO_ZMB  ISO_ZWE  \n",
       "0        0        0        0        0        0        0        0  \n",
       "1        0        0        0        0        0        0        0  \n",
       "2        0        0        0        0        0        0        0  \n",
       "3        0        0        0        0        0        0        0  \n",
       "4        0        0        0        0        0        0        0  \n",
       "\n",
       "[5 rows x 463 columns]"
      ],
      "text/html": [
       "<div>\n",
       "<style scoped>\n",
       "    .dataframe tbody tr th:only-of-type {\n",
       "        vertical-align: middle;\n",
       "    }\n",
       "\n",
       "    .dataframe tbody tr th {\n",
       "        vertical-align: top;\n",
       "    }\n",
       "\n",
       "    .dataframe thead th {\n",
       "        text-align: right;\n",
       "    }\n",
       "</style>\n",
       "<table border=\"1\" class=\"dataframe\">\n",
       "  <thead>\n",
       "    <tr style=\"text-align: right;\">\n",
       "      <th></th>\n",
       "      <th>GDP Per Capita (USD)</th>\n",
       "      <th>Coal</th>\n",
       "      <th>Oil</th>\n",
       "      <th>Gas</th>\n",
       "      <th>Cement</th>\n",
       "      <th>Flaring</th>\n",
       "      <th>Per Capita</th>\n",
       "      <th>Oil</th>\n",
       "      <th>Gas</th>\n",
       "      <th>Cement</th>\n",
       "      <th>...</th>\n",
       "      <th>ISO_VNM</th>\n",
       "      <th>ISO_VUT</th>\n",
       "      <th>ISO_WLD</th>\n",
       "      <th>ISO_WLF</th>\n",
       "      <th>ISO_WSM</th>\n",
       "      <th>ISO_XIT</th>\n",
       "      <th>ISO_YEM</th>\n",
       "      <th>ISO_ZAF</th>\n",
       "      <th>ISO_ZMB</th>\n",
       "      <th>ISO_ZWE</th>\n",
       "    </tr>\n",
       "  </thead>\n",
       "  <tbody>\n",
       "    <tr>\n",
       "      <th>0</th>\n",
       "      <td>0.933051</td>\n",
       "      <td>0.00015</td>\n",
       "      <td>0.000547</td>\n",
       "      <td>0.0</td>\n",
       "      <td>0.000026</td>\n",
       "      <td>0.0</td>\n",
       "      <td>0.000962</td>\n",
       "      <td>1.179808</td>\n",
       "      <td>0.0</td>\n",
       "      <td>0.028772</td>\n",
       "      <td>...</td>\n",
       "      <td>0</td>\n",
       "      <td>0</td>\n",
       "      <td>0</td>\n",
       "      <td>0</td>\n",
       "      <td>0</td>\n",
       "      <td>0</td>\n",
       "      <td>0</td>\n",
       "      <td>0</td>\n",
       "      <td>0</td>\n",
       "      <td>0</td>\n",
       "    </tr>\n",
       "    <tr>\n",
       "      <th>1</th>\n",
       "      <td>0.660570</td>\n",
       "      <td>0.00015</td>\n",
       "      <td>0.000547</td>\n",
       "      <td>0.0</td>\n",
       "      <td>0.000026</td>\n",
       "      <td>0.0</td>\n",
       "      <td>0.000962</td>\n",
       "      <td>1.179808</td>\n",
       "      <td>0.0</td>\n",
       "      <td>0.028772</td>\n",
       "      <td>...</td>\n",
       "      <td>0</td>\n",
       "      <td>0</td>\n",
       "      <td>0</td>\n",
       "      <td>0</td>\n",
       "      <td>0</td>\n",
       "      <td>0</td>\n",
       "      <td>0</td>\n",
       "      <td>0</td>\n",
       "      <td>0</td>\n",
       "      <td>0</td>\n",
       "    </tr>\n",
       "    <tr>\n",
       "      <th>2</th>\n",
       "      <td>0.312929</td>\n",
       "      <td>0.00015</td>\n",
       "      <td>0.000547</td>\n",
       "      <td>0.0</td>\n",
       "      <td>0.000026</td>\n",
       "      <td>0.0</td>\n",
       "      <td>0.000962</td>\n",
       "      <td>1.179808</td>\n",
       "      <td>0.0</td>\n",
       "      <td>0.028772</td>\n",
       "      <td>...</td>\n",
       "      <td>0</td>\n",
       "      <td>0</td>\n",
       "      <td>0</td>\n",
       "      <td>0</td>\n",
       "      <td>0</td>\n",
       "      <td>0</td>\n",
       "      <td>0</td>\n",
       "      <td>0</td>\n",
       "      <td>0</td>\n",
       "      <td>0</td>\n",
       "    </tr>\n",
       "    <tr>\n",
       "      <th>3</th>\n",
       "      <td>0.407011</td>\n",
       "      <td>0.00015</td>\n",
       "      <td>0.000547</td>\n",
       "      <td>0.0</td>\n",
       "      <td>0.000026</td>\n",
       "      <td>0.0</td>\n",
       "      <td>0.000962</td>\n",
       "      <td>1.179808</td>\n",
       "      <td>0.0</td>\n",
       "      <td>0.028772</td>\n",
       "      <td>...</td>\n",
       "      <td>0</td>\n",
       "      <td>0</td>\n",
       "      <td>0</td>\n",
       "      <td>0</td>\n",
       "      <td>0</td>\n",
       "      <td>0</td>\n",
       "      <td>0</td>\n",
       "      <td>0</td>\n",
       "      <td>0</td>\n",
       "      <td>0</td>\n",
       "    </tr>\n",
       "    <tr>\n",
       "      <th>4</th>\n",
       "      <td>0.348614</td>\n",
       "      <td>0.00015</td>\n",
       "      <td>0.000547</td>\n",
       "      <td>0.0</td>\n",
       "      <td>0.000026</td>\n",
       "      <td>0.0</td>\n",
       "      <td>0.000962</td>\n",
       "      <td>1.179808</td>\n",
       "      <td>0.0</td>\n",
       "      <td>0.028772</td>\n",
       "      <td>...</td>\n",
       "      <td>0</td>\n",
       "      <td>0</td>\n",
       "      <td>0</td>\n",
       "      <td>0</td>\n",
       "      <td>0</td>\n",
       "      <td>0</td>\n",
       "      <td>0</td>\n",
       "      <td>0</td>\n",
       "      <td>0</td>\n",
       "      <td>0</td>\n",
       "    </tr>\n",
       "  </tbody>\n",
       "</table>\n",
       "<p>5 rows × 463 columns</p>\n",
       "</div>"
      ]
     },
     "execution_count": 133,
     "metadata": {},
     "output_type": "execute_result"
    }
   ],
   "execution_count": 133
  },
  {
   "metadata": {
    "ExecuteTime": {
     "end_time": "2024-09-26T17:25:24.752225Z",
     "start_time": "2024-09-26T17:25:21.598925Z"
    }
   },
   "cell_type": "code",
   "source": "pre_processed_df.to_csv('pre_processed_df.csv', index=False)",
   "id": "1e62e0aadd88da9c",
   "outputs": [],
   "execution_count": 134
  }
 ],
 "metadata": {
  "kernelspec": {
   "display_name": "Python 3",
   "language": "python",
   "name": "python3"
  },
  "language_info": {
   "codemirror_mode": {
    "name": "ipython",
    "version": 2
   },
   "file_extension": ".py",
   "mimetype": "text/x-python",
   "name": "python",
   "nbconvert_exporter": "python",
   "pygments_lexer": "ipython2",
   "version": "2.7.6"
  }
 },
 "nbformat": 4,
 "nbformat_minor": 5
}
