{
 "cells": [
  {
   "cell_type": "code",
   "id": "initial_id",
   "metadata": {
    "collapsed": true,
    "ExecuteTime": {
     "end_time": "2024-09-24T20:37:36.923006Z",
     "start_time": "2024-09-24T20:37:36.919547Z"
    }
   },
   "source": [
    "import pandas as pd\n",
    "import matplotlib.pyplot as plt\n",
    "import seaborn as sns"
   ],
   "outputs": [],
   "execution_count": 175
  },
  {
   "metadata": {
    "ExecuteTime": {
     "end_time": "2024-09-24T20:37:38.080693Z",
     "start_time": "2024-09-24T20:37:37.964546Z"
    }
   },
   "cell_type": "code",
   "source": "df = pd.read_csv('emissions_by_country.csv')",
   "id": "6aa92d7abcf0e26",
   "outputs": [],
   "execution_count": 176
  },
  {
   "metadata": {
    "ExecuteTime": {
     "end_time": "2024-09-24T20:37:39.049272Z",
     "start_time": "2024-09-24T20:37:39.023727Z"
    }
   },
   "cell_type": "code",
   "source": "df.head()",
   "id": "eab8b3ab745df1",
   "outputs": [
    {
     "data": {
      "text/plain": [
       "       Country ISO 3166-1 alpha-3    Year  Total  Temperature  \\\n",
       "0  Afghanistan                AFG  1750.0    0.0           70   \n",
       "1  Afghanistan                AFG  1751.0    0.0           66   \n",
       "2  Afghanistan                AFG  1752.0    0.0           72   \n",
       "3  Afghanistan                AFG  1753.0    0.0           44   \n",
       "4  Afghanistan                AFG  1754.0    0.0           21   \n",
       "\n",
       "   GDP Per Capita (USD)  Coal  Oil  Gas  Cement  Flaring  Other  Per Capita  \n",
       "0                 55455   NaN  NaN  NaN     NaN      NaN    NaN         NaN  \n",
       "1                 45101   NaN  NaN  NaN     NaN      NaN    NaN         NaN  \n",
       "2                 31891   NaN  NaN  NaN     NaN      NaN    NaN         NaN  \n",
       "3                 35466   NaN  NaN  NaN     NaN      NaN    NaN         NaN  \n",
       "4                 33247   NaN  NaN  NaN     NaN      NaN    NaN         NaN  "
      ],
      "text/html": [
       "<div>\n",
       "<style scoped>\n",
       "    .dataframe tbody tr th:only-of-type {\n",
       "        vertical-align: middle;\n",
       "    }\n",
       "\n",
       "    .dataframe tbody tr th {\n",
       "        vertical-align: top;\n",
       "    }\n",
       "\n",
       "    .dataframe thead th {\n",
       "        text-align: right;\n",
       "    }\n",
       "</style>\n",
       "<table border=\"1\" class=\"dataframe\">\n",
       "  <thead>\n",
       "    <tr style=\"text-align: right;\">\n",
       "      <th></th>\n",
       "      <th>Country</th>\n",
       "      <th>ISO 3166-1 alpha-3</th>\n",
       "      <th>Year</th>\n",
       "      <th>Total</th>\n",
       "      <th>Temperature</th>\n",
       "      <th>GDP Per Capita (USD)</th>\n",
       "      <th>Coal</th>\n",
       "      <th>Oil</th>\n",
       "      <th>Gas</th>\n",
       "      <th>Cement</th>\n",
       "      <th>Flaring</th>\n",
       "      <th>Other</th>\n",
       "      <th>Per Capita</th>\n",
       "    </tr>\n",
       "  </thead>\n",
       "  <tbody>\n",
       "    <tr>\n",
       "      <th>0</th>\n",
       "      <td>Afghanistan</td>\n",
       "      <td>AFG</td>\n",
       "      <td>1750.0</td>\n",
       "      <td>0.0</td>\n",
       "      <td>70</td>\n",
       "      <td>55455</td>\n",
       "      <td>NaN</td>\n",
       "      <td>NaN</td>\n",
       "      <td>NaN</td>\n",
       "      <td>NaN</td>\n",
       "      <td>NaN</td>\n",
       "      <td>NaN</td>\n",
       "      <td>NaN</td>\n",
       "    </tr>\n",
       "    <tr>\n",
       "      <th>1</th>\n",
       "      <td>Afghanistan</td>\n",
       "      <td>AFG</td>\n",
       "      <td>1751.0</td>\n",
       "      <td>0.0</td>\n",
       "      <td>66</td>\n",
       "      <td>45101</td>\n",
       "      <td>NaN</td>\n",
       "      <td>NaN</td>\n",
       "      <td>NaN</td>\n",
       "      <td>NaN</td>\n",
       "      <td>NaN</td>\n",
       "      <td>NaN</td>\n",
       "      <td>NaN</td>\n",
       "    </tr>\n",
       "    <tr>\n",
       "      <th>2</th>\n",
       "      <td>Afghanistan</td>\n",
       "      <td>AFG</td>\n",
       "      <td>1752.0</td>\n",
       "      <td>0.0</td>\n",
       "      <td>72</td>\n",
       "      <td>31891</td>\n",
       "      <td>NaN</td>\n",
       "      <td>NaN</td>\n",
       "      <td>NaN</td>\n",
       "      <td>NaN</td>\n",
       "      <td>NaN</td>\n",
       "      <td>NaN</td>\n",
       "      <td>NaN</td>\n",
       "    </tr>\n",
       "    <tr>\n",
       "      <th>3</th>\n",
       "      <td>Afghanistan</td>\n",
       "      <td>AFG</td>\n",
       "      <td>1753.0</td>\n",
       "      <td>0.0</td>\n",
       "      <td>44</td>\n",
       "      <td>35466</td>\n",
       "      <td>NaN</td>\n",
       "      <td>NaN</td>\n",
       "      <td>NaN</td>\n",
       "      <td>NaN</td>\n",
       "      <td>NaN</td>\n",
       "      <td>NaN</td>\n",
       "      <td>NaN</td>\n",
       "    </tr>\n",
       "    <tr>\n",
       "      <th>4</th>\n",
       "      <td>Afghanistan</td>\n",
       "      <td>AFG</td>\n",
       "      <td>1754.0</td>\n",
       "      <td>0.0</td>\n",
       "      <td>21</td>\n",
       "      <td>33247</td>\n",
       "      <td>NaN</td>\n",
       "      <td>NaN</td>\n",
       "      <td>NaN</td>\n",
       "      <td>NaN</td>\n",
       "      <td>NaN</td>\n",
       "      <td>NaN</td>\n",
       "      <td>NaN</td>\n",
       "    </tr>\n",
       "  </tbody>\n",
       "</table>\n",
       "</div>"
      ]
     },
     "execution_count": 177,
     "metadata": {},
     "output_type": "execute_result"
    }
   ],
   "execution_count": 177
  },
  {
   "metadata": {
    "ExecuteTime": {
     "end_time": "2024-09-24T20:56:29.481935Z",
     "start_time": "2024-09-24T20:56:29.437758Z"
    }
   },
   "cell_type": "code",
   "source": "df.describe()",
   "id": "5deebbe5d621a0e9",
   "outputs": [
    {
     "data": {
      "text/plain": [
       "               Year         Total   Temperature  GDP Per Capita (USD)  \\\n",
       "count  62307.000000  62381.000000  63104.000000          63104.000000   \n",
       "mean    1888.267097     73.683456     49.497813          39026.539015   \n",
       "std      122.651184    843.930381     17.292092          10975.539432   \n",
       "min     1003.000000      0.000000     20.000000          20000.000000   \n",
       "25%     1816.000000      0.000000     35.000000          29498.750000   \n",
       "50%     1886.000000      0.000000     49.000000          39067.000000   \n",
       "75%     1955.000000      0.659520     64.000000          48544.250000   \n",
       "max     2999.000000  37123.850352     79.000000          57999.000000   \n",
       "\n",
       "               Coal           Oil           Gas        Cement       Flaring  \\\n",
       "count  21797.000000  21774.000000  21717.000000  20488.000000  21338.000000   \n",
       "mean     127.387271    153.480038    125.162671     62.599364     56.074327   \n",
       "std      677.951392    670.830891    514.391435    353.918064    337.629062   \n",
       "min        0.000000      0.000000      0.000000      0.000000      0.000000   \n",
       "25%        0.000000      0.113584      0.000000      0.000000      0.000000   \n",
       "50%        0.344416      1.344688      0.000000      0.032709      0.000000   \n",
       "75%        8.500480     13.008908      1.683510      0.725079      0.000000   \n",
       "max    15051.512770  12345.653374   7921.829472   2982.000000   2994.000000   \n",
       "\n",
       "         Per Capita  \n",
       "count  19392.000000  \n",
       "mean     121.565443  \n",
       "std      489.339877  \n",
       "min        0.000000  \n",
       "25%        0.231702  \n",
       "50%        1.601436  \n",
       "75%        6.305100  \n",
       "max     2997.000000  "
      ],
      "text/html": [
       "<div>\n",
       "<style scoped>\n",
       "    .dataframe tbody tr th:only-of-type {\n",
       "        vertical-align: middle;\n",
       "    }\n",
       "\n",
       "    .dataframe tbody tr th {\n",
       "        vertical-align: top;\n",
       "    }\n",
       "\n",
       "    .dataframe thead th {\n",
       "        text-align: right;\n",
       "    }\n",
       "</style>\n",
       "<table border=\"1\" class=\"dataframe\">\n",
       "  <thead>\n",
       "    <tr style=\"text-align: right;\">\n",
       "      <th></th>\n",
       "      <th>Year</th>\n",
       "      <th>Total</th>\n",
       "      <th>Temperature</th>\n",
       "      <th>GDP Per Capita (USD)</th>\n",
       "      <th>Coal</th>\n",
       "      <th>Oil</th>\n",
       "      <th>Gas</th>\n",
       "      <th>Cement</th>\n",
       "      <th>Flaring</th>\n",
       "      <th>Per Capita</th>\n",
       "    </tr>\n",
       "  </thead>\n",
       "  <tbody>\n",
       "    <tr>\n",
       "      <th>count</th>\n",
       "      <td>62307.000000</td>\n",
       "      <td>62381.000000</td>\n",
       "      <td>63104.000000</td>\n",
       "      <td>63104.000000</td>\n",
       "      <td>21797.000000</td>\n",
       "      <td>21774.000000</td>\n",
       "      <td>21717.000000</td>\n",
       "      <td>20488.000000</td>\n",
       "      <td>21338.000000</td>\n",
       "      <td>19392.000000</td>\n",
       "    </tr>\n",
       "    <tr>\n",
       "      <th>mean</th>\n",
       "      <td>1888.267097</td>\n",
       "      <td>73.683456</td>\n",
       "      <td>49.497813</td>\n",
       "      <td>39026.539015</td>\n",
       "      <td>127.387271</td>\n",
       "      <td>153.480038</td>\n",
       "      <td>125.162671</td>\n",
       "      <td>62.599364</td>\n",
       "      <td>56.074327</td>\n",
       "      <td>121.565443</td>\n",
       "    </tr>\n",
       "    <tr>\n",
       "      <th>std</th>\n",
       "      <td>122.651184</td>\n",
       "      <td>843.930381</td>\n",
       "      <td>17.292092</td>\n",
       "      <td>10975.539432</td>\n",
       "      <td>677.951392</td>\n",
       "      <td>670.830891</td>\n",
       "      <td>514.391435</td>\n",
       "      <td>353.918064</td>\n",
       "      <td>337.629062</td>\n",
       "      <td>489.339877</td>\n",
       "    </tr>\n",
       "    <tr>\n",
       "      <th>min</th>\n",
       "      <td>1003.000000</td>\n",
       "      <td>0.000000</td>\n",
       "      <td>20.000000</td>\n",
       "      <td>20000.000000</td>\n",
       "      <td>0.000000</td>\n",
       "      <td>0.000000</td>\n",
       "      <td>0.000000</td>\n",
       "      <td>0.000000</td>\n",
       "      <td>0.000000</td>\n",
       "      <td>0.000000</td>\n",
       "    </tr>\n",
       "    <tr>\n",
       "      <th>25%</th>\n",
       "      <td>1816.000000</td>\n",
       "      <td>0.000000</td>\n",
       "      <td>35.000000</td>\n",
       "      <td>29498.750000</td>\n",
       "      <td>0.000000</td>\n",
       "      <td>0.113584</td>\n",
       "      <td>0.000000</td>\n",
       "      <td>0.000000</td>\n",
       "      <td>0.000000</td>\n",
       "      <td>0.231702</td>\n",
       "    </tr>\n",
       "    <tr>\n",
       "      <th>50%</th>\n",
       "      <td>1886.000000</td>\n",
       "      <td>0.000000</td>\n",
       "      <td>49.000000</td>\n",
       "      <td>39067.000000</td>\n",
       "      <td>0.344416</td>\n",
       "      <td>1.344688</td>\n",
       "      <td>0.000000</td>\n",
       "      <td>0.032709</td>\n",
       "      <td>0.000000</td>\n",
       "      <td>1.601436</td>\n",
       "    </tr>\n",
       "    <tr>\n",
       "      <th>75%</th>\n",
       "      <td>1955.000000</td>\n",
       "      <td>0.659520</td>\n",
       "      <td>64.000000</td>\n",
       "      <td>48544.250000</td>\n",
       "      <td>8.500480</td>\n",
       "      <td>13.008908</td>\n",
       "      <td>1.683510</td>\n",
       "      <td>0.725079</td>\n",
       "      <td>0.000000</td>\n",
       "      <td>6.305100</td>\n",
       "    </tr>\n",
       "    <tr>\n",
       "      <th>max</th>\n",
       "      <td>2999.000000</td>\n",
       "      <td>37123.850352</td>\n",
       "      <td>79.000000</td>\n",
       "      <td>57999.000000</td>\n",
       "      <td>15051.512770</td>\n",
       "      <td>12345.653374</td>\n",
       "      <td>7921.829472</td>\n",
       "      <td>2982.000000</td>\n",
       "      <td>2994.000000</td>\n",
       "      <td>2997.000000</td>\n",
       "    </tr>\n",
       "  </tbody>\n",
       "</table>\n",
       "</div>"
      ]
     },
     "execution_count": 249,
     "metadata": {},
     "output_type": "execute_result"
    }
   ],
   "execution_count": 249
  },
  {
   "metadata": {
    "ExecuteTime": {
     "end_time": "2024-09-24T20:59:33.322521Z",
     "start_time": "2024-09-24T20:59:33.313122Z"
    }
   },
   "cell_type": "code",
   "source": "df.shape",
   "id": "dbb2fb8bf60ce2",
   "outputs": [
    {
     "data": {
      "text/plain": [
       "(63104, 12)"
      ]
     },
     "execution_count": 250,
     "metadata": {},
     "output_type": "execute_result"
    }
   ],
   "execution_count": 250
  },
  {
   "metadata": {
    "ExecuteTime": {
     "end_time": "2024-09-24T20:37:43.080078Z",
     "start_time": "2024-09-24T20:37:43.043681Z"
    }
   },
   "cell_type": "code",
   "source": "df.info()",
   "id": "ded48e78bd937c92",
   "outputs": [
    {
     "name": "stdout",
     "output_type": "stream",
     "text": [
      "<class 'pandas.core.frame.DataFrame'>\n",
      "RangeIndex: 63104 entries, 0 to 63103\n",
      "Data columns (total 13 columns):\n",
      " #   Column                Non-Null Count  Dtype  \n",
      "---  ------                --------------  -----  \n",
      " 0   Country               61087 non-null  object \n",
      " 1   ISO 3166-1 alpha-3    59483 non-null  object \n",
      " 2   Year                  62307 non-null  float64\n",
      " 3   Total                 62381 non-null  float64\n",
      " 4   Temperature           63104 non-null  int64  \n",
      " 5   GDP Per Capita (USD)  63104 non-null  int64  \n",
      " 6   Coal                  21797 non-null  float64\n",
      " 7   Oil                   21774 non-null  float64\n",
      " 8   Gas                   21717 non-null  float64\n",
      " 9   Cement                20488 non-null  float64\n",
      " 10  Flaring               21338 non-null  float64\n",
      " 11  Other                 2685 non-null   float64\n",
      " 12  Per Capita            19392 non-null  float64\n",
      "dtypes: float64(9), int64(2), object(2)\n",
      "memory usage: 6.3+ MB\n"
     ]
    }
   ],
   "execution_count": 179
  },
  {
   "metadata": {
    "ExecuteTime": {
     "end_time": "2024-09-24T20:37:45.425509Z",
     "start_time": "2024-09-24T20:37:45.409333Z"
    }
   },
   "cell_type": "code",
   "source": "df.isnull().sum()",
   "id": "21b57c448c603e15",
   "outputs": [
    {
     "data": {
      "text/plain": [
       "Country                  2017\n",
       "ISO 3166-1 alpha-3       3621\n",
       "Year                      797\n",
       "Total                     723\n",
       "Temperature                 0\n",
       "GDP Per Capita (USD)        0\n",
       "Coal                    41307\n",
       "Oil                     41330\n",
       "Gas                     41387\n",
       "Cement                  42616\n",
       "Flaring                 41766\n",
       "Other                   60419\n",
       "Per Capita              43712\n",
       "dtype: int64"
      ]
     },
     "execution_count": 180,
     "metadata": {},
     "output_type": "execute_result"
    }
   ],
   "execution_count": 180
  },
  {
   "metadata": {
    "ExecuteTime": {
     "end_time": "2024-09-24T20:37:48.117039Z",
     "start_time": "2024-09-24T20:37:48.104146Z"
    }
   },
   "cell_type": "code",
   "source": "df.isnull().sum()",
   "id": "3035c18dfe2a04fe",
   "outputs": [
    {
     "data": {
      "text/plain": [
       "Country                  2017\n",
       "ISO 3166-1 alpha-3       3621\n",
       "Year                      797\n",
       "Total                     723\n",
       "Temperature                 0\n",
       "GDP Per Capita (USD)        0\n",
       "Coal                    41307\n",
       "Oil                     41330\n",
       "Gas                     41387\n",
       "Cement                  42616\n",
       "Flaring                 41766\n",
       "Other                   60419\n",
       "Per Capita              43712\n",
       "dtype: int64"
      ]
     },
     "execution_count": 181,
     "metadata": {},
     "output_type": "execute_result"
    }
   ],
   "execution_count": 181
  },
  {
   "metadata": {
    "ExecuteTime": {
     "end_time": "2024-09-24T20:37:54.142503Z",
     "start_time": "2024-09-24T20:37:54.136100Z"
    }
   },
   "cell_type": "code",
   "source": "df.shape",
   "id": "3728586f12fcace6",
   "outputs": [
    {
     "data": {
      "text/plain": [
       "(63104, 13)"
      ]
     },
     "execution_count": 182,
     "metadata": {},
     "output_type": "execute_result"
    }
   ],
   "execution_count": 182
  },
  {
   "metadata": {},
   "cell_type": "markdown",
   "source": "Here we can observe that Other column is most likely null and can be ignored. But other columns hold relevant information and can not be eliminated nor can be imputed, since it would not be in line with real world scenario. ",
   "id": "1bb47d25d9d3e88d"
  },
  {
   "metadata": {
    "ExecuteTime": {
     "end_time": "2024-09-24T20:37:56.692969Z",
     "start_time": "2024-09-24T20:37:56.683566Z"
    }
   },
   "cell_type": "code",
   "source": "df = df.drop('Other', axis=1)",
   "id": "c80055468455f4be",
   "outputs": [],
   "execution_count": 183
  },
  {
   "metadata": {
    "ExecuteTime": {
     "end_time": "2024-09-24T20:37:58.047922Z",
     "start_time": "2024-09-24T20:37:58.042057Z"
    }
   },
   "cell_type": "code",
   "source": "df.columns",
   "id": "f6d88a195c76b3a7",
   "outputs": [
    {
     "data": {
      "text/plain": [
       "Index(['Country', 'ISO 3166-1 alpha-3', 'Year', 'Total', 'Temperature',\n",
       "       'GDP Per Capita (USD)', 'Coal', 'Oil', 'Gas', 'Cement', 'Flaring',\n",
       "       'Per Capita'],\n",
       "      dtype='object')"
      ]
     },
     "execution_count": 184,
     "metadata": {},
     "output_type": "execute_result"
    }
   ],
   "execution_count": 184
  },
  {
   "metadata": {
    "ExecuteTime": {
     "end_time": "2024-09-24T20:37:59.805457Z",
     "start_time": "2024-09-24T20:37:59.782231Z"
    }
   },
   "cell_type": "code",
   "source": [
    "# with this we eliminate country and iso reference null values \n",
    "df_1 = df.loc[df['Country'].notnull() & df['ISO 3166-1 alpha-3'].notnull()]"
   ],
   "id": "8755bea03140b37c",
   "outputs": [],
   "execution_count": 185
  },
  {
   "metadata": {
    "ExecuteTime": {
     "end_time": "2024-09-24T20:38:02.062028Z",
     "start_time": "2024-09-24T20:38:02.048240Z"
    }
   },
   "cell_type": "code",
   "source": "df_1.isnull().sum()",
   "id": "ac0ca5ed570c5547",
   "outputs": [
    {
     "data": {
      "text/plain": [
       "Country                     0\n",
       "ISO 3166-1 alpha-3          0\n",
       "Year                      318\n",
       "Total                     399\n",
       "Temperature                 0\n",
       "GDP Per Capita (USD)        0\n",
       "Coal                    37667\n",
       "Oil                     37710\n",
       "Gas                     37803\n",
       "Cement                  38729\n",
       "Flaring                 37969\n",
       "Per Capita              40467\n",
       "dtype: int64"
      ]
     },
     "execution_count": 186,
     "metadata": {},
     "output_type": "execute_result"
    }
   ],
   "execution_count": 186
  },
  {
   "metadata": {
    "ExecuteTime": {
     "end_time": "2024-09-24T20:38:08.664203Z",
     "start_time": "2024-09-24T20:38:08.648118Z"
    }
   },
   "cell_type": "code",
   "source": "df_1 = df_1.fillna(0)",
   "id": "a101ec8a6e9733a3",
   "outputs": [],
   "execution_count": 187
  },
  {
   "metadata": {
    "ExecuteTime": {
     "end_time": "2024-09-24T20:38:10.416871Z",
     "start_time": "2024-09-24T20:38:10.401663Z"
    }
   },
   "cell_type": "code",
   "source": "df_1.isnull().sum()",
   "id": "6781b106fef7d93c",
   "outputs": [
    {
     "data": {
      "text/plain": [
       "Country                 0\n",
       "ISO 3166-1 alpha-3      0\n",
       "Year                    0\n",
       "Total                   0\n",
       "Temperature             0\n",
       "GDP Per Capita (USD)    0\n",
       "Coal                    0\n",
       "Oil                     0\n",
       "Gas                     0\n",
       "Cement                  0\n",
       "Flaring                 0\n",
       "Per Capita              0\n",
       "dtype: int64"
      ]
     },
     "execution_count": 188,
     "metadata": {},
     "output_type": "execute_result"
    }
   ],
   "execution_count": 188
  },
  {
   "metadata": {
    "ExecuteTime": {
     "end_time": "2024-09-24T20:38:13.132521Z",
     "start_time": "2024-09-24T20:38:12.691210Z"
    }
   },
   "cell_type": "code",
   "source": "df_1.to_csv('df-cleaning-itr-1.csv', index=False)",
   "id": "3b562846e50f493f",
   "outputs": [],
   "execution_count": 189
  },
  {
   "metadata": {
    "ExecuteTime": {
     "end_time": "2024-09-24T20:38:14.300919Z",
     "start_time": "2024-09-24T20:38:14.277315Z"
    }
   },
   "cell_type": "code",
   "source": "clean_df = df_1",
   "id": "7ebddc9525dd5aea",
   "outputs": [],
   "execution_count": 190
  },
  {
   "metadata": {
    "ExecuteTime": {
     "end_time": "2024-09-24T20:38:20.198489Z",
     "start_time": "2024-09-24T20:38:20.193039Z"
    }
   },
   "cell_type": "code",
   "source": "clean_df.shape",
   "id": "804e956970637e6d",
   "outputs": [
    {
     "data": {
      "text/plain": [
       "(58210, 12)"
      ]
     },
     "execution_count": 192,
     "metadata": {},
     "output_type": "execute_result"
    }
   ],
   "execution_count": 192
  },
  {
   "metadata": {
    "ExecuteTime": {
     "end_time": "2024-09-24T20:38:24.335382Z",
     "start_time": "2024-09-24T20:38:24.325926Z"
    }
   },
   "cell_type": "code",
   "source": "clean_df = clean_df.rename({'ISO 3166-1 alpha-3': 'ISO'}, axis='columns')",
   "id": "424ccbe3a0fbe4c3",
   "outputs": [],
   "execution_count": 193
  },
  {
   "metadata": {
    "ExecuteTime": {
     "end_time": "2024-09-24T20:38:27.015583Z",
     "start_time": "2024-09-24T20:38:26.995901Z"
    }
   },
   "cell_type": "code",
   "source": "clean_df.head()",
   "id": "f753b7579a40e042",
   "outputs": [
    {
     "data": {
      "text/plain": [
       "       Country  ISO    Year  Total  Temperature  GDP Per Capita (USD)  Coal  \\\n",
       "0  Afghanistan  AFG  1750.0    0.0           70                 55455   0.0   \n",
       "1  Afghanistan  AFG  1751.0    0.0           66                 45101   0.0   \n",
       "2  Afghanistan  AFG  1752.0    0.0           72                 31891   0.0   \n",
       "3  Afghanistan  AFG  1753.0    0.0           44                 35466   0.0   \n",
       "4  Afghanistan  AFG  1754.0    0.0           21                 33247   0.0   \n",
       "\n",
       "   Oil  Gas  Cement  Flaring  Per Capita  \n",
       "0  0.0  0.0     0.0      0.0         0.0  \n",
       "1  0.0  0.0     0.0      0.0         0.0  \n",
       "2  0.0  0.0     0.0      0.0         0.0  \n",
       "3  0.0  0.0     0.0      0.0         0.0  \n",
       "4  0.0  0.0     0.0      0.0         0.0  "
      ],
      "text/html": [
       "<div>\n",
       "<style scoped>\n",
       "    .dataframe tbody tr th:only-of-type {\n",
       "        vertical-align: middle;\n",
       "    }\n",
       "\n",
       "    .dataframe tbody tr th {\n",
       "        vertical-align: top;\n",
       "    }\n",
       "\n",
       "    .dataframe thead th {\n",
       "        text-align: right;\n",
       "    }\n",
       "</style>\n",
       "<table border=\"1\" class=\"dataframe\">\n",
       "  <thead>\n",
       "    <tr style=\"text-align: right;\">\n",
       "      <th></th>\n",
       "      <th>Country</th>\n",
       "      <th>ISO</th>\n",
       "      <th>Year</th>\n",
       "      <th>Total</th>\n",
       "      <th>Temperature</th>\n",
       "      <th>GDP Per Capita (USD)</th>\n",
       "      <th>Coal</th>\n",
       "      <th>Oil</th>\n",
       "      <th>Gas</th>\n",
       "      <th>Cement</th>\n",
       "      <th>Flaring</th>\n",
       "      <th>Per Capita</th>\n",
       "    </tr>\n",
       "  </thead>\n",
       "  <tbody>\n",
       "    <tr>\n",
       "      <th>0</th>\n",
       "      <td>Afghanistan</td>\n",
       "      <td>AFG</td>\n",
       "      <td>1750.0</td>\n",
       "      <td>0.0</td>\n",
       "      <td>70</td>\n",
       "      <td>55455</td>\n",
       "      <td>0.0</td>\n",
       "      <td>0.0</td>\n",
       "      <td>0.0</td>\n",
       "      <td>0.0</td>\n",
       "      <td>0.0</td>\n",
       "      <td>0.0</td>\n",
       "    </tr>\n",
       "    <tr>\n",
       "      <th>1</th>\n",
       "      <td>Afghanistan</td>\n",
       "      <td>AFG</td>\n",
       "      <td>1751.0</td>\n",
       "      <td>0.0</td>\n",
       "      <td>66</td>\n",
       "      <td>45101</td>\n",
       "      <td>0.0</td>\n",
       "      <td>0.0</td>\n",
       "      <td>0.0</td>\n",
       "      <td>0.0</td>\n",
       "      <td>0.0</td>\n",
       "      <td>0.0</td>\n",
       "    </tr>\n",
       "    <tr>\n",
       "      <th>2</th>\n",
       "      <td>Afghanistan</td>\n",
       "      <td>AFG</td>\n",
       "      <td>1752.0</td>\n",
       "      <td>0.0</td>\n",
       "      <td>72</td>\n",
       "      <td>31891</td>\n",
       "      <td>0.0</td>\n",
       "      <td>0.0</td>\n",
       "      <td>0.0</td>\n",
       "      <td>0.0</td>\n",
       "      <td>0.0</td>\n",
       "      <td>0.0</td>\n",
       "    </tr>\n",
       "    <tr>\n",
       "      <th>3</th>\n",
       "      <td>Afghanistan</td>\n",
       "      <td>AFG</td>\n",
       "      <td>1753.0</td>\n",
       "      <td>0.0</td>\n",
       "      <td>44</td>\n",
       "      <td>35466</td>\n",
       "      <td>0.0</td>\n",
       "      <td>0.0</td>\n",
       "      <td>0.0</td>\n",
       "      <td>0.0</td>\n",
       "      <td>0.0</td>\n",
       "      <td>0.0</td>\n",
       "    </tr>\n",
       "    <tr>\n",
       "      <th>4</th>\n",
       "      <td>Afghanistan</td>\n",
       "      <td>AFG</td>\n",
       "      <td>1754.0</td>\n",
       "      <td>0.0</td>\n",
       "      <td>21</td>\n",
       "      <td>33247</td>\n",
       "      <td>0.0</td>\n",
       "      <td>0.0</td>\n",
       "      <td>0.0</td>\n",
       "      <td>0.0</td>\n",
       "      <td>0.0</td>\n",
       "      <td>0.0</td>\n",
       "    </tr>\n",
       "  </tbody>\n",
       "</table>\n",
       "</div>"
      ]
     },
     "execution_count": 194,
     "metadata": {},
     "output_type": "execute_result"
    }
   ],
   "execution_count": 194
  },
  {
   "metadata": {
    "ExecuteTime": {
     "end_time": "2024-09-24T20:38:35.556835Z",
     "start_time": "2024-09-24T20:38:35.513134Z"
    }
   },
   "cell_type": "code",
   "source": "clean_df['Country']=clean_df['Country'].str.upper()\n",
   "id": "27b794393531f9f",
   "outputs": [],
   "execution_count": 195
  },
  {
   "metadata": {
    "ExecuteTime": {
     "end_time": "2024-09-24T20:38:37.986076Z",
     "start_time": "2024-09-24T20:38:37.962912Z"
    }
   },
   "cell_type": "code",
   "source": "clean_df['ISO'] = clean_df['ISO'].str.upper()",
   "id": "5afe7233fa76e476",
   "outputs": [],
   "execution_count": 196
  },
  {
   "metadata": {
    "ExecuteTime": {
     "end_time": "2024-09-24T20:38:39.863113Z",
     "start_time": "2024-09-24T20:38:39.849836Z"
    }
   },
   "cell_type": "code",
   "source": "clean_df.head()",
   "id": "ab17a0d1ea100d54",
   "outputs": [
    {
     "data": {
      "text/plain": [
       "       Country  ISO    Year  Total  Temperature  GDP Per Capita (USD)  Coal  \\\n",
       "0  AFGHANISTAN  AFG  1750.0    0.0           70                 55455   0.0   \n",
       "1  AFGHANISTAN  AFG  1751.0    0.0           66                 45101   0.0   \n",
       "2  AFGHANISTAN  AFG  1752.0    0.0           72                 31891   0.0   \n",
       "3  AFGHANISTAN  AFG  1753.0    0.0           44                 35466   0.0   \n",
       "4  AFGHANISTAN  AFG  1754.0    0.0           21                 33247   0.0   \n",
       "\n",
       "   Oil  Gas  Cement  Flaring  Per Capita  \n",
       "0  0.0  0.0     0.0      0.0         0.0  \n",
       "1  0.0  0.0     0.0      0.0         0.0  \n",
       "2  0.0  0.0     0.0      0.0         0.0  \n",
       "3  0.0  0.0     0.0      0.0         0.0  \n",
       "4  0.0  0.0     0.0      0.0         0.0  "
      ],
      "text/html": [
       "<div>\n",
       "<style scoped>\n",
       "    .dataframe tbody tr th:only-of-type {\n",
       "        vertical-align: middle;\n",
       "    }\n",
       "\n",
       "    .dataframe tbody tr th {\n",
       "        vertical-align: top;\n",
       "    }\n",
       "\n",
       "    .dataframe thead th {\n",
       "        text-align: right;\n",
       "    }\n",
       "</style>\n",
       "<table border=\"1\" class=\"dataframe\">\n",
       "  <thead>\n",
       "    <tr style=\"text-align: right;\">\n",
       "      <th></th>\n",
       "      <th>Country</th>\n",
       "      <th>ISO</th>\n",
       "      <th>Year</th>\n",
       "      <th>Total</th>\n",
       "      <th>Temperature</th>\n",
       "      <th>GDP Per Capita (USD)</th>\n",
       "      <th>Coal</th>\n",
       "      <th>Oil</th>\n",
       "      <th>Gas</th>\n",
       "      <th>Cement</th>\n",
       "      <th>Flaring</th>\n",
       "      <th>Per Capita</th>\n",
       "    </tr>\n",
       "  </thead>\n",
       "  <tbody>\n",
       "    <tr>\n",
       "      <th>0</th>\n",
       "      <td>AFGHANISTAN</td>\n",
       "      <td>AFG</td>\n",
       "      <td>1750.0</td>\n",
       "      <td>0.0</td>\n",
       "      <td>70</td>\n",
       "      <td>55455</td>\n",
       "      <td>0.0</td>\n",
       "      <td>0.0</td>\n",
       "      <td>0.0</td>\n",
       "      <td>0.0</td>\n",
       "      <td>0.0</td>\n",
       "      <td>0.0</td>\n",
       "    </tr>\n",
       "    <tr>\n",
       "      <th>1</th>\n",
       "      <td>AFGHANISTAN</td>\n",
       "      <td>AFG</td>\n",
       "      <td>1751.0</td>\n",
       "      <td>0.0</td>\n",
       "      <td>66</td>\n",
       "      <td>45101</td>\n",
       "      <td>0.0</td>\n",
       "      <td>0.0</td>\n",
       "      <td>0.0</td>\n",
       "      <td>0.0</td>\n",
       "      <td>0.0</td>\n",
       "      <td>0.0</td>\n",
       "    </tr>\n",
       "    <tr>\n",
       "      <th>2</th>\n",
       "      <td>AFGHANISTAN</td>\n",
       "      <td>AFG</td>\n",
       "      <td>1752.0</td>\n",
       "      <td>0.0</td>\n",
       "      <td>72</td>\n",
       "      <td>31891</td>\n",
       "      <td>0.0</td>\n",
       "      <td>0.0</td>\n",
       "      <td>0.0</td>\n",
       "      <td>0.0</td>\n",
       "      <td>0.0</td>\n",
       "      <td>0.0</td>\n",
       "    </tr>\n",
       "    <tr>\n",
       "      <th>3</th>\n",
       "      <td>AFGHANISTAN</td>\n",
       "      <td>AFG</td>\n",
       "      <td>1753.0</td>\n",
       "      <td>0.0</td>\n",
       "      <td>44</td>\n",
       "      <td>35466</td>\n",
       "      <td>0.0</td>\n",
       "      <td>0.0</td>\n",
       "      <td>0.0</td>\n",
       "      <td>0.0</td>\n",
       "      <td>0.0</td>\n",
       "      <td>0.0</td>\n",
       "    </tr>\n",
       "    <tr>\n",
       "      <th>4</th>\n",
       "      <td>AFGHANISTAN</td>\n",
       "      <td>AFG</td>\n",
       "      <td>1754.0</td>\n",
       "      <td>0.0</td>\n",
       "      <td>21</td>\n",
       "      <td>33247</td>\n",
       "      <td>0.0</td>\n",
       "      <td>0.0</td>\n",
       "      <td>0.0</td>\n",
       "      <td>0.0</td>\n",
       "      <td>0.0</td>\n",
       "      <td>0.0</td>\n",
       "    </tr>\n",
       "  </tbody>\n",
       "</table>\n",
       "</div>"
      ]
     },
     "execution_count": 197,
     "metadata": {},
     "output_type": "execute_result"
    }
   ],
   "execution_count": 197
  },
  {
   "metadata": {},
   "cell_type": "markdown",
   "source": "EDA Graphical exploration ",
   "id": "2154f606104e8072"
  },
  {
   "metadata": {
    "ExecuteTime": {
     "end_time": "2024-09-24T20:42:37.411029Z",
     "start_time": "2024-09-24T20:42:35.745616Z"
    }
   },
   "cell_type": "code",
   "source": [
    "numeric_df = clean_df.select_dtypes(include=['float64','int64'])\n",
    "matrix = numeric_df.corr()\n",
    "plt.figure(figsize=(10, 8))\n",
    "sns.heatmap(matrix, annot=True)\n",
    "plt.title('Correlation Matrix')\n",
    "plt.show()"
   ],
   "id": "6248127fe66f4167",
   "outputs": [
    {
     "data": {
      "text/plain": [
       "<Figure size 720x576 with 2 Axes>"
      ],
      "image/png": "[encoded data removed]"
     },
     "metadata": {},
     "output_type": "display_data"
    }
   ],
   "execution_count": 198
  },
  {
   "metadata": {
    "ExecuteTime": {
     "end_time": "2024-09-24T20:42:42.238123Z",
     "start_time": "2024-09-24T20:42:41.984186Z"
    }
   },
   "cell_type": "code",
   "source": [
    "country='USA'\n",
    "temp_to_year_df = clean_df[['Country','Year','Temperature']]\n",
    "country_data = temp_to_year_df[temp_to_year_df['Country'] == country]\n",
    "sns.lineplot(x='Year', y='Temperature', data=country_data)\n",
    "plt.title(f\"Temperature Variations for {country}\")\n",
    "plt.xlabel(\"Year\")\n",
    "plt.ylabel(\"Temperature\")\n",
    "plt.show()"
   ],
   "id": "a368ec035b357a6f",
   "outputs": [
    {
     "data": {
      "text/plain": [
       "<Figure size 432x288 with 1 Axes>"
      ],
      "image/png": "[encoded data removed]"
     },
     "metadata": {},
     "output_type": "display_data"
    }
   ],
   "execution_count": 199
  },
  {
   "metadata": {},
   "cell_type": "markdown",
   "source": "This particular analysis shows further gap in the data. There exists data pointing to future as well. We will delete all these entries and put it to clean_df",
   "id": "3ca68bb643bfe3a"
  },
  {
   "metadata": {
    "ExecuteTime": {
     "end_time": "2024-09-24T20:42:46.121728Z",
     "start_time": "2024-09-24T20:42:46.101099Z"
    }
   },
   "cell_type": "code",
   "source": "clean_df = clean_df.loc[clean_df['Year'] < 2024]",
   "id": "e34d13b480b531fc",
   "outputs": [],
   "execution_count": 200
  },
  {
   "metadata": {},
   "cell_type": "markdown",
   "source": "This operation should eliminate undesired future dates.",
   "id": "705454ed98edbb0a"
  },
  {
   "metadata": {
    "ExecuteTime": {
     "end_time": "2024-09-24T20:42:48.972677Z",
     "start_time": "2024-09-24T20:42:48.733083Z"
    }
   },
   "cell_type": "code",
   "source": [
    "country='USA'\n",
    "temp_to_year_df = clean_df[['Country','Year','Temperature']]\n",
    "country_data = temp_to_year_df[temp_to_year_df['Country'] == country]\n",
    "sns.lineplot(x='Year', y='Temperature', data=country_data)\n",
    "plt.title(f\"Temperature Variations for {country}\")\n",
    "plt.xlabel(\"Year\")\n",
    "plt.ylabel(\"Temperature\")\n",
    "plt.show()"
   ],
   "id": "71ec3f536ffadacd",
   "outputs": [
    {
     "data": {
      "text/plain": [
       "<Figure size 432x288 with 1 Axes>"
      ],
      "image/png": "[encoded data removed]"
     },
     "metadata": {},
     "output_type": "display_data"
    }
   ],
   "execution_count": 201
  },
  {
   "metadata": {
    "ExecuteTime": {
     "end_time": "2024-09-24T20:42:51.511326Z",
     "start_time": "2024-09-24T20:42:51.204784Z"
    }
   },
   "cell_type": "code",
   "source": [
    "plt.scatter(clean_df['Year'], clean_df['GDP Per Capita (USD)'])\n",
    "plt.xlabel('Year')\n",
    "plt.ylabel('Per Capita')\n",
    "plt.title('Scatter Plot of Year vs. Per Capita')\n",
    "plt.grid(True)\n",
    "plt.show()"
   ],
   "id": "c685c14a895827de",
   "outputs": [
    {
     "data": {
      "text/plain": [
       "<Figure size 432x288 with 1 Axes>"
      ],
      "image/png": "[encoded data removed]"
     },
     "metadata": {},
     "output_type": "display_data"
    }
   ],
   "execution_count": 202
  },
  {
   "metadata": {
    "ExecuteTime": {
     "end_time": "2024-09-24T20:42:53.840506Z",
     "start_time": "2024-09-24T20:42:53.819900Z"
    }
   },
   "cell_type": "code",
   "source": "clean_df.loc[clean_df['Year'] == 0]",
   "id": "64480169321d91c9",
   "outputs": [
    {
     "data": {
      "text/plain": [
       "                         Country  ISO  Year        Total  Temperature  \\\n",
       "106                  AFGHANISTAN  AFG   0.0     0.000000           48   \n",
       "480                      ALBANIA  ALB   0.0     1.201465           30   \n",
       "705                      ALGERIA  DZA   0.0     0.000000           28   \n",
       "1013                     ANDORRA  AND   0.0     0.000000           20   \n",
       "1018                     ANDORRA  AND   0.0  1399.000000           27   \n",
       "...                          ...  ...   ...          ...          ...   \n",
       "61675  WALLIS AND FUTUNA ISLANDS  WLF   0.0     0.000000           29   \n",
       "61886                      YEMEN  YEM   0.0     0.000000           71   \n",
       "62138                     ZAMBIA  ZMB   0.0     0.000000           46   \n",
       "62447                   ZIMBABWE  ZWE   0.0     0.000000           67   \n",
       "62946                     GLOBAL  WLD   0.0   407.090287           43   \n",
       "\n",
       "       GDP Per Capita (USD)        Coal          Oil     Gas    Cement  \\\n",
       "106                   51887     0.00000     0.000000  1398.0  0.000000   \n",
       "480                   35918     0.00000     0.000000     0.0  0.039977   \n",
       "705                   41983     0.00000     0.000000     0.0  0.000000   \n",
       "1013                  48225     0.00000     0.000000     0.0  0.000000   \n",
       "1018                  53381     0.00000     0.000000     0.0  0.000000   \n",
       "...                     ...         ...          ...     ...       ...   \n",
       "61675                 37549     0.00000  1027.000000     0.0  0.000000   \n",
       "61886                 55414     0.00000     0.000000     0.0  0.000000   \n",
       "62138                 45792     0.00000     0.000000     0.0  0.000000   \n",
       "62447                 56334  1393.00000     0.000000     0.0  0.000000   \n",
       "62946                 50763   405.98027     1.110017     0.0  0.000000   \n",
       "\n",
       "       Flaring   Per Capita  \n",
       "106        0.0     0.000000  \n",
       "480        0.0     0.750455  \n",
       "705        0.0  1444.000000  \n",
       "1013       0.0     0.000000  \n",
       "1018       0.0  1634.000000  \n",
       "...        ...          ...  \n",
       "61675      0.0     0.000000  \n",
       "61886      0.0     0.000000  \n",
       "62138      0.0     0.000000  \n",
       "62447      0.0     0.000000  \n",
       "62946      0.0     0.300231  \n",
       "\n",
       "[318 rows x 12 columns]"
      ],
      "text/html": [
       "<div>\n",
       "<style scoped>\n",
       "    .dataframe tbody tr th:only-of-type {\n",
       "        vertical-align: middle;\n",
       "    }\n",
       "\n",
       "    .dataframe tbody tr th {\n",
       "        vertical-align: top;\n",
       "    }\n",
       "\n",
       "    .dataframe thead th {\n",
       "        text-align: right;\n",
       "    }\n",
       "</style>\n",
       "<table border=\"1\" class=\"dataframe\">\n",
       "  <thead>\n",
       "    <tr style=\"text-align: right;\">\n",
       "      <th></th>\n",
       "      <th>Country</th>\n",
       "      <th>ISO</th>\n",
       "      <th>Year</th>\n",
       "      <th>Total</th>\n",
       "      <th>Temperature</th>\n",
       "      <th>GDP Per Capita (USD)</th>\n",
       "      <th>Coal</th>\n",
       "      <th>Oil</th>\n",
       "      <th>Gas</th>\n",
       "      <th>Cement</th>\n",
       "      <th>Flaring</th>\n",
       "      <th>Per Capita</th>\n",
       "    </tr>\n",
       "  </thead>\n",
       "  <tbody>\n",
       "    <tr>\n",
       "      <th>106</th>\n",
       "      <td>AFGHANISTAN</td>\n",
       "      <td>AFG</td>\n",
       "      <td>0.0</td>\n",
       "      <td>0.000000</td>\n",
       "      <td>48</td>\n",
       "      <td>51887</td>\n",
       "      <td>0.00000</td>\n",
       "      <td>0.000000</td>\n",
       "      <td>1398.0</td>\n",
       "      <td>0.000000</td>\n",
       "      <td>0.0</td>\n",
       "      <td>0.000000</td>\n",
       "    </tr>\n",
       "    <tr>\n",
       "      <th>480</th>\n",
       "      <td>ALBANIA</td>\n",
       "      <td>ALB</td>\n",
       "      <td>0.0</td>\n",
       "      <td>1.201465</td>\n",
       "      <td>30</td>\n",
       "      <td>35918</td>\n",
       "      <td>0.00000</td>\n",
       "      <td>0.000000</td>\n",
       "      <td>0.0</td>\n",
       "      <td>0.039977</td>\n",
       "      <td>0.0</td>\n",
       "      <td>0.750455</td>\n",
       "    </tr>\n",
       "    <tr>\n",
       "      <th>705</th>\n",
       "      <td>ALGERIA</td>\n",
       "      <td>DZA</td>\n",
       "      <td>0.0</td>\n",
       "      <td>0.000000</td>\n",
       "      <td>28</td>\n",
       "      <td>41983</td>\n",
       "      <td>0.00000</td>\n",
       "      <td>0.000000</td>\n",
       "      <td>0.0</td>\n",
       "      <td>0.000000</td>\n",
       "      <td>0.0</td>\n",
       "      <td>1444.000000</td>\n",
       "    </tr>\n",
       "    <tr>\n",
       "      <th>1013</th>\n",
       "      <td>ANDORRA</td>\n",
       "      <td>AND</td>\n",
       "      <td>0.0</td>\n",
       "      <td>0.000000</td>\n",
       "      <td>20</td>\n",
       "      <td>48225</td>\n",
       "      <td>0.00000</td>\n",
       "      <td>0.000000</td>\n",
       "      <td>0.0</td>\n",
       "      <td>0.000000</td>\n",
       "      <td>0.0</td>\n",
       "      <td>0.000000</td>\n",
       "    </tr>\n",
       "    <tr>\n",
       "      <th>1018</th>\n",
       "      <td>ANDORRA</td>\n",
       "      <td>AND</td>\n",
       "      <td>0.0</td>\n",
       "      <td>1399.000000</td>\n",
       "      <td>27</td>\n",
       "      <td>53381</td>\n",
       "      <td>0.00000</td>\n",
       "      <td>0.000000</td>\n",
       "      <td>0.0</td>\n",
       "      <td>0.000000</td>\n",
       "      <td>0.0</td>\n",
       "      <td>1634.000000</td>\n",
       "    </tr>\n",
       "    <tr>\n",
       "      <th>...</th>\n",
       "      <td>...</td>\n",
       "      <td>...</td>\n",
       "      <td>...</td>\n",
       "      <td>...</td>\n",
       "      <td>...</td>\n",
       "      <td>...</td>\n",
       "      <td>...</td>\n",
       "      <td>...</td>\n",
       "      <td>...</td>\n",
       "      <td>...</td>\n",
       "      <td>...</td>\n",
       "      <td>...</td>\n",
       "    </tr>\n",
       "    <tr>\n",
       "      <th>61675</th>\n",
       "      <td>WALLIS AND FUTUNA ISLANDS</td>\n",
       "      <td>WLF</td>\n",
       "      <td>0.0</td>\n",
       "      <td>0.000000</td>\n",
       "      <td>29</td>\n",
       "      <td>37549</td>\n",
       "      <td>0.00000</td>\n",
       "      <td>1027.000000</td>\n",
       "      <td>0.0</td>\n",
       "      <td>0.000000</td>\n",
       "      <td>0.0</td>\n",
       "      <td>0.000000</td>\n",
       "    </tr>\n",
       "    <tr>\n",
       "      <th>61886</th>\n",
       "      <td>YEMEN</td>\n",
       "      <td>YEM</td>\n",
       "      <td>0.0</td>\n",
       "      <td>0.000000</td>\n",
       "      <td>71</td>\n",
       "      <td>55414</td>\n",
       "      <td>0.00000</td>\n",
       "      <td>0.000000</td>\n",
       "      <td>0.0</td>\n",
       "      <td>0.000000</td>\n",
       "      <td>0.0</td>\n",
       "      <td>0.000000</td>\n",
       "    </tr>\n",
       "    <tr>\n",
       "      <th>62138</th>\n",
       "      <td>ZAMBIA</td>\n",
       "      <td>ZMB</td>\n",
       "      <td>0.0</td>\n",
       "      <td>0.000000</td>\n",
       "      <td>46</td>\n",
       "      <td>45792</td>\n",
       "      <td>0.00000</td>\n",
       "      <td>0.000000</td>\n",
       "      <td>0.0</td>\n",
       "      <td>0.000000</td>\n",
       "      <td>0.0</td>\n",
       "      <td>0.000000</td>\n",
       "    </tr>\n",
       "    <tr>\n",
       "      <th>62447</th>\n",
       "      <td>ZIMBABWE</td>\n",
       "      <td>ZWE</td>\n",
       "      <td>0.0</td>\n",
       "      <td>0.000000</td>\n",
       "      <td>67</td>\n",
       "      <td>56334</td>\n",
       "      <td>1393.00000</td>\n",
       "      <td>0.000000</td>\n",
       "      <td>0.0</td>\n",
       "      <td>0.000000</td>\n",
       "      <td>0.0</td>\n",
       "      <td>0.000000</td>\n",
       "    </tr>\n",
       "    <tr>\n",
       "      <th>62946</th>\n",
       "      <td>GLOBAL</td>\n",
       "      <td>WLD</td>\n",
       "      <td>0.0</td>\n",
       "      <td>407.090287</td>\n",
       "      <td>43</td>\n",
       "      <td>50763</td>\n",
       "      <td>405.98027</td>\n",
       "      <td>1.110017</td>\n",
       "      <td>0.0</td>\n",
       "      <td>0.000000</td>\n",
       "      <td>0.0</td>\n",
       "      <td>0.300231</td>\n",
       "    </tr>\n",
       "  </tbody>\n",
       "</table>\n",
       "<p>318 rows × 12 columns</p>\n",
       "</div>"
      ]
     },
     "execution_count": 203,
     "metadata": {},
     "output_type": "execute_result"
    }
   ],
   "execution_count": 203
  },
  {
   "metadata": {},
   "cell_type": "markdown",
   "source": "We can observe that GDP per capita is plotted for only year 0. This can be considered an outlier and since its an extreme one, it can influence the outcome of our operation further down the line. We will eliminate these records. ",
   "id": "9102bb94e08525f4"
  },
  {
   "metadata": {
    "ExecuteTime": {
     "end_time": "2024-09-24T20:42:58.178247Z",
     "start_time": "2024-09-24T20:42:58.163050Z"
    }
   },
   "cell_type": "code",
   "source": "clean_df = clean_df.loc[clean_df['Year'] != 0]\n",
   "id": "11afec338b961723",
   "outputs": [],
   "execution_count": 204
  },
  {
   "metadata": {
    "ExecuteTime": {
     "end_time": "2024-09-24T20:43:01.226794Z",
     "start_time": "2024-09-24T20:43:00.953620Z"
    }
   },
   "cell_type": "code",
   "source": [
    "plt.scatter(clean_df['Year'], clean_df['GDP Per Capita (USD)'])\n",
    "plt.xlabel('Year')\n",
    "plt.ylabel('Per Capita')\n",
    "plt.title('Scatter Plot of Year vs. Per Capita')\n",
    "plt.grid(True)\n",
    "plt.show()"
   ],
   "id": "597e0301965e2605",
   "outputs": [
    {
     "data": {
      "text/plain": [
       "<Figure size 432x288 with 1 Axes>"
      ],
      "image/png": "[encoded data removed]"
     },
     "metadata": {},
     "output_type": "display_data"
    }
   ],
   "execution_count": 205
  },
  {
   "metadata": {
    "ExecuteTime": {
     "end_time": "2024-09-24T20:43:06.817782Z",
     "start_time": "2024-09-24T20:43:05.141412Z"
    }
   },
   "cell_type": "code",
   "source": [
    "for c in clean_df.select_dtypes(include=['int64','float64']).columns:\n",
    "    plt.figure(figsize=(10, 6))\n",
    "    sns.boxplot(x=clean_df[c])\n",
    "    plt.show()"
   ],
   "id": "c920670a9839f961",
   "outputs": [
    {
     "data": {
      "text/plain": [
       "<Figure size 720x432 with 1 Axes>"
      ],
      "image/png": "[encoded data removed]"
     },
     "metadata": {},
     "output_type": "display_data"
    },
    {
     "data": {
      "text/plain": [
       "<Figure size 720x432 with 1 Axes>"
      ],
      "image/png": "[encoded data removed]"
     },
     "metadata": {},
     "output_type": "display_data"
    },
    {
     "data": {
      "text/plain": [
       "<Figure size 720x432 with 1 Axes>"
      ],
      "image/png": "[encoded data removed]"
     },
     "metadata": {},
     "output_type": "display_data"
    },
    {
     "data": {
      "text/plain": [
       "<Figure size 720x432 with 1 Axes>"
      ],
      "image/png": "[encoded data removed]"
     },
     "metadata": {},
     "output_type": "display_data"
    },
    {
     "data": {
      "text/plain": [
       "<Figure size 720x432 with 1 Axes>"
      ],
      "image/png": "[encoded data removed]"
     },
     "metadata": {},
     "output_type": "display_data"
    },
    {
     "data": {
      "text/plain": [
       "<Figure size 720x432 with 1 Axes>"
      ],
      "image/png": "[encoded data removed]"
     },
     "metadata": {},
     "output_type": "display_data"
    },
    {
     "data": {
      "text/plain": [
       "<Figure size 720x432 with 1 Axes>"
      ],
      "image/png": "[encoded data removed]"
     },
     "metadata": {},
     "output_type": "display_data"
    },
    {
     "data": {
      "text/plain": [
       "<Figure size 720x432 with 1 Axes>"
      ],
      "image/png": "[encoded data removed]"
     },
     "metadata": {},
     "output_type": "display_data"
    },
    {
     "data": {
      "text/plain": [
       "<Figure size 720x432 with 1 Axes>"
      ],
      "image/png": "[encoded data removed]"
     },
     "metadata": {},
     "output_type": "display_data"
    },
    {
     "data": {
      "text/plain": [
       "<Figure size 720x432 with 1 Axes>"
      ],
      "image/png": "[encoded data removed]"
     },
     "metadata": {},
     "output_type": "display_data"
    }
   ],
   "execution_count": 206
  },
  {
   "metadata": {
    "ExecuteTime": {
     "end_time": "2024-09-24T20:50:25.529197Z",
     "start_time": "2024-09-24T20:50:25.480405Z"
    }
   },
   "cell_type": "code",
   "source": [
    "df_zscore = clean_df.copy()\n",
    "for i in df.select_dtypes(include=['int64','float64']).columns:\n",
    "  z_score_column = i + '_z-score'\n",
    "  df_zscore[z_score_column] = (df[i] - df[i].mean()) / df[i].std()"
   ],
   "id": "ce40203193c23d9e",
   "outputs": [],
   "execution_count": 222
  },
  {
   "metadata": {
    "ExecuteTime": {
     "end_time": "2024-09-24T20:50:28.066983Z",
     "start_time": "2024-09-24T20:50:28.047260Z"
    }
   },
   "cell_type": "code",
   "source": "df_zscore.head()\n",
   "id": "ebc97e5d9e618e07",
   "outputs": [
    {
     "data": {
      "text/plain": [
       "       Country  ISO    Year  Total  Temperature  GDP Per Capita (USD)  Coal  \\\n",
       "0  AFGHANISTAN  AFG  1750.0    0.0           70                 55455   0.0   \n",
       "1  AFGHANISTAN  AFG  1751.0    0.0           66                 45101   0.0   \n",
       "2  AFGHANISTAN  AFG  1752.0    0.0           72                 31891   0.0   \n",
       "3  AFGHANISTAN  AFG  1753.0    0.0           44                 35466   0.0   \n",
       "4  AFGHANISTAN  AFG  1754.0    0.0           21                 33247   0.0   \n",
       "\n",
       "   Oil  Gas  Cement  ...  Year_z-score  Total_z-score  Temperature_z-score  \\\n",
       "0  0.0  0.0     0.0  ...     -1.127320       -0.08731             1.185639   \n",
       "1  0.0  0.0     0.0  ...     -1.119167       -0.08731             0.954320   \n",
       "2  0.0  0.0     0.0  ...     -1.111013       -0.08731             1.301299   \n",
       "3  0.0  0.0     0.0  ...     -1.102860       -0.08731            -0.317938   \n",
       "4  0.0  0.0     0.0  ...     -1.094707       -0.08731            -1.648026   \n",
       "\n",
       "   GDP Per Capita (USD)_z-score  Coal_z-score  Oil_z-score  Gas_z-score  \\\n",
       "0                      1.496825           NaN          NaN          NaN   \n",
       "1                      0.553454           NaN          NaN          NaN   \n",
       "2                     -0.650131           NaN          NaN          NaN   \n",
       "3                     -0.324407           NaN          NaN          NaN   \n",
       "4                     -0.526584           NaN          NaN          NaN   \n",
       "\n",
       "   Cement_z-score  Flaring_z-score  Per Capita_z-score  \n",
       "0             NaN              NaN                 NaN  \n",
       "1             NaN              NaN                 NaN  \n",
       "2             NaN              NaN                 NaN  \n",
       "3             NaN              NaN                 NaN  \n",
       "4             NaN              NaN                 NaN  \n",
       "\n",
       "[5 rows x 22 columns]"
      ],
      "text/html": [
       "<div>\n",
       "<style scoped>\n",
       "    .dataframe tbody tr th:only-of-type {\n",
       "        vertical-align: middle;\n",
       "    }\n",
       "\n",
       "    .dataframe tbody tr th {\n",
       "        vertical-align: top;\n",
       "    }\n",
       "\n",
       "    .dataframe thead th {\n",
       "        text-align: right;\n",
       "    }\n",
       "</style>\n",
       "<table border=\"1\" class=\"dataframe\">\n",
       "  <thead>\n",
       "    <tr style=\"text-align: right;\">\n",
       "      <th></th>\n",
       "      <th>Country</th>\n",
       "      <th>ISO</th>\n",
       "      <th>Year</th>\n",
       "      <th>Total</th>\n",
       "      <th>Temperature</th>\n",
       "      <th>GDP Per Capita (USD)</th>\n",
       "      <th>Coal</th>\n",
       "      <th>Oil</th>\n",
       "      <th>Gas</th>\n",
       "      <th>Cement</th>\n",
       "      <th>...</th>\n",
       "      <th>Year_z-score</th>\n",
       "      <th>Total_z-score</th>\n",
       "      <th>Temperature_z-score</th>\n",
       "      <th>GDP Per Capita (USD)_z-score</th>\n",
       "      <th>Coal_z-score</th>\n",
       "      <th>Oil_z-score</th>\n",
       "      <th>Gas_z-score</th>\n",
       "      <th>Cement_z-score</th>\n",
       "      <th>Flaring_z-score</th>\n",
       "      <th>Per Capita_z-score</th>\n",
       "    </tr>\n",
       "  </thead>\n",
       "  <tbody>\n",
       "    <tr>\n",
       "      <th>0</th>\n",
       "      <td>AFGHANISTAN</td>\n",
       "      <td>AFG</td>\n",
       "      <td>1750.0</td>\n",
       "      <td>0.0</td>\n",
       "      <td>70</td>\n",
       "      <td>55455</td>\n",
       "      <td>0.0</td>\n",
       "      <td>0.0</td>\n",
       "      <td>0.0</td>\n",
       "      <td>0.0</td>\n",
       "      <td>...</td>\n",
       "      <td>-1.127320</td>\n",
       "      <td>-0.08731</td>\n",
       "      <td>1.185639</td>\n",
       "      <td>1.496825</td>\n",
       "      <td>NaN</td>\n",
       "      <td>NaN</td>\n",
       "      <td>NaN</td>\n",
       "      <td>NaN</td>\n",
       "      <td>NaN</td>\n",
       "      <td>NaN</td>\n",
       "    </tr>\n",
       "    <tr>\n",
       "      <th>1</th>\n",
       "      <td>AFGHANISTAN</td>\n",
       "      <td>AFG</td>\n",
       "      <td>1751.0</td>\n",
       "      <td>0.0</td>\n",
       "      <td>66</td>\n",
       "      <td>45101</td>\n",
       "      <td>0.0</td>\n",
       "      <td>0.0</td>\n",
       "      <td>0.0</td>\n",
       "      <td>0.0</td>\n",
       "      <td>...</td>\n",
       "      <td>-1.119167</td>\n",
       "      <td>-0.08731</td>\n",
       "      <td>0.954320</td>\n",
       "      <td>0.553454</td>\n",
       "      <td>NaN</td>\n",
       "      <td>NaN</td>\n",
       "      <td>NaN</td>\n",
       "      <td>NaN</td>\n",
       "      <td>NaN</td>\n",
       "      <td>NaN</td>\n",
       "    </tr>\n",
       "    <tr>\n",
       "      <th>2</th>\n",
       "      <td>AFGHANISTAN</td>\n",
       "      <td>AFG</td>\n",
       "      <td>1752.0</td>\n",
       "      <td>0.0</td>\n",
       "      <td>72</td>\n",
       "      <td>31891</td>\n",
       "      <td>0.0</td>\n",
       "      <td>0.0</td>\n",
       "      <td>0.0</td>\n",
       "      <td>0.0</td>\n",
       "      <td>...</td>\n",
       "      <td>-1.111013</td>\n",
       "      <td>-0.08731</td>\n",
       "      <td>1.301299</td>\n",
       "      <td>-0.650131</td>\n",
       "      <td>NaN</td>\n",
       "      <td>NaN</td>\n",
       "      <td>NaN</td>\n",
       "      <td>NaN</td>\n",
       "      <td>NaN</td>\n",
       "      <td>NaN</td>\n",
       "    </tr>\n",
       "    <tr>\n",
       "      <th>3</th>\n",
       "      <td>AFGHANISTAN</td>\n",
       "      <td>AFG</td>\n",
       "      <td>1753.0</td>\n",
       "      <td>0.0</td>\n",
       "      <td>44</td>\n",
       "      <td>35466</td>\n",
       "      <td>0.0</td>\n",
       "      <td>0.0</td>\n",
       "      <td>0.0</td>\n",
       "      <td>0.0</td>\n",
       "      <td>...</td>\n",
       "      <td>-1.102860</td>\n",
       "      <td>-0.08731</td>\n",
       "      <td>-0.317938</td>\n",
       "      <td>-0.324407</td>\n",
       "      <td>NaN</td>\n",
       "      <td>NaN</td>\n",
       "      <td>NaN</td>\n",
       "      <td>NaN</td>\n",
       "      <td>NaN</td>\n",
       "      <td>NaN</td>\n",
       "    </tr>\n",
       "    <tr>\n",
       "      <th>4</th>\n",
       "      <td>AFGHANISTAN</td>\n",
       "      <td>AFG</td>\n",
       "      <td>1754.0</td>\n",
       "      <td>0.0</td>\n",
       "      <td>21</td>\n",
       "      <td>33247</td>\n",
       "      <td>0.0</td>\n",
       "      <td>0.0</td>\n",
       "      <td>0.0</td>\n",
       "      <td>0.0</td>\n",
       "      <td>...</td>\n",
       "      <td>-1.094707</td>\n",
       "      <td>-0.08731</td>\n",
       "      <td>-1.648026</td>\n",
       "      <td>-0.526584</td>\n",
       "      <td>NaN</td>\n",
       "      <td>NaN</td>\n",
       "      <td>NaN</td>\n",
       "      <td>NaN</td>\n",
       "      <td>NaN</td>\n",
       "      <td>NaN</td>\n",
       "    </tr>\n",
       "  </tbody>\n",
       "</table>\n",
       "<p>5 rows × 22 columns</p>\n",
       "</div>"
      ]
     },
     "execution_count": 223,
     "metadata": {},
     "output_type": "execute_result"
    }
   ],
   "execution_count": 223
  },
  {
   "metadata": {
    "ExecuteTime": {
     "end_time": "2024-09-24T20:50:31.052809Z",
     "start_time": "2024-09-24T20:50:31.047910Z"
    }
   },
   "cell_type": "code",
   "source": "df_zscore.shape",
   "id": "769083d841d2b66",
   "outputs": [
    {
     "data": {
      "text/plain": [
       "(57570, 22)"
      ]
     },
     "execution_count": 224,
     "metadata": {},
     "output_type": "execute_result"
    }
   ],
   "execution_count": 224
  },
  {
   "metadata": {
    "ExecuteTime": {
     "end_time": "2024-09-24T20:50:33.956092Z",
     "start_time": "2024-09-24T20:50:33.925170Z"
    }
   },
   "cell_type": "code",
   "source": [
    "capture_outlier_column = []\n",
    "for i in df_zscore.columns[df_zscore.columns.str.endswith('_z-score')]:\n",
    "    outliers = df_zscore[df_zscore[i] > 3 ]\n",
    "    print(f\"Number of outliers in {i}: {len(outliers)}\")\n",
    "    if len(outliers) > 0:\n",
    "        capture_outlier_column.append(i)"
   ],
   "id": "affbdfc5a8c04cd0",
   "outputs": [
    {
     "name": "stdout",
     "output_type": "stream",
     "text": [
      "Number of outliers in Year_z-score: 0\n",
      "Number of outliers in Total_z-score: 235\n",
      "Number of outliers in Temperature_z-score: 0\n",
      "Number of outliers in GDP Per Capita (USD)_z-score: 0\n",
      "Number of outliers in Coal_z-score: 215\n",
      "Number of outliers in Oil_z-score: 227\n",
      "Number of outliers in Gas_z-score: 256\n",
      "Number of outliers in Cement_z-score: 186\n",
      "Number of outliers in Flaring_z-score: 167\n",
      "Number of outliers in Per Capita_z-score: 246\n"
     ]
    }
   ],
   "execution_count": 225
  },
  {
   "metadata": {
    "ExecuteTime": {
     "end_time": "2024-09-24T20:50:38.153402Z",
     "start_time": "2024-09-24T20:50:38.149860Z"
    }
   },
   "cell_type": "code",
   "source": "capture_outlier_column",
   "id": "30797a1e0e710314",
   "outputs": [
    {
     "data": {
      "text/plain": [
       "['Total_z-score',\n",
       " 'Coal_z-score',\n",
       " 'Oil_z-score',\n",
       " 'Gas_z-score',\n",
       " 'Cement_z-score',\n",
       " 'Flaring_z-score',\n",
       " 'Per Capita_z-score']"
      ]
     },
     "execution_count": 226,
     "metadata": {},
     "output_type": "execute_result"
    }
   ],
   "execution_count": 226
  },
  {
   "metadata": {
    "ExecuteTime": {
     "end_time": "2024-09-24T20:50:40.820827Z",
     "start_time": "2024-09-24T20:50:40.734721Z"
    }
   },
   "cell_type": "code",
   "source": [
    "for i in capture_outlier_column:\n",
    "    df_zscore = df_zscore.drop(df_zscore.loc[df_zscore[i] > 3].index)"
   ],
   "id": "543889b0fe1648e4",
   "outputs": [],
   "execution_count": 227
  },
  {
   "metadata": {
    "ExecuteTime": {
     "end_time": "2024-09-24T20:50:43.398269Z",
     "start_time": "2024-09-24T20:50:43.381314Z"
    }
   },
   "cell_type": "code",
   "source": "df_zscore.head()",
   "id": "78bcb78a0695c1e6",
   "outputs": [
    {
     "data": {
      "text/plain": [
       "       Country  ISO    Year  Total  Temperature  GDP Per Capita (USD)  Coal  \\\n",
       "0  AFGHANISTAN  AFG  1750.0    0.0           70                 55455   0.0   \n",
       "1  AFGHANISTAN  AFG  1751.0    0.0           66                 45101   0.0   \n",
       "2  AFGHANISTAN  AFG  1752.0    0.0           72                 31891   0.0   \n",
       "3  AFGHANISTAN  AFG  1753.0    0.0           44                 35466   0.0   \n",
       "4  AFGHANISTAN  AFG  1754.0    0.0           21                 33247   0.0   \n",
       "\n",
       "   Oil  Gas  Cement  ...  Year_z-score  Total_z-score  Temperature_z-score  \\\n",
       "0  0.0  0.0     0.0  ...     -1.127320       -0.08731             1.185639   \n",
       "1  0.0  0.0     0.0  ...     -1.119167       -0.08731             0.954320   \n",
       "2  0.0  0.0     0.0  ...     -1.111013       -0.08731             1.301299   \n",
       "3  0.0  0.0     0.0  ...     -1.102860       -0.08731            -0.317938   \n",
       "4  0.0  0.0     0.0  ...     -1.094707       -0.08731            -1.648026   \n",
       "\n",
       "   GDP Per Capita (USD)_z-score  Coal_z-score  Oil_z-score  Gas_z-score  \\\n",
       "0                      1.496825           NaN          NaN          NaN   \n",
       "1                      0.553454           NaN          NaN          NaN   \n",
       "2                     -0.650131           NaN          NaN          NaN   \n",
       "3                     -0.324407           NaN          NaN          NaN   \n",
       "4                     -0.526584           NaN          NaN          NaN   \n",
       "\n",
       "   Cement_z-score  Flaring_z-score  Per Capita_z-score  \n",
       "0             NaN              NaN                 NaN  \n",
       "1             NaN              NaN                 NaN  \n",
       "2             NaN              NaN                 NaN  \n",
       "3             NaN              NaN                 NaN  \n",
       "4             NaN              NaN                 NaN  \n",
       "\n",
       "[5 rows x 22 columns]"
      ],
      "text/html": [
       "<div>\n",
       "<style scoped>\n",
       "    .dataframe tbody tr th:only-of-type {\n",
       "        vertical-align: middle;\n",
       "    }\n",
       "\n",
       "    .dataframe tbody tr th {\n",
       "        vertical-align: top;\n",
       "    }\n",
       "\n",
       "    .dataframe thead th {\n",
       "        text-align: right;\n",
       "    }\n",
       "</style>\n",
       "<table border=\"1\" class=\"dataframe\">\n",
       "  <thead>\n",
       "    <tr style=\"text-align: right;\">\n",
       "      <th></th>\n",
       "      <th>Country</th>\n",
       "      <th>ISO</th>\n",
       "      <th>Year</th>\n",
       "      <th>Total</th>\n",
       "      <th>Temperature</th>\n",
       "      <th>GDP Per Capita (USD)</th>\n",
       "      <th>Coal</th>\n",
       "      <th>Oil</th>\n",
       "      <th>Gas</th>\n",
       "      <th>Cement</th>\n",
       "      <th>...</th>\n",
       "      <th>Year_z-score</th>\n",
       "      <th>Total_z-score</th>\n",
       "      <th>Temperature_z-score</th>\n",
       "      <th>GDP Per Capita (USD)_z-score</th>\n",
       "      <th>Coal_z-score</th>\n",
       "      <th>Oil_z-score</th>\n",
       "      <th>Gas_z-score</th>\n",
       "      <th>Cement_z-score</th>\n",
       "      <th>Flaring_z-score</th>\n",
       "      <th>Per Capita_z-score</th>\n",
       "    </tr>\n",
       "  </thead>\n",
       "  <tbody>\n",
       "    <tr>\n",
       "      <th>0</th>\n",
       "      <td>AFGHANISTAN</td>\n",
       "      <td>AFG</td>\n",
       "      <td>1750.0</td>\n",
       "      <td>0.0</td>\n",
       "      <td>70</td>\n",
       "      <td>55455</td>\n",
       "      <td>0.0</td>\n",
       "      <td>0.0</td>\n",
       "      <td>0.0</td>\n",
       "      <td>0.0</td>\n",
       "      <td>...</td>\n",
       "      <td>-1.127320</td>\n",
       "      <td>-0.08731</td>\n",
       "      <td>1.185639</td>\n",
       "      <td>1.496825</td>\n",
       "      <td>NaN</td>\n",
       "      <td>NaN</td>\n",
       "      <td>NaN</td>\n",
       "      <td>NaN</td>\n",
       "      <td>NaN</td>\n",
       "      <td>NaN</td>\n",
       "    </tr>\n",
       "    <tr>\n",
       "      <th>1</th>\n",
       "      <td>AFGHANISTAN</td>\n",
       "      <td>AFG</td>\n",
       "      <td>1751.0</td>\n",
       "      <td>0.0</td>\n",
       "      <td>66</td>\n",
       "      <td>45101</td>\n",
       "      <td>0.0</td>\n",
       "      <td>0.0</td>\n",
       "      <td>0.0</td>\n",
       "      <td>0.0</td>\n",
       "      <td>...</td>\n",
       "      <td>-1.119167</td>\n",
       "      <td>-0.08731</td>\n",
       "      <td>0.954320</td>\n",
       "      <td>0.553454</td>\n",
       "      <td>NaN</td>\n",
       "      <td>NaN</td>\n",
       "      <td>NaN</td>\n",
       "      <td>NaN</td>\n",
       "      <td>NaN</td>\n",
       "      <td>NaN</td>\n",
       "    </tr>\n",
       "    <tr>\n",
       "      <th>2</th>\n",
       "      <td>AFGHANISTAN</td>\n",
       "      <td>AFG</td>\n",
       "      <td>1752.0</td>\n",
       "      <td>0.0</td>\n",
       "      <td>72</td>\n",
       "      <td>31891</td>\n",
       "      <td>0.0</td>\n",
       "      <td>0.0</td>\n",
       "      <td>0.0</td>\n",
       "      <td>0.0</td>\n",
       "      <td>...</td>\n",
       "      <td>-1.111013</td>\n",
       "      <td>-0.08731</td>\n",
       "      <td>1.301299</td>\n",
       "      <td>-0.650131</td>\n",
       "      <td>NaN</td>\n",
       "      <td>NaN</td>\n",
       "      <td>NaN</td>\n",
       "      <td>NaN</td>\n",
       "      <td>NaN</td>\n",
       "      <td>NaN</td>\n",
       "    </tr>\n",
       "    <tr>\n",
       "      <th>3</th>\n",
       "      <td>AFGHANISTAN</td>\n",
       "      <td>AFG</td>\n",
       "      <td>1753.0</td>\n",
       "      <td>0.0</td>\n",
       "      <td>44</td>\n",
       "      <td>35466</td>\n",
       "      <td>0.0</td>\n",
       "      <td>0.0</td>\n",
       "      <td>0.0</td>\n",
       "      <td>0.0</td>\n",
       "      <td>...</td>\n",
       "      <td>-1.102860</td>\n",
       "      <td>-0.08731</td>\n",
       "      <td>-0.317938</td>\n",
       "      <td>-0.324407</td>\n",
       "      <td>NaN</td>\n",
       "      <td>NaN</td>\n",
       "      <td>NaN</td>\n",
       "      <td>NaN</td>\n",
       "      <td>NaN</td>\n",
       "      <td>NaN</td>\n",
       "    </tr>\n",
       "    <tr>\n",
       "      <th>4</th>\n",
       "      <td>AFGHANISTAN</td>\n",
       "      <td>AFG</td>\n",
       "      <td>1754.0</td>\n",
       "      <td>0.0</td>\n",
       "      <td>21</td>\n",
       "      <td>33247</td>\n",
       "      <td>0.0</td>\n",
       "      <td>0.0</td>\n",
       "      <td>0.0</td>\n",
       "      <td>0.0</td>\n",
       "      <td>...</td>\n",
       "      <td>-1.094707</td>\n",
       "      <td>-0.08731</td>\n",
       "      <td>-1.648026</td>\n",
       "      <td>-0.526584</td>\n",
       "      <td>NaN</td>\n",
       "      <td>NaN</td>\n",
       "      <td>NaN</td>\n",
       "      <td>NaN</td>\n",
       "      <td>NaN</td>\n",
       "      <td>NaN</td>\n",
       "    </tr>\n",
       "  </tbody>\n",
       "</table>\n",
       "<p>5 rows × 22 columns</p>\n",
       "</div>"
      ]
     },
     "execution_count": 228,
     "metadata": {},
     "output_type": "execute_result"
    }
   ],
   "execution_count": 228
  },
  {
   "metadata": {
    "ExecuteTime": {
     "end_time": "2024-09-24T20:50:48.698251Z",
     "start_time": "2024-09-24T20:50:48.687925Z"
    }
   },
   "cell_type": "code",
   "source": "df_zscore = df_zscore.drop(columns=[col for col in df_zscore.columns if col.endswith('_z-score')])\n",
   "id": "9caf92b094fb6e8e",
   "outputs": [],
   "execution_count": 230
  },
  {
   "metadata": {
    "ExecuteTime": {
     "end_time": "2024-09-24T20:50:50.746395Z",
     "start_time": "2024-09-24T20:50:50.733060Z"
    }
   },
   "cell_type": "code",
   "source": "df_zscore.head()",
   "id": "b43b9555c64bdda8",
   "outputs": [
    {
     "data": {
      "text/plain": [
       "       Country  ISO    Year  Total  Temperature  GDP Per Capita (USD)  Coal  \\\n",
       "0  AFGHANISTAN  AFG  1750.0    0.0           70                 55455   0.0   \n",
       "1  AFGHANISTAN  AFG  1751.0    0.0           66                 45101   0.0   \n",
       "2  AFGHANISTAN  AFG  1752.0    0.0           72                 31891   0.0   \n",
       "3  AFGHANISTAN  AFG  1753.0    0.0           44                 35466   0.0   \n",
       "4  AFGHANISTAN  AFG  1754.0    0.0           21                 33247   0.0   \n",
       "\n",
       "   Oil  Gas  Cement  Flaring  Per Capita  \n",
       "0  0.0  0.0     0.0      0.0         0.0  \n",
       "1  0.0  0.0     0.0      0.0         0.0  \n",
       "2  0.0  0.0     0.0      0.0         0.0  \n",
       "3  0.0  0.0     0.0      0.0         0.0  \n",
       "4  0.0  0.0     0.0      0.0         0.0  "
      ],
      "text/html": [
       "<div>\n",
       "<style scoped>\n",
       "    .dataframe tbody tr th:only-of-type {\n",
       "        vertical-align: middle;\n",
       "    }\n",
       "\n",
       "    .dataframe tbody tr th {\n",
       "        vertical-align: top;\n",
       "    }\n",
       "\n",
       "    .dataframe thead th {\n",
       "        text-align: right;\n",
       "    }\n",
       "</style>\n",
       "<table border=\"1\" class=\"dataframe\">\n",
       "  <thead>\n",
       "    <tr style=\"text-align: right;\">\n",
       "      <th></th>\n",
       "      <th>Country</th>\n",
       "      <th>ISO</th>\n",
       "      <th>Year</th>\n",
       "      <th>Total</th>\n",
       "      <th>Temperature</th>\n",
       "      <th>GDP Per Capita (USD)</th>\n",
       "      <th>Coal</th>\n",
       "      <th>Oil</th>\n",
       "      <th>Gas</th>\n",
       "      <th>Cement</th>\n",
       "      <th>Flaring</th>\n",
       "      <th>Per Capita</th>\n",
       "    </tr>\n",
       "  </thead>\n",
       "  <tbody>\n",
       "    <tr>\n",
       "      <th>0</th>\n",
       "      <td>AFGHANISTAN</td>\n",
       "      <td>AFG</td>\n",
       "      <td>1750.0</td>\n",
       "      <td>0.0</td>\n",
       "      <td>70</td>\n",
       "      <td>55455</td>\n",
       "      <td>0.0</td>\n",
       "      <td>0.0</td>\n",
       "      <td>0.0</td>\n",
       "      <td>0.0</td>\n",
       "      <td>0.0</td>\n",
       "      <td>0.0</td>\n",
       "    </tr>\n",
       "    <tr>\n",
       "      <th>1</th>\n",
       "      <td>AFGHANISTAN</td>\n",
       "      <td>AFG</td>\n",
       "      <td>1751.0</td>\n",
       "      <td>0.0</td>\n",
       "      <td>66</td>\n",
       "      <td>45101</td>\n",
       "      <td>0.0</td>\n",
       "      <td>0.0</td>\n",
       "      <td>0.0</td>\n",
       "      <td>0.0</td>\n",
       "      <td>0.0</td>\n",
       "      <td>0.0</td>\n",
       "    </tr>\n",
       "    <tr>\n",
       "      <th>2</th>\n",
       "      <td>AFGHANISTAN</td>\n",
       "      <td>AFG</td>\n",
       "      <td>1752.0</td>\n",
       "      <td>0.0</td>\n",
       "      <td>72</td>\n",
       "      <td>31891</td>\n",
       "      <td>0.0</td>\n",
       "      <td>0.0</td>\n",
       "      <td>0.0</td>\n",
       "      <td>0.0</td>\n",
       "      <td>0.0</td>\n",
       "      <td>0.0</td>\n",
       "    </tr>\n",
       "    <tr>\n",
       "      <th>3</th>\n",
       "      <td>AFGHANISTAN</td>\n",
       "      <td>AFG</td>\n",
       "      <td>1753.0</td>\n",
       "      <td>0.0</td>\n",
       "      <td>44</td>\n",
       "      <td>35466</td>\n",
       "      <td>0.0</td>\n",
       "      <td>0.0</td>\n",
       "      <td>0.0</td>\n",
       "      <td>0.0</td>\n",
       "      <td>0.0</td>\n",
       "      <td>0.0</td>\n",
       "    </tr>\n",
       "    <tr>\n",
       "      <th>4</th>\n",
       "      <td>AFGHANISTAN</td>\n",
       "      <td>AFG</td>\n",
       "      <td>1754.0</td>\n",
       "      <td>0.0</td>\n",
       "      <td>21</td>\n",
       "      <td>33247</td>\n",
       "      <td>0.0</td>\n",
       "      <td>0.0</td>\n",
       "      <td>0.0</td>\n",
       "      <td>0.0</td>\n",
       "      <td>0.0</td>\n",
       "      <td>0.0</td>\n",
       "    </tr>\n",
       "  </tbody>\n",
       "</table>\n",
       "</div>"
      ]
     },
     "execution_count": 231,
     "metadata": {},
     "output_type": "execute_result"
    }
   ],
   "execution_count": 231
  },
  {
   "metadata": {
    "ExecuteTime": {
     "end_time": "2024-09-24T20:50:55.409623Z",
     "start_time": "2024-09-24T20:50:55.404083Z"
    }
   },
   "cell_type": "code",
   "source": "df_zscore.shape",
   "id": "821ebbf55a0d9f80",
   "outputs": [
    {
     "data": {
      "text/plain": [
       "(56547, 12)"
      ]
     },
     "execution_count": 232,
     "metadata": {},
     "output_type": "execute_result"
    }
   ],
   "execution_count": 232
  },
  {
   "metadata": {},
   "cell_type": "markdown",
   "source": "### We can observe that the entries have changed and we have eliminated outliers which are more than 3 standard deviations away. New df row count = 56547 , previous count = 57570",
   "id": "f7d36d6e253cb849"
  },
  {
   "metadata": {},
   "cell_type": "markdown",
   "source": "",
   "id": "47d705984d57f5be"
  },
  {
   "metadata": {
    "ExecuteTime": {
     "end_time": "2024-09-24T20:53:12.637947Z",
     "start_time": "2024-09-24T20:53:12.627158Z"
    }
   },
   "cell_type": "code",
   "source": "clean_df = df_zscore.copy()",
   "id": "e73a5655dafa2d4c",
   "outputs": [],
   "execution_count": 233
  },
  {
   "metadata": {
    "ExecuteTime": {
     "end_time": "2024-09-24T20:53:14.113868Z",
     "start_time": "2024-09-24T20:53:14.107418Z"
    }
   },
   "cell_type": "code",
   "source": "sublist = ['Coal','Oil','Gas','Cement','Flaring']",
   "id": "1d03806bf080cd9a",
   "outputs": [],
   "execution_count": 234
  },
  {
   "metadata": {
    "ExecuteTime": {
     "end_time": "2024-09-24T20:53:16.418271Z",
     "start_time": "2024-09-24T20:53:15.317689Z"
    }
   },
   "cell_type": "code",
   "source": [
    "for col in sublist:\n",
    "    mean_coal_data = clean_df.groupby('Country')[col].mean()\n",
    "    top10Largest = mean_coal_data.nlargest(10)\n",
    "    plt.bar(top10Largest.index, top10Largest.values)\n",
    "    plt.xlabel('Country')\n",
    "    plt.ylabel('Mean Coal Data')\n",
    "    plt.title(f'Mean {col} Data by Country')\n",
    "    plt.xticks(rotation=90)\n",
    "    plt.show()  "
   ],
   "id": "af6df63e969286eb",
   "outputs": [
    {
     "data": {
      "text/plain": [
       "<Figure size 432x288 with 1 Axes>"
      ],
      "image/png": "[encoded data removed]"
     },
     "metadata": {},
     "output_type": "display_data"
    },
    {
     "data": {
      "text/plain": [
       "<Figure size 432x288 with 1 Axes>"
      ],
      "image/png": "[encoded data removed]"
     },
     "metadata": {},
     "output_type": "display_data"
    },
    {
     "data": {
      "text/plain": [
       "<Figure size 432x288 with 1 Axes>"
      ],
      "image/png": "[encoded data removed]"
     },
     "metadata": {},
     "output_type": "display_data"
    },
    {
     "data": {
      "text/plain": [
       "<Figure size 432x288 with 1 Axes>"
      ],
      "image/png": "[encoded data removed]"
     },
     "metadata": {},
     "output_type": "display_data"
    },
    {
     "data": {
      "text/plain": [
       "<Figure size 432x288 with 1 Axes>"
      ],
      "image/png": "[encoded data removed]"
     },
     "metadata": {},
     "output_type": "display_data"
    }
   ],
   "execution_count": 235
  },
  {
   "metadata": {
    "ExecuteTime": {
     "end_time": "2024-09-24T20:53:22.974193Z",
     "start_time": "2024-09-24T20:53:22.503039Z"
    }
   },
   "cell_type": "code",
   "source": "df_1.to_csv('df-cleaning-itr-2.csv', index=False)",
   "id": "39bba095add5bbee",
   "outputs": [],
   "execution_count": 236
  },
  {
   "metadata": {
    "ExecuteTime": {
     "end_time": "2024-09-24T20:53:25.268434Z",
     "start_time": "2024-09-24T20:53:25.085091Z"
    }
   },
   "cell_type": "code",
   "source": "df_encoded = pd.get_dummies(clean_df, columns=['Country', 'ISO'])",
   "id": "d7edec71cb72aa56",
   "outputs": [],
   "execution_count": 237
  },
  {
   "metadata": {
    "ExecuteTime": {
     "end_time": "2024-09-24T20:55:25.166514Z",
     "start_time": "2024-09-24T20:55:22.231698Z"
    }
   },
   "cell_type": "code",
   "source": "df_encoded.to_csv('df-string-encoded.csv', index=False)",
   "id": "57c83b2ad9a3a733",
   "outputs": [],
   "execution_count": 240
  },
  {
   "metadata": {
    "ExecuteTime": {
     "end_time": "2024-09-24T20:55:19.511130Z",
     "start_time": "2024-09-24T20:55:19.496348Z"
    }
   },
   "cell_type": "code",
   "source": "df_encoded.head()",
   "id": "5c8c9ed702aab90e",
   "outputs": [
    {
     "data": {
      "text/plain": [
       "     Year  Total  Temperature  GDP Per Capita (USD)  Coal  Oil  Gas  Cement  \\\n",
       "0  1750.0    0.0           70                 55455   0.0  0.0  0.0     0.0   \n",
       "1  1751.0    0.0           66                 45101   0.0  0.0  0.0     0.0   \n",
       "2  1752.0    0.0           72                 31891   0.0  0.0  0.0     0.0   \n",
       "3  1753.0    0.0           44                 35466   0.0  0.0  0.0     0.0   \n",
       "4  1754.0    0.0           21                 33247   0.0  0.0  0.0     0.0   \n",
       "\n",
       "   Flaring  Per Capita  ...  ISO_VNM  ISO_VUT  ISO_WLD  ISO_WLF  ISO_WSM  \\\n",
       "0      0.0         0.0  ...        0        0        0        0        0   \n",
       "1      0.0         0.0  ...        0        0        0        0        0   \n",
       "2      0.0         0.0  ...        0        0        0        0        0   \n",
       "3      0.0         0.0  ...        0        0        0        0        0   \n",
       "4      0.0         0.0  ...        0        0        0        0        0   \n",
       "\n",
       "   ISO_XIT  ISO_YEM  ISO_ZAF  ISO_ZMB  ISO_ZWE  \n",
       "0        0        0        0        0        0  \n",
       "1        0        0        0        0        0  \n",
       "2        0        0        0        0        0  \n",
       "3        0        0        0        0        0  \n",
       "4        0        0        0        0        0  \n",
       "\n",
       "[5 rows x 461 columns]"
      ],
      "text/html": [
       "<div>\n",
       "<style scoped>\n",
       "    .dataframe tbody tr th:only-of-type {\n",
       "        vertical-align: middle;\n",
       "    }\n",
       "\n",
       "    .dataframe tbody tr th {\n",
       "        vertical-align: top;\n",
       "    }\n",
       "\n",
       "    .dataframe thead th {\n",
       "        text-align: right;\n",
       "    }\n",
       "</style>\n",
       "<table border=\"1\" class=\"dataframe\">\n",
       "  <thead>\n",
       "    <tr style=\"text-align: right;\">\n",
       "      <th></th>\n",
       "      <th>Year</th>\n",
       "      <th>Total</th>\n",
       "      <th>Temperature</th>\n",
       "      <th>GDP Per Capita (USD)</th>\n",
       "      <th>Coal</th>\n",
       "      <th>Oil</th>\n",
       "      <th>Gas</th>\n",
       "      <th>Cement</th>\n",
       "      <th>Flaring</th>\n",
       "      <th>Per Capita</th>\n",
       "      <th>...</th>\n",
       "      <th>ISO_VNM</th>\n",
       "      <th>ISO_VUT</th>\n",
       "      <th>ISO_WLD</th>\n",
       "      <th>ISO_WLF</th>\n",
       "      <th>ISO_WSM</th>\n",
       "      <th>ISO_XIT</th>\n",
       "      <th>ISO_YEM</th>\n",
       "      <th>ISO_ZAF</th>\n",
       "      <th>ISO_ZMB</th>\n",
       "      <th>ISO_ZWE</th>\n",
       "    </tr>\n",
       "  </thead>\n",
       "  <tbody>\n",
       "    <tr>\n",
       "      <th>0</th>\n",
       "      <td>1750.0</td>\n",
       "      <td>0.0</td>\n",
       "      <td>70</td>\n",
       "      <td>55455</td>\n",
       "      <td>0.0</td>\n",
       "      <td>0.0</td>\n",
       "      <td>0.0</td>\n",
       "      <td>0.0</td>\n",
       "      <td>0.0</td>\n",
       "      <td>0.0</td>\n",
       "      <td>...</td>\n",
       "      <td>0</td>\n",
       "      <td>0</td>\n",
       "      <td>0</td>\n",
       "      <td>0</td>\n",
       "      <td>0</td>\n",
       "      <td>0</td>\n",
       "      <td>0</td>\n",
       "      <td>0</td>\n",
       "      <td>0</td>\n",
       "      <td>0</td>\n",
       "    </tr>\n",
       "    <tr>\n",
       "      <th>1</th>\n",
       "      <td>1751.0</td>\n",
       "      <td>0.0</td>\n",
       "      <td>66</td>\n",
       "      <td>45101</td>\n",
       "      <td>0.0</td>\n",
       "      <td>0.0</td>\n",
       "      <td>0.0</td>\n",
       "      <td>0.0</td>\n",
       "      <td>0.0</td>\n",
       "      <td>0.0</td>\n",
       "      <td>...</td>\n",
       "      <td>0</td>\n",
       "      <td>0</td>\n",
       "      <td>0</td>\n",
       "      <td>0</td>\n",
       "      <td>0</td>\n",
       "      <td>0</td>\n",
       "      <td>0</td>\n",
       "      <td>0</td>\n",
       "      <td>0</td>\n",
       "      <td>0</td>\n",
       "    </tr>\n",
       "    <tr>\n",
       "      <th>2</th>\n",
       "      <td>1752.0</td>\n",
       "      <td>0.0</td>\n",
       "      <td>72</td>\n",
       "      <td>31891</td>\n",
       "      <td>0.0</td>\n",
       "      <td>0.0</td>\n",
       "      <td>0.0</td>\n",
       "      <td>0.0</td>\n",
       "      <td>0.0</td>\n",
       "      <td>0.0</td>\n",
       "      <td>...</td>\n",
       "      <td>0</td>\n",
       "      <td>0</td>\n",
       "      <td>0</td>\n",
       "      <td>0</td>\n",
       "      <td>0</td>\n",
       "      <td>0</td>\n",
       "      <td>0</td>\n",
       "      <td>0</td>\n",
       "      <td>0</td>\n",
       "      <td>0</td>\n",
       "    </tr>\n",
       "    <tr>\n",
       "      <th>3</th>\n",
       "      <td>1753.0</td>\n",
       "      <td>0.0</td>\n",
       "      <td>44</td>\n",
       "      <td>35466</td>\n",
       "      <td>0.0</td>\n",
       "      <td>0.0</td>\n",
       "      <td>0.0</td>\n",
       "      <td>0.0</td>\n",
       "      <td>0.0</td>\n",
       "      <td>0.0</td>\n",
       "      <td>...</td>\n",
       "      <td>0</td>\n",
       "      <td>0</td>\n",
       "      <td>0</td>\n",
       "      <td>0</td>\n",
       "      <td>0</td>\n",
       "      <td>0</td>\n",
       "      <td>0</td>\n",
       "      <td>0</td>\n",
       "      <td>0</td>\n",
       "      <td>0</td>\n",
       "    </tr>\n",
       "    <tr>\n",
       "      <th>4</th>\n",
       "      <td>1754.0</td>\n",
       "      <td>0.0</td>\n",
       "      <td>21</td>\n",
       "      <td>33247</td>\n",
       "      <td>0.0</td>\n",
       "      <td>0.0</td>\n",
       "      <td>0.0</td>\n",
       "      <td>0.0</td>\n",
       "      <td>0.0</td>\n",
       "      <td>0.0</td>\n",
       "      <td>...</td>\n",
       "      <td>0</td>\n",
       "      <td>0</td>\n",
       "      <td>0</td>\n",
       "      <td>0</td>\n",
       "      <td>0</td>\n",
       "      <td>0</td>\n",
       "      <td>0</td>\n",
       "      <td>0</td>\n",
       "      <td>0</td>\n",
       "      <td>0</td>\n",
       "    </tr>\n",
       "  </tbody>\n",
       "</table>\n",
       "<p>5 rows × 461 columns</p>\n",
       "</div>"
      ]
     },
     "execution_count": 239,
     "metadata": {},
     "output_type": "execute_result"
    }
   ],
   "execution_count": 239
  },
  {
   "metadata": {
    "ExecuteTime": {
     "end_time": "2024-09-24T20:55:27.669331Z",
     "start_time": "2024-09-24T20:55:27.657419Z"
    }
   },
   "cell_type": "code",
   "source": "clean_df.columns[5:]",
   "id": "548e9f2df2e08ff5",
   "outputs": [
    {
     "data": {
      "text/plain": [
       "Index(['GDP Per Capita (USD)', 'Coal', 'Oil', 'Gas', 'Cement', 'Flaring',\n",
       "       'Per Capita'],\n",
       "      dtype='object')"
      ]
     },
     "execution_count": 241,
     "metadata": {},
     "output_type": "execute_result"
    }
   ],
   "execution_count": 241
  },
  {
   "metadata": {
    "ExecuteTime": {
     "end_time": "2024-09-24T20:55:29.860649Z",
     "start_time": "2024-09-24T20:55:29.845832Z"
    }
   },
   "cell_type": "code",
   "source": "non_categorical_cols = clean_df.columns[5:]",
   "id": "9cc1e15d96d4f944",
   "outputs": [],
   "execution_count": 242
  },
  {
   "metadata": {
    "ExecuteTime": {
     "end_time": "2024-09-24T20:55:31.525087Z",
     "start_time": "2024-09-24T20:55:31.506969Z"
    }
   },
   "cell_type": "code",
   "source": [
    "min_values = df_encoded[non_categorical_cols].min()\n",
    "max_values = df_encoded[non_categorical_cols].max()"
   ],
   "id": "2fef80d0beede638",
   "outputs": [],
   "execution_count": 243
  },
  {
   "metadata": {
    "ExecuteTime": {
     "end_time": "2024-09-24T20:55:33.447287Z",
     "start_time": "2024-09-24T20:55:33.435992Z"
    }
   },
   "cell_type": "code",
   "source": "normalized_df = (df_encoded[non_categorical_cols] - min_values) / (max_values - min_values)\n",
   "id": "f6b044244fb5cea6",
   "outputs": [],
   "execution_count": 244
  },
  {
   "metadata": {
    "ExecuteTime": {
     "end_time": "2024-09-24T20:55:39.840894Z",
     "start_time": "2024-09-24T20:55:39.829609Z"
    }
   },
   "cell_type": "code",
   "source": "normalized_df.head()",
   "id": "fa45d6b5eb352ffe",
   "outputs": [
    {
     "data": {
      "text/plain": [
       "   GDP Per Capita (USD)  Coal  Oil  Gas  Cement  Flaring  Per Capita\n",
       "0              0.933051   0.0  0.0  0.0     0.0      0.0         0.0\n",
       "1              0.660570   0.0  0.0  0.0     0.0      0.0         0.0\n",
       "2              0.312929   0.0  0.0  0.0     0.0      0.0         0.0\n",
       "3              0.407011   0.0  0.0  0.0     0.0      0.0         0.0\n",
       "4              0.348614   0.0  0.0  0.0     0.0      0.0         0.0"
      ],
      "text/html": [
       "<div>\n",
       "<style scoped>\n",
       "    .dataframe tbody tr th:only-of-type {\n",
       "        vertical-align: middle;\n",
       "    }\n",
       "\n",
       "    .dataframe tbody tr th {\n",
       "        vertical-align: top;\n",
       "    }\n",
       "\n",
       "    .dataframe thead th {\n",
       "        text-align: right;\n",
       "    }\n",
       "</style>\n",
       "<table border=\"1\" class=\"dataframe\">\n",
       "  <thead>\n",
       "    <tr style=\"text-align: right;\">\n",
       "      <th></th>\n",
       "      <th>GDP Per Capita (USD)</th>\n",
       "      <th>Coal</th>\n",
       "      <th>Oil</th>\n",
       "      <th>Gas</th>\n",
       "      <th>Cement</th>\n",
       "      <th>Flaring</th>\n",
       "      <th>Per Capita</th>\n",
       "    </tr>\n",
       "  </thead>\n",
       "  <tbody>\n",
       "    <tr>\n",
       "      <th>0</th>\n",
       "      <td>0.933051</td>\n",
       "      <td>0.0</td>\n",
       "      <td>0.0</td>\n",
       "      <td>0.0</td>\n",
       "      <td>0.0</td>\n",
       "      <td>0.0</td>\n",
       "      <td>0.0</td>\n",
       "    </tr>\n",
       "    <tr>\n",
       "      <th>1</th>\n",
       "      <td>0.660570</td>\n",
       "      <td>0.0</td>\n",
       "      <td>0.0</td>\n",
       "      <td>0.0</td>\n",
       "      <td>0.0</td>\n",
       "      <td>0.0</td>\n",
       "      <td>0.0</td>\n",
       "    </tr>\n",
       "    <tr>\n",
       "      <th>2</th>\n",
       "      <td>0.312929</td>\n",
       "      <td>0.0</td>\n",
       "      <td>0.0</td>\n",
       "      <td>0.0</td>\n",
       "      <td>0.0</td>\n",
       "      <td>0.0</td>\n",
       "      <td>0.0</td>\n",
       "    </tr>\n",
       "    <tr>\n",
       "      <th>3</th>\n",
       "      <td>0.407011</td>\n",
       "      <td>0.0</td>\n",
       "      <td>0.0</td>\n",
       "      <td>0.0</td>\n",
       "      <td>0.0</td>\n",
       "      <td>0.0</td>\n",
       "      <td>0.0</td>\n",
       "    </tr>\n",
       "    <tr>\n",
       "      <th>4</th>\n",
       "      <td>0.348614</td>\n",
       "      <td>0.0</td>\n",
       "      <td>0.0</td>\n",
       "      <td>0.0</td>\n",
       "      <td>0.0</td>\n",
       "      <td>0.0</td>\n",
       "      <td>0.0</td>\n",
       "    </tr>\n",
       "  </tbody>\n",
       "</table>\n",
       "</div>"
      ]
     },
     "execution_count": 245,
     "metadata": {},
     "output_type": "execute_result"
    }
   ],
   "execution_count": 245
  },
  {
   "metadata": {
    "ExecuteTime": {
     "end_time": "2024-09-24T20:55:41.987179Z",
     "start_time": "2024-09-24T20:55:41.956248Z"
    }
   },
   "cell_type": "code",
   "source": "pre_processed_df = pd.concat([normalized_df,df_encoded.iloc[:,5:]], axis=1)",
   "id": "fb322beb8578e33d",
   "outputs": [],
   "execution_count": 246
  },
  {
   "metadata": {
    "ExecuteTime": {
     "end_time": "2024-09-24T20:55:43.626129Z",
     "start_time": "2024-09-24T20:55:43.607310Z"
    }
   },
   "cell_type": "code",
   "source": "pre_processed_df.head()",
   "id": "e7461ff110c08341",
   "outputs": [
    {
     "data": {
      "text/plain": [
       "   GDP Per Capita (USD)  Coal  Oil  Gas  Cement  Flaring  Per Capita  Oil  \\\n",
       "0              0.933051   0.0  0.0  0.0     0.0      0.0         0.0  0.0   \n",
       "1              0.660570   0.0  0.0  0.0     0.0      0.0         0.0  0.0   \n",
       "2              0.312929   0.0  0.0  0.0     0.0      0.0         0.0  0.0   \n",
       "3              0.407011   0.0  0.0  0.0     0.0      0.0         0.0  0.0   \n",
       "4              0.348614   0.0  0.0  0.0     0.0      0.0         0.0  0.0   \n",
       "\n",
       "   Gas  Cement  ...  ISO_VNM  ISO_VUT  ISO_WLD  ISO_WLF  ISO_WSM  ISO_XIT  \\\n",
       "0  0.0     0.0  ...        0        0        0        0        0        0   \n",
       "1  0.0     0.0  ...        0        0        0        0        0        0   \n",
       "2  0.0     0.0  ...        0        0        0        0        0        0   \n",
       "3  0.0     0.0  ...        0        0        0        0        0        0   \n",
       "4  0.0     0.0  ...        0        0        0        0        0        0   \n",
       "\n",
       "   ISO_YEM  ISO_ZAF  ISO_ZMB  ISO_ZWE  \n",
       "0        0        0        0        0  \n",
       "1        0        0        0        0  \n",
       "2        0        0        0        0  \n",
       "3        0        0        0        0  \n",
       "4        0        0        0        0  \n",
       "\n",
       "[5 rows x 463 columns]"
      ],
      "text/html": [
       "<div>\n",
       "<style scoped>\n",
       "    .dataframe tbody tr th:only-of-type {\n",
       "        vertical-align: middle;\n",
       "    }\n",
       "\n",
       "    .dataframe tbody tr th {\n",
       "        vertical-align: top;\n",
       "    }\n",
       "\n",
       "    .dataframe thead th {\n",
       "        text-align: right;\n",
       "    }\n",
       "</style>\n",
       "<table border=\"1\" class=\"dataframe\">\n",
       "  <thead>\n",
       "    <tr style=\"text-align: right;\">\n",
       "      <th></th>\n",
       "      <th>GDP Per Capita (USD)</th>\n",
       "      <th>Coal</th>\n",
       "      <th>Oil</th>\n",
       "      <th>Gas</th>\n",
       "      <th>Cement</th>\n",
       "      <th>Flaring</th>\n",
       "      <th>Per Capita</th>\n",
       "      <th>Oil</th>\n",
       "      <th>Gas</th>\n",
       "      <th>Cement</th>\n",
       "      <th>...</th>\n",
       "      <th>ISO_VNM</th>\n",
       "      <th>ISO_VUT</th>\n",
       "      <th>ISO_WLD</th>\n",
       "      <th>ISO_WLF</th>\n",
       "      <th>ISO_WSM</th>\n",
       "      <th>ISO_XIT</th>\n",
       "      <th>ISO_YEM</th>\n",
       "      <th>ISO_ZAF</th>\n",
       "      <th>ISO_ZMB</th>\n",
       "      <th>ISO_ZWE</th>\n",
       "    </tr>\n",
       "  </thead>\n",
       "  <tbody>\n",
       "    <tr>\n",
       "      <th>0</th>\n",
       "      <td>0.933051</td>\n",
       "      <td>0.0</td>\n",
       "      <td>0.0</td>\n",
       "      <td>0.0</td>\n",
       "      <td>0.0</td>\n",
       "      <td>0.0</td>\n",
       "      <td>0.0</td>\n",
       "      <td>0.0</td>\n",
       "      <td>0.0</td>\n",
       "      <td>0.0</td>\n",
       "      <td>...</td>\n",
       "      <td>0</td>\n",
       "      <td>0</td>\n",
       "      <td>0</td>\n",
       "      <td>0</td>\n",
       "      <td>0</td>\n",
       "      <td>0</td>\n",
       "      <td>0</td>\n",
       "      <td>0</td>\n",
       "      <td>0</td>\n",
       "      <td>0</td>\n",
       "    </tr>\n",
       "    <tr>\n",
       "      <th>1</th>\n",
       "      <td>0.660570</td>\n",
       "      <td>0.0</td>\n",
       "      <td>0.0</td>\n",
       "      <td>0.0</td>\n",
       "      <td>0.0</td>\n",
       "      <td>0.0</td>\n",
       "      <td>0.0</td>\n",
       "      <td>0.0</td>\n",
       "      <td>0.0</td>\n",
       "      <td>0.0</td>\n",
       "      <td>...</td>\n",
       "      <td>0</td>\n",
       "      <td>0</td>\n",
       "      <td>0</td>\n",
       "      <td>0</td>\n",
       "      <td>0</td>\n",
       "      <td>0</td>\n",
       "      <td>0</td>\n",
       "      <td>0</td>\n",
       "      <td>0</td>\n",
       "      <td>0</td>\n",
       "    </tr>\n",
       "    <tr>\n",
       "      <th>2</th>\n",
       "      <td>0.312929</td>\n",
       "      <td>0.0</td>\n",
       "      <td>0.0</td>\n",
       "      <td>0.0</td>\n",
       "      <td>0.0</td>\n",
       "      <td>0.0</td>\n",
       "      <td>0.0</td>\n",
       "      <td>0.0</td>\n",
       "      <td>0.0</td>\n",
       "      <td>0.0</td>\n",
       "      <td>...</td>\n",
       "      <td>0</td>\n",
       "      <td>0</td>\n",
       "      <td>0</td>\n",
       "      <td>0</td>\n",
       "      <td>0</td>\n",
       "      <td>0</td>\n",
       "      <td>0</td>\n",
       "      <td>0</td>\n",
       "      <td>0</td>\n",
       "      <td>0</td>\n",
       "    </tr>\n",
       "    <tr>\n",
       "      <th>3</th>\n",
       "      <td>0.407011</td>\n",
       "      <td>0.0</td>\n",
       "      <td>0.0</td>\n",
       "      <td>0.0</td>\n",
       "      <td>0.0</td>\n",
       "      <td>0.0</td>\n",
       "      <td>0.0</td>\n",
       "      <td>0.0</td>\n",
       "      <td>0.0</td>\n",
       "      <td>0.0</td>\n",
       "      <td>...</td>\n",
       "      <td>0</td>\n",
       "      <td>0</td>\n",
       "      <td>0</td>\n",
       "      <td>0</td>\n",
       "      <td>0</td>\n",
       "      <td>0</td>\n",
       "      <td>0</td>\n",
       "      <td>0</td>\n",
       "      <td>0</td>\n",
       "      <td>0</td>\n",
       "    </tr>\n",
       "    <tr>\n",
       "      <th>4</th>\n",
       "      <td>0.348614</td>\n",
       "      <td>0.0</td>\n",
       "      <td>0.0</td>\n",
       "      <td>0.0</td>\n",
       "      <td>0.0</td>\n",
       "      <td>0.0</td>\n",
       "      <td>0.0</td>\n",
       "      <td>0.0</td>\n",
       "      <td>0.0</td>\n",
       "      <td>0.0</td>\n",
       "      <td>...</td>\n",
       "      <td>0</td>\n",
       "      <td>0</td>\n",
       "      <td>0</td>\n",
       "      <td>0</td>\n",
       "      <td>0</td>\n",
       "      <td>0</td>\n",
       "      <td>0</td>\n",
       "      <td>0</td>\n",
       "      <td>0</td>\n",
       "      <td>0</td>\n",
       "    </tr>\n",
       "  </tbody>\n",
       "</table>\n",
       "<p>5 rows × 463 columns</p>\n",
       "</div>"
      ]
     },
     "execution_count": 247,
     "metadata": {},
     "output_type": "execute_result"
    }
   ],
   "execution_count": 247
  },
  {
   "metadata": {
    "ExecuteTime": {
     "end_time": "2024-09-24T20:55:50.459804Z",
     "start_time": "2024-09-24T20:55:47.444517Z"
    }
   },
   "cell_type": "code",
   "source": "pre_processed_df.to_csv('pre_processed_df.csv', index=False)",
   "id": "1e62e0aadd88da9c",
   "outputs": [],
   "execution_count": 248
  }
 ],
 "metadata": {
  "kernelspec": {
   "display_name": "Python 3",
   "language": "python",
   "name": "python3"
  },
  "language_info": {
   "codemirror_mode": {
    "name": "ipython",
    "version": 2
   },
   "file_extension": ".py",
   "mimetype": "text/x-python",
   "name": "python",
   "nbconvert_exporter": "python",
   "pygments_lexer": "ipython2",
   "version": "2.7.6"
  }
 },
 "nbformat": 4,
 "nbformat_minor": 5
}
