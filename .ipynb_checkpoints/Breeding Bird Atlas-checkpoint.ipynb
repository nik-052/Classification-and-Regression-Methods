{
 "cells": [
  {
   "cell_type": "code",
   "execution_count": 17,
   "id": "b12cf1f8-f96f-4fc7-ad89-2e22afe0a418",
   "metadata": {},
   "outputs": [],
   "source": [
    "import pandas as pd\n",
    "import numpy as np\n",
    "import matplotlib.pyplot as plt\n",
    "import warnings\n",
    "import seaborn as sns\n",
    "warnings.filterwarnings('ignore')"
   ]
  },
  {
   "cell_type": "code",
   "execution_count": 5,
   "id": "30ae4510-1f90-4118-a324-c0f0932467c6",
   "metadata": {},
   "outputs": [],
   "source": [
    "df = pd.read_csv('noisy_datasets/breeding_bird_atlas.csv')"
   ]
  },
  {
   "cell_type": "code",
   "execution_count": 11,
   "id": "ba84332c-67fa-4795-b946-d69f5b04d65c",
   "metadata": {},
   "outputs": [
    {
     "name": "stdout",
     "output_type": "stream",
     "text": [
      "Dataset shape (361582, 16)\n"
     ]
    }
   ],
   "source": [
    "print(\"Dataset shape\",df.shape)"
   ]
  },
  {
   "cell_type": "code",
   "execution_count": 13,
   "id": "b1d5d8d0-3120-4ab5-b60f-7c2780ed6bd4",
   "metadata": {},
   "outputs": [
    {
     "data": {
      "text/html": [
       "<div>\n",
       "<style scoped>\n",
       "    .dataframe tbody tr th:only-of-type {\n",
       "        vertical-align: middle;\n",
       "    }\n",
       "\n",
       "    .dataframe tbody tr th {\n",
       "        vertical-align: top;\n",
       "    }\n",
       "\n",
       "    .dataframe thead th {\n",
       "        text-align: right;\n",
       "    }\n",
       "</style>\n",
       "<table border=\"1\" class=\"dataframe\">\n",
       "  <thead>\n",
       "    <tr style=\"text-align: right;\">\n",
       "      <th></th>\n",
       "      <th>Fed. Region</th>\n",
       "      <th>Block ID</th>\n",
       "      <th>Map Link</th>\n",
       "      <th>County</th>\n",
       "      <th>Common Name</th>\n",
       "      <th>Scientific Name</th>\n",
       "      <th>NYS Protection Status</th>\n",
       "      <th>Family Name</th>\n",
       "      <th>Family Description</th>\n",
       "      <th>Breeding Behavior</th>\n",
       "      <th>Month</th>\n",
       "      <th>Day</th>\n",
       "      <th>Year</th>\n",
       "      <th>Temperature</th>\n",
       "      <th>Average UB Student GPA</th>\n",
       "      <th>Breeding Status</th>\n",
       "    </tr>\n",
       "  </thead>\n",
       "  <tbody>\n",
       "    <tr>\n",
       "      <th>0</th>\n",
       "      <td>NaN</td>\n",
       "      <td>5773C</td>\n",
       "      <td>50</td>\n",
       "      <td>NaN</td>\n",
       "      <td>NaN</td>\n",
       "      <td>12</td>\n",
       "      <td>10</td>\n",
       "      <td>71</td>\n",
       "      <td>TYRANT FLYCATCHERS</td>\n",
       "      <td>singing male present on more than one date in ...</td>\n",
       "      <td>NaN</td>\n",
       "      <td>NaN</td>\n",
       "      <td>1985.0</td>\n",
       "      <td>59</td>\n",
       "      <td>2.26</td>\n",
       "      <td>Probable</td>\n",
       "    </tr>\n",
       "    <tr>\n",
       "      <th>1</th>\n",
       "      <td>8.0</td>\n",
       "      <td>5569B</td>\n",
       "      <td>http://www.dec.ny.gov/data/dfwmr/bba/pdf/5569b...</td>\n",
       "      <td>ALBANY</td>\n",
       "      <td>Alder Flycatcher</td>\n",
       "      <td>Empidonax alnorum</td>\n",
       "      <td>Protected</td>\n",
       "      <td>TYRANNIDAE</td>\n",
       "      <td>TYRANT FLYCATCHERS</td>\n",
       "      <td>Nest and eggs, bird on nest or egg, or eggshel...</td>\n",
       "      <td>NaN</td>\n",
       "      <td>NaN</td>\n",
       "      <td>1985.0</td>\n",
       "      <td>78</td>\n",
       "      <td>2.77</td>\n",
       "      <td>Confirmed</td>\n",
       "    </tr>\n",
       "    <tr>\n",
       "      <th>2</th>\n",
       "      <td>8.0</td>\n",
       "      <td>5773C</td>\n",
       "      <td>http://www.dec.ny.gov/data/dfwmr/bba/pdf/5773c...</td>\n",
       "      <td>ALBANY</td>\n",
       "      <td>American Black Duck</td>\n",
       "      <td>Anas rubripes</td>\n",
       "      <td>Game Species</td>\n",
       "      <td>ANATIDAE</td>\n",
       "      <td>SWANS, GEESE &amp; DUCKS</td>\n",
       "      <td>Pair observed in suitable habitat in breeding ...</td>\n",
       "      <td>NaN</td>\n",
       "      <td>NaN</td>\n",
       "      <td>1985.0</td>\n",
       "      <td>72</td>\n",
       "      <td>3.08</td>\n",
       "      <td>Probable</td>\n",
       "    </tr>\n",
       "    <tr>\n",
       "      <th>3</th>\n",
       "      <td>8.0</td>\n",
       "      <td>5872A</td>\n",
       "      <td>http://www.dec.ny.gov/data/dfwmr/bba/pdf/5872a...</td>\n",
       "      <td>ALBANY</td>\n",
       "      <td>American Black Duck</td>\n",
       "      <td>Anas rubripes</td>\n",
       "      <td>Game Species</td>\n",
       "      <td>ANATIDAE</td>\n",
       "      <td>SWANS, GEESE &amp; DUCKS</td>\n",
       "      <td>Species seen in possible nesting habitat or si...</td>\n",
       "      <td>NaN</td>\n",
       "      <td>NaN</td>\n",
       "      <td>1985.0</td>\n",
       "      <td>52</td>\n",
       "      <td>2.09</td>\n",
       "      <td>Possible</td>\n",
       "    </tr>\n",
       "    <tr>\n",
       "      <th>4</th>\n",
       "      <td>8.0</td>\n",
       "      <td>5570D</td>\n",
       "      <td>http://www.dec.ny.gov/data/dfwmr/bba/pdf/5570d...</td>\n",
       "      <td>ALBANY</td>\n",
       "      <td>American Crow</td>\n",
       "      <td>Corvus brachyrhynchos</td>\n",
       "      <td>Game Species</td>\n",
       "      <td>CORVIDAE</td>\n",
       "      <td>JAYS, MAGPIES &amp; CROWS</td>\n",
       "      <td>Singing male present on more than one date in ...</td>\n",
       "      <td>NaN</td>\n",
       "      <td>NaN</td>\n",
       "      <td>1985.0</td>\n",
       "      <td>28</td>\n",
       "      <td>2.28</td>\n",
       "      <td>Probable</td>\n",
       "    </tr>\n",
       "  </tbody>\n",
       "</table>\n",
       "</div>"
      ],
      "text/plain": [
       "   Fed. Region Block ID                                           Map Link  \\\n",
       "0          NaN    5773C                                                 50   \n",
       "1          8.0    5569B  http://www.dec.ny.gov/data/dfwmr/bba/pdf/5569b...   \n",
       "2          8.0    5773C  http://www.dec.ny.gov/data/dfwmr/bba/pdf/5773c...   \n",
       "3          8.0    5872A  http://www.dec.ny.gov/data/dfwmr/bba/pdf/5872a...   \n",
       "4          8.0    5570D  http://www.dec.ny.gov/data/dfwmr/bba/pdf/5570d...   \n",
       "\n",
       "   County          Common Name        Scientific Name NYS Protection Status  \\\n",
       "0     NaN                  NaN                     12                    10   \n",
       "1  ALBANY     Alder Flycatcher      Empidonax alnorum             Protected   \n",
       "2  ALBANY  American Black Duck          Anas rubripes          Game Species   \n",
       "3  ALBANY  American Black Duck          Anas rubripes          Game Species   \n",
       "4  ALBANY        American Crow  Corvus brachyrhynchos          Game Species   \n",
       "\n",
       "  Family Name     Family Description  \\\n",
       "0          71     TYRANT FLYCATCHERS   \n",
       "1  TYRANNIDAE     TYRANT FLYCATCHERS   \n",
       "2    ANATIDAE   SWANS, GEESE & DUCKS   \n",
       "3    ANATIDAE   SWANS, GEESE & DUCKS   \n",
       "4    CORVIDAE  JAYS, MAGPIES & CROWS   \n",
       "\n",
       "                                   Breeding Behavior  Month  Day    Year  \\\n",
       "0  singing male present on more than one date in ...    NaN  NaN  1985.0   \n",
       "1  Nest and eggs, bird on nest or egg, or eggshel...    NaN  NaN  1985.0   \n",
       "2  Pair observed in suitable habitat in breeding ...    NaN  NaN  1985.0   \n",
       "3  Species seen in possible nesting habitat or si...    NaN  NaN  1985.0   \n",
       "4  Singing male present on more than one date in ...    NaN  NaN  1985.0   \n",
       "\n",
       "   Temperature  Average UB Student GPA Breeding Status  \n",
       "0           59                    2.26        Probable  \n",
       "1           78                    2.77       Confirmed  \n",
       "2           72                    3.08        Probable  \n",
       "3           52                    2.09        Possible  \n",
       "4           28                    2.28        Probable  "
      ]
     },
     "execution_count": 13,
     "metadata": {},
     "output_type": "execute_result"
    }
   ],
   "source": [
    "df.head()"
   ]
  },
  {
   "cell_type": "code",
   "execution_count": 15,
   "id": "b310a973-c346-42f8-b04a-e7b3d3b1405e",
   "metadata": {},
   "outputs": [
    {
     "data": {
      "text/html": [
       "<div>\n",
       "<style scoped>\n",
       "    .dataframe tbody tr th:only-of-type {\n",
       "        vertical-align: middle;\n",
       "    }\n",
       "\n",
       "    .dataframe tbody tr th {\n",
       "        vertical-align: top;\n",
       "    }\n",
       "\n",
       "    .dataframe thead th {\n",
       "        text-align: right;\n",
       "    }\n",
       "</style>\n",
       "<table border=\"1\" class=\"dataframe\">\n",
       "  <thead>\n",
       "    <tr style=\"text-align: right;\">\n",
       "      <th></th>\n",
       "      <th>Fed. Region</th>\n",
       "      <th>Month</th>\n",
       "      <th>Day</th>\n",
       "      <th>Year</th>\n",
       "      <th>Temperature</th>\n",
       "      <th>Average UB Student GPA</th>\n",
       "    </tr>\n",
       "  </thead>\n",
       "  <tbody>\n",
       "    <tr>\n",
       "      <th>count</th>\n",
       "      <td>355787.000000</td>\n",
       "      <td>3426.000000</td>\n",
       "      <td>9338.000000</td>\n",
       "      <td>351102.000000</td>\n",
       "      <td>361582.000000</td>\n",
       "      <td>361582.000000</td>\n",
       "    </tr>\n",
       "    <tr>\n",
       "      <th>mean</th>\n",
       "      <td>5.855652</td>\n",
       "      <td>49.772329</td>\n",
       "      <td>49.511994</td>\n",
       "      <td>1964.180056</td>\n",
       "      <td>49.467487</td>\n",
       "      <td>2.850668</td>\n",
       "    </tr>\n",
       "    <tr>\n",
       "      <th>std</th>\n",
       "      <td>5.836586</td>\n",
       "      <td>28.659289</td>\n",
       "      <td>28.794700</td>\n",
       "      <td>190.069866</td>\n",
       "      <td>17.322758</td>\n",
       "      <td>0.490552</td>\n",
       "    </tr>\n",
       "    <tr>\n",
       "      <th>min</th>\n",
       "      <td>0.000000</td>\n",
       "      <td>0.000000</td>\n",
       "      <td>0.000000</td>\n",
       "      <td>0.000000</td>\n",
       "      <td>20.000000</td>\n",
       "      <td>2.000000</td>\n",
       "    </tr>\n",
       "    <tr>\n",
       "      <th>25%</th>\n",
       "      <td>3.000000</td>\n",
       "      <td>26.000000</td>\n",
       "      <td>25.000000</td>\n",
       "      <td>1982.000000</td>\n",
       "      <td>34.000000</td>\n",
       "      <td>2.430000</td>\n",
       "    </tr>\n",
       "    <tr>\n",
       "      <th>50%</th>\n",
       "      <td>6.000000</td>\n",
       "      <td>50.000000</td>\n",
       "      <td>49.000000</td>\n",
       "      <td>1983.000000</td>\n",
       "      <td>49.000000</td>\n",
       "      <td>2.850000</td>\n",
       "    </tr>\n",
       "    <tr>\n",
       "      <th>75%</th>\n",
       "      <td>8.000000</td>\n",
       "      <td>74.000000</td>\n",
       "      <td>75.000000</td>\n",
       "      <td>1984.000000</td>\n",
       "      <td>64.000000</td>\n",
       "      <td>3.280000</td>\n",
       "    </tr>\n",
       "    <tr>\n",
       "      <th>max</th>\n",
       "      <td>99.000000</td>\n",
       "      <td>99.000000</td>\n",
       "      <td>99.000000</td>\n",
       "      <td>1985.000000</td>\n",
       "      <td>79.000000</td>\n",
       "      <td>3.700000</td>\n",
       "    </tr>\n",
       "  </tbody>\n",
       "</table>\n",
       "</div>"
      ],
      "text/plain": [
       "         Fed. Region        Month          Day           Year    Temperature  \\\n",
       "count  355787.000000  3426.000000  9338.000000  351102.000000  361582.000000   \n",
       "mean        5.855652    49.772329    49.511994    1964.180056      49.467487   \n",
       "std         5.836586    28.659289    28.794700     190.069866      17.322758   \n",
       "min         0.000000     0.000000     0.000000       0.000000      20.000000   \n",
       "25%         3.000000    26.000000    25.000000    1982.000000      34.000000   \n",
       "50%         6.000000    50.000000    49.000000    1983.000000      49.000000   \n",
       "75%         8.000000    74.000000    75.000000    1984.000000      64.000000   \n",
       "max        99.000000    99.000000    99.000000    1985.000000      79.000000   \n",
       "\n",
       "       Average UB Student GPA  \n",
       "count           361582.000000  \n",
       "mean                 2.850668  \n",
       "std                  0.490552  \n",
       "min                  2.000000  \n",
       "25%                  2.430000  \n",
       "50%                  2.850000  \n",
       "75%                  3.280000  \n",
       "max                  3.700000  "
      ]
     },
     "execution_count": 15,
     "metadata": {},
     "output_type": "execute_result"
    }
   ],
   "source": [
    "df.describe()"
   ]
  },
  {
   "cell_type": "code",
   "execution_count": 26,
   "id": "6e4426f7-1a37-4857-a288-f5a82d9459d0",
   "metadata": {},
   "outputs": [
    {
     "data": {
      "text/plain": [
       "Index(['Block ID', 'Map Link', 'County', 'Common Name', 'Scientific Name',\n",
       "       'NYS Protection Status', 'Family Name', 'Family Description',\n",
       "       'Breeding Behavior', 'Breeding Status'],\n",
       "      dtype='object')"
      ]
     },
     "execution_count": 26,
     "metadata": {},
     "output_type": "execute_result"
    }
   ],
   "source": [
    "df.select_dtypes(include=['object']).columns"
   ]
  },
  {
   "cell_type": "code",
   "execution_count": 32,
   "id": "c7615f6c-7b21-4186-95ef-2e1312e42295",
   "metadata": {},
   "outputs": [
    {
     "data": {
      "text/plain": [
       "Index(['Fed. Region', 'Month', 'Day', 'Year', 'Temperature',\n",
       "       'Average UB Student GPA'],\n",
       "      dtype='object')"
      ]
     },
     "execution_count": 32,
     "metadata": {},
     "output_type": "execute_result"
    }
   ],
   "source": [
    "df.select_dtypes(include=['int64','float64']).columns"
   ]
  },
  {
   "cell_type": "code",
   "execution_count": 40,
   "id": "67d43d67-50d4-4e5b-b911-a00bb99ffcc0",
   "metadata": {},
   "outputs": [
    {
     "name": "stdout",
     "output_type": "stream",
     "text": [
      "Total Features: 16  =  10 categorical + 6 numerical\n"
     ]
    }
   ],
   "source": [
    "cat = len(df.select_dtypes(include=['object']).columns)\n",
    "num = len(df.select_dtypes(include=['int64','float64']).columns)\n",
    "print('Total Features:', cat+num,\" = \",cat, 'categorical', '+',\n",
    "      num, 'numerical')"
   ]
  },
  {
   "cell_type": "code",
   "execution_count": 46,
   "id": "890ea933-abfd-4787-98f4-81decd2b84d2",
   "metadata": {},
   "outputs": [
    {
     "ename": "ValueError",
     "evalue": "could not convert string to float: '5773C'",
     "output_type": "error",
     "traceback": [
      "\u001b[0;31m---------------------------------------------------------------------------\u001b[0m",
      "\u001b[0;31mValueError\u001b[0m                                Traceback (most recent call last)",
      "Cell \u001b[0;32mIn[46], line 1\u001b[0m\n\u001b[0;32m----> 1\u001b[0m corrMat \u001b[38;5;241m=\u001b[39m df\u001b[38;5;241m.\u001b[39mcorr()\n\u001b[1;32m      2\u001b[0m f, ax \u001b[38;5;241m=\u001b[39m plt\u001b[38;5;241m.\u001b[39msubplots(figsize\u001b[38;5;241m=\u001b[39m(\u001b[38;5;241m12\u001b[39m, \u001b[38;5;241m9\u001b[39m))\n\u001b[1;32m      3\u001b[0m sns\u001b[38;5;241m.\u001b[39mheatmap(corrMat, vmax\u001b[38;5;241m=\u001b[39m\u001b[38;5;241m.8\u001b[39m, square\u001b[38;5;241m=\u001b[39m\u001b[38;5;28;01mTrue\u001b[39;00m)\n",
      "File \u001b[0;32m/opt/anaconda3/lib/python3.12/site-packages/pandas/core/frame.py:11049\u001b[0m, in \u001b[0;36mDataFrame.corr\u001b[0;34m(self, method, min_periods, numeric_only)\u001b[0m\n\u001b[1;32m  11047\u001b[0m cols \u001b[38;5;241m=\u001b[39m data\u001b[38;5;241m.\u001b[39mcolumns\n\u001b[1;32m  11048\u001b[0m idx \u001b[38;5;241m=\u001b[39m cols\u001b[38;5;241m.\u001b[39mcopy()\n\u001b[0;32m> 11049\u001b[0m mat \u001b[38;5;241m=\u001b[39m data\u001b[38;5;241m.\u001b[39mto_numpy(dtype\u001b[38;5;241m=\u001b[39m\u001b[38;5;28mfloat\u001b[39m, na_value\u001b[38;5;241m=\u001b[39mnp\u001b[38;5;241m.\u001b[39mnan, copy\u001b[38;5;241m=\u001b[39m\u001b[38;5;28;01mFalse\u001b[39;00m)\n\u001b[1;32m  11051\u001b[0m \u001b[38;5;28;01mif\u001b[39;00m method \u001b[38;5;241m==\u001b[39m \u001b[38;5;124m\"\u001b[39m\u001b[38;5;124mpearson\u001b[39m\u001b[38;5;124m\"\u001b[39m:\n\u001b[1;32m  11052\u001b[0m     correl \u001b[38;5;241m=\u001b[39m libalgos\u001b[38;5;241m.\u001b[39mnancorr(mat, minp\u001b[38;5;241m=\u001b[39mmin_periods)\n",
      "File \u001b[0;32m/opt/anaconda3/lib/python3.12/site-packages/pandas/core/frame.py:1993\u001b[0m, in \u001b[0;36mDataFrame.to_numpy\u001b[0;34m(self, dtype, copy, na_value)\u001b[0m\n\u001b[1;32m   1991\u001b[0m \u001b[38;5;28;01mif\u001b[39;00m dtype \u001b[38;5;129;01mis\u001b[39;00m \u001b[38;5;129;01mnot\u001b[39;00m \u001b[38;5;28;01mNone\u001b[39;00m:\n\u001b[1;32m   1992\u001b[0m     dtype \u001b[38;5;241m=\u001b[39m np\u001b[38;5;241m.\u001b[39mdtype(dtype)\n\u001b[0;32m-> 1993\u001b[0m result \u001b[38;5;241m=\u001b[39m \u001b[38;5;28mself\u001b[39m\u001b[38;5;241m.\u001b[39m_mgr\u001b[38;5;241m.\u001b[39mas_array(dtype\u001b[38;5;241m=\u001b[39mdtype, copy\u001b[38;5;241m=\u001b[39mcopy, na_value\u001b[38;5;241m=\u001b[39mna_value)\n\u001b[1;32m   1994\u001b[0m \u001b[38;5;28;01mif\u001b[39;00m result\u001b[38;5;241m.\u001b[39mdtype \u001b[38;5;129;01mis\u001b[39;00m \u001b[38;5;129;01mnot\u001b[39;00m dtype:\n\u001b[1;32m   1995\u001b[0m     result \u001b[38;5;241m=\u001b[39m np\u001b[38;5;241m.\u001b[39masarray(result, dtype\u001b[38;5;241m=\u001b[39mdtype)\n",
      "File \u001b[0;32m/opt/anaconda3/lib/python3.12/site-packages/pandas/core/internals/managers.py:1694\u001b[0m, in \u001b[0;36mBlockManager.as_array\u001b[0;34m(self, dtype, copy, na_value)\u001b[0m\n\u001b[1;32m   1692\u001b[0m         arr\u001b[38;5;241m.\u001b[39mflags\u001b[38;5;241m.\u001b[39mwriteable \u001b[38;5;241m=\u001b[39m \u001b[38;5;28;01mFalse\u001b[39;00m\n\u001b[1;32m   1693\u001b[0m \u001b[38;5;28;01melse\u001b[39;00m:\n\u001b[0;32m-> 1694\u001b[0m     arr \u001b[38;5;241m=\u001b[39m \u001b[38;5;28mself\u001b[39m\u001b[38;5;241m.\u001b[39m_interleave(dtype\u001b[38;5;241m=\u001b[39mdtype, na_value\u001b[38;5;241m=\u001b[39mna_value)\n\u001b[1;32m   1695\u001b[0m     \u001b[38;5;66;03m# The underlying data was copied within _interleave, so no need\u001b[39;00m\n\u001b[1;32m   1696\u001b[0m     \u001b[38;5;66;03m# to further copy if copy=True or setting na_value\u001b[39;00m\n\u001b[1;32m   1698\u001b[0m \u001b[38;5;28;01mif\u001b[39;00m na_value \u001b[38;5;129;01mis\u001b[39;00m lib\u001b[38;5;241m.\u001b[39mno_default:\n",
      "File \u001b[0;32m/opt/anaconda3/lib/python3.12/site-packages/pandas/core/internals/managers.py:1753\u001b[0m, in \u001b[0;36mBlockManager._interleave\u001b[0;34m(self, dtype, na_value)\u001b[0m\n\u001b[1;32m   1751\u001b[0m     \u001b[38;5;28;01melse\u001b[39;00m:\n\u001b[1;32m   1752\u001b[0m         arr \u001b[38;5;241m=\u001b[39m blk\u001b[38;5;241m.\u001b[39mget_values(dtype)\n\u001b[0;32m-> 1753\u001b[0m     result[rl\u001b[38;5;241m.\u001b[39mindexer] \u001b[38;5;241m=\u001b[39m arr\n\u001b[1;32m   1754\u001b[0m     itemmask[rl\u001b[38;5;241m.\u001b[39mindexer] \u001b[38;5;241m=\u001b[39m \u001b[38;5;241m1\u001b[39m\n\u001b[1;32m   1756\u001b[0m \u001b[38;5;28;01mif\u001b[39;00m \u001b[38;5;129;01mnot\u001b[39;00m itemmask\u001b[38;5;241m.\u001b[39mall():\n",
      "\u001b[0;31mValueError\u001b[0m: could not convert string to float: '5773C'"
     ]
    }
   ],
   "source": [
    "corrMat = df.corr()\n",
    "f, ax = plt.subplots(figsize=(12, 9))\n",
    "sns.heatmap(corrMat, vmax=.8, square=True);"
   ]
  }
 ],
 "metadata": {
  "kernelspec": {
   "display_name": "Python 3 (ipykernel)",
   "language": "python",
   "name": "python3"
  },
  "language_info": {
   "codemirror_mode": {
    "name": "ipython",
    "version": 3
   },
   "file_extension": ".py",
   "mimetype": "text/x-python",
   "name": "python",
   "nbconvert_exporter": "python",
   "pygments_lexer": "ipython3",
   "version": "3.12.4"
  }
 },
 "nbformat": 4,
 "nbformat_minor": 5
}
